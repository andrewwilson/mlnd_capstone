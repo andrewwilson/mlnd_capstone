{
 "cells": [
  {
   "cell_type": "code",
   "execution_count": 89,
   "metadata": {
    "collapsed": false
   },
   "outputs": [],
   "source": [
    "import utils\n",
    "import keras\n",
    "import model01\n",
    "import datasets\n",
    "import metrics\n",
    "import matplotlib.pyplot as plt\n",
    "import seaborn as sns\n",
    "import pandas as pd\n",
    "import numpy as np\n",
    "%matplotlib inline"
   ]
  },
  {
   "cell_type": "code",
   "execution_count": 2,
   "metadata": {
    "collapsed": true
   },
   "outputs": [],
   "source": [
    "FILENAME = './output/MLPModel01_20170306_1222_LA1_F243_C2_L100_100_100_DO0.5-200-0.6926.hdf5'"
   ]
  },
  {
   "cell_type": "code",
   "execution_count": 3,
   "metadata": {
    "collapsed": true
   },
   "outputs": [
    {
     "ename": "AttributeError",
     "evalue": "class MLPModel01 has no attribute 'load'",
     "output_type": "error",
     "traceback": [
      "\u001b[0;31m---------------------------------------------------------------------------\u001b[0m",
      "\u001b[0;31mAttributeError\u001b[0m                            Traceback (most recent call last)",
      "\u001b[0;32m<ipython-input-3-9943e9677eb4>\u001b[0m in \u001b[0;36m<module>\u001b[0;34m()\u001b[0m\n\u001b[0;32m----> 1\u001b[0;31m \u001b[0mmodel\u001b[0m \u001b[0;34m=\u001b[0m \u001b[0mmodel01\u001b[0m\u001b[0;34m.\u001b[0m\u001b[0mMLPModel01\u001b[0m\u001b[0;34m.\u001b[0m\u001b[0mload\u001b[0m\u001b[0;34m(\u001b[0m\u001b[0mFILENAME\u001b[0m\u001b[0;34m)\u001b[0m\u001b[0;34m\u001b[0m\u001b[0m\n\u001b[0m\u001b[1;32m      2\u001b[0m \u001b[0;31m# infers model description file from this filename\u001b[0m\u001b[0;34m\u001b[0m\u001b[0;34m\u001b[0m\u001b[0m\n\u001b[1;32m      3\u001b[0m \u001b[0;31m# loads model training history + weights from this specific file\u001b[0m\u001b[0;34m\u001b[0m\u001b[0;34m\u001b[0m\u001b[0m\n",
      "\u001b[0;31mAttributeError\u001b[0m: class MLPModel01 has no attribute 'load'"
     ]
    }
   ],
   "source": [
    "model = model01.MLPModel01.load(FILENAME)\n",
    "# infers model description file from this filename\n",
    "# loads model training history + weights from this specific file"
   ]
  },
  {
   "cell_type": "code",
   "execution_count": 4,
   "metadata": {
    "collapsed": true
   },
   "outputs": [],
   "source": [
    "model = keras.models.load_model(FILENAME)"
   ]
  },
  {
   "cell_type": "code",
   "execution_count": 5,
   "metadata": {
    "collapsed": false
   },
   "outputs": [
    {
     "name": "stdout",
     "output_type": "stream",
     "text": [
      "loading from file: ./output/MLPModel01_20170306_1222_LA1_F243_C2_L100_100_100_DO0.5.npz\n"
     ]
    }
   ],
   "source": [
    "pc = model01.ProgressCallback.load('MLPModel01_20170306_1222_LA1_F243_C2_L100_100_100_DO0.5')"
   ]
  },
  {
   "cell_type": "code",
   "execution_count": 6,
   "metadata": {
    "collapsed": false
   },
   "outputs": [
    {
     "data": {
      "text/plain": [
       "[<matplotlib.lines.Line2D at 0x114e23350>]"
      ]
     },
     "execution_count": 6,
     "metadata": {},
     "output_type": "execute_result"
    },
    {
     "data": {
      "image/png": "[encoded data removed]",
      "text/plain": [
       "<matplotlib.figure.Figure at 0x107d8c450>"
      ]
     },
     "metadata": {},
     "output_type": "display_data"
    }
   ],
   "source": [
    "plt.plot(pc.validation_losses)"
   ]
  },
  {
   "cell_type": "code",
   "execution_count": 7,
   "metadata": {
    "collapsed": true
   },
   "outputs": [],
   "source": [
    "# load test dataset\n",
    "lookahead=1\n",
    "window=60\n",
    "sym='USDJPY'\n",
    "X_test, Y_test, prices_test, fut_return_test = datasets.load(datasets.filename('DS1', lookahead, window, sym, 2012))"
   ]
  },
  {
   "cell_type": "code",
   "execution_count": 8,
   "metadata": {
    "collapsed": false
   },
   "outputs": [
    {
     "name": "stdout",
     "output_type": "stream",
     "text": [
      "------------------------------------------------------\n",
      "test\n",
      "f1-score: 0.509\n",
      "             precision    recall  f1-score   support\n",
      "\n",
      "          0       0.52      0.41      0.46    177325\n",
      "          1       0.51      0.62      0.56    176303\n",
      "\n",
      "avg / total       0.52      0.51      0.51    353628\n",
      "\n"
     ]
    }
   ],
   "source": [
    "Y_test_pred = model.predict(X_test.as_matrix(), batch_size=1024)\n",
    "Y_test_pred_class = utils.prediction_to_category2(Y_test_pred)\n",
    "metrics.performance_report(\"test\",  prices_test,  lookahead, Y_test, Y_test_pred_class)"
   ]
  },
  {
   "cell_type": "code",
   "execution_count": 26,
   "metadata": {
    "collapsed": false
   },
   "outputs": [
    {
     "name": "stdout",
     "output_type": "stream",
     "text": [
      "mean future return 3.54963880531e-07\n"
     ]
    },
    {
     "data": {
      "text/plain": [
       "1.0409863877569592e-06"
      ]
     },
     "execution_count": 26,
     "metadata": {},
     "output_type": "execute_result"
    }
   ],
   "source": [
    "print \"mean future return\" , fut_return_test.mean()\n",
    "#fut_return_test = fut_return_test - fut_return_test.mean()\n",
    "(fut_return_test.ix[Y_test_pred_class[:,0]]+1).mean() - fut_return_test.mean() -1"
   ]
  },
  {
   "cell_type": "code",
   "execution_count": 183,
   "metadata": {
    "collapsed": false
   },
   "outputs": [],
   "source": [
    "def perf(Y, fut_ret):\n",
    "    preds = Y[:,0]\n",
    "    rets = fut_ret.fillna(0).values\n",
    "    assert preds.shape == rets.shape\n",
    "    \n",
    "    cats = utils.prediction_to_category2(preds)\n",
    "    # turn true/false into +1/-1\n",
    "    signs = cats*2 -1 \n",
    "    \n",
    "    applied_rets = signs*rets / signs.std()\n",
    "    ser =  pd.Series(applied_rets, index=fut_ret.index)   \n",
    "    print ser.mean()/ser.std()\n",
    "    return ser"
   ]
  },
  {
   "cell_type": "code",
   "execution_count": 184,
   "metadata": {
    "collapsed": false
   },
   "outputs": [],
   "source": [
    "def perf2(Y, fut_ret):\n",
    "    preds = Y[:,0]\n",
    "    rets = fut_ret.fillna(0).values\n",
    "    assert preds.shape == rets.shape\n",
    "    \n",
    "    # turn true/false into +1/-1\n",
    "    signs = preds - 0.5\n",
    "    \n",
    "    applied_rets = signs*rets / signs.std()\n",
    "    ser =  pd.Series(applied_rets, index=fut_ret.index)   \n",
    "    print ser.mean()/ser.std()\n",
    "    return ser"
   ]
  },
  {
   "cell_type": "code",
   "execution_count": 196,
   "metadata": {
    "collapsed": false
   },
   "outputs": [],
   "source": [
    "def perf3(Y, fut_ret):\n",
    "    preds = Y[:,0]\n",
    "    rets = fut_ret.fillna(0).values\n",
    "    assert preds.shape == rets.shape\n",
    "    \n",
    "    # turn true/false into +1/-1\n",
    "    signs = (preds - 0.5)\n",
    "    signs = np.tanh(signs/2)\n",
    "    applied_rets = signs*rets / signs.std()\n",
    "    ser =  pd.Series(applied_rets, index=fut_ret.index)   \n",
    "    print ser.mean()/ser.std()\n",
    "    return ser"
   ]
  },
  {
   "cell_type": "code",
   "execution_count": 197,
   "metadata": {
    "collapsed": false
   },
   "outputs": [
    {
     "name": "stdout",
     "output_type": "stream",
     "text": [
      "0.0102211766714\n",
      "0.483392359912\n",
      "0.00748554765942\n",
      "0.996552452866\n",
      "0.00750170153011\n",
      "0.996790324177\n"
     ]
    }
   ],
   "source": [
    "print perf(Y_test_pred, fut_return_test).sum()\n",
    "print perf2(Y_test_pred, fut_return_test).sum()\n",
    "print perf3(Y_test_pred, fut_return_test).sum()"
   ]
  },
  {
   "cell_type": "code",
   "execution_count": 198,
   "metadata": {
    "collapsed": false
   },
   "outputs": [
    {
     "name": "stdout",
     "output_type": "stream",
     "text": [
      "0.0102211766714\n",
      "0.00748554765942\n",
      "0.00750170153011\n"
     ]
    },
    {
     "data": {
      "text/plain": [
       "<matplotlib.legend.Legend at 0x173c746d0>"
      ]
     },
     "execution_count": 198,
     "metadata": {},
     "output_type": "execute_result"
    },
    {
     "data": {
      "image/png": "[encoded data removed]",
      "text/plain": [
       "<matplotlib.figure.Figure at 0x1b6287310>"
      ]
     },
     "metadata": {},
     "output_type": "display_data"
    }
   ],
   "source": [
    "perf(Y_test_pred, fut_return_test).cumsum().plot(label='perf')\n",
    "perf2(Y_test_pred, fut_return_test).cumsum().plot(label='perf2')\n",
    "perf3(Y_test_pred, fut_return_test).cumsum().plot(label='perf3')\n",
    "plt.legend()"
   ]
  },
  {
   "cell_type": "code",
   "execution_count": null,
   "metadata": {
    "collapsed": true
   },
   "outputs": [],
   "source": []
  },
  {
   "cell_type": "markdown",
   "metadata": {},
   "source": [
    "-----------------------------------\n",
    "\n",
    "## Control"
   ]
  },
  {
   "cell_type": "code",
   "execution_count": 16,
   "metadata": {
    "collapsed": false
   },
   "outputs": [],
   "source": [
    "X_control, Y_control, prices_control, fut_return_control = datasets.prepare_dataset1(df=datasets.random_ohlc(100000),lookahead=1, window=60)"
   ]
  },
  {
   "cell_type": "code",
   "execution_count": 17,
   "metadata": {
    "collapsed": false
   },
   "outputs": [
    {
     "data": {
      "text/html": [
       "<div>\n",
       "<table border=\"1\" class=\"dataframe\">\n",
       "  <thead>\n",
       "    <tr style=\"text-align: right;\">\n",
       "      <th></th>\n",
       "      <th>open-0</th>\n",
       "      <th>high-0</th>\n",
       "      <th>low-0</th>\n",
       "      <th>open-1</th>\n",
       "      <th>high-1</th>\n",
       "      <th>low-1</th>\n",
       "      <th>close-1</th>\n",
       "      <th>open-2</th>\n",
       "      <th>high-2</th>\n",
       "      <th>low-2</th>\n",
       "      <th>...</th>\n",
       "      <th>low-58</th>\n",
       "      <th>close-58</th>\n",
       "      <th>open-59</th>\n",
       "      <th>high-59</th>\n",
       "      <th>low-59</th>\n",
       "      <th>close-59</th>\n",
       "      <th>open-60</th>\n",
       "      <th>high-60</th>\n",
       "      <th>low-60</th>\n",
       "      <th>close-60</th>\n",
       "    </tr>\n",
       "  </thead>\n",
       "  <tbody>\n",
       "    <tr>\n",
       "      <th>count</th>\n",
       "      <td>353628.000000</td>\n",
       "      <td>353628.000000</td>\n",
       "      <td>353628.000000</td>\n",
       "      <td>353628.000000</td>\n",
       "      <td>353628.000000</td>\n",
       "      <td>353628.000000</td>\n",
       "      <td>353628.000000</td>\n",
       "      <td>353628.000000</td>\n",
       "      <td>353628.000000</td>\n",
       "      <td>353628.000000</td>\n",
       "      <td>...</td>\n",
       "      <td>353628.000000</td>\n",
       "      <td>353628.000000</td>\n",
       "      <td>353628.000000</td>\n",
       "      <td>353628.000000</td>\n",
       "      <td>353628.000000</td>\n",
       "      <td>353628.000000</td>\n",
       "      <td>353628.000000</td>\n",
       "      <td>353628.000000</td>\n",
       "      <td>353628.000000</td>\n",
       "      <td>353628.000000</td>\n",
       "    </tr>\n",
       "    <tr>\n",
       "      <th>mean</th>\n",
       "      <td>-0.000787</td>\n",
       "      <td>0.005217</td>\n",
       "      <td>-0.005860</td>\n",
       "      <td>-0.001124</td>\n",
       "      <td>0.002283</td>\n",
       "      <td>-0.003794</td>\n",
       "      <td>-0.000756</td>\n",
       "      <td>-0.001424</td>\n",
       "      <td>0.001181</td>\n",
       "      <td>-0.003471</td>\n",
       "      <td>...</td>\n",
       "      <td>-0.008169</td>\n",
       "      <td>-0.007864</td>\n",
       "      <td>-0.008016</td>\n",
       "      <td>-0.007659</td>\n",
       "      <td>-0.008237</td>\n",
       "      <td>-0.007939</td>\n",
       "      <td>-0.008092</td>\n",
       "      <td>-0.007738</td>\n",
       "      <td>-0.008305</td>\n",
       "      <td>-0.008012</td>\n",
       "    </tr>\n",
       "    <tr>\n",
       "      <th>std</th>\n",
       "      <td>1.007626</td>\n",
       "      <td>1.002928</td>\n",
       "      <td>1.006705</td>\n",
       "      <td>1.008620</td>\n",
       "      <td>1.007895</td>\n",
       "      <td>1.008224</td>\n",
       "      <td>1.007476</td>\n",
       "      <td>1.009622</td>\n",
       "      <td>1.009129</td>\n",
       "      <td>1.009300</td>\n",
       "      <td>...</td>\n",
       "      <td>1.014397</td>\n",
       "      <td>1.014365</td>\n",
       "      <td>1.014392</td>\n",
       "      <td>1.014356</td>\n",
       "      <td>1.014419</td>\n",
       "      <td>1.014385</td>\n",
       "      <td>1.014422</td>\n",
       "      <td>1.014389</td>\n",
       "      <td>1.014450</td>\n",
       "      <td>1.014419</td>\n",
       "    </tr>\n",
       "    <tr>\n",
       "      <th>min</th>\n",
       "      <td>-30.145166</td>\n",
       "      <td>-0.835279</td>\n",
       "      <td>-37.771970</td>\n",
       "      <td>-44.456020</td>\n",
       "      <td>-48.726305</td>\n",
       "      <td>-47.928235</td>\n",
       "      <td>-53.512083</td>\n",
       "      <td>-38.413299</td>\n",
       "      <td>-41.561572</td>\n",
       "      <td>-40.403456</td>\n",
       "      <td>...</td>\n",
       "      <td>-10.144131</td>\n",
       "      <td>-10.217640</td>\n",
       "      <td>-9.975381</td>\n",
       "      <td>-10.064832</td>\n",
       "      <td>-9.997286</td>\n",
       "      <td>-10.072860</td>\n",
       "      <td>-9.996233</td>\n",
       "      <td>-9.914316</td>\n",
       "      <td>-9.990893</td>\n",
       "      <td>-9.914584</td>\n",
       "    </tr>\n",
       "    <tr>\n",
       "      <th>25%</th>\n",
       "      <td>-0.394757</td>\n",
       "      <td>-0.602334</td>\n",
       "      <td>-0.281343</td>\n",
       "      <td>-0.442930</td>\n",
       "      <td>-0.454843</td>\n",
       "      <td>-0.396688</td>\n",
       "      <td>-0.411887</td>\n",
       "      <td>-0.459051</td>\n",
       "      <td>-0.473061</td>\n",
       "      <td>-0.430440</td>\n",
       "      <td>...</td>\n",
       "      <td>-0.492126</td>\n",
       "      <td>-0.493527</td>\n",
       "      <td>-0.494294</td>\n",
       "      <td>-0.496404</td>\n",
       "      <td>-0.491683</td>\n",
       "      <td>-0.494500</td>\n",
       "      <td>-0.494077</td>\n",
       "      <td>-0.496234</td>\n",
       "      <td>-0.491883</td>\n",
       "      <td>-0.494333</td>\n",
       "    </tr>\n",
       "    <tr>\n",
       "      <th>50%</th>\n",
       "      <td>0.002414</td>\n",
       "      <td>-0.318139</td>\n",
       "      <td>0.325483</td>\n",
       "      <td>0.000168</td>\n",
       "      <td>-0.126291</td>\n",
       "      <td>0.124439</td>\n",
       "      <td>0.000341</td>\n",
       "      <td>-0.002641</td>\n",
       "      <td>-0.084436</td>\n",
       "      <td>0.083964</td>\n",
       "      <td>...</td>\n",
       "      <td>-0.004858</td>\n",
       "      <td>-0.012391</td>\n",
       "      <td>-0.012364</td>\n",
       "      <td>-0.020327</td>\n",
       "      <td>-0.004721</td>\n",
       "      <td>-0.012421</td>\n",
       "      <td>-0.012558</td>\n",
       "      <td>-0.020144</td>\n",
       "      <td>-0.004597</td>\n",
       "      <td>-0.011662</td>\n",
       "    </tr>\n",
       "    <tr>\n",
       "      <th>75%</th>\n",
       "      <td>0.391837</td>\n",
       "      <td>0.280659</td>\n",
       "      <td>0.614121</td>\n",
       "      <td>0.436307</td>\n",
       "      <td>0.390707</td>\n",
       "      <td>0.457487</td>\n",
       "      <td>0.405427</td>\n",
       "      <td>0.453391</td>\n",
       "      <td>0.426654</td>\n",
       "      <td>0.466969</td>\n",
       "      <td>...</td>\n",
       "      <td>0.475575</td>\n",
       "      <td>0.472761</td>\n",
       "      <td>0.472267</td>\n",
       "      <td>0.469648</td>\n",
       "      <td>0.476038</td>\n",
       "      <td>0.472556</td>\n",
       "      <td>0.472648</td>\n",
       "      <td>0.469672</td>\n",
       "      <td>0.476458</td>\n",
       "      <td>0.472732</td>\n",
       "    </tr>\n",
       "    <tr>\n",
       "      <th>max</th>\n",
       "      <td>36.457984</td>\n",
       "      <td>59.983059</td>\n",
       "      <td>0.869514</td>\n",
       "      <td>33.196071</td>\n",
       "      <td>36.517127</td>\n",
       "      <td>31.010189</td>\n",
       "      <td>36.433083</td>\n",
       "      <td>29.628341</td>\n",
       "      <td>34.768173</td>\n",
       "      <td>31.440586</td>\n",
       "      <td>...</td>\n",
       "      <td>13.725850</td>\n",
       "      <td>13.870061</td>\n",
       "      <td>13.642749</td>\n",
       "      <td>13.674089</td>\n",
       "      <td>13.622547</td>\n",
       "      <td>13.666291</td>\n",
       "      <td>13.510913</td>\n",
       "      <td>13.507446</td>\n",
       "      <td>13.556254</td>\n",
       "      <td>13.547526</td>\n",
       "    </tr>\n",
       "  </tbody>\n",
       "</table>\n",
       "<p>8 rows × 243 columns</p>\n",
       "</div>"
      ],
      "text/plain": [
       "              open-0         high-0          low-0         open-1  \\\n",
       "count  353628.000000  353628.000000  353628.000000  353628.000000   \n",
       "mean       -0.000787       0.005217      -0.005860      -0.001124   \n",
       "std         1.007626       1.002928       1.006705       1.008620   \n",
       "min       -30.145166      -0.835279     -37.771970     -44.456020   \n",
       "25%        -0.394757      -0.602334      -0.281343      -0.442930   \n",
       "50%         0.002414      -0.318139       0.325483       0.000168   \n",
       "75%         0.391837       0.280659       0.614121       0.436307   \n",
       "max        36.457984      59.983059       0.869514      33.196071   \n",
       "\n",
       "              high-1          low-1        close-1         open-2  \\\n",
       "count  353628.000000  353628.000000  353628.000000  353628.000000   \n",
       "mean        0.002283      -0.003794      -0.000756      -0.001424   \n",
       "std         1.007895       1.008224       1.007476       1.009622   \n",
       "min       -48.726305     -47.928235     -53.512083     -38.413299   \n",
       "25%        -0.454843      -0.396688      -0.411887      -0.459051   \n",
       "50%        -0.126291       0.124439       0.000341      -0.002641   \n",
       "75%         0.390707       0.457487       0.405427       0.453391   \n",
       "max        36.517127      31.010189      36.433083      29.628341   \n",
       "\n",
       "              high-2          low-2      ...               low-58  \\\n",
       "count  353628.000000  353628.000000      ...        353628.000000   \n",
       "mean        0.001181      -0.003471      ...            -0.008169   \n",
       "std         1.009129       1.009300      ...             1.014397   \n",
       "min       -41.561572     -40.403456      ...           -10.144131   \n",
       "25%        -0.473061      -0.430440      ...            -0.492126   \n",
       "50%        -0.084436       0.083964      ...            -0.004858   \n",
       "75%         0.426654       0.466969      ...             0.475575   \n",
       "max        34.768173      31.440586      ...            13.725850   \n",
       "\n",
       "            close-58        open-59        high-59         low-59  \\\n",
       "count  353628.000000  353628.000000  353628.000000  353628.000000   \n",
       "mean       -0.007864      -0.008016      -0.007659      -0.008237   \n",
       "std         1.014365       1.014392       1.014356       1.014419   \n",
       "min       -10.217640      -9.975381     -10.064832      -9.997286   \n",
       "25%        -0.493527      -0.494294      -0.496404      -0.491683   \n",
       "50%        -0.012391      -0.012364      -0.020327      -0.004721   \n",
       "75%         0.472761       0.472267       0.469648       0.476038   \n",
       "max        13.870061      13.642749      13.674089      13.622547   \n",
       "\n",
       "            close-59        open-60        high-60         low-60  \\\n",
       "count  353628.000000  353628.000000  353628.000000  353628.000000   \n",
       "mean       -0.007939      -0.008092      -0.007738      -0.008305   \n",
       "std         1.014385       1.014422       1.014389       1.014450   \n",
       "min       -10.072860      -9.996233      -9.914316      -9.990893   \n",
       "25%        -0.494500      -0.494077      -0.496234      -0.491883   \n",
       "50%        -0.012421      -0.012558      -0.020144      -0.004597   \n",
       "75%         0.472556       0.472648       0.469672       0.476458   \n",
       "max        13.666291      13.510913      13.507446      13.556254   \n",
       "\n",
       "            close-60  \n",
       "count  353628.000000  \n",
       "mean       -0.008012  \n",
       "std         1.014419  \n",
       "min        -9.914584  \n",
       "25%        -0.494333  \n",
       "50%        -0.011662  \n",
       "75%         0.472732  \n",
       "max        13.547526  \n",
       "\n",
       "[8 rows x 243 columns]"
      ]
     },
     "execution_count": 17,
     "metadata": {},
     "output_type": "execute_result"
    }
   ],
   "source": [
    "X_test.describe()"
   ]
  },
  {
   "cell_type": "code",
   "execution_count": 18,
   "metadata": {
    "collapsed": false
   },
   "outputs": [
    {
     "data": {
      "text/html": [
       "<div>\n",
       "<table border=\"1\" class=\"dataframe\">\n",
       "  <thead>\n",
       "    <tr style=\"text-align: right;\">\n",
       "      <th></th>\n",
       "      <th>open-0</th>\n",
       "      <th>high-0</th>\n",
       "      <th>low-0</th>\n",
       "      <th>open-1</th>\n",
       "      <th>high-1</th>\n",
       "      <th>low-1</th>\n",
       "      <th>close-1</th>\n",
       "      <th>open-2</th>\n",
       "      <th>high-2</th>\n",
       "      <th>low-2</th>\n",
       "      <th>...</th>\n",
       "      <th>low-58</th>\n",
       "      <th>close-58</th>\n",
       "      <th>open-59</th>\n",
       "      <th>high-59</th>\n",
       "      <th>low-59</th>\n",
       "      <th>close-59</th>\n",
       "      <th>open-60</th>\n",
       "      <th>high-60</th>\n",
       "      <th>low-60</th>\n",
       "      <th>close-60</th>\n",
       "    </tr>\n",
       "  </thead>\n",
       "  <tbody>\n",
       "    <tr>\n",
       "      <th>count</th>\n",
       "      <td>87942.000000</td>\n",
       "      <td>87942.000000</td>\n",
       "      <td>87942.000000</td>\n",
       "      <td>87942.000000</td>\n",
       "      <td>87942.000000</td>\n",
       "      <td>87942.000000</td>\n",
       "      <td>87942.000000</td>\n",
       "      <td>87942.000000</td>\n",
       "      <td>87942.000000</td>\n",
       "      <td>87942.000000</td>\n",
       "      <td>...</td>\n",
       "      <td>87942.000000</td>\n",
       "      <td>87942.000000</td>\n",
       "      <td>87942.000000</td>\n",
       "      <td>87942.000000</td>\n",
       "      <td>87942.000000</td>\n",
       "      <td>87942.000000</td>\n",
       "      <td>87942.000000</td>\n",
       "      <td>87942.000000</td>\n",
       "      <td>87942.000000</td>\n",
       "      <td>87942.000000</td>\n",
       "    </tr>\n",
       "    <tr>\n",
       "      <th>mean</th>\n",
       "      <td>-0.000897</td>\n",
       "      <td>-0.001206</td>\n",
       "      <td>-0.001647</td>\n",
       "      <td>-0.001251</td>\n",
       "      <td>-0.001327</td>\n",
       "      <td>-0.001571</td>\n",
       "      <td>-0.000863</td>\n",
       "      <td>-0.001498</td>\n",
       "      <td>-0.001551</td>\n",
       "      <td>-0.001736</td>\n",
       "      <td>...</td>\n",
       "      <td>-0.005083</td>\n",
       "      <td>-0.004980</td>\n",
       "      <td>-0.005071</td>\n",
       "      <td>-0.005070</td>\n",
       "      <td>-0.005125</td>\n",
       "      <td>-0.005022</td>\n",
       "      <td>-0.005109</td>\n",
       "      <td>-0.005109</td>\n",
       "      <td>-0.005160</td>\n",
       "      <td>-0.005059</td>\n",
       "    </tr>\n",
       "    <tr>\n",
       "      <th>std</th>\n",
       "      <td>1.000340</td>\n",
       "      <td>1.000469</td>\n",
       "      <td>1.000173</td>\n",
       "      <td>0.999893</td>\n",
       "      <td>1.000090</td>\n",
       "      <td>0.999862</td>\n",
       "      <td>0.999819</td>\n",
       "      <td>0.999332</td>\n",
       "      <td>0.999445</td>\n",
       "      <td>0.999256</td>\n",
       "      <td>...</td>\n",
       "      <td>1.001050</td>\n",
       "      <td>1.001010</td>\n",
       "      <td>1.001184</td>\n",
       "      <td>1.001076</td>\n",
       "      <td>1.001119</td>\n",
       "      <td>1.001094</td>\n",
       "      <td>1.001237</td>\n",
       "      <td>1.001134</td>\n",
       "      <td>1.001173</td>\n",
       "      <td>1.001151</td>\n",
       "    </tr>\n",
       "    <tr>\n",
       "      <th>min</th>\n",
       "      <td>-4.138159</td>\n",
       "      <td>-0.989606</td>\n",
       "      <td>-5.925619</td>\n",
       "      <td>-4.511330</td>\n",
       "      <td>-4.160753</td>\n",
       "      <td>-4.905525</td>\n",
       "      <td>-4.369888</td>\n",
       "      <td>-4.299009</td>\n",
       "      <td>-4.282530</td>\n",
       "      <td>-4.500987</td>\n",
       "      <td>...</td>\n",
       "      <td>-3.880196</td>\n",
       "      <td>-3.956647</td>\n",
       "      <td>-3.950701</td>\n",
       "      <td>-3.933280</td>\n",
       "      <td>-3.900245</td>\n",
       "      <td>-3.914349</td>\n",
       "      <td>-4.125315</td>\n",
       "      <td>-4.052596</td>\n",
       "      <td>-4.083878</td>\n",
       "      <td>-4.020909</td>\n",
       "    </tr>\n",
       "    <tr>\n",
       "      <th>25%</th>\n",
       "      <td>-0.673194</td>\n",
       "      <td>-0.955700</td>\n",
       "      <td>-0.574048</td>\n",
       "      <td>-0.674786</td>\n",
       "      <td>-0.678754</td>\n",
       "      <td>-0.662807</td>\n",
       "      <td>-0.673236</td>\n",
       "      <td>-0.677553</td>\n",
       "      <td>-0.677407</td>\n",
       "      <td>-0.668709</td>\n",
       "      <td>...</td>\n",
       "      <td>-0.680133</td>\n",
       "      <td>-0.679812</td>\n",
       "      <td>-0.681854</td>\n",
       "      <td>-0.681321</td>\n",
       "      <td>-0.679400</td>\n",
       "      <td>-0.681371</td>\n",
       "      <td>-0.679451</td>\n",
       "      <td>-0.681124</td>\n",
       "      <td>-0.680549</td>\n",
       "      <td>-0.681947</td>\n",
       "    </tr>\n",
       "    <tr>\n",
       "      <th>50%</th>\n",
       "      <td>-0.000291</td>\n",
       "      <td>-0.251607</td>\n",
       "      <td>0.248150</td>\n",
       "      <td>-0.004047</td>\n",
       "      <td>-0.027215</td>\n",
       "      <td>0.015748</td>\n",
       "      <td>-0.003643</td>\n",
       "      <td>-0.005031</td>\n",
       "      <td>-0.012259</td>\n",
       "      <td>0.005821</td>\n",
       "      <td>...</td>\n",
       "      <td>-0.006013</td>\n",
       "      <td>-0.006935</td>\n",
       "      <td>-0.005167</td>\n",
       "      <td>-0.005002</td>\n",
       "      <td>-0.006433</td>\n",
       "      <td>-0.003538</td>\n",
       "      <td>-0.003001</td>\n",
       "      <td>-0.003334</td>\n",
       "      <td>-0.004734</td>\n",
       "      <td>-0.003186</td>\n",
       "    </tr>\n",
       "    <tr>\n",
       "      <th>75%</th>\n",
       "      <td>0.674541</td>\n",
       "      <td>0.576522</td>\n",
       "      <td>0.948055</td>\n",
       "      <td>0.669317</td>\n",
       "      <td>0.655297</td>\n",
       "      <td>0.683581</td>\n",
       "      <td>0.675738</td>\n",
       "      <td>0.673540</td>\n",
       "      <td>0.664316</td>\n",
       "      <td>0.674865</td>\n",
       "      <td>...</td>\n",
       "      <td>0.675560</td>\n",
       "      <td>0.674820</td>\n",
       "      <td>0.674008</td>\n",
       "      <td>0.675861</td>\n",
       "      <td>0.675571</td>\n",
       "      <td>0.676536</td>\n",
       "      <td>0.677067</td>\n",
       "      <td>0.675924</td>\n",
       "      <td>0.674915</td>\n",
       "      <td>0.674440</td>\n",
       "    </tr>\n",
       "    <tr>\n",
       "      <th>max</th>\n",
       "      <td>4.013959</td>\n",
       "      <td>5.762021</td>\n",
       "      <td>0.987367</td>\n",
       "      <td>4.428059</td>\n",
       "      <td>5.041230</td>\n",
       "      <td>3.704772</td>\n",
       "      <td>4.432290</td>\n",
       "      <td>4.110321</td>\n",
       "      <td>4.221380</td>\n",
       "      <td>4.224223</td>\n",
       "      <td>...</td>\n",
       "      <td>3.843375</td>\n",
       "      <td>3.834810</td>\n",
       "      <td>3.841711</td>\n",
       "      <td>3.781830</td>\n",
       "      <td>3.750507</td>\n",
       "      <td>3.726910</td>\n",
       "      <td>3.740519</td>\n",
       "      <td>3.766553</td>\n",
       "      <td>3.823016</td>\n",
       "      <td>3.799734</td>\n",
       "    </tr>\n",
       "  </tbody>\n",
       "</table>\n",
       "<p>8 rows × 243 columns</p>\n",
       "</div>"
      ],
      "text/plain": [
       "             open-0        high-0         low-0        open-1        high-1  \\\n",
       "count  87942.000000  87942.000000  87942.000000  87942.000000  87942.000000   \n",
       "mean      -0.000897     -0.001206     -0.001647     -0.001251     -0.001327   \n",
       "std        1.000340      1.000469      1.000173      0.999893      1.000090   \n",
       "min       -4.138159     -0.989606     -5.925619     -4.511330     -4.160753   \n",
       "25%       -0.673194     -0.955700     -0.574048     -0.674786     -0.678754   \n",
       "50%       -0.000291     -0.251607      0.248150     -0.004047     -0.027215   \n",
       "75%        0.674541      0.576522      0.948055      0.669317      0.655297   \n",
       "max        4.013959      5.762021      0.987367      4.428059      5.041230   \n",
       "\n",
       "              low-1       close-1        open-2        high-2         low-2  \\\n",
       "count  87942.000000  87942.000000  87942.000000  87942.000000  87942.000000   \n",
       "mean      -0.001571     -0.000863     -0.001498     -0.001551     -0.001736   \n",
       "std        0.999862      0.999819      0.999332      0.999445      0.999256   \n",
       "min       -4.905525     -4.369888     -4.299009     -4.282530     -4.500987   \n",
       "25%       -0.662807     -0.673236     -0.677553     -0.677407     -0.668709   \n",
       "50%        0.015748     -0.003643     -0.005031     -0.012259      0.005821   \n",
       "75%        0.683581      0.675738      0.673540      0.664316      0.674865   \n",
       "max        3.704772      4.432290      4.110321      4.221380      4.224223   \n",
       "\n",
       "           ...             low-58      close-58       open-59       high-59  \\\n",
       "count      ...       87942.000000  87942.000000  87942.000000  87942.000000   \n",
       "mean       ...          -0.005083     -0.004980     -0.005071     -0.005070   \n",
       "std        ...           1.001050      1.001010      1.001184      1.001076   \n",
       "min        ...          -3.880196     -3.956647     -3.950701     -3.933280   \n",
       "25%        ...          -0.680133     -0.679812     -0.681854     -0.681321   \n",
       "50%        ...          -0.006013     -0.006935     -0.005167     -0.005002   \n",
       "75%        ...           0.675560      0.674820      0.674008      0.675861   \n",
       "max        ...           3.843375      3.834810      3.841711      3.781830   \n",
       "\n",
       "             low-59      close-59       open-60       high-60        low-60  \\\n",
       "count  87942.000000  87942.000000  87942.000000  87942.000000  87942.000000   \n",
       "mean      -0.005125     -0.005022     -0.005109     -0.005109     -0.005160   \n",
       "std        1.001119      1.001094      1.001237      1.001134      1.001173   \n",
       "min       -3.900245     -3.914349     -4.125315     -4.052596     -4.083878   \n",
       "25%       -0.679400     -0.681371     -0.679451     -0.681124     -0.680549   \n",
       "50%       -0.006433     -0.003538     -0.003001     -0.003334     -0.004734   \n",
       "75%        0.675571      0.676536      0.677067      0.675924      0.674915   \n",
       "max        3.750507      3.726910      3.740519      3.766553      3.823016   \n",
       "\n",
       "           close-60  \n",
       "count  87942.000000  \n",
       "mean      -0.005059  \n",
       "std        1.001151  \n",
       "min       -4.020909  \n",
       "25%       -0.681947  \n",
       "50%       -0.003186  \n",
       "75%        0.674440  \n",
       "max        3.799734  \n",
       "\n",
       "[8 rows x 243 columns]"
      ]
     },
     "execution_count": 18,
     "metadata": {},
     "output_type": "execute_result"
    }
   ],
   "source": [
    "X_control.describe()"
   ]
  },
  {
   "cell_type": "code",
   "execution_count": 22,
   "metadata": {
    "collapsed": false
   },
   "outputs": [
    {
     "name": "stdout",
     "output_type": "stream",
     "text": [
      "------------------------------------------------------\n",
      "control\n",
      "f1-score: 0.496\n",
      "             precision    recall  f1-score   support\n",
      "\n",
      "          0       0.50      0.42      0.46     43831\n",
      "          1       0.50      0.57      0.53     44111\n",
      "\n",
      "avg / total       0.50      0.50      0.50     87942\n",
      "\n"
     ]
    }
   ],
   "source": [
    "Y_control_pred = model.predict(X_control.as_matrix(), batch_size=1024)\n",
    "Y_control_pred_class = utils.prediction_to_category2(Y_control_pred)\n",
    "metrics.performance_report(\"control\",  prices_control,  lookahead, Y_control, Y_control_pred_class)"
   ]
  },
  {
   "cell_type": "code",
   "execution_count": 25,
   "metadata": {
    "collapsed": false
   },
   "outputs": [
    {
     "data": {
      "text/plain": [
       "2.6709233047483849e-08"
      ]
     },
     "execution_count": 25,
     "metadata": {},
     "output_type": "execute_result"
    }
   ],
   "source": [
    "(fut_return_control.ix[~Y_control_pred_class[:,0]]+1).mean() - fut_return_control.mean() - 1"
   ]
  },
  {
   "cell_type": "code",
   "execution_count": null,
   "metadata": {
    "collapsed": true
   },
   "outputs": [],
   "source": []
  }
 ],
 "metadata": {
  "kernelspec": {
   "display_name": "Python 2",
   "language": "python",
   "name": "python2"
  },
  "language_info": {
   "codemirror_mode": {
    "name": "ipython",
    "version": 2
   },
   "file_extension": ".py",
   "mimetype": "text/x-python",
   "name": "python",
   "nbconvert_exporter": "python",
   "pygments_lexer": "ipython2",
   "version": "2.7.13"
  }
 },
 "nbformat": 4,
 "nbformat_minor": 1
}
