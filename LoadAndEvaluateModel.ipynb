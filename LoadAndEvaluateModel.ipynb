{
 "cells": [
  {
   "cell_type": "code",
   "execution_count": 1,
   "metadata": {
    "collapsed": false
   },
   "outputs": [
    {
     "name": "stderr",
     "output_type": "stream",
     "text": [
      "Using TensorFlow backend.\n"
     ]
    }
   ],
   "source": [
    "import utils\n",
    "import keras\n",
    "import model01\n",
    "import datasets\n",
    "import metrics\n",
    "import matplotlib.pyplot as plt\n",
    "import seaborn as sns\n",
    "import pandas as pd\n",
    "import numpy as np\n",
    "%matplotlib inline"
   ]
  },
  {
   "cell_type": "code",
   "execution_count": 10,
   "metadata": {
    "collapsed": false
   },
   "outputs": [],
   "source": [
    "def plot_learning_curve(pc, model_desc, ylims):\n",
    "    fig = plt.figure()\n",
    "    plt.plot(pc.train_losses[:], label='training set')\n",
    "    plt.plot(pc.validation_losses[:], label='validation set')\n",
    "    ax= fig.axes[0]\n",
    "    ax.set_ylim(ylims[0], ylims[1])\n",
    "    ax.set_xlabel('epoch')\n",
    "    ax.set_ylabel('binary cross-entropy loss')\n",
    "    plt.title('training curve - ' + model_desc)\n",
    "    plt.legend()\n",
    "    \n",
    "def model_name_from_weights_file(wf):\n",
    "    return \"-\".join(wf[9:-5].split('-')[:-2])\n",
    "\n",
    "\n",
    "def report_performance(model_details, X_test, Y_test, prices_test, dataset_name, \n",
    "                       learning_curve=False, ylims=(0.68,0.70), **kwargs):\n",
    "    \n",
    "    name, weight_file = model_details\n",
    "    title = name + \" \" + dataset_name  \n",
    "    weight_file = './output/' + weight_file\n",
    "    model = keras.models.load_model(weight_file)\n",
    "    \n",
    "    \n",
    "    Y_test_pred = model.predict(X_test.as_matrix(), batch_size=1024)\n",
    "\n",
    "    metrics_map = metrics.performance_report(title,  prices_test,  lookahead, Y_test, Y_test_pred, **kwargs)\n",
    "    metrics_map['model'] = name\n",
    "    if learning_curve:\n",
    "        pc = model01.ProgressCallback.load(model_name_from_weights_file(weight_file))\n",
    "        plot_learning_curve(pc, name, ylims)\n",
    "        \n",
    "    return model, metrics_map\n",
    "    "
   ]
  },
  {
   "cell_type": "code",
   "execution_count": 25,
   "metadata": {
    "collapsed": false
   },
   "outputs": [
    {
     "name": "stdout",
     "output_type": "stream",
     "text": [
      "./output/MLPModel01_20170423_2154_EURUSD_DS3_20092014_LA1_F99_C2_L500_500_DO0.5-700-0.6914.hdf5\r\n",
      "./output/MLPModel01_20170423_2154_EURUSD_DS3_20092014_LA1_F99_C2_L500_500_DO0.5-705-0.6914.hdf5\r\n",
      "./output/MLPModel01_20170423_2154_EURUSD_DS3_20092014_LA1_F99_C2_L500_500_DO0.5-710-0.6914.hdf5\r\n",
      "./output/MLPModel01_20170423_2154_EURUSD_DS3_20092014_LA1_F99_C2_L500_500_DO0.5-715-0.6914.hdf5\r\n",
      "./output/MLPModel01_20170423_2154_EURUSD_DS3_20092014_LA1_F99_C2_L500_500_DO0.5-720-0.6914.hdf5\r\n",
      "./output/MLPModel01_20170423_2154_EURUSD_DS3_20092014_LA1_F99_C2_L500_500_DO0.5-725-0.6914.hdf5\r\n",
      "./output/MLPModel01_20170423_2154_EURUSD_DS3_20092014_LA1_F99_C2_L500_500_DO0.5-730-0.6914.hdf5\r\n",
      "./output/MLPModel01_20170423_2154_EURUSD_DS3_20092014_LA1_F99_C2_L500_500_DO0.5-735-0.6914.hdf5\r\n",
      "./output/MLPModel01_20170423_2154_EURUSD_DS3_20092014_LA1_F99_C2_L500_500_DO0.5-740-0.6914.hdf5\r\n",
      "./output/MLPModel01_20170423_2154_EURUSD_DS3_20092014_LA1_F99_C2_L500_500_DO0.5-745-0.6914.hdf5\r\n",
      "./output/MLPModel01_20170423_2154_EURUSD_DS3_20092014_LA1_F99_C2_L500_500_DO0.5-750-0.6914.hdf5\r\n",
      "./output/MLPModel01_20170423_2154_EURUSD_DS3_20092014_LA1_F99_C2_L500_500_DO0.5-755-0.6914.hdf5\r\n",
      "./output/MLPModel01_20170423_2154_EURUSD_DS3_20092014_LA1_F99_C2_L500_500_DO0.5-760-0.6914.hdf5\r\n",
      "./output/MLPModel01_20170423_2154_EURUSD_DS3_20092014_LA1_F99_C2_L500_500_DO0.5-765-0.6914.hdf5\r\n",
      "./output/MLPModel01_20170423_2154_EURUSD_DS3_20092014_LA1_F99_C2_L500_500_DO0.5-770-0.6914.hdf5\r\n",
      "./output/MLPModel01_20170423_2154_EURUSD_DS3_20092014_LA1_F99_C2_L500_500_DO0.5-775-0.6914.hdf5\r\n",
      "./output/MLPModel01_20170423_2154_EURUSD_DS3_20092014_LA1_F99_C2_L500_500_DO0.5-780-0.6914.hdf5\r\n",
      "./output/MLPModel01_20170423_2154_EURUSD_DS3_20092014_LA1_F99_C2_L500_500_DO0.5-785-0.6914.hdf5\r\n",
      "./output/MLPModel01_20170423_2154_EURUSD_DS3_20092014_LA1_F99_C2_L500_500_DO0.5-790-0.6914.hdf5\r\n",
      "./output/MLPModel01_20170423_2154_EURUSD_DS3_20092014_LA1_F99_C2_L500_500_DO0.5-795-0.6914.hdf5\r\n"
     ]
    }
   ],
   "source": [
    "!ls ./output/MLPModel01_20170423_2154_EURUSD_DS3_20092014_LA1_F99_C2_L500_500_DO0.5-7*"
   ]
  },
  {
   "cell_type": "code",
   "execution_count": 12,
   "metadata": {
    "collapsed": false
   },
   "outputs": [],
   "source": [
    "BEST_MODELS = [\n",
    "    ['100 dropout=0', 'MLPModel01_20170423_1307_EURUSD_DS3_20092014_LA1_F99_C2_L100_DO0-1000-0.6945.hdf5'],\n",
    "    ['100x100 dropout=0','MLPModel01_20170423_1448_EURUSD_DS3_20092014_LA1_F99_C2_L100_100_DO0-1000-0.6928.hdf5'],\n",
    "    ['100x100 dropout=0.5','MLPModel01_20170425_1049_EURUSD_DS3_20092014_LA1_F99_C2_L100_100_DO0.5-1000-0.6919.hdf5'],\n",
    "    ['500 dropout=0','MLPModel01_20170423_1615_EURUSD_DS3_20092014_LA1_F99_C2_L500_DO0-1000-0.6949.hdf5'],\n",
    "    ['500x500 dropout=0 epoch 165', 'MLPModel01_20170423_1800_EURUSD_DS3_20092014_LA1_F99_C2_L500_500_DO0-165-0.6954.hdf5'],\n",
    "    ['500x500 dropout=0 epoch 1000', 'MLPModel01_20170423_1800_EURUSD_DS3_20092014_LA1_F99_C2_L500_500_DO0-1000-0.7095.hdf5'],\n",
    "    ['500x500 dropout=0.5','MLPModel01_20170423_2154_EURUSD_DS3_20092014_LA1_F99_C2_L500_500_DO0.5-1000-0.6914.hdf5'],\n",
    "    ['500x500 dropout=0.5 #2','MLPModel01_20170425_2130_EURUSD_DS3_20092014_LA1_F99_C2_L500_500_DO0.5-1000-0.6910.hdf5'],\n",
    "    ['100x100x100 dropout=0 epoch 20',  'MLPModel01_20170418_1912_EURUSD_DS3_20092014_LA1_F99_C2_L100_100_100_DO0-020-0.6932.hdf5'],\n",
    "    ['100x100x100 dropout=0 epoch 115', 'MLPModel01_20170418_1912_EURUSD_DS3_20092014_LA1_F99_C2_L100_100_100_DO0-115-0.6934.hdf5'],\n",
    "    ['100x100x100 dropout=0.5', 'MLPModel01_20170418_1151_EURUSD_DS3_20092014_LA1_F99_C2_L100_100_100_DO0.5-1005-0.6913.hdf5'],\n",
    "    ['100x100x100 dropout=0.5 #2', 'MLPModel01_20170425_1447_EURUSD_DS3_20092014_LA1_F99_C2_L100_100_100_DO0.5-1000-0.6920.hdf5'],\n",
    "    ['500x500x500 dropout=0',   'MLPModel01_20170423_1051_EURUSD_DS3_20092014_LA1_F99_C2_L500_500_500_DO0-015-0.6941.hdf5'],\n",
    "    ['500x500x500 dropout=0.5 epoch 1470', 'MLPModel01_20170424_0713_EURUSD_DS3_20092014_LA1_F99_C2_L500_500_500_DO0.5-1470-0.6912.hdf5'],\n",
    "    ['500x500x500 dropout=0.5 epoch 1970', 'MLPModel01_20170424_0713_EURUSD_DS3_20092014_LA1_F99_C2_L500_500_500_DO0.5-1970-0.6912.hdf5'],\n",
    "    ['500x500x500 dropout=0.5', 'MLPModel01_20170424_0713_EURUSD_DS3_20092014_LA1_F99_C2_L500_500_500_DO0.5-2000-0.6913.hdf5'],\n",
    "    ['32x32x32x32 dropout=0.5 epoch 455', 'MLPModel01_20170423_1239_EURUSD_DS3_20092014_LA1_F99_C2_L32_32_32_32_DO0.5-455-0.6931.hdf5'],\n",
    "]"
   ]
  },
  {
   "cell_type": "code",
   "execution_count": 36,
   "metadata": {
    "collapsed": false
   },
   "outputs": [],
   "source": [
    "# load validation dataset\n",
    "lookahead=1\n",
    "dataset = 'DS3'\n",
    "window=25\n",
    "sym='EURUSD'\n",
    "\n",
    "year=2015\n",
    "test_title = sym + \" \" + str(year)\n",
    "X_test, Y_test, prices_test = datasets.load(datasets.filename(dataset, lookahead, window, sym, year))"
   ]
  },
  {
   "cell_type": "code",
   "execution_count": 31,
   "metadata": {
    "collapsed": false
   },
   "outputs": [
    {
     "name": "stdout",
     "output_type": "stream",
     "text": [
      "500x500 dropout=0.5 EURUSD 2015: f1-score: 0.526, mean future return: 0.030 bps, annualized future return 2.123\n"
     ]
    },
    {
     "data": {
      "image/png": "[encoded data removed]",
      "text/plain": [
       "<matplotlib.figure.Figure at 0x136e0af50>"
      ]
     },
     "metadata": {},
     "output_type": "display_data"
    }
   ],
   "source": [
    "best = ['500x500 dropout=0.5','MLPModel01_20170423_2154_EURUSD_DS3_20092014_LA1_F99_C2_L500_500_DO0.5-1000-0.6914.hdf5']\n",
    "report_performance(best, X_test, Y_test, prices_test, test_title, ylims=(0.691,0.692), learning_curve=True);"
   ]
  },
  {
   "cell_type": "code",
   "execution_count": 14,
   "metadata": {
    "collapsed": false
   },
   "outputs": [
    {
     "name": "stdout",
     "output_type": "stream",
     "text": [
      "\n",
      "100 dropout=0 EURUSD 2015: f1-score: 0.516, mean future return: 0.021 bps, annualized future return 1.221\n",
      "\n",
      "100x100 dropout=0 EURUSD 2015: f1-score: 0.520, mean future return: 0.023 bps, annualized future return 1.329\n",
      "\n",
      "100x100 dropout=0.5 EURUSD 2015: f1-score: 0.520, mean future return: 0.029 bps, annualized future return 1.948\n",
      "\n",
      "500 dropout=0 EURUSD 2015: f1-score: 0.518, mean future return: 0.021 bps, annualized future return 1.207\n",
      "\n",
      "500x500 dropout=0 epoch 165 EURUSD 2015: f1-score: 0.518, mean future return: 0.023 bps, annualized future return 1.380\n",
      "\n",
      "500x500 dropout=0 epoch 1000 EURUSD 2015: f1-score: 0.516, mean future return: 0.025 bps, annualized future return 1.574\n",
      "\n",
      "500x500 dropout=0.5 EURUSD 2015: f1-score: 0.526, mean future return: 0.030 bps, annualized future return 2.123\n",
      "\n",
      "500x500 dropout=0.5 #2 EURUSD 2015: f1-score: 0.525, mean future return: 0.030 bps, annualized future return 2.080\n",
      "\n",
      "100x100x100 dropout=0 epoch 20 EURUSD 2015: f1-score: 0.519, mean future return: 0.024 bps, annualized future return 1.472\n",
      "\n",
      "100x100x100 dropout=0 epoch 115 EURUSD 2015: f1-score: 0.521, mean future return: 0.026 bps, annualized future return 1.653\n",
      "\n",
      "100x100x100 dropout=0.5 EURUSD 2015: f1-score: 0.524, mean future return: 0.026 bps, annualized future return 1.693\n",
      "\n",
      "100x100x100 dropout=0.5 #2 EURUSD 2015: f1-score: 0.515, mean future return: 0.027 bps, annualized future return 1.748\n",
      "\n",
      "500x500x500 dropout=0 EURUSD 2015: f1-score: 0.518, mean future return: 0.023 bps, annualized future return 1.328\n",
      "\n",
      "500x500x500 dropout=0.5 epoch 1470 EURUSD 2015: f1-score: 0.523, mean future return: 0.029 bps, annualized future return 1.919\n",
      "\n",
      "500x500x500 dropout=0.5 epoch 1970 EURUSD 2015: f1-score: 0.521, mean future return: 0.028 bps, annualized future return 1.862\n",
      "\n",
      "500x500x500 dropout=0.5 EURUSD 2015: f1-score: 0.520, mean future return: 0.028 bps, annualized future return 1.840\n",
      "\n",
      "32x32x32x32 dropout=0.5 epoch 455 EURUSD 2015: f1-score: 0.341, mean future return: 0.001 bps, annualized future return 0.056\n"
     ]
    },
    {
     "data": {
      "text/html": [
       "<div>\n",
       "<table border=\"1\" class=\"dataframe\">\n",
       "  <thead>\n",
       "    <tr style=\"text-align: right;\">\n",
       "      <th></th>\n",
       "      <th>model</th>\n",
       "      <th>f1_score</th>\n",
       "      <th>mean_fut_return</th>\n",
       "      <th>ann_fut_return</th>\n",
       "    </tr>\n",
       "  </thead>\n",
       "  <tbody>\n",
       "    <tr>\n",
       "      <th>0</th>\n",
       "      <td>100 dropout=0</td>\n",
       "      <td>0.516</td>\n",
       "      <td>0.021</td>\n",
       "      <td>1.221</td>\n",
       "    </tr>\n",
       "    <tr>\n",
       "      <th>1</th>\n",
       "      <td>100x100 dropout=0</td>\n",
       "      <td>0.520</td>\n",
       "      <td>0.023</td>\n",
       "      <td>1.329</td>\n",
       "    </tr>\n",
       "    <tr>\n",
       "      <th>2</th>\n",
       "      <td>100x100 dropout=0.5</td>\n",
       "      <td>0.520</td>\n",
       "      <td>0.029</td>\n",
       "      <td>1.948</td>\n",
       "    </tr>\n",
       "    <tr>\n",
       "      <th>3</th>\n",
       "      <td>500 dropout=0</td>\n",
       "      <td>0.518</td>\n",
       "      <td>0.021</td>\n",
       "      <td>1.207</td>\n",
       "    </tr>\n",
       "    <tr>\n",
       "      <th>4</th>\n",
       "      <td>500x500 dropout=0 epoch 165</td>\n",
       "      <td>0.518</td>\n",
       "      <td>0.023</td>\n",
       "      <td>1.380</td>\n",
       "    </tr>\n",
       "    <tr>\n",
       "      <th>5</th>\n",
       "      <td>500x500 dropout=0 epoch 1000</td>\n",
       "      <td>0.516</td>\n",
       "      <td>0.025</td>\n",
       "      <td>1.574</td>\n",
       "    </tr>\n",
       "    <tr>\n",
       "      <th>6</th>\n",
       "      <td>500x500 dropout=0.5</td>\n",
       "      <td>0.526</td>\n",
       "      <td>0.030</td>\n",
       "      <td>2.123</td>\n",
       "    </tr>\n",
       "    <tr>\n",
       "      <th>7</th>\n",
       "      <td>500x500 dropout=0.5 #2</td>\n",
       "      <td>0.525</td>\n",
       "      <td>0.030</td>\n",
       "      <td>2.080</td>\n",
       "    </tr>\n",
       "    <tr>\n",
       "      <th>8</th>\n",
       "      <td>100x100x100 dropout=0 epoch 20</td>\n",
       "      <td>0.519</td>\n",
       "      <td>0.024</td>\n",
       "      <td>1.472</td>\n",
       "    </tr>\n",
       "    <tr>\n",
       "      <th>9</th>\n",
       "      <td>100x100x100 dropout=0 epoch 115</td>\n",
       "      <td>0.521</td>\n",
       "      <td>0.026</td>\n",
       "      <td>1.653</td>\n",
       "    </tr>\n",
       "    <tr>\n",
       "      <th>10</th>\n",
       "      <td>100x100x100 dropout=0.5</td>\n",
       "      <td>0.524</td>\n",
       "      <td>0.026</td>\n",
       "      <td>1.693</td>\n",
       "    </tr>\n",
       "    <tr>\n",
       "      <th>11</th>\n",
       "      <td>100x100x100 dropout=0.5 #2</td>\n",
       "      <td>0.515</td>\n",
       "      <td>0.027</td>\n",
       "      <td>1.748</td>\n",
       "    </tr>\n",
       "    <tr>\n",
       "      <th>12</th>\n",
       "      <td>500x500x500 dropout=0</td>\n",
       "      <td>0.518</td>\n",
       "      <td>0.023</td>\n",
       "      <td>1.328</td>\n",
       "    </tr>\n",
       "    <tr>\n",
       "      <th>13</th>\n",
       "      <td>500x500x500 dropout=0.5 epoch 1470</td>\n",
       "      <td>0.523</td>\n",
       "      <td>0.029</td>\n",
       "      <td>1.919</td>\n",
       "    </tr>\n",
       "    <tr>\n",
       "      <th>14</th>\n",
       "      <td>500x500x500 dropout=0.5 epoch 1970</td>\n",
       "      <td>0.521</td>\n",
       "      <td>0.028</td>\n",
       "      <td>1.862</td>\n",
       "    </tr>\n",
       "    <tr>\n",
       "      <th>15</th>\n",
       "      <td>500x500x500 dropout=0.5</td>\n",
       "      <td>0.520</td>\n",
       "      <td>0.028</td>\n",
       "      <td>1.840</td>\n",
       "    </tr>\n",
       "    <tr>\n",
       "      <th>16</th>\n",
       "      <td>32x32x32x32 dropout=0.5 epoch 455</td>\n",
       "      <td>0.341</td>\n",
       "      <td>0.001</td>\n",
       "      <td>0.056</td>\n",
       "    </tr>\n",
       "  </tbody>\n",
       "</table>\n",
       "</div>"
      ],
      "text/plain": [
       "                                 model f1_score mean_fut_return ann_fut_return\n",
       "0                        100 dropout=0    0.516           0.021          1.221\n",
       "1                    100x100 dropout=0    0.520           0.023          1.329\n",
       "2                  100x100 dropout=0.5    0.520           0.029          1.948\n",
       "3                        500 dropout=0    0.518           0.021          1.207\n",
       "4          500x500 dropout=0 epoch 165    0.518           0.023          1.380\n",
       "5         500x500 dropout=0 epoch 1000    0.516           0.025          1.574\n",
       "6                  500x500 dropout=0.5    0.526           0.030          2.123\n",
       "7               500x500 dropout=0.5 #2    0.525           0.030          2.080\n",
       "8       100x100x100 dropout=0 epoch 20    0.519           0.024          1.472\n",
       "9      100x100x100 dropout=0 epoch 115    0.521           0.026          1.653\n",
       "10             100x100x100 dropout=0.5    0.524           0.026          1.693\n",
       "11          100x100x100 dropout=0.5 #2    0.515           0.027          1.748\n",
       "12               500x500x500 dropout=0    0.518           0.023          1.328\n",
       "13  500x500x500 dropout=0.5 epoch 1470    0.523           0.029          1.919\n",
       "14  500x500x500 dropout=0.5 epoch 1970    0.521           0.028          1.862\n",
       "15             500x500x500 dropout=0.5    0.520           0.028          1.840\n",
       "16   32x32x32x32 dropout=0.5 epoch 455    0.341           0.001          0.056"
      ]
     },
     "execution_count": 14,
     "metadata": {},
     "output_type": "execute_result"
    }
   ],
   "source": [
    "summary = pd.DataFrame()\n",
    "model_indices = range(len(BEST_MODELS))\n",
    "for i in model_indices:\n",
    "    print \n",
    "    model, m = report_performance(BEST_MODELS[i], X_test, Y_test, prices_test, test_title, learning_curve=False)\n",
    "    summary = summary.append(pd.Series(m), ignore_index=True)\n",
    "\n",
    "summary['f1_score'] = summary['f1_score'].map('{:,.3f}'.format)\n",
    "summary['mean_fut_return'] = summary['mean_fut_return'].map('{:,.3f}'.format)\n",
    "summary['ann_fut_return'] = summary['ann_fut_return'].map('{:,.3f}'.format)\n",
    "summary[['model', 'f1_score', 'mean_fut_return', 'ann_fut_return']]"
   ]
  },
  {
   "cell_type": "markdown",
   "metadata": {},
   "source": [
    "----------------"
   ]
  },
  {
   "cell_type": "code",
   "execution_count": 15,
   "metadata": {
    "collapsed": true
   },
   "outputs": [],
   "source": [
    "# load *training* set\n",
    "lookahead=1\n",
    "dataset = 'DS3'\n",
    "window=25\n",
    "sym='EURUSD'\n",
    "\n",
    "year=20092014\n",
    "train_title = sym + \" \" + str(year)\n",
    "X_train, Y_train, prices_train = datasets.load(datasets.filename(dataset, lookahead, window, sym, year))"
   ]
  },
  {
   "cell_type": "code",
   "execution_count": 17,
   "metadata": {
    "collapsed": false
   },
   "outputs": [
    {
     "name": "stdout",
     "output_type": "stream",
     "text": [
      "\n",
      "100 dropout=0 EURUSD 20092014: f1-score: 0.533, mean future return: 0.042 bps, annualized future return 3.784\n",
      "\n",
      "100x100 dropout=0 EURUSD 20092014: f1-score: 0.542, mean future return: 0.057 bps, annualized future return 7.470\n",
      "\n",
      "100x100 dropout=0.5 EURUSD 20092014: f1-score: 0.530, mean future return: 0.029 bps, annualized future return 1.988\n",
      "\n",
      "500 dropout=0 EURUSD 20092014: f1-score: 0.547, mean future return: 0.073 bps, annualized future return 14.314\n",
      "\n",
      "500x500 dropout=0 epoch 165 EURUSD 20092014: f1-score: 0.550, mean future return: 0.085 bps, annualized future return 23.519\n",
      "\n",
      "500x500 dropout=0 epoch 1000 EURUSD 20092014: f1-score: 0.599, mean future return: 0.217 bps, annualized future return 3342.891\n",
      "\n",
      "500x500 dropout=0.5 EURUSD 20092014: f1-score: 0.546, mean future return: 0.050 bps, annualized future return 5.575\n",
      "\n",
      "500x500 dropout=0.5 #2 EURUSD 20092014: f1-score: 0.546, mean future return: 0.052 bps, annualized future return 5.965\n",
      "\n",
      "100x100x100 dropout=0 epoch 20 EURUSD 20092014: f1-score: 0.541, mean future return: 0.052 bps, annualized future return 6.003\n",
      "\n",
      "100x100x100 dropout=0 epoch 115 EURUSD 20092014: f1-score: 0.545, mean future return: 0.062 bps, annualized future return 9.057\n",
      "\n",
      "100x100x100 dropout=0.5 EURUSD 20092014: f1-score: 0.540, mean future return: 0.037 bps, annualized future return 3.023\n",
      "\n",
      "100x100x100 dropout=0.5 #2 EURUSD 20092014: f1-score: 0.526, mean future return: 0.028 bps, annualized future return 1.848\n",
      "\n",
      "500x500x500 dropout=0 EURUSD 20092014: f1-score: 0.539, mean future return: 0.054 bps, annualized future return 6.437\n",
      "\n",
      "500x500x500 dropout=0.5 epoch 1470 EURUSD 20092014: f1-score: 0.547, mean future return: 0.054 bps, annualized future return 6.544\n",
      "\n",
      "500x500x500 dropout=0.5 epoch 1970 EURUSD 20092014: f1-score: 0.551, mean future return: 0.064 bps, annualized future return 10.185\n",
      "\n",
      "500x500x500 dropout=0.5 EURUSD 20092014: f1-score: 0.551, mean future return: 0.065 bps, annualized future return 10.428\n",
      "\n",
      "32x32x32x32 dropout=0.5 epoch 455 EURUSD 20092014: f1-score: 0.336, mean future return: 0.001 bps, annualized future return 0.027\n"
     ]
    },
    {
     "data": {
      "text/html": [
       "<div>\n",
       "<table border=\"1\" class=\"dataframe\">\n",
       "  <thead>\n",
       "    <tr style=\"text-align: right;\">\n",
       "      <th></th>\n",
       "      <th>model</th>\n",
       "      <th>f1_score</th>\n",
       "      <th>mean_fut_return</th>\n",
       "      <th>ann_fut_return</th>\n",
       "    </tr>\n",
       "  </thead>\n",
       "  <tbody>\n",
       "    <tr>\n",
       "      <th>0</th>\n",
       "      <td>100 dropout=0</td>\n",
       "      <td>0.533</td>\n",
       "      <td>0.042</td>\n",
       "      <td>3.784</td>\n",
       "    </tr>\n",
       "    <tr>\n",
       "      <th>1</th>\n",
       "      <td>100x100 dropout=0</td>\n",
       "      <td>0.542</td>\n",
       "      <td>0.057</td>\n",
       "      <td>7.470</td>\n",
       "    </tr>\n",
       "    <tr>\n",
       "      <th>2</th>\n",
       "      <td>100x100 dropout=0.5</td>\n",
       "      <td>0.530</td>\n",
       "      <td>0.029</td>\n",
       "      <td>1.988</td>\n",
       "    </tr>\n",
       "    <tr>\n",
       "      <th>3</th>\n",
       "      <td>500 dropout=0</td>\n",
       "      <td>0.547</td>\n",
       "      <td>0.073</td>\n",
       "      <td>14.314</td>\n",
       "    </tr>\n",
       "    <tr>\n",
       "      <th>4</th>\n",
       "      <td>500x500 dropout=0 epoch 165</td>\n",
       "      <td>0.550</td>\n",
       "      <td>0.085</td>\n",
       "      <td>23.519</td>\n",
       "    </tr>\n",
       "    <tr>\n",
       "      <th>5</th>\n",
       "      <td>500x500 dropout=0 epoch 1000</td>\n",
       "      <td>0.599</td>\n",
       "      <td>0.217</td>\n",
       "      <td>3,342.891</td>\n",
       "    </tr>\n",
       "    <tr>\n",
       "      <th>6</th>\n",
       "      <td>500x500 dropout=0.5</td>\n",
       "      <td>0.546</td>\n",
       "      <td>0.050</td>\n",
       "      <td>5.575</td>\n",
       "    </tr>\n",
       "    <tr>\n",
       "      <th>7</th>\n",
       "      <td>500x500 dropout=0.5 #2</td>\n",
       "      <td>0.546</td>\n",
       "      <td>0.052</td>\n",
       "      <td>5.965</td>\n",
       "    </tr>\n",
       "    <tr>\n",
       "      <th>8</th>\n",
       "      <td>100x100x100 dropout=0 epoch 20</td>\n",
       "      <td>0.541</td>\n",
       "      <td>0.052</td>\n",
       "      <td>6.003</td>\n",
       "    </tr>\n",
       "    <tr>\n",
       "      <th>9</th>\n",
       "      <td>100x100x100 dropout=0 epoch 115</td>\n",
       "      <td>0.545</td>\n",
       "      <td>0.062</td>\n",
       "      <td>9.057</td>\n",
       "    </tr>\n",
       "    <tr>\n",
       "      <th>10</th>\n",
       "      <td>100x100x100 dropout=0.5</td>\n",
       "      <td>0.540</td>\n",
       "      <td>0.037</td>\n",
       "      <td>3.023</td>\n",
       "    </tr>\n",
       "    <tr>\n",
       "      <th>11</th>\n",
       "      <td>100x100x100 dropout=0.5 #2</td>\n",
       "      <td>0.526</td>\n",
       "      <td>0.028</td>\n",
       "      <td>1.848</td>\n",
       "    </tr>\n",
       "    <tr>\n",
       "      <th>12</th>\n",
       "      <td>500x500x500 dropout=0</td>\n",
       "      <td>0.539</td>\n",
       "      <td>0.054</td>\n",
       "      <td>6.437</td>\n",
       "    </tr>\n",
       "    <tr>\n",
       "      <th>13</th>\n",
       "      <td>500x500x500 dropout=0.5 epoch 1470</td>\n",
       "      <td>0.547</td>\n",
       "      <td>0.054</td>\n",
       "      <td>6.544</td>\n",
       "    </tr>\n",
       "    <tr>\n",
       "      <th>14</th>\n",
       "      <td>500x500x500 dropout=0.5 epoch 1970</td>\n",
       "      <td>0.551</td>\n",
       "      <td>0.064</td>\n",
       "      <td>10.185</td>\n",
       "    </tr>\n",
       "    <tr>\n",
       "      <th>15</th>\n",
       "      <td>500x500x500 dropout=0.5</td>\n",
       "      <td>0.551</td>\n",
       "      <td>0.065</td>\n",
       "      <td>10.428</td>\n",
       "    </tr>\n",
       "    <tr>\n",
       "      <th>16</th>\n",
       "      <td>32x32x32x32 dropout=0.5 epoch 455</td>\n",
       "      <td>0.336</td>\n",
       "      <td>0.001</td>\n",
       "      <td>0.027</td>\n",
       "    </tr>\n",
       "  </tbody>\n",
       "</table>\n",
       "</div>"
      ],
      "text/plain": [
       "                                 model f1_score mean_fut_return ann_fut_return\n",
       "0                        100 dropout=0    0.533           0.042          3.784\n",
       "1                    100x100 dropout=0    0.542           0.057          7.470\n",
       "2                  100x100 dropout=0.5    0.530           0.029          1.988\n",
       "3                        500 dropout=0    0.547           0.073         14.314\n",
       "4          500x500 dropout=0 epoch 165    0.550           0.085         23.519\n",
       "5         500x500 dropout=0 epoch 1000    0.599           0.217      3,342.891\n",
       "6                  500x500 dropout=0.5    0.546           0.050          5.575\n",
       "7               500x500 dropout=0.5 #2    0.546           0.052          5.965\n",
       "8       100x100x100 dropout=0 epoch 20    0.541           0.052          6.003\n",
       "9      100x100x100 dropout=0 epoch 115    0.545           0.062          9.057\n",
       "10             100x100x100 dropout=0.5    0.540           0.037          3.023\n",
       "11          100x100x100 dropout=0.5 #2    0.526           0.028          1.848\n",
       "12               500x500x500 dropout=0    0.539           0.054          6.437\n",
       "13  500x500x500 dropout=0.5 epoch 1470    0.547           0.054          6.544\n",
       "14  500x500x500 dropout=0.5 epoch 1970    0.551           0.064         10.185\n",
       "15             500x500x500 dropout=0.5    0.551           0.065         10.428\n",
       "16   32x32x32x32 dropout=0.5 epoch 455    0.336           0.001          0.027"
      ]
     },
     "execution_count": 17,
     "metadata": {},
     "output_type": "execute_result"
    }
   ],
   "source": [
    "summary = pd.DataFrame()\n",
    "model_indices = range(len(BEST_MODELS))\n",
    "for i in model_indices:\n",
    "    print \n",
    "    model, m = report_performance(BEST_MODELS[i], X_train, Y_train, prices_train, train_title, learning_curve=False)\n",
    "    summary = summary.append(pd.Series(m), ignore_index=True)\n",
    "\n",
    "summary['f1_score'] = summary['f1_score'].map('{:,.3f}'.format)\n",
    "summary['mean_fut_return'] = summary['mean_fut_return'].map('{:,.3f}'.format)\n",
    "summary['ann_fut_return'] = summary['ann_fut_return'].map('{:,.3f}'.format)\n",
    "summary[['model', 'f1_score', 'mean_fut_return', 'ann_fut_return']]"
   ]
  },
  {
   "cell_type": "markdown",
   "metadata": {},
   "source": [
    "---"
   ]
  },
  {
   "cell_type": "code",
   "execution_count": 35,
   "metadata": {
    "collapsed": false
   },
   "outputs": [
    {
     "name": "stdout",
     "output_type": "stream",
     "text": [
      "gnb: f1-score: 0.514, mean future return: 0.021 bps, annualized future return 1.216\n",
      "gnb: f1-score: 0.522, mean future return: 0.022 bps, annualized future return 1.281\n"
     ]
    },
    {
     "data": {
      "text/plain": [
       "{'ann_fut_return': 1.2808569982297051,\n",
       " 'f1_score': 0.52239711689831758,\n",
       " 'mean_fut_return': 0.022023353608554893,\n",
       " 'name': 'gnb'}"
      ]
     },
     "execution_count": 35,
     "metadata": {},
     "output_type": "execute_result"
    }
   ],
   "source": [
    "from sklearn.externals import joblib\n",
    "gnb_model = joblib.load('./output/gnb_EURUSD_DS3_20092014.pkl') \n",
    "\n",
    "Y_test_pred = gnb_model.predict(X_test.as_matrix())\n",
    "metrics.performance_report(\"gnb validation\",  prices_test,  lookahead, Y_test, Y_test_pred, cum_return_plot=False, histogram=False, heatmap=False)\n",
    "\n",
    "Y_train_pred = gnb_model.predict(X_train.as_matrix())\n",
    "metrics.performance_report(\"gnb train\",  prices_train,  lookahead, Y_train, Y_train_pred, cum_return_plot=False, histogram=False, heatmap=False)"
   ]
  },
  {
   "cell_type": "code",
   "execution_count": 37,
   "metadata": {
    "collapsed": false
   },
   "outputs": [
    {
     "name": "stdout",
     "output_type": "stream",
     "text": [
      "rf validation: f1-score: 0.525, mean future return: 0.021 bps, annualized future return 1.222\n",
      "rf train: f1-score: 0.549, mean future return: 0.025 bps, annualized future return 1.532\n"
     ]
    },
    {
     "data": {
      "text/plain": [
       "{'ann_fut_return': 1.5319725937884989,\n",
       " 'f1_score': 0.54896893396414681,\n",
       " 'mean_fut_return': 0.024813095998522345,\n",
       " 'name': 'rf train'}"
      ]
     },
     "execution_count": 37,
     "metadata": {},
     "output_type": "execute_result"
    }
   ],
   "source": [
    "from sklearn.externals import joblib\n",
    "rf_model = joblib.load('./output/rf5_EURUSD_DS3_20092014.pkl') \n",
    "\n",
    "Y_test_pred = rf_model.predict(X_test.as_matrix())\n",
    "metrics.performance_report(\"rf validation\",  prices_test,  lookahead, Y_test, Y_test_pred, cum_return_plot=False, histogram=False, heatmap=False)\n",
    "\n",
    "Y_train_pred = rf_model.predict(X_train.as_matrix())\n",
    "metrics.performance_report(\"rf train\",  prices_train,  lookahead, Y_train, Y_train_pred, cum_return_plot=False, histogram=False, heatmap=False)"
   ]
  },
  {
   "cell_type": "markdown",
   "metadata": {},
   "source": [
    "-----------------------------------------\n"
   ]
  },
  {
   "cell_type": "code",
   "execution_count": null,
   "metadata": {
    "collapsed": true
   },
   "outputs": [],
   "source": []
  }
 ],
 "metadata": {
  "kernelspec": {
   "display_name": "Python 2",
   "language": "python",
   "name": "python2"
  },
  "language_info": {
   "codemirror_mode": {
    "name": "ipython",
    "version": 2
   },
   "file_extension": ".py",
   "mimetype": "text/x-python",
   "name": "python",
   "nbconvert_exporter": "python",
   "pygments_lexer": "ipython2",
   "version": "2.7.13"
  }
 },
 "nbformat": 4,
 "nbformat_minor": 1
}
