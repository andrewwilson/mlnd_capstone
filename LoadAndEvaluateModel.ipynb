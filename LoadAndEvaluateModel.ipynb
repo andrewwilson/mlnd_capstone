{
 "cells": [
  {
   "cell_type": "code",
   "execution_count": 1,
   "metadata": {
    "collapsed": false
   },
   "outputs": [
    {
     "name": "stderr",
     "output_type": "stream",
     "text": [
      "Using TensorFlow backend.\n"
     ]
    }
   ],
   "source": [
    "import utils\n",
    "import keras\n",
    "import model01\n",
    "import datasets\n",
    "import metrics\n",
    "import matplotlib.pyplot as plt\n",
    "import seaborn as sns\n",
    "import pandas as pd\n",
    "import numpy as np\n",
    "%matplotlib inline"
   ]
  },
  {
   "cell_type": "code",
   "execution_count": 2,
   "metadata": {
    "collapsed": false
   },
   "outputs": [],
   "source": [
    "def plot_learning_curve(pc, model_desc, ylims):\n",
    "    fig = plt.figure()\n",
    "    plt.plot(pc.train_losses[:], label='training set')\n",
    "    plt.plot(pc.validation_losses[:], label='validation set')\n",
    "    ax= fig.axes[0]\n",
    "    ax.set_ylim(ylims[0], ylims[1])\n",
    "    ax.set_xlabel('epoch')\n",
    "    ax.set_ylabel('binary cross-entropy loss')\n",
    "    plt.title('training curve - ' + model_desc)\n",
    "    plt.legend()\n",
    "    \n",
    "def model_name_from_weights_file(wf):\n",
    "    return \"-\".join(wf[9:-5].split('-')[:-2])\n",
    "\n",
    "\n",
    "def report_performance(model_details, \n",
    "                       X_test, Y_test, prices_test, title, \n",
    "                       learning_curve=False, ylims=(0.68,0.70), **kwargs):\n",
    "    \n",
    "    name, weight_file = model_details\n",
    "    weight_file = './output/' + weight_file\n",
    "    model = keras.models.load_model(weight_file)\n",
    "    \n",
    "    \n",
    "    Y_test_pred = model.predict(X_test.as_matrix(), batch_size=1024)\n",
    "    print name\n",
    "    metrics.performance_report(title,  prices_test,  lookahead, Y_test, Y_test_pred, **kwargs)\n",
    "    if learning_curve:\n",
    "        pc = model01.ProgressCallback.load(model_name_from_weights_file(weight_file))\n",
    "        plot_learning_curve(pc, name, ylims)\n",
    "        \n",
    "    return model\n",
    "    "
   ]
  },
  {
   "cell_type": "code",
   "execution_count": 3,
   "metadata": {
    "collapsed": false
   },
   "outputs": [
    {
     "name": "stdout",
     "output_type": "stream",
     "text": [
      "\u001b[31m./output/MLPModel01_20170418_1151_EURUSD_DS3_20092014_LA1_F99_C2_L100_100_100_DO0.5.npz\u001b[m\u001b[m\r\n",
      "./output/MLPModel01_20170418_1912_EURUSD_DS3_20092014_LA1_F99_C2_L100_100_100_DO0.npz\r\n",
      "./output/MLPModel01_20170423_1021_EURUSD_DS3_20092014_LA1_F99_C2_L100_100_100_DO0.npz\r\n",
      "./output/MLPModel01_20170423_1024_EURUSD_DS3_20092014_LA1_F99_C2_L100_100_100_DO0.npz\r\n",
      "./output/MLPModel01_20170423_1051_EURUSD_DS3_20092014_LA1_F99_C2_L500_500_500_DO0.npz\r\n",
      "./output/MLPModel01_20170423_1237_EURUSD_DS3_20092014_LA1_F99_C2_L100_100_100_100_DO0.npz\r\n",
      "./output/MLPModel01_20170423_1239_EURUSD_DS3_20092014_LA1_F99_C2_L32_32_32_32_DO0.5.npz\r\n",
      "./output/MLPModel01_20170423_1307_EURUSD_DS3_20092014_LA1_F99_C2_L100_DO0.npz\r\n",
      "./output/MLPModel01_20170423_1448_EURUSD_DS3_20092014_LA1_F99_C2_L100_100_DO0.npz\r\n",
      "./output/MLPModel01_20170423_1615_EURUSD_DS3_20092014_LA1_F99_C2_L500_DO0.npz\r\n",
      "./output/MLPModel01_20170423_1800_EURUSD_DS3_20092014_LA1_F99_C2_L500_500_DO0.npz\r\n",
      "./output/MLPModel01_20170423_2154_EURUSD_DS3_20092014_LA1_F99_C2_L500_500_DO0.5.npz\r\n",
      "./output/MLPModel01_20170424_0713_EURUSD_DS3_20092014_LA1_F99_C2_L500_500_500_DO0.5.npz\r\n",
      "./output/MLPModel01_20170425_1049_EURUSD_DS3_20092014_LA1_F99_C2_L100_100_DO0.5.npz\r\n",
      "./output/MLPModel01_20170425_1447_EURUSD_DS3_20092014_LA1_F99_C2_L100_100_100_DO0.5.npz\r\n",
      "./output/MLPModel01_20170425_2130_EURUSD_DS3_20092014_LA1_F99_C2_L500_500_DO0.5.npz\r\n"
     ]
    }
   ],
   "source": [
    "!ls ./output/MLPModel01_*EURUSD*.npz*"
   ]
  },
  {
   "cell_type": "code",
   "execution_count": null,
   "metadata": {
    "collapsed": true
   },
   "outputs": [],
   "source": []
  },
  {
   "cell_type": "code",
   "execution_count": 4,
   "metadata": {
    "collapsed": false
   },
   "outputs": [],
   "source": [
    "BEST_MODELS = [\n",
    "    ['100 dropout=0', 'MLPModel01_20170423_1307_EURUSD_DS3_20092014_LA1_F99_C2_L100_DO0-1000-0.6945.hdf5'],\n",
    "    ['100x100 dropout=0','MLPModel01_20170423_1448_EURUSD_DS3_20092014_LA1_F99_C2_L100_100_DO0-1000-0.6928.hdf5'],\n",
    "    ['100x100 dropout=0.5','MLPModel01_20170425_1049_EURUSD_DS3_20092014_LA1_F99_C2_L100_100_DO0.5-1000-0.6919.hdf5'],\n",
    "    ['500 dropout=0','MLPModel01_20170423_1615_EURUSD_DS3_20092014_LA1_F99_C2_L500_DO0-1000-0.6949.hdf5'],\n",
    "    ['500x500 dropout=0 epoch 1000', 'MLPModel01_20170423_1800_EURUSD_DS3_20092014_LA1_F99_C2_L500_500_DO0-1000-0.7095.hdf5'],\n",
    "    ['500x500 dropout=0.5','MLPModel01_20170423_2154_EURUSD_DS3_20092014_LA1_F99_C2_L500_500_DO0.5-1000-0.6914.hdf5'],\n",
    "    ['500x500 dropout=0.5 #2','MLPModel01_20170425_2130_EURUSD_DS3_20092014_LA1_F99_C2_L500_500_DO0.5-1000-0.6910.hdf5'],\n",
    "    ['100x100x100 dropout=0.5', 'MLPModel01_20170418_1151_EURUSD_DS3_20092014_LA1_F99_C2_L100_100_100_DO0.5-1005-0.6913.hdf5'],\n",
    "    ['100x100x100 dropout=0.5 #2', 'MLPModel01_20170425_1447_EURUSD_DS3_20092014_LA1_F99_C2_L100_100_100_DO0.5-1000-0.6920.hdf5'],\n",
    "    ['500x500x500 dropout=0',   'MLPModel01_20170423_1051_EURUSD_DS3_20092014_LA1_F99_C2_L500_500_500_DO0-015-0.6941.hdf5'],\n",
    "    ['500x500x500 dropout=0.5', 'MLPModel01_20170424_0713_EURUSD_DS3_20092014_LA1_F99_C2_L500_500_500_DO0.5-2000-0.6913.hdf5'],\n",
    "    ['500x500x500 dropout=0.5 epoch 1470', 'MLPModel01_20170424_0713_EURUSD_DS3_20092014_LA1_F99_C2_L500_500_500_DO0.5-1470-0.6912.hdf5'],\n",
    "    ['500x500x500 dropout=0.5 epoch 1970', 'MLPModel01_20170424_0713_EURUSD_DS3_20092014_LA1_F99_C2_L500_500_500_DO0.5-1970-0.6912.hdf5'],\n",
    "    ['100x100x100 dropout=0 epoch 20',  'MLPModel01_20170418_1912_EURUSD_DS3_20092014_LA1_F99_C2_L100_100_100_DO0-020-0.6932.hdf5'],\n",
    "    ['100x100x100 dropout=0 epoch 115', 'MLPModel01_20170418_1912_EURUSD_DS3_20092014_LA1_F99_C2_L100_100_100_DO0-115-0.6934.hdf5'],\n",
    "    ['500x500 dropout=0 epoch 165', 'MLPModel01_20170423_1800_EURUSD_DS3_20092014_LA1_F99_C2_L500_500_DO0-165-0.6954.hdf5'],\n",
    "    ['32x32x32x32 dropout=0.5', 'MLPModel01_20170423_1239_EURUSD_DS3_20092014_LA1_F99_C2_L32_32_32_32_DO0.5-455-0.6931.hdf5'],\n",
    "]"
   ]
  },
  {
   "cell_type": "code",
   "execution_count": 5,
   "metadata": {
    "collapsed": false
   },
   "outputs": [],
   "source": [
    "# load test dataset\n",
    "lookahead=1\n",
    "dataset = 'DS3'\n",
    "window=25\n",
    "sym='EURUSD'\n",
    "\n",
    "year=2015\n",
    "test_title = sym + \" \" + str(year)\n",
    "X_test, Y_test, prices_test = datasets.load(datasets.filename(dataset, lookahead, window, sym, year))"
   ]
  },
  {
   "cell_type": "code",
   "execution_count": 15,
   "metadata": {
    "collapsed": false
   },
   "outputs": [
    {
     "data": {
      "text/plain": [
       "'100x100x100 dropout=0.5 #2'"
      ]
     },
     "execution_count": 15,
     "metadata": {},
     "output_type": "execute_result"
    }
   ],
   "source": [
    "BEST_MODELS[7][0]"
   ]
  },
  {
   "cell_type": "code",
   "execution_count": 18,
   "metadata": {
    "collapsed": false
   },
   "outputs": [
    {
     "name": "stdout",
     "output_type": "stream",
     "text": [
      "100x100 dropout=0.5\n",
      "EURUSD 2015: f1-score: 0.520, mean future return: 0.027 bps, annualized future return 1.744\n",
      "500x500 dropout=0.5\n",
      "EURUSD 2015: f1-score: 0.526, mean future return: 0.031 bps, annualized future return 2.183\n",
      "100x100x100 dropout=0.5\n",
      "EURUSD 2015: f1-score: 0.524, mean future return: 0.025 bps, annualized future return 1.582\n",
      "100x100x100 dropout=0.5 #2\n",
      "EURUSD 2015: f1-score: 0.515, mean future return: 0.027 bps, annualized future return 1.709\n",
      "500x500x500 dropout=0.5 epoch 1470\n",
      "EURUSD 2015: f1-score: 0.523, mean future return: 0.028 bps, annualized future return 1.834\n"
     ]
    }
   ],
   "source": [
    "for idx in [2,5,6,7,10]:\n",
    "    model = report_performance(BEST_MODELS[idx], X_test, Y_test, prices_test, test_title, \n",
    "                               learning_curve=False, cum_return_plot=False, histogram=False, heatmap=False)\n"
   ]
  },
  {
   "cell_type": "code",
   "execution_count": 6,
   "metadata": {
    "collapsed": false,
    "scrolled": false
   },
   "outputs": [
    {
     "name": "stdout",
     "output_type": "stream",
     "text": [
      "\n",
      "100 dropout=0\n",
      "EURUSD 2015: f1-score: 0.516, mean future return: 0.021 bps, annualized future return 1.221\n",
      "\n",
      "100x100 dropout=0\n",
      "EURUSD 2015: f1-score: 0.520, mean future return: 0.023 bps, annualized future return 1.329\n",
      "\n",
      "100x100 dropout=0.5\n",
      "EURUSD 2015: f1-score: 0.520, mean future return: 0.029 bps, annualized future return 1.948\n",
      "\n",
      "500 dropout=0\n",
      "EURUSD 2015: f1-score: 0.518, mean future return: 0.021 bps, annualized future return 1.207\n",
      "\n",
      "500x500 dropout=0 epoch 1000\n",
      "EURUSD 2015: f1-score: 0.516, mean future return: 0.025 bps, annualized future return 1.574\n",
      "\n",
      "500x500 dropout=0.5\n",
      "EURUSD 2015: f1-score: 0.526, mean future return: 0.030 bps, annualized future return 2.123\n",
      "\n",
      "500x500 dropout=0.5 #2\n",
      "EURUSD 2015: f1-score: 0.525, mean future return: 0.030 bps, annualized future return 2.080\n",
      "\n",
      "100x100x100 dropout=0.5\n",
      "EURUSD 2015: f1-score: 0.524, mean future return: 0.026 bps, annualized future return 1.693\n",
      "\n",
      "100x100x100 dropout=0.5 #2\n",
      "EURUSD 2015: f1-score: 0.515, mean future return: 0.027 bps, annualized future return 1.748\n",
      "\n",
      "500x500x500 dropout=0\n",
      "EURUSD 2015: f1-score: 0.518, mean future return: 0.023 bps, annualized future return 1.328\n",
      "\n",
      "500x500x500 dropout=0.5\n",
      "EURUSD 2015: f1-score: 0.520, mean future return: 0.028 bps, annualized future return 1.840\n",
      "\n",
      "500x500x500 dropout=0.5 epoch 1470\n",
      "EURUSD 2015: f1-score: 0.523, mean future return: 0.029 bps, annualized future return 1.919\n",
      "\n",
      "500x500x500 dropout=0.5 epoch 1970\n",
      "EURUSD 2015: f1-score: 0.521, mean future return: 0.028 bps, annualized future return 1.862\n",
      "\n",
      "100x100x100 dropout=0 epoch 20\n",
      "EURUSD 2015: f1-score: 0.519, mean future return: 0.024 bps, annualized future return 1.472\n",
      "\n",
      "100x100x100 dropout=0 epoch 115\n",
      "EURUSD 2015: f1-score: 0.521, mean future return: 0.026 bps, annualized future return 1.653\n",
      "\n",
      "500x500 dropout=0 epoch 165\n",
      "EURUSD 2015: f1-score: 0.518, mean future return: 0.023 bps, annualized future return 1.380\n",
      "\n",
      "32x32x32x32 dropout=0.5\n",
      "EURUSD 2015: f1-score: 0.341, mean future return: 0.001 bps, annualized future return 0.056\n"
     ]
    }
   ],
   "source": [
    "model_indices = range(len(BEST_MODELS))\n",
    "for i in model_indices:\n",
    "    print \n",
    "    report_performance(BEST_MODELS[i], X_test, Y_test, prices_test, test_title, learning_curve=False)"
   ]
  },
  {
   "cell_type": "markdown",
   "metadata": {},
   "source": [
    "----------------"
   ]
  },
  {
   "cell_type": "code",
   "execution_count": 7,
   "metadata": {
    "collapsed": true
   },
   "outputs": [],
   "source": [
    "# load *training* set\n",
    "lookahead=1\n",
    "dataset = 'DS3'\n",
    "window=25\n",
    "sym='EURUSD'\n",
    "\n",
    "year=20092014\n",
    "train_title = sym + \" \" + str(year)\n",
    "X_train, Y_train, prices_train = datasets.load(datasets.filename(dataset, lookahead, window, sym, year))"
   ]
  },
  {
   "cell_type": "code",
   "execution_count": 8,
   "metadata": {
    "collapsed": false
   },
   "outputs": [
    {
     "name": "stdout",
     "output_type": "stream",
     "text": [
      "100 dropout=0\n",
      "EURUSD 20092014: f1-score: 0.533, mean future return: 0.042 bps, annualized future return 3.784\n",
      "100x100 dropout=0\n",
      "EURUSD 20092014: f1-score: 0.542, mean future return: 0.057 bps, annualized future return 7.470\n",
      "100x100 dropout=0.5\n",
      "EURUSD 20092014: f1-score: 0.530, mean future return: 0.029 bps, annualized future return 1.988\n",
      "500 dropout=0\n",
      "EURUSD 20092014: f1-score: 0.547, mean future return: 0.073 bps, annualized future return 14.314\n",
      "500x500 dropout=0 epoch 1000\n",
      "EURUSD 20092014: f1-score: 0.599, mean future return: 0.217 bps, annualized future return 3342.891\n",
      "500x500 dropout=0.5\n",
      "EURUSD 20092014: f1-score: 0.546, mean future return: 0.050 bps, annualized future return 5.575\n",
      "500x500 dropout=0.5 #2\n",
      "EURUSD 20092014: f1-score: 0.546, mean future return: 0.052 bps, annualized future return 5.965\n",
      "100x100x100 dropout=0.5\n",
      "EURUSD 20092014: f1-score: 0.540, mean future return: 0.037 bps, annualized future return 3.023\n",
      "100x100x100 dropout=0.5 #2\n",
      "EURUSD 20092014: f1-score: 0.526, mean future return: 0.028 bps, annualized future return 1.848\n",
      "500x500x500 dropout=0\n",
      "EURUSD 20092014: f1-score: 0.539, mean future return: 0.054 bps, annualized future return 6.437\n",
      "500x500x500 dropout=0.5\n",
      "EURUSD 20092014: f1-score: 0.551, mean future return: 0.065 bps, annualized future return 10.428\n",
      "500x500x500 dropout=0.5 epoch 1470\n",
      "EURUSD 20092014: f1-score: 0.547, mean future return: 0.054 bps, annualized future return 6.544\n",
      "500x500x500 dropout=0.5 epoch 1970\n",
      "EURUSD 20092014: f1-score: 0.551, mean future return: 0.064 bps, annualized future return 10.185\n",
      "100x100x100 dropout=0 epoch 20\n",
      "EURUSD 20092014: f1-score: 0.541, mean future return: 0.052 bps, annualized future return 6.003\n",
      "100x100x100 dropout=0 epoch 115\n",
      "EURUSD 20092014: f1-score: 0.545, mean future return: 0.062 bps, annualized future return 9.057\n",
      "500x500 dropout=0 epoch 165\n",
      "EURUSD 20092014: f1-score: 0.550, mean future return: 0.085 bps, annualized future return 23.519\n",
      "32x32x32x32 dropout=0.5\n",
      "EURUSD 20092014: f1-score: 0.336, mean future return: 0.001 bps, annualized future return 0.027\n"
     ]
    }
   ],
   "source": [
    "for i in range(len(BEST_MODELS)):\n",
    "    report_performance(BEST_MODELS[i], X_train, Y_train, prices_train, train_title, learning_curve=False)"
   ]
  },
  {
   "cell_type": "markdown",
   "metadata": {},
   "source": [
    "---"
   ]
  },
  {
   "cell_type": "code",
   "execution_count": 92,
   "metadata": {
    "collapsed": false
   },
   "outputs": [
    {
     "name": "stdout",
     "output_type": "stream",
     "text": [
      "gnb: f1-score: 0.514, mean future return: 0.021 bps, annualized future return 1.175\n"
     ]
    },
    {
     "data": {
      "image/png": "[encoded data removed]",
      "text/plain": [
       "<matplotlib.figure.Figure at 0x7f3c3c7c3190>"
      ]
     },
     "metadata": {},
     "output_type": "display_data"
    },
    {
     "data": {
      "image/png": "[encoded data removed]",
      "text/plain": [
       "<matplotlib.figure.Figure at 0x7f3c44349390>"
      ]
     },
     "metadata": {},
     "output_type": "display_data"
    },
    {
     "name": "stdout",
     "output_type": "stream",
     "text": [
      "[[101721  69749]\n",
      " [ 96315  75867]]\n"
     ]
    },
    {
     "data": {
      "image/png": "[encoded data removed]",
      "text/plain": [
       "<matplotlib.figure.Figure at 0x7f3c444d4090>"
      ]
     },
     "metadata": {},
     "output_type": "display_data"
    }
   ],
   "source": [
    "from sklearn.externals import joblib\n",
    "gnb_model = joblib.load('./output/gnb_EURUSD_DS3_20092014.pkl') \n",
    "\n",
    "Y_test_pred = gnb_model.predict(X_test.as_matrix())\n",
    "metrics.performance_report(\"gnb\",  prices_test,  lookahead, Y_test, Y_test_pred, cum_return_plot=True, histogram=True, heatmap=True)"
   ]
  },
  {
   "cell_type": "markdown",
   "metadata": {},
   "source": [
    "-----------------------------------------\n"
   ]
  },
  {
   "cell_type": "code",
   "execution_count": null,
   "metadata": {
    "collapsed": false
   },
   "outputs": [],
   "source": [
    "!! Idea: assess performance of 1 minute prediction over next n periods, e.g. by average signal, ewma signal.\n",
    "    Versus predicting on n periods ahead directly.\n",
    "    \n",
    "    Increase N to point of being potentially tradeable.\n",
    "    \n",
    "    "
   ]
  },
  {
   "cell_type": "code",
   "execution_count": null,
   "metadata": {
    "collapsed": false
   },
   "outputs": [],
   "source": [
    "i_s = []\n",
    "frsma = []\n",
    "frewma = []\n",
    "for i in range(20):\n",
    "    i_s.append(i)\n",
    "    fut_ret_sma = metrics.aggregated_predicted_future_return(\n",
    "        prices=prices_test, prediction=Y_test_pred, agg_period=i, mode='sma').mean() *1e4\n",
    "    frsma.append(fut_ret_sma)\n",
    "    \n",
    "    fut_ret_ewma = metrics.aggregated_predicted_future_return(\n",
    "        prices=prices_test, prediction=Y_test_pred, agg_period=i, mode='ewm').mean() *1e4\n",
    "    frewma.append(fut_ret_ewma)\n",
    "\n",
    "plt.plot(i_s, frsma,'.-')\n",
    "plt.plot(i_s, frewma,'.-')\n",
    "    "
   ]
  },
  {
   "cell_type": "markdown",
   "metadata": {},
   "source": [
    "??? why are perf charts below different to fut return charts from performance report.????"
   ]
  },
  {
   "cell_type": "code",
   "execution_count": null,
   "metadata": {
    "collapsed": false
   },
   "outputs": [],
   "source": [
    "fut_return_test = utils.future_return(prices_test, 1)"
   ]
  },
  {
   "cell_type": "code",
   "execution_count": null,
   "metadata": {
    "collapsed": false
   },
   "outputs": [],
   "source": [
    "def perf(Y, fut_ret):\n",
    "    preds = Y[:,0]\n",
    "    rets = fut_ret.fillna(0).values\n",
    "    assert preds.shape == rets.shape\n",
    "    \n",
    "    cats = utils.prediction_to_category2(preds)\n",
    "    # turn true/false into +1/-1\n",
    "    signs = cats*2 -1 \n",
    "    \n",
    "    applied_rets = signs*rets / signs.std()\n",
    "    ser =  pd.Series(applied_rets, index=fut_ret.index)   \n",
    "    print ser.mean()/ser.std()\n",
    "    return ser"
   ]
  },
  {
   "cell_type": "code",
   "execution_count": null,
   "metadata": {
    "collapsed": false
   },
   "outputs": [],
   "source": [
    "def perf2(Y, fut_ret):\n",
    "    preds = Y[:,0]\n",
    "    rets = fut_ret.fillna(0).values\n",
    "    assert preds.shape == rets.shape\n",
    "    \n",
    "    # turn true/false into +1/-1\n",
    "    signs = preds - 0.5\n",
    "    \n",
    "    applied_rets = signs*rets / signs.std()\n",
    "    ser =  pd.Series(applied_rets, index=fut_ret.index)   \n",
    "    print ser.mean()/ser.std()\n",
    "    return ser"
   ]
  },
  {
   "cell_type": "code",
   "execution_count": null,
   "metadata": {
    "collapsed": false
   },
   "outputs": [],
   "source": [
    "def perf3(Y, fut_ret):\n",
    "    preds = Y[:,0]\n",
    "    rets = fut_ret.fillna(0).values\n",
    "    assert preds.shape == rets.shape\n",
    "    \n",
    "    # turn true/false into +1/-1\n",
    "    signs = (preds - 0.5)\n",
    "    signs = np.tanh(signs/2)\n",
    "    applied_rets = signs*rets / signs.std()\n",
    "    ser =  pd.Series(applied_rets, index=fut_ret.index)   \n",
    "    print ser.mean()/ser.std()\n",
    "    return ser"
   ]
  },
  {
   "cell_type": "code",
   "execution_count": null,
   "metadata": {
    "collapsed": false
   },
   "outputs": [],
   "source": [
    "print perf(Y_test_pred, fut_return_test).sum()\n",
    "print perf2(Y_test_pred, fut_return_test).sum()\n",
    "print perf3(Y_test_pred, fut_return_test).sum()"
   ]
  },
  {
   "cell_type": "code",
   "execution_count": null,
   "metadata": {
    "collapsed": false
   },
   "outputs": [],
   "source": [
    "perf(Y_test_pred, fut_return_test).cumsum().plot(label='perf')\n",
    "perf2(Y_test_pred, fut_return_test).cumsum().plot(label='perf2')\n",
    "perf3(Y_test_pred, fut_return_test).cumsum().plot(label='perf3')\n",
    "plt.legend()"
   ]
  },
  {
   "cell_type": "code",
   "execution_count": null,
   "metadata": {
    "collapsed": true
   },
   "outputs": [],
   "source": []
  },
  {
   "cell_type": "markdown",
   "metadata": {},
   "source": [
    "-----------------------------------\n",
    "\n",
    "## Control"
   ]
  },
  {
   "cell_type": "code",
   "execution_count": 36,
   "metadata": {
    "collapsed": false
   },
   "outputs": [],
   "source": [
    "X_control, Y_control, prices_control = datasets.prepare_dataset3(df=datasets.random_ohlc(300000),lookahead=1, n_periods=25)"
   ]
  },
  {
   "cell_type": "code",
   "execution_count": 37,
   "metadata": {
    "collapsed": false
   },
   "outputs": [
    {
     "data": {
      "text/html": [
       "<div>\n",
       "<table border=\"1\" class=\"dataframe\">\n",
       "  <thead>\n",
       "    <tr style=\"text-align: right;\">\n",
       "      <th></th>\n",
       "      <th>open-0</th>\n",
       "      <th>high-0</th>\n",
       "      <th>low-0</th>\n",
       "      <th>open-1</th>\n",
       "      <th>high-1</th>\n",
       "      <th>low-1</th>\n",
       "      <th>close-1</th>\n",
       "      <th>open-2</th>\n",
       "      <th>high-2</th>\n",
       "      <th>low-2</th>\n",
       "      <th>...</th>\n",
       "      <th>low-328</th>\n",
       "      <th>close-328</th>\n",
       "      <th>open-365</th>\n",
       "      <th>high-365</th>\n",
       "      <th>low-365</th>\n",
       "      <th>close-365</th>\n",
       "      <th>open-404</th>\n",
       "      <th>high-404</th>\n",
       "      <th>low-404</th>\n",
       "      <th>close-404</th>\n",
       "    </tr>\n",
       "  </thead>\n",
       "  <tbody>\n",
       "    <tr>\n",
       "      <th>count</th>\n",
       "      <td>343652.000000</td>\n",
       "      <td>343652.000000</td>\n",
       "      <td>343652.000000</td>\n",
       "      <td>343652.000000</td>\n",
       "      <td>343652.000000</td>\n",
       "      <td>343652.000000</td>\n",
       "      <td>343652.000000</td>\n",
       "      <td>343652.000000</td>\n",
       "      <td>343652.000000</td>\n",
       "      <td>343652.000000</td>\n",
       "      <td>...</td>\n",
       "      <td>343652.000000</td>\n",
       "      <td>343652.000000</td>\n",
       "      <td>343652.000000</td>\n",
       "      <td>343652.000000</td>\n",
       "      <td>343652.000000</td>\n",
       "      <td>343652.000000</td>\n",
       "      <td>343652.000000</td>\n",
       "      <td>343652.000000</td>\n",
       "      <td>343652.000000</td>\n",
       "      <td>343652.000000</td>\n",
       "    </tr>\n",
       "    <tr>\n",
       "      <th>mean</th>\n",
       "      <td>0.000399</td>\n",
       "      <td>0.011358</td>\n",
       "      <td>-0.010195</td>\n",
       "      <td>0.000398</td>\n",
       "      <td>0.011416</td>\n",
       "      <td>-0.010254</td>\n",
       "      <td>0.000315</td>\n",
       "      <td>0.000391</td>\n",
       "      <td>0.011468</td>\n",
       "      <td>-0.010307</td>\n",
       "      <td>...</td>\n",
       "      <td>-0.000683</td>\n",
       "      <td>-0.000037</td>\n",
       "      <td>-0.000232</td>\n",
       "      <td>-0.002583</td>\n",
       "      <td>0.002729</td>\n",
       "      <td>-0.001075</td>\n",
       "      <td>-0.000385</td>\n",
       "      <td>-0.007237</td>\n",
       "      <td>0.007205</td>\n",
       "      <td>-0.002133</td>\n",
       "    </tr>\n",
       "    <tr>\n",
       "      <th>std</th>\n",
       "      <td>1.008308</td>\n",
       "      <td>1.004710</td>\n",
       "      <td>1.000925</td>\n",
       "      <td>1.008347</td>\n",
       "      <td>1.004728</td>\n",
       "      <td>1.000918</td>\n",
       "      <td>1.006027</td>\n",
       "      <td>1.008364</td>\n",
       "      <td>1.004719</td>\n",
       "      <td>1.000898</td>\n",
       "      <td>...</td>\n",
       "      <td>0.995091</td>\n",
       "      <td>1.011594</td>\n",
       "      <td>0.997570</td>\n",
       "      <td>0.997073</td>\n",
       "      <td>0.993832</td>\n",
       "      <td>1.011717</td>\n",
       "      <td>0.993216</td>\n",
       "      <td>0.994268</td>\n",
       "      <td>0.990081</td>\n",
       "      <td>1.011687</td>\n",
       "    </tr>\n",
       "    <tr>\n",
       "      <th>min</th>\n",
       "      <td>-36.891592</td>\n",
       "      <td>-0.886780</td>\n",
       "      <td>-52.472297</td>\n",
       "      <td>-36.891592</td>\n",
       "      <td>-0.886780</td>\n",
       "      <td>-52.472297</td>\n",
       "      <td>-40.789232</td>\n",
       "      <td>-36.891592</td>\n",
       "      <td>-0.886780</td>\n",
       "      <td>-52.472297</td>\n",
       "      <td>...</td>\n",
       "      <td>-52.472297</td>\n",
       "      <td>-11.568464</td>\n",
       "      <td>-36.891592</td>\n",
       "      <td>-0.883552</td>\n",
       "      <td>-52.472297</td>\n",
       "      <td>-11.025217</td>\n",
       "      <td>-36.891592</td>\n",
       "      <td>-0.883552</td>\n",
       "      <td>-52.472297</td>\n",
       "      <td>-10.576138</td>\n",
       "    </tr>\n",
       "    <tr>\n",
       "      <th>25%</th>\n",
       "      <td>-0.416279</td>\n",
       "      <td>-0.628750</td>\n",
       "      <td>-0.296046</td>\n",
       "      <td>-0.416311</td>\n",
       "      <td>-0.628698</td>\n",
       "      <td>-0.296154</td>\n",
       "      <td>-0.416409</td>\n",
       "      <td>-0.416434</td>\n",
       "      <td>-0.628641</td>\n",
       "      <td>-0.296178</td>\n",
       "      <td>...</td>\n",
       "      <td>-0.279305</td>\n",
       "      <td>-0.541445</td>\n",
       "      <td>-0.406763</td>\n",
       "      <td>-0.633137</td>\n",
       "      <td>-0.273774</td>\n",
       "      <td>-0.548299</td>\n",
       "      <td>-0.404288</td>\n",
       "      <td>-0.634699</td>\n",
       "      <td>-0.268112</td>\n",
       "      <td>-0.553305</td>\n",
       "    </tr>\n",
       "    <tr>\n",
       "      <th>50%</th>\n",
       "      <td>-0.003977</td>\n",
       "      <td>-0.287537</td>\n",
       "      <td>0.280165</td>\n",
       "      <td>-0.003977</td>\n",
       "      <td>-0.287462</td>\n",
       "      <td>0.280081</td>\n",
       "      <td>-0.001038</td>\n",
       "      <td>-0.003980</td>\n",
       "      <td>-0.287373</td>\n",
       "      <td>0.279997</td>\n",
       "      <td>...</td>\n",
       "      <td>0.290112</td>\n",
       "      <td>-0.013298</td>\n",
       "      <td>-0.003980</td>\n",
       "      <td>-0.301454</td>\n",
       "      <td>0.293459</td>\n",
       "      <td>-0.016360</td>\n",
       "      <td>-0.003967</td>\n",
       "      <td>-0.305693</td>\n",
       "      <td>0.296893</td>\n",
       "      <td>-0.012193</td>\n",
       "    </tr>\n",
       "    <tr>\n",
       "      <th>75%</th>\n",
       "      <td>0.416448</td>\n",
       "      <td>0.303166</td>\n",
       "      <td>0.621840</td>\n",
       "      <td>0.416480</td>\n",
       "      <td>0.303187</td>\n",
       "      <td>0.621727</td>\n",
       "      <td>0.416107</td>\n",
       "      <td>0.416509</td>\n",
       "      <td>0.303207</td>\n",
       "      <td>0.621647</td>\n",
       "      <td>...</td>\n",
       "      <td>0.625236</td>\n",
       "      <td>0.530590</td>\n",
       "      <td>0.407517</td>\n",
       "      <td>0.280152</td>\n",
       "      <td>0.626537</td>\n",
       "      <td>0.537193</td>\n",
       "      <td>0.404810</td>\n",
       "      <td>0.273610</td>\n",
       "      <td>0.627917</td>\n",
       "      <td>0.544844</td>\n",
       "    </tr>\n",
       "    <tr>\n",
       "      <th>max</th>\n",
       "      <td>42.420719</td>\n",
       "      <td>48.819422</td>\n",
       "      <td>0.866133</td>\n",
       "      <td>42.420719</td>\n",
       "      <td>48.819422</td>\n",
       "      <td>0.866133</td>\n",
       "      <td>51.144149</td>\n",
       "      <td>42.420719</td>\n",
       "      <td>48.819422</td>\n",
       "      <td>0.866133</td>\n",
       "      <td>...</td>\n",
       "      <td>0.866133</td>\n",
       "      <td>6.797205</td>\n",
       "      <td>42.420719</td>\n",
       "      <td>48.819422</td>\n",
       "      <td>0.866133</td>\n",
       "      <td>6.636036</td>\n",
       "      <td>42.420719</td>\n",
       "      <td>48.819422</td>\n",
       "      <td>0.866133</td>\n",
       "      <td>6.347357</td>\n",
       "    </tr>\n",
       "  </tbody>\n",
       "</table>\n",
       "<p>8 rows × 99 columns</p>\n",
       "</div>"
      ],
      "text/plain": [
       "              open-0         high-0          low-0         open-1  \\\n",
       "count  343652.000000  343652.000000  343652.000000  343652.000000   \n",
       "mean        0.000399       0.011358      -0.010195       0.000398   \n",
       "std         1.008308       1.004710       1.000925       1.008347   \n",
       "min       -36.891592      -0.886780     -52.472297     -36.891592   \n",
       "25%        -0.416279      -0.628750      -0.296046      -0.416311   \n",
       "50%        -0.003977      -0.287537       0.280165      -0.003977   \n",
       "75%         0.416448       0.303166       0.621840       0.416480   \n",
       "max        42.420719      48.819422       0.866133      42.420719   \n",
       "\n",
       "              high-1          low-1        close-1         open-2  \\\n",
       "count  343652.000000  343652.000000  343652.000000  343652.000000   \n",
       "mean        0.011416      -0.010254       0.000315       0.000391   \n",
       "std         1.004728       1.000918       1.006027       1.008364   \n",
       "min        -0.886780     -52.472297     -40.789232     -36.891592   \n",
       "25%        -0.628698      -0.296154      -0.416409      -0.416434   \n",
       "50%        -0.287462       0.280081      -0.001038      -0.003980   \n",
       "75%         0.303187       0.621727       0.416107       0.416509   \n",
       "max        48.819422       0.866133      51.144149      42.420719   \n",
       "\n",
       "              high-2          low-2      ...              low-328  \\\n",
       "count  343652.000000  343652.000000      ...        343652.000000   \n",
       "mean        0.011468      -0.010307      ...            -0.000683   \n",
       "std         1.004719       1.000898      ...             0.995091   \n",
       "min        -0.886780     -52.472297      ...           -52.472297   \n",
       "25%        -0.628641      -0.296178      ...            -0.279305   \n",
       "50%        -0.287373       0.279997      ...             0.290112   \n",
       "75%         0.303207       0.621647      ...             0.625236   \n",
       "max        48.819422       0.866133      ...             0.866133   \n",
       "\n",
       "           close-328       open-365       high-365        low-365  \\\n",
       "count  343652.000000  343652.000000  343652.000000  343652.000000   \n",
       "mean       -0.000037      -0.000232      -0.002583       0.002729   \n",
       "std         1.011594       0.997570       0.997073       0.993832   \n",
       "min       -11.568464     -36.891592      -0.883552     -52.472297   \n",
       "25%        -0.541445      -0.406763      -0.633137      -0.273774   \n",
       "50%        -0.013298      -0.003980      -0.301454       0.293459   \n",
       "75%         0.530590       0.407517       0.280152       0.626537   \n",
       "max         6.797205      42.420719      48.819422       0.866133   \n",
       "\n",
       "           close-365       open-404       high-404        low-404  \\\n",
       "count  343652.000000  343652.000000  343652.000000  343652.000000   \n",
       "mean       -0.001075      -0.000385      -0.007237       0.007205   \n",
       "std         1.011717       0.993216       0.994268       0.990081   \n",
       "min       -11.025217     -36.891592      -0.883552     -52.472297   \n",
       "25%        -0.548299      -0.404288      -0.634699      -0.268112   \n",
       "50%        -0.016360      -0.003967      -0.305693       0.296893   \n",
       "75%         0.537193       0.404810       0.273610       0.627917   \n",
       "max         6.636036      42.420719      48.819422       0.866133   \n",
       "\n",
       "           close-404  \n",
       "count  343652.000000  \n",
       "mean       -0.002133  \n",
       "std         1.011687  \n",
       "min       -10.576138  \n",
       "25%        -0.553305  \n",
       "50%        -0.012193  \n",
       "75%         0.544844  \n",
       "max         6.347357  \n",
       "\n",
       "[8 rows x 99 columns]"
      ]
     },
     "execution_count": 37,
     "metadata": {},
     "output_type": "execute_result"
    }
   ],
   "source": [
    "X_test.describe()"
   ]
  },
  {
   "cell_type": "code",
   "execution_count": 38,
   "metadata": {
    "collapsed": false
   },
   "outputs": [
    {
     "data": {
      "text/html": [
       "<div>\n",
       "<table border=\"1\" class=\"dataframe\">\n",
       "  <thead>\n",
       "    <tr style=\"text-align: right;\">\n",
       "      <th></th>\n",
       "      <th>open-0</th>\n",
       "      <th>high-0</th>\n",
       "      <th>low-0</th>\n",
       "      <th>open-1</th>\n",
       "      <th>high-1</th>\n",
       "      <th>low-1</th>\n",
       "      <th>close-1</th>\n",
       "      <th>open-2</th>\n",
       "      <th>high-2</th>\n",
       "      <th>low-2</th>\n",
       "      <th>...</th>\n",
       "      <th>low-328</th>\n",
       "      <th>close-328</th>\n",
       "      <th>open-365</th>\n",
       "      <th>high-365</th>\n",
       "      <th>low-365</th>\n",
       "      <th>close-365</th>\n",
       "      <th>open-404</th>\n",
       "      <th>high-404</th>\n",
       "      <th>low-404</th>\n",
       "      <th>close-404</th>\n",
       "    </tr>\n",
       "  </thead>\n",
       "  <tbody>\n",
       "    <tr>\n",
       "      <th>count</th>\n",
       "      <td>291518.000000</td>\n",
       "      <td>291518.000000</td>\n",
       "      <td>291518.000000</td>\n",
       "      <td>291518.000000</td>\n",
       "      <td>291518.000000</td>\n",
       "      <td>291518.000000</td>\n",
       "      <td>291518.000000</td>\n",
       "      <td>291518.000000</td>\n",
       "      <td>291518.000000</td>\n",
       "      <td>291518.000000</td>\n",
       "      <td>...</td>\n",
       "      <td>291518.000000</td>\n",
       "      <td>291518.000000</td>\n",
       "      <td>291518.000000</td>\n",
       "      <td>291518.000000</td>\n",
       "      <td>291518.000000</td>\n",
       "      <td>291518.000000</td>\n",
       "      <td>291518.000000</td>\n",
       "      <td>291518.000000</td>\n",
       "      <td>291518.000000</td>\n",
       "      <td>291518.000000</td>\n",
       "    </tr>\n",
       "    <tr>\n",
       "      <th>mean</th>\n",
       "      <td>0.000225</td>\n",
       "      <td>0.000023</td>\n",
       "      <td>0.000361</td>\n",
       "      <td>0.000232</td>\n",
       "      <td>0.000029</td>\n",
       "      <td>0.000365</td>\n",
       "      <td>0.000384</td>\n",
       "      <td>0.000237</td>\n",
       "      <td>0.000034</td>\n",
       "      <td>0.000374</td>\n",
       "      <td>...</td>\n",
       "      <td>0.000333</td>\n",
       "      <td>0.007396</td>\n",
       "      <td>0.000198</td>\n",
       "      <td>0.000010</td>\n",
       "      <td>0.000315</td>\n",
       "      <td>0.007999</td>\n",
       "      <td>0.000177</td>\n",
       "      <td>-0.000007</td>\n",
       "      <td>0.000276</td>\n",
       "      <td>0.008605</td>\n",
       "    </tr>\n",
       "    <tr>\n",
       "      <th>std</th>\n",
       "      <td>0.999720</td>\n",
       "      <td>0.999670</td>\n",
       "      <td>0.999458</td>\n",
       "      <td>0.999721</td>\n",
       "      <td>0.999669</td>\n",
       "      <td>0.999459</td>\n",
       "      <td>0.999744</td>\n",
       "      <td>0.999720</td>\n",
       "      <td>0.999668</td>\n",
       "      <td>0.999457</td>\n",
       "      <td>...</td>\n",
       "      <td>0.999486</td>\n",
       "      <td>1.011988</td>\n",
       "      <td>0.999645</td>\n",
       "      <td>0.999634</td>\n",
       "      <td>0.999472</td>\n",
       "      <td>1.013692</td>\n",
       "      <td>0.999659</td>\n",
       "      <td>0.999635</td>\n",
       "      <td>0.999489</td>\n",
       "      <td>1.015745</td>\n",
       "    </tr>\n",
       "    <tr>\n",
       "      <th>min</th>\n",
       "      <td>-4.703040</td>\n",
       "      <td>-0.991467</td>\n",
       "      <td>-6.899866</td>\n",
       "      <td>-4.703040</td>\n",
       "      <td>-0.991467</td>\n",
       "      <td>-6.899866</td>\n",
       "      <td>-4.846526</td>\n",
       "      <td>-4.703040</td>\n",
       "      <td>-0.991467</td>\n",
       "      <td>-6.899866</td>\n",
       "      <td>...</td>\n",
       "      <td>-6.899866</td>\n",
       "      <td>-3.839197</td>\n",
       "      <td>-4.703040</td>\n",
       "      <td>-0.991467</td>\n",
       "      <td>-6.899866</td>\n",
       "      <td>-3.866195</td>\n",
       "      <td>-4.703040</td>\n",
       "      <td>-0.991467</td>\n",
       "      <td>-6.899866</td>\n",
       "      <td>-3.858923</td>\n",
       "    </tr>\n",
       "    <tr>\n",
       "      <th>25%</th>\n",
       "      <td>-0.673469</td>\n",
       "      <td>-0.944929</td>\n",
       "      <td>-0.575095</td>\n",
       "      <td>-0.673460</td>\n",
       "      <td>-0.944929</td>\n",
       "      <td>-0.575095</td>\n",
       "      <td>-0.672893</td>\n",
       "      <td>-0.673452</td>\n",
       "      <td>-0.944928</td>\n",
       "      <td>-0.575079</td>\n",
       "      <td>...</td>\n",
       "      <td>-0.575166</td>\n",
       "      <td>-0.703055</td>\n",
       "      <td>-0.673452</td>\n",
       "      <td>-0.944929</td>\n",
       "      <td>-0.575197</td>\n",
       "      <td>-0.705032</td>\n",
       "      <td>-0.673501</td>\n",
       "      <td>-0.944928</td>\n",
       "      <td>-0.575248</td>\n",
       "      <td>-0.710452</td>\n",
       "    </tr>\n",
       "    <tr>\n",
       "      <th>50%</th>\n",
       "      <td>0.003012</td>\n",
       "      <td>-0.252873</td>\n",
       "      <td>0.250115</td>\n",
       "      <td>0.003016</td>\n",
       "      <td>-0.252852</td>\n",
       "      <td>0.250126</td>\n",
       "      <td>0.001828</td>\n",
       "      <td>0.003025</td>\n",
       "      <td>-0.252844</td>\n",
       "      <td>0.250126</td>\n",
       "      <td>...</td>\n",
       "      <td>0.250115</td>\n",
       "      <td>0.020250</td>\n",
       "      <td>0.002928</td>\n",
       "      <td>-0.252844</td>\n",
       "      <td>0.250082</td>\n",
       "      <td>0.019212</td>\n",
       "      <td>0.002854</td>\n",
       "      <td>-0.252927</td>\n",
       "      <td>0.250055</td>\n",
       "      <td>0.026723</td>\n",
       "    </tr>\n",
       "    <tr>\n",
       "      <th>75%</th>\n",
       "      <td>0.672481</td>\n",
       "      <td>0.573697</td>\n",
       "      <td>0.947536</td>\n",
       "      <td>0.672494</td>\n",
       "      <td>0.573706</td>\n",
       "      <td>0.947536</td>\n",
       "      <td>0.673271</td>\n",
       "      <td>0.672501</td>\n",
       "      <td>0.573706</td>\n",
       "      <td>0.947538</td>\n",
       "      <td>...</td>\n",
       "      <td>0.947501</td>\n",
       "      <td>0.709026</td>\n",
       "      <td>0.672452</td>\n",
       "      <td>0.573671</td>\n",
       "      <td>0.947481</td>\n",
       "      <td>0.700404</td>\n",
       "      <td>0.672365</td>\n",
       "      <td>0.573596</td>\n",
       "      <td>0.947450</td>\n",
       "      <td>0.695327</td>\n",
       "    </tr>\n",
       "    <tr>\n",
       "      <th>max</th>\n",
       "      <td>4.435874</td>\n",
       "      <td>6.505442</td>\n",
       "      <td>0.994154</td>\n",
       "      <td>4.435874</td>\n",
       "      <td>6.505442</td>\n",
       "      <td>0.994154</td>\n",
       "      <td>4.584615</td>\n",
       "      <td>4.435874</td>\n",
       "      <td>6.505442</td>\n",
       "      <td>0.994154</td>\n",
       "      <td>...</td>\n",
       "      <td>0.994154</td>\n",
       "      <td>3.598919</td>\n",
       "      <td>4.435874</td>\n",
       "      <td>6.505442</td>\n",
       "      <td>0.994154</td>\n",
       "      <td>3.634057</td>\n",
       "      <td>4.435874</td>\n",
       "      <td>6.505442</td>\n",
       "      <td>0.994154</td>\n",
       "      <td>3.895015</td>\n",
       "    </tr>\n",
       "  </tbody>\n",
       "</table>\n",
       "<p>8 rows × 99 columns</p>\n",
       "</div>"
      ],
      "text/plain": [
       "              open-0         high-0          low-0         open-1  \\\n",
       "count  291518.000000  291518.000000  291518.000000  291518.000000   \n",
       "mean        0.000225       0.000023       0.000361       0.000232   \n",
       "std         0.999720       0.999670       0.999458       0.999721   \n",
       "min        -4.703040      -0.991467      -6.899866      -4.703040   \n",
       "25%        -0.673469      -0.944929      -0.575095      -0.673460   \n",
       "50%         0.003012      -0.252873       0.250115       0.003016   \n",
       "75%         0.672481       0.573697       0.947536       0.672494   \n",
       "max         4.435874       6.505442       0.994154       4.435874   \n",
       "\n",
       "              high-1          low-1        close-1         open-2  \\\n",
       "count  291518.000000  291518.000000  291518.000000  291518.000000   \n",
       "mean        0.000029       0.000365       0.000384       0.000237   \n",
       "std         0.999669       0.999459       0.999744       0.999720   \n",
       "min        -0.991467      -6.899866      -4.846526      -4.703040   \n",
       "25%        -0.944929      -0.575095      -0.672893      -0.673452   \n",
       "50%        -0.252852       0.250126       0.001828       0.003025   \n",
       "75%         0.573706       0.947536       0.673271       0.672501   \n",
       "max         6.505442       0.994154       4.584615       4.435874   \n",
       "\n",
       "              high-2          low-2      ...              low-328  \\\n",
       "count  291518.000000  291518.000000      ...        291518.000000   \n",
       "mean        0.000034       0.000374      ...             0.000333   \n",
       "std         0.999668       0.999457      ...             0.999486   \n",
       "min        -0.991467      -6.899866      ...            -6.899866   \n",
       "25%        -0.944928      -0.575079      ...            -0.575166   \n",
       "50%        -0.252844       0.250126      ...             0.250115   \n",
       "75%         0.573706       0.947538      ...             0.947501   \n",
       "max         6.505442       0.994154      ...             0.994154   \n",
       "\n",
       "           close-328       open-365       high-365        low-365  \\\n",
       "count  291518.000000  291518.000000  291518.000000  291518.000000   \n",
       "mean        0.007396       0.000198       0.000010       0.000315   \n",
       "std         1.011988       0.999645       0.999634       0.999472   \n",
       "min        -3.839197      -4.703040      -0.991467      -6.899866   \n",
       "25%        -0.703055      -0.673452      -0.944929      -0.575197   \n",
       "50%         0.020250       0.002928      -0.252844       0.250082   \n",
       "75%         0.709026       0.672452       0.573671       0.947481   \n",
       "max         3.598919       4.435874       6.505442       0.994154   \n",
       "\n",
       "           close-365       open-404       high-404        low-404  \\\n",
       "count  291518.000000  291518.000000  291518.000000  291518.000000   \n",
       "mean        0.007999       0.000177      -0.000007       0.000276   \n",
       "std         1.013692       0.999659       0.999635       0.999489   \n",
       "min        -3.866195      -4.703040      -0.991467      -6.899866   \n",
       "25%        -0.705032      -0.673501      -0.944928      -0.575248   \n",
       "50%         0.019212       0.002854      -0.252927       0.250055   \n",
       "75%         0.700404       0.672365       0.573596       0.947450   \n",
       "max         3.634057       4.435874       6.505442       0.994154   \n",
       "\n",
       "           close-404  \n",
       "count  291518.000000  \n",
       "mean        0.008605  \n",
       "std         1.015745  \n",
       "min        -3.858923  \n",
       "25%        -0.710452  \n",
       "50%         0.026723  \n",
       "75%         0.695327  \n",
       "max         3.895015  \n",
       "\n",
       "[8 rows x 99 columns]"
      ]
     },
     "execution_count": 38,
     "metadata": {},
     "output_type": "execute_result"
    }
   ],
   "source": [
    "X_control.describe()"
   ]
  },
  {
   "cell_type": "code",
   "execution_count": 39,
   "metadata": {
    "collapsed": false
   },
   "outputs": [
    {
     "name": "stdout",
     "output_type": "stream",
     "text": [
      "control: f1-score: 0.500, mean future return: -0.000 bps, annualized future return -0.010\n"
     ]
    },
    {
     "data": {
      "image/png": "[encoded data removed]",
      "text/plain": [
       "<matplotlib.figure.Figure at 0x14433cd10>"
      ]
     },
     "metadata": {},
     "output_type": "display_data"
    },
    {
     "data": {
      "image/png": "[encoded data removed]",
      "text/plain": [
       "<matplotlib.figure.Figure at 0x144255e90>"
      ]
     },
     "metadata": {},
     "output_type": "display_data"
    },
    {
     "name": "stdout",
     "output_type": "stream",
     "text": [
      "[[71131 74816]\n",
      " [70935 74636]]\n"
     ]
    },
    {
     "data": {
      "image/png": "[encoded data removed]",
      "text/plain": [
       "<matplotlib.figure.Figure at 0x1445c4e50>"
      ]
     },
     "metadata": {},
     "output_type": "display_data"
    }
   ],
   "source": [
    "Y_control_pred = model.predict(X_control.as_matrix(), batch_size=1024)\n",
    "Y_control_pred_class = utils.prediction_to_category2(Y_control_pred)\n",
    "metrics.performance_report(\"control\",  prices_control,  lookahead, Y_control, Y_control_pred_class, cum_return_plot=True, heatmap=True, histogram=True)"
   ]
  },
  {
   "cell_type": "code",
   "execution_count": null,
   "metadata": {
    "collapsed": false
   },
   "outputs": [],
   "source": [
    "(fut_return_control.ix[~Y_control_pred_class[:,0]]+1).mean() - fut_return_control.mean() - 1"
   ]
  },
  {
   "cell_type": "code",
   "execution_count": null,
   "metadata": {
    "collapsed": true
   },
   "outputs": [],
   "source": []
  }
 ],
 "metadata": {
  "kernelspec": {
   "display_name": "Python 2",
   "language": "python",
   "name": "python2"
  },
  "language_info": {
   "codemirror_mode": {
    "name": "ipython",
    "version": 2
   },
   "file_extension": ".py",
   "mimetype": "text/x-python",
   "name": "python",
   "nbconvert_exporter": "python",
   "pygments_lexer": "ipython2",
   "version": "2.7.13"
  }
 },
 "nbformat": 4,
 "nbformat_minor": 1
}
