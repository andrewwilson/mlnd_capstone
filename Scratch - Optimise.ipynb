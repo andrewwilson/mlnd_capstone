{
 "cells": [
  {
   "cell_type": "code",
   "execution_count": 15,
   "metadata": {
    "collapsed": false
   },
   "outputs": [],
   "source": [
    "%matplotlib inline\n",
    "import numpy as np\n",
    "import pandas as pd\n",
    "import matplotlib.pyplot as plt"
   ]
  },
  {
   "cell_type": "code",
   "execution_count": 17,
   "metadata": {
    "collapsed": true
   },
   "outputs": [],
   "source": [
    "import datasets\n",
    "\n",
    "DS = './input/DS3-LA001-W025-EURUSD-20092014.h5'\n",
    "# DS = './input/DS2-LA001-W025-USDJPY-2009.h5'\n",
    "X,Y,prices = datasets.load(DS)\n"
   ]
  },
  {
   "cell_type": "code",
   "execution_count": 18,
   "metadata": {
    "collapsed": false
   },
   "outputs": [
    {
     "data": {
      "text/plain": [
       "2101596"
      ]
     },
     "execution_count": 18,
     "metadata": {},
     "output_type": "execute_result"
    }
   ],
   "source": [
    "len(X)"
   ]
  },
  {
   "cell_type": "code",
   "execution_count": 6,
   "metadata": {
    "collapsed": false
   },
   "outputs": [
    {
     "data": {
      "text/html": [
       "<div>\n",
       "<table border=\"1\" class=\"dataframe\">\n",
       "  <thead>\n",
       "    <tr style=\"text-align: right;\">\n",
       "      <th></th>\n",
       "      <th>open-0</th>\n",
       "      <th>high-0</th>\n",
       "      <th>low-0</th>\n",
       "      <th>open-1</th>\n",
       "      <th>high-1</th>\n",
       "      <th>low-1</th>\n",
       "      <th>close-1</th>\n",
       "      <th>open-2</th>\n",
       "      <th>high-2</th>\n",
       "      <th>low-2</th>\n",
       "      <th>...</th>\n",
       "      <th>low-328</th>\n",
       "      <th>close-328</th>\n",
       "      <th>open-365</th>\n",
       "      <th>high-365</th>\n",
       "      <th>low-365</th>\n",
       "      <th>close-365</th>\n",
       "      <th>open-404</th>\n",
       "      <th>high-404</th>\n",
       "      <th>low-404</th>\n",
       "      <th>close-404</th>\n",
       "    </tr>\n",
       "    <tr>\n",
       "      <th>ts</th>\n",
       "      <th></th>\n",
       "      <th></th>\n",
       "      <th></th>\n",
       "      <th></th>\n",
       "      <th></th>\n",
       "      <th></th>\n",
       "      <th></th>\n",
       "      <th></th>\n",
       "      <th></th>\n",
       "      <th></th>\n",
       "      <th></th>\n",
       "      <th></th>\n",
       "      <th></th>\n",
       "      <th></th>\n",
       "      <th></th>\n",
       "      <th></th>\n",
       "      <th></th>\n",
       "      <th></th>\n",
       "      <th></th>\n",
       "      <th></th>\n",
       "      <th></th>\n",
       "    </tr>\n",
       "  </thead>\n",
       "  <tbody>\n",
       "    <tr>\n",
       "      <th>2009-01-12 05:28:00</th>\n",
       "      <td>0.209684</td>\n",
       "      <td>-0.461560</td>\n",
       "      <td>0.753905</td>\n",
       "      <td>0.432939</td>\n",
       "      <td>0.161516</td>\n",
       "      <td>-0.166681</td>\n",
       "      <td>-0.015393</td>\n",
       "      <td>1.995248</td>\n",
       "      <td>2.030436</td>\n",
       "      <td>0.447045</td>\n",
       "      <td>...</td>\n",
       "      <td>0.734184</td>\n",
       "      <td>0.022155</td>\n",
       "      <td>-1.545542</td>\n",
       "      <td>-0.459361</td>\n",
       "      <td>-1.339469</td>\n",
       "      <td>-0.086295</td>\n",
       "      <td>0.204009</td>\n",
       "      <td>-0.460762</td>\n",
       "      <td>-0.151284</td>\n",
       "      <td>0.022381</td>\n",
       "    </tr>\n",
       "    <tr>\n",
       "      <th>2009-01-12 05:29:00</th>\n",
       "      <td>-0.683159</td>\n",
       "      <td>-0.773018</td>\n",
       "      <td>-0.166745</td>\n",
       "      <td>0.209684</td>\n",
       "      <td>-0.461560</td>\n",
       "      <td>0.753905</td>\n",
       "      <td>-0.447652</td>\n",
       "      <td>0.432939</td>\n",
       "      <td>0.161516</td>\n",
       "      <td>-0.166681</td>\n",
       "      <td>...</td>\n",
       "      <td>0.436941</td>\n",
       "      <td>-0.001264</td>\n",
       "      <td>0.860341</td>\n",
       "      <td>0.759238</td>\n",
       "      <td>0.732485</td>\n",
       "      <td>-0.140829</td>\n",
       "      <td>1.076105</td>\n",
       "      <td>0.755161</td>\n",
       "      <td>0.437213</td>\n",
       "      <td>-0.060125</td>\n",
       "    </tr>\n",
       "    <tr>\n",
       "      <th>2009-01-12 05:30:00</th>\n",
       "      <td>-0.236590</td>\n",
       "      <td>-0.461412</td>\n",
       "      <td>0.140272</td>\n",
       "      <td>-0.683159</td>\n",
       "      <td>-0.773018</td>\n",
       "      <td>-0.166745</td>\n",
       "      <td>-0.447525</td>\n",
       "      <td>0.209684</td>\n",
       "      <td>-0.461560</td>\n",
       "      <td>0.753905</td>\n",
       "      <td>...</td>\n",
       "      <td>0.734030</td>\n",
       "      <td>-0.036366</td>\n",
       "      <td>-0.452255</td>\n",
       "      <td>-0.764076</td>\n",
       "      <td>0.140259</td>\n",
       "      <td>-0.162639</td>\n",
       "      <td>-0.014272</td>\n",
       "      <td>-0.460829</td>\n",
       "      <td>0.142724</td>\n",
       "      <td>-0.070458</td>\n",
       "    </tr>\n",
       "    <tr>\n",
       "      <th>2009-01-12 05:31:00</th>\n",
       "      <td>-0.013333</td>\n",
       "      <td>-0.149763</td>\n",
       "      <td>0.447134</td>\n",
       "      <td>-0.236590</td>\n",
       "      <td>-0.461412</td>\n",
       "      <td>0.140272</td>\n",
       "      <td>0.201030</td>\n",
       "      <td>-0.683159</td>\n",
       "      <td>-0.773018</td>\n",
       "      <td>-0.166745</td>\n",
       "      <td>...</td>\n",
       "      <td>0.436695</td>\n",
       "      <td>-0.024655</td>\n",
       "      <td>-0.233438</td>\n",
       "      <td>-0.459274</td>\n",
       "      <td>0.140200</td>\n",
       "      <td>-0.162614</td>\n",
       "      <td>-0.886122</td>\n",
       "      <td>-0.764704</td>\n",
       "      <td>-0.740218</td>\n",
       "      <td>-0.008572</td>\n",
       "    </tr>\n",
       "    <tr>\n",
       "      <th>2009-01-12 05:32:00</th>\n",
       "      <td>-0.236616</td>\n",
       "      <td>-0.772932</td>\n",
       "      <td>0.447073</td>\n",
       "      <td>-0.013333</td>\n",
       "      <td>-0.149763</td>\n",
       "      <td>0.447134</td>\n",
       "      <td>-0.015207</td>\n",
       "      <td>-0.236590</td>\n",
       "      <td>-0.461412</td>\n",
       "      <td>0.140272</td>\n",
       "      <td>...</td>\n",
       "      <td>0.436571</td>\n",
       "      <td>-0.059732</td>\n",
       "      <td>0.204291</td>\n",
       "      <td>0.150414</td>\n",
       "      <td>0.436329</td>\n",
       "      <td>-0.184413</td>\n",
       "      <td>-0.449979</td>\n",
       "      <td>-0.460726</td>\n",
       "      <td>0.143190</td>\n",
       "      <td>0.001741</td>\n",
       "    </tr>\n",
       "  </tbody>\n",
       "</table>\n",
       "<p>5 rows × 99 columns</p>\n",
       "</div>"
      ],
      "text/plain": [
       "                       open-0    high-0     low-0    open-1    high-1  \\\n",
       "ts                                                                      \n",
       "2009-01-12 05:28:00  0.209684 -0.461560  0.753905  0.432939  0.161516   \n",
       "2009-01-12 05:29:00 -0.683159 -0.773018 -0.166745  0.209684 -0.461560   \n",
       "2009-01-12 05:30:00 -0.236590 -0.461412  0.140272 -0.683159 -0.773018   \n",
       "2009-01-12 05:31:00 -0.013333 -0.149763  0.447134 -0.236590 -0.461412   \n",
       "2009-01-12 05:32:00 -0.236616 -0.772932  0.447073 -0.013333 -0.149763   \n",
       "\n",
       "                        low-1   close-1    open-2    high-2     low-2  \\\n",
       "ts                                                                      \n",
       "2009-01-12 05:28:00 -0.166681 -0.015393  1.995248  2.030436  0.447045   \n",
       "2009-01-12 05:29:00  0.753905 -0.447652  0.432939  0.161516 -0.166681   \n",
       "2009-01-12 05:30:00 -0.166745 -0.447525  0.209684 -0.461560  0.753905   \n",
       "2009-01-12 05:31:00  0.140272  0.201030 -0.683159 -0.773018 -0.166745   \n",
       "2009-01-12 05:32:00  0.447134 -0.015207 -0.236590 -0.461412  0.140272   \n",
       "\n",
       "                       ...       low-328  close-328  open-365  high-365  \\\n",
       "ts                     ...                                                \n",
       "2009-01-12 05:28:00    ...      0.734184   0.022155 -1.545542 -0.459361   \n",
       "2009-01-12 05:29:00    ...      0.436941  -0.001264  0.860341  0.759238   \n",
       "2009-01-12 05:30:00    ...      0.734030  -0.036366 -0.452255 -0.764076   \n",
       "2009-01-12 05:31:00    ...      0.436695  -0.024655 -0.233438 -0.459274   \n",
       "2009-01-12 05:32:00    ...      0.436571  -0.059732  0.204291  0.150414   \n",
       "\n",
       "                      low-365  close-365  open-404  high-404   low-404  \\\n",
       "ts                                                                       \n",
       "2009-01-12 05:28:00 -1.339469  -0.086295  0.204009 -0.460762 -0.151284   \n",
       "2009-01-12 05:29:00  0.732485  -0.140829  1.076105  0.755161  0.437213   \n",
       "2009-01-12 05:30:00  0.140259  -0.162639 -0.014272 -0.460829  0.142724   \n",
       "2009-01-12 05:31:00  0.140200  -0.162614 -0.886122 -0.764704 -0.740218   \n",
       "2009-01-12 05:32:00  0.436329  -0.184413 -0.449979 -0.460726  0.143190   \n",
       "\n",
       "                     close-404  \n",
       "ts                              \n",
       "2009-01-12 05:28:00   0.022381  \n",
       "2009-01-12 05:29:00  -0.060125  \n",
       "2009-01-12 05:30:00  -0.070458  \n",
       "2009-01-12 05:31:00  -0.008572  \n",
       "2009-01-12 05:32:00   0.001741  \n",
       "\n",
       "[5 rows x 99 columns]"
      ]
     },
     "execution_count": 6,
     "metadata": {},
     "output_type": "execute_result"
    }
   ],
   "source": [
    "X.head()"
   ]
  },
  {
   "cell_type": "code",
   "execution_count": 7,
   "metadata": {
    "collapsed": true
   },
   "outputs": [],
   "source": [
    "import pandas as pd\n",
    "import numpy as np\n",
    "import datetime as dt\n",
    "import datasets, utils"
   ]
  },
  {
   "cell_type": "code",
   "execution_count": 8,
   "metadata": {
    "collapsed": true
   },
   "outputs": [],
   "source": [
    "df = utils.load_1minute_fx_bars(\"EURSEK\", 2009)\n",
    "#df = random_ohlc(200000)"
   ]
  },
  {
   "cell_type": "code",
   "execution_count": 9,
   "metadata": {
    "collapsed": false
   },
   "outputs": [
    {
     "data": {
      "text/html": [
       "<div>\n",
       "<table border=\"1\" class=\"dataframe\">\n",
       "  <thead>\n",
       "    <tr style=\"text-align: right;\">\n",
       "      <th></th>\n",
       "      <th>open</th>\n",
       "      <th>high</th>\n",
       "      <th>low</th>\n",
       "      <th>close</th>\n",
       "    </tr>\n",
       "    <tr>\n",
       "      <th>ts</th>\n",
       "      <th></th>\n",
       "      <th></th>\n",
       "      <th></th>\n",
       "      <th></th>\n",
       "    </tr>\n",
       "  </thead>\n",
       "  <tbody>\n",
       "    <tr>\n",
       "      <th>2009-01-01 18:59:00</th>\n",
       "      <td>10.9230</td>\n",
       "      <td>10.9230</td>\n",
       "      <td>10.9230</td>\n",
       "      <td>10.9230</td>\n",
       "    </tr>\n",
       "    <tr>\n",
       "      <th>2009-01-01 19:28:00</th>\n",
       "      <td>10.8973</td>\n",
       "      <td>10.8973</td>\n",
       "      <td>10.8973</td>\n",
       "      <td>10.8973</td>\n",
       "    </tr>\n",
       "    <tr>\n",
       "      <th>2009-01-01 19:33:00</th>\n",
       "      <td>10.8975</td>\n",
       "      <td>10.8975</td>\n",
       "      <td>10.8975</td>\n",
       "      <td>10.8975</td>\n",
       "    </tr>\n",
       "    <tr>\n",
       "      <th>2009-01-01 19:42:00</th>\n",
       "      <td>10.9164</td>\n",
       "      <td>10.9164</td>\n",
       "      <td>10.9164</td>\n",
       "      <td>10.9164</td>\n",
       "    </tr>\n",
       "    <tr>\n",
       "      <th>2009-01-01 20:32:00</th>\n",
       "      <td>10.9168</td>\n",
       "      <td>10.9168</td>\n",
       "      <td>10.9164</td>\n",
       "      <td>10.9164</td>\n",
       "    </tr>\n",
       "    <tr>\n",
       "      <th>2009-01-01 21:17:00</th>\n",
       "      <td>10.9154</td>\n",
       "      <td>10.9154</td>\n",
       "      <td>10.9154</td>\n",
       "      <td>10.9154</td>\n",
       "    </tr>\n",
       "    <tr>\n",
       "      <th>2009-01-01 21:42:00</th>\n",
       "      <td>10.9209</td>\n",
       "      <td>10.9209</td>\n",
       "      <td>10.9209</td>\n",
       "      <td>10.9209</td>\n",
       "    </tr>\n",
       "    <tr>\n",
       "      <th>2009-01-01 21:43:00</th>\n",
       "      <td>10.9189</td>\n",
       "      <td>10.9189</td>\n",
       "      <td>10.9189</td>\n",
       "      <td>10.9189</td>\n",
       "    </tr>\n",
       "    <tr>\n",
       "      <th>2009-01-01 21:46:00</th>\n",
       "      <td>10.9164</td>\n",
       "      <td>10.9164</td>\n",
       "      <td>10.9164</td>\n",
       "      <td>10.9164</td>\n",
       "    </tr>\n",
       "    <tr>\n",
       "      <th>2009-01-01 22:04:00</th>\n",
       "      <td>10.9166</td>\n",
       "      <td>10.9166</td>\n",
       "      <td>10.9164</td>\n",
       "      <td>10.9164</td>\n",
       "    </tr>\n",
       "  </tbody>\n",
       "</table>\n",
       "</div>"
      ],
      "text/plain": [
       "                        open     high      low    close\n",
       "ts                                                     \n",
       "2009-01-01 18:59:00  10.9230  10.9230  10.9230  10.9230\n",
       "2009-01-01 19:28:00  10.8973  10.8973  10.8973  10.8973\n",
       "2009-01-01 19:33:00  10.8975  10.8975  10.8975  10.8975\n",
       "2009-01-01 19:42:00  10.9164  10.9164  10.9164  10.9164\n",
       "2009-01-01 20:32:00  10.9168  10.9168  10.9164  10.9164\n",
       "2009-01-01 21:17:00  10.9154  10.9154  10.9154  10.9154\n",
       "2009-01-01 21:42:00  10.9209  10.9209  10.9209  10.9209\n",
       "2009-01-01 21:43:00  10.9189  10.9189  10.9189  10.9189\n",
       "2009-01-01 21:46:00  10.9164  10.9164  10.9164  10.9164\n",
       "2009-01-01 22:04:00  10.9166  10.9166  10.9164  10.9164"
      ]
     },
     "execution_count": 9,
     "metadata": {},
     "output_type": "execute_result"
    }
   ],
   "source": [
    "df.head(10)"
   ]
  },
  {
   "cell_type": "code",
   "execution_count": 36,
   "metadata": {
    "collapsed": false
   },
   "outputs": [
    {
     "data": {
      "text/html": [
       "<div>\n",
       "<table border=\"1\" class=\"dataframe\">\n",
       "  <thead>\n",
       "    <tr style=\"text-align: right;\">\n",
       "      <th></th>\n",
       "      <th>open</th>\n",
       "      <th>high</th>\n",
       "      <th>low</th>\n",
       "      <th>close</th>\n",
       "    </tr>\n",
       "    <tr>\n",
       "      <th>ts</th>\n",
       "      <th></th>\n",
       "      <th></th>\n",
       "      <th></th>\n",
       "      <th></th>\n",
       "    </tr>\n",
       "  </thead>\n",
       "  <tbody>\n",
       "    <tr>\n",
       "      <th>2009-01-01 18:59:00</th>\n",
       "      <td>10.9230</td>\n",
       "      <td>10.9230</td>\n",
       "      <td>10.9230</td>\n",
       "      <td>10.9230</td>\n",
       "    </tr>\n",
       "    <tr>\n",
       "      <th>2009-01-01 19:00:00</th>\n",
       "      <td>10.9230</td>\n",
       "      <td>10.9230</td>\n",
       "      <td>10.9230</td>\n",
       "      <td>10.9230</td>\n",
       "    </tr>\n",
       "    <tr>\n",
       "      <th>2009-01-01 19:01:00</th>\n",
       "      <td>10.9230</td>\n",
       "      <td>10.9230</td>\n",
       "      <td>10.9230</td>\n",
       "      <td>10.9230</td>\n",
       "    </tr>\n",
       "    <tr>\n",
       "      <th>2009-01-01 19:02:00</th>\n",
       "      <td>NaN</td>\n",
       "      <td>NaN</td>\n",
       "      <td>NaN</td>\n",
       "      <td>NaN</td>\n",
       "    </tr>\n",
       "    <tr>\n",
       "      <th>2009-01-01 19:03:00</th>\n",
       "      <td>NaN</td>\n",
       "      <td>NaN</td>\n",
       "      <td>NaN</td>\n",
       "      <td>NaN</td>\n",
       "    </tr>\n",
       "    <tr>\n",
       "      <th>2009-01-01 19:04:00</th>\n",
       "      <td>NaN</td>\n",
       "      <td>NaN</td>\n",
       "      <td>NaN</td>\n",
       "      <td>NaN</td>\n",
       "    </tr>\n",
       "    <tr>\n",
       "      <th>2009-01-01 19:05:00</th>\n",
       "      <td>NaN</td>\n",
       "      <td>NaN</td>\n",
       "      <td>NaN</td>\n",
       "      <td>NaN</td>\n",
       "    </tr>\n",
       "    <tr>\n",
       "      <th>2009-01-01 19:06:00</th>\n",
       "      <td>NaN</td>\n",
       "      <td>NaN</td>\n",
       "      <td>NaN</td>\n",
       "      <td>NaN</td>\n",
       "    </tr>\n",
       "    <tr>\n",
       "      <th>2009-01-01 19:07:00</th>\n",
       "      <td>NaN</td>\n",
       "      <td>NaN</td>\n",
       "      <td>NaN</td>\n",
       "      <td>NaN</td>\n",
       "    </tr>\n",
       "    <tr>\n",
       "      <th>2009-01-01 19:08:00</th>\n",
       "      <td>NaN</td>\n",
       "      <td>NaN</td>\n",
       "      <td>NaN</td>\n",
       "      <td>NaN</td>\n",
       "    </tr>\n",
       "    <tr>\n",
       "      <th>2009-01-01 19:09:00</th>\n",
       "      <td>NaN</td>\n",
       "      <td>NaN</td>\n",
       "      <td>NaN</td>\n",
       "      <td>NaN</td>\n",
       "    </tr>\n",
       "    <tr>\n",
       "      <th>2009-01-01 19:10:00</th>\n",
       "      <td>NaN</td>\n",
       "      <td>NaN</td>\n",
       "      <td>NaN</td>\n",
       "      <td>NaN</td>\n",
       "    </tr>\n",
       "    <tr>\n",
       "      <th>2009-01-01 19:11:00</th>\n",
       "      <td>NaN</td>\n",
       "      <td>NaN</td>\n",
       "      <td>NaN</td>\n",
       "      <td>NaN</td>\n",
       "    </tr>\n",
       "    <tr>\n",
       "      <th>2009-01-01 19:12:00</th>\n",
       "      <td>NaN</td>\n",
       "      <td>NaN</td>\n",
       "      <td>NaN</td>\n",
       "      <td>NaN</td>\n",
       "    </tr>\n",
       "    <tr>\n",
       "      <th>2009-01-01 19:13:00</th>\n",
       "      <td>NaN</td>\n",
       "      <td>NaN</td>\n",
       "      <td>NaN</td>\n",
       "      <td>NaN</td>\n",
       "    </tr>\n",
       "    <tr>\n",
       "      <th>2009-01-01 19:14:00</th>\n",
       "      <td>NaN</td>\n",
       "      <td>NaN</td>\n",
       "      <td>NaN</td>\n",
       "      <td>NaN</td>\n",
       "    </tr>\n",
       "    <tr>\n",
       "      <th>2009-01-01 19:15:00</th>\n",
       "      <td>NaN</td>\n",
       "      <td>NaN</td>\n",
       "      <td>NaN</td>\n",
       "      <td>NaN</td>\n",
       "    </tr>\n",
       "    <tr>\n",
       "      <th>2009-01-01 19:16:00</th>\n",
       "      <td>NaN</td>\n",
       "      <td>NaN</td>\n",
       "      <td>NaN</td>\n",
       "      <td>NaN</td>\n",
       "    </tr>\n",
       "    <tr>\n",
       "      <th>2009-01-01 19:17:00</th>\n",
       "      <td>NaN</td>\n",
       "      <td>NaN</td>\n",
       "      <td>NaN</td>\n",
       "      <td>NaN</td>\n",
       "    </tr>\n",
       "    <tr>\n",
       "      <th>2009-01-01 19:18:00</th>\n",
       "      <td>NaN</td>\n",
       "      <td>NaN</td>\n",
       "      <td>NaN</td>\n",
       "      <td>NaN</td>\n",
       "    </tr>\n",
       "    <tr>\n",
       "      <th>2009-01-01 19:19:00</th>\n",
       "      <td>NaN</td>\n",
       "      <td>NaN</td>\n",
       "      <td>NaN</td>\n",
       "      <td>NaN</td>\n",
       "    </tr>\n",
       "    <tr>\n",
       "      <th>2009-01-01 19:20:00</th>\n",
       "      <td>NaN</td>\n",
       "      <td>NaN</td>\n",
       "      <td>NaN</td>\n",
       "      <td>NaN</td>\n",
       "    </tr>\n",
       "    <tr>\n",
       "      <th>2009-01-01 19:21:00</th>\n",
       "      <td>NaN</td>\n",
       "      <td>NaN</td>\n",
       "      <td>NaN</td>\n",
       "      <td>NaN</td>\n",
       "    </tr>\n",
       "    <tr>\n",
       "      <th>2009-01-01 19:22:00</th>\n",
       "      <td>NaN</td>\n",
       "      <td>NaN</td>\n",
       "      <td>NaN</td>\n",
       "      <td>NaN</td>\n",
       "    </tr>\n",
       "    <tr>\n",
       "      <th>2009-01-01 19:23:00</th>\n",
       "      <td>NaN</td>\n",
       "      <td>NaN</td>\n",
       "      <td>NaN</td>\n",
       "      <td>NaN</td>\n",
       "    </tr>\n",
       "    <tr>\n",
       "      <th>2009-01-01 19:24:00</th>\n",
       "      <td>NaN</td>\n",
       "      <td>NaN</td>\n",
       "      <td>NaN</td>\n",
       "      <td>NaN</td>\n",
       "    </tr>\n",
       "    <tr>\n",
       "      <th>2009-01-01 19:25:00</th>\n",
       "      <td>NaN</td>\n",
       "      <td>NaN</td>\n",
       "      <td>NaN</td>\n",
       "      <td>NaN</td>\n",
       "    </tr>\n",
       "    <tr>\n",
       "      <th>2009-01-01 19:26:00</th>\n",
       "      <td>NaN</td>\n",
       "      <td>NaN</td>\n",
       "      <td>NaN</td>\n",
       "      <td>NaN</td>\n",
       "    </tr>\n",
       "    <tr>\n",
       "      <th>2009-01-01 19:27:00</th>\n",
       "      <td>NaN</td>\n",
       "      <td>NaN</td>\n",
       "      <td>NaN</td>\n",
       "      <td>NaN</td>\n",
       "    </tr>\n",
       "    <tr>\n",
       "      <th>2009-01-01 19:28:00</th>\n",
       "      <td>10.8973</td>\n",
       "      <td>10.8973</td>\n",
       "      <td>10.8973</td>\n",
       "      <td>10.8973</td>\n",
       "    </tr>\n",
       "    <tr>\n",
       "      <th>...</th>\n",
       "      <td>...</td>\n",
       "      <td>...</td>\n",
       "      <td>...</td>\n",
       "      <td>...</td>\n",
       "    </tr>\n",
       "    <tr>\n",
       "      <th>2009-01-01 21:49:00</th>\n",
       "      <td>NaN</td>\n",
       "      <td>NaN</td>\n",
       "      <td>NaN</td>\n",
       "      <td>NaN</td>\n",
       "    </tr>\n",
       "    <tr>\n",
       "      <th>2009-01-01 21:50:00</th>\n",
       "      <td>NaN</td>\n",
       "      <td>NaN</td>\n",
       "      <td>NaN</td>\n",
       "      <td>NaN</td>\n",
       "    </tr>\n",
       "    <tr>\n",
       "      <th>2009-01-01 21:51:00</th>\n",
       "      <td>NaN</td>\n",
       "      <td>NaN</td>\n",
       "      <td>NaN</td>\n",
       "      <td>NaN</td>\n",
       "    </tr>\n",
       "    <tr>\n",
       "      <th>2009-01-01 21:52:00</th>\n",
       "      <td>NaN</td>\n",
       "      <td>NaN</td>\n",
       "      <td>NaN</td>\n",
       "      <td>NaN</td>\n",
       "    </tr>\n",
       "    <tr>\n",
       "      <th>2009-01-01 21:53:00</th>\n",
       "      <td>NaN</td>\n",
       "      <td>NaN</td>\n",
       "      <td>NaN</td>\n",
       "      <td>NaN</td>\n",
       "    </tr>\n",
       "    <tr>\n",
       "      <th>2009-01-01 21:54:00</th>\n",
       "      <td>NaN</td>\n",
       "      <td>NaN</td>\n",
       "      <td>NaN</td>\n",
       "      <td>NaN</td>\n",
       "    </tr>\n",
       "    <tr>\n",
       "      <th>2009-01-01 21:55:00</th>\n",
       "      <td>NaN</td>\n",
       "      <td>NaN</td>\n",
       "      <td>NaN</td>\n",
       "      <td>NaN</td>\n",
       "    </tr>\n",
       "    <tr>\n",
       "      <th>2009-01-01 21:56:00</th>\n",
       "      <td>NaN</td>\n",
       "      <td>NaN</td>\n",
       "      <td>NaN</td>\n",
       "      <td>NaN</td>\n",
       "    </tr>\n",
       "    <tr>\n",
       "      <th>2009-01-01 21:57:00</th>\n",
       "      <td>NaN</td>\n",
       "      <td>NaN</td>\n",
       "      <td>NaN</td>\n",
       "      <td>NaN</td>\n",
       "    </tr>\n",
       "    <tr>\n",
       "      <th>2009-01-01 21:58:00</th>\n",
       "      <td>NaN</td>\n",
       "      <td>NaN</td>\n",
       "      <td>NaN</td>\n",
       "      <td>NaN</td>\n",
       "    </tr>\n",
       "    <tr>\n",
       "      <th>2009-01-01 21:59:00</th>\n",
       "      <td>NaN</td>\n",
       "      <td>NaN</td>\n",
       "      <td>NaN</td>\n",
       "      <td>NaN</td>\n",
       "    </tr>\n",
       "    <tr>\n",
       "      <th>2009-01-01 22:00:00</th>\n",
       "      <td>NaN</td>\n",
       "      <td>NaN</td>\n",
       "      <td>NaN</td>\n",
       "      <td>NaN</td>\n",
       "    </tr>\n",
       "    <tr>\n",
       "      <th>2009-01-01 22:01:00</th>\n",
       "      <td>NaN</td>\n",
       "      <td>NaN</td>\n",
       "      <td>NaN</td>\n",
       "      <td>NaN</td>\n",
       "    </tr>\n",
       "    <tr>\n",
       "      <th>2009-01-01 22:02:00</th>\n",
       "      <td>NaN</td>\n",
       "      <td>NaN</td>\n",
       "      <td>NaN</td>\n",
       "      <td>NaN</td>\n",
       "    </tr>\n",
       "    <tr>\n",
       "      <th>2009-01-01 22:03:00</th>\n",
       "      <td>NaN</td>\n",
       "      <td>NaN</td>\n",
       "      <td>NaN</td>\n",
       "      <td>NaN</td>\n",
       "    </tr>\n",
       "    <tr>\n",
       "      <th>2009-01-01 22:04:00</th>\n",
       "      <td>10.9166</td>\n",
       "      <td>10.9166</td>\n",
       "      <td>10.9164</td>\n",
       "      <td>10.9164</td>\n",
       "    </tr>\n",
       "    <tr>\n",
       "      <th>2009-01-01 22:05:00</th>\n",
       "      <td>10.9164</td>\n",
       "      <td>10.9164</td>\n",
       "      <td>10.9164</td>\n",
       "      <td>10.9164</td>\n",
       "    </tr>\n",
       "    <tr>\n",
       "      <th>2009-01-01 22:06:00</th>\n",
       "      <td>10.9084</td>\n",
       "      <td>10.9084</td>\n",
       "      <td>10.9073</td>\n",
       "      <td>10.9073</td>\n",
       "    </tr>\n",
       "    <tr>\n",
       "      <th>2009-01-01 22:07:00</th>\n",
       "      <td>10.9072</td>\n",
       "      <td>10.9072</td>\n",
       "      <td>10.9064</td>\n",
       "      <td>10.9064</td>\n",
       "    </tr>\n",
       "    <tr>\n",
       "      <th>2009-01-01 22:08:00</th>\n",
       "      <td>10.9064</td>\n",
       "      <td>10.9064</td>\n",
       "      <td>10.9064</td>\n",
       "      <td>10.9064</td>\n",
       "    </tr>\n",
       "    <tr>\n",
       "      <th>2009-01-01 22:09:00</th>\n",
       "      <td>10.9064</td>\n",
       "      <td>10.9064</td>\n",
       "      <td>10.9064</td>\n",
       "      <td>10.9064</td>\n",
       "    </tr>\n",
       "    <tr>\n",
       "      <th>2009-01-01 22:10:00</th>\n",
       "      <td>NaN</td>\n",
       "      <td>NaN</td>\n",
       "      <td>NaN</td>\n",
       "      <td>NaN</td>\n",
       "    </tr>\n",
       "    <tr>\n",
       "      <th>2009-01-01 22:11:00</th>\n",
       "      <td>NaN</td>\n",
       "      <td>NaN</td>\n",
       "      <td>NaN</td>\n",
       "      <td>NaN</td>\n",
       "    </tr>\n",
       "    <tr>\n",
       "      <th>2009-01-01 22:12:00</th>\n",
       "      <td>NaN</td>\n",
       "      <td>NaN</td>\n",
       "      <td>NaN</td>\n",
       "      <td>NaN</td>\n",
       "    </tr>\n",
       "    <tr>\n",
       "      <th>2009-01-01 22:13:00</th>\n",
       "      <td>NaN</td>\n",
       "      <td>NaN</td>\n",
       "      <td>NaN</td>\n",
       "      <td>NaN</td>\n",
       "    </tr>\n",
       "    <tr>\n",
       "      <th>2009-01-01 22:14:00</th>\n",
       "      <td>NaN</td>\n",
       "      <td>NaN</td>\n",
       "      <td>NaN</td>\n",
       "      <td>NaN</td>\n",
       "    </tr>\n",
       "    <tr>\n",
       "      <th>2009-01-01 22:15:00</th>\n",
       "      <td>10.9040</td>\n",
       "      <td>10.9040</td>\n",
       "      <td>10.9040</td>\n",
       "      <td>10.9040</td>\n",
       "    </tr>\n",
       "    <tr>\n",
       "      <th>2009-01-01 22:16:00</th>\n",
       "      <td>10.8990</td>\n",
       "      <td>10.9006</td>\n",
       "      <td>10.8990</td>\n",
       "      <td>10.8998</td>\n",
       "    </tr>\n",
       "    <tr>\n",
       "      <th>2009-01-01 22:17:00</th>\n",
       "      <td>10.8961</td>\n",
       "      <td>10.8961</td>\n",
       "      <td>10.8924</td>\n",
       "      <td>10.8924</td>\n",
       "    </tr>\n",
       "    <tr>\n",
       "      <th>2009-01-01 22:18:00</th>\n",
       "      <td>10.8923</td>\n",
       "      <td>10.8923</td>\n",
       "      <td>10.8875</td>\n",
       "      <td>10.8875</td>\n",
       "    </tr>\n",
       "  </tbody>\n",
       "</table>\n",
       "<p>200 rows × 4 columns</p>\n",
       "</div>"
      ],
      "text/plain": [
       "                        open     high      low    close\n",
       "ts                                                     \n",
       "2009-01-01 18:59:00  10.9230  10.9230  10.9230  10.9230\n",
       "2009-01-01 19:00:00  10.9230  10.9230  10.9230  10.9230\n",
       "2009-01-01 19:01:00  10.9230  10.9230  10.9230  10.9230\n",
       "2009-01-01 19:02:00      NaN      NaN      NaN      NaN\n",
       "2009-01-01 19:03:00      NaN      NaN      NaN      NaN\n",
       "2009-01-01 19:04:00      NaN      NaN      NaN      NaN\n",
       "2009-01-01 19:05:00      NaN      NaN      NaN      NaN\n",
       "2009-01-01 19:06:00      NaN      NaN      NaN      NaN\n",
       "2009-01-01 19:07:00      NaN      NaN      NaN      NaN\n",
       "2009-01-01 19:08:00      NaN      NaN      NaN      NaN\n",
       "2009-01-01 19:09:00      NaN      NaN      NaN      NaN\n",
       "2009-01-01 19:10:00      NaN      NaN      NaN      NaN\n",
       "2009-01-01 19:11:00      NaN      NaN      NaN      NaN\n",
       "2009-01-01 19:12:00      NaN      NaN      NaN      NaN\n",
       "2009-01-01 19:13:00      NaN      NaN      NaN      NaN\n",
       "2009-01-01 19:14:00      NaN      NaN      NaN      NaN\n",
       "2009-01-01 19:15:00      NaN      NaN      NaN      NaN\n",
       "2009-01-01 19:16:00      NaN      NaN      NaN      NaN\n",
       "2009-01-01 19:17:00      NaN      NaN      NaN      NaN\n",
       "2009-01-01 19:18:00      NaN      NaN      NaN      NaN\n",
       "2009-01-01 19:19:00      NaN      NaN      NaN      NaN\n",
       "2009-01-01 19:20:00      NaN      NaN      NaN      NaN\n",
       "2009-01-01 19:21:00      NaN      NaN      NaN      NaN\n",
       "2009-01-01 19:22:00      NaN      NaN      NaN      NaN\n",
       "2009-01-01 19:23:00      NaN      NaN      NaN      NaN\n",
       "2009-01-01 19:24:00      NaN      NaN      NaN      NaN\n",
       "2009-01-01 19:25:00      NaN      NaN      NaN      NaN\n",
       "2009-01-01 19:26:00      NaN      NaN      NaN      NaN\n",
       "2009-01-01 19:27:00      NaN      NaN      NaN      NaN\n",
       "2009-01-01 19:28:00  10.8973  10.8973  10.8973  10.8973\n",
       "...                      ...      ...      ...      ...\n",
       "2009-01-01 21:49:00      NaN      NaN      NaN      NaN\n",
       "2009-01-01 21:50:00      NaN      NaN      NaN      NaN\n",
       "2009-01-01 21:51:00      NaN      NaN      NaN      NaN\n",
       "2009-01-01 21:52:00      NaN      NaN      NaN      NaN\n",
       "2009-01-01 21:53:00      NaN      NaN      NaN      NaN\n",
       "2009-01-01 21:54:00      NaN      NaN      NaN      NaN\n",
       "2009-01-01 21:55:00      NaN      NaN      NaN      NaN\n",
       "2009-01-01 21:56:00      NaN      NaN      NaN      NaN\n",
       "2009-01-01 21:57:00      NaN      NaN      NaN      NaN\n",
       "2009-01-01 21:58:00      NaN      NaN      NaN      NaN\n",
       "2009-01-01 21:59:00      NaN      NaN      NaN      NaN\n",
       "2009-01-01 22:00:00      NaN      NaN      NaN      NaN\n",
       "2009-01-01 22:01:00      NaN      NaN      NaN      NaN\n",
       "2009-01-01 22:02:00      NaN      NaN      NaN      NaN\n",
       "2009-01-01 22:03:00      NaN      NaN      NaN      NaN\n",
       "2009-01-01 22:04:00  10.9166  10.9166  10.9164  10.9164\n",
       "2009-01-01 22:05:00  10.9164  10.9164  10.9164  10.9164\n",
       "2009-01-01 22:06:00  10.9084  10.9084  10.9073  10.9073\n",
       "2009-01-01 22:07:00  10.9072  10.9072  10.9064  10.9064\n",
       "2009-01-01 22:08:00  10.9064  10.9064  10.9064  10.9064\n",
       "2009-01-01 22:09:00  10.9064  10.9064  10.9064  10.9064\n",
       "2009-01-01 22:10:00      NaN      NaN      NaN      NaN\n",
       "2009-01-01 22:11:00      NaN      NaN      NaN      NaN\n",
       "2009-01-01 22:12:00      NaN      NaN      NaN      NaN\n",
       "2009-01-01 22:13:00      NaN      NaN      NaN      NaN\n",
       "2009-01-01 22:14:00      NaN      NaN      NaN      NaN\n",
       "2009-01-01 22:15:00  10.9040  10.9040  10.9040  10.9040\n",
       "2009-01-01 22:16:00  10.8990  10.9006  10.8990  10.8998\n",
       "2009-01-01 22:17:00  10.8961  10.8961  10.8924  10.8924\n",
       "2009-01-01 22:18:00  10.8923  10.8923  10.8875  10.8875\n",
       "\n",
       "[200 rows x 4 columns]"
      ]
     },
     "execution_count": 36,
     "metadata": {},
     "output_type": "execute_result"
    }
   ],
   "source": [
    "x = df.resample('1T').asfreq()\n",
    "\n",
    "x['close'] = x['close'].ffill(limit=2)\n",
    "x.loc[x['open'].isnull(), 'open'] = x['close']\n",
    "x.loc[x['high'].isnull(), 'high'] = x['close']\n",
    "x.loc[x['low'].isnull(), 'low'] = x['close']\n",
    "x.head(200)"
   ]
  },
  {
   "cell_type": "code",
   "execution_count": 32,
   "metadata": {
    "collapsed": false
   },
   "outputs": [
    {
     "data": {
      "text/html": [
       "<div>\n",
       "<table border=\"1\" class=\"dataframe\">\n",
       "  <thead>\n",
       "    <tr style=\"text-align: right;\">\n",
       "      <th></th>\n",
       "      <th>open</th>\n",
       "      <th>high</th>\n",
       "      <th>low</th>\n",
       "      <th>close</th>\n",
       "    </tr>\n",
       "    <tr>\n",
       "      <th>ts</th>\n",
       "      <th></th>\n",
       "      <th></th>\n",
       "      <th></th>\n",
       "      <th></th>\n",
       "    </tr>\n",
       "  </thead>\n",
       "  <tbody>\n",
       "    <tr>\n",
       "      <th>2009-12-31 16:15:00</th>\n",
       "      <td>10.2425</td>\n",
       "      <td>10.2426</td>\n",
       "      <td>10.2425</td>\n",
       "      <td>10.2426</td>\n",
       "    </tr>\n",
       "    <tr>\n",
       "      <th>2009-12-31 16:16:00</th>\n",
       "      <td>10.2426</td>\n",
       "      <td>NaN</td>\n",
       "      <td>NaN</td>\n",
       "      <td>10.2426</td>\n",
       "    </tr>\n",
       "    <tr>\n",
       "      <th>2009-12-31 16:17:00</th>\n",
       "      <td>10.2426</td>\n",
       "      <td>NaN</td>\n",
       "      <td>NaN</td>\n",
       "      <td>10.2426</td>\n",
       "    </tr>\n",
       "    <tr>\n",
       "      <th>2009-12-31 16:18:00</th>\n",
       "      <td>NaN</td>\n",
       "      <td>NaN</td>\n",
       "      <td>NaN</td>\n",
       "      <td>NaN</td>\n",
       "    </tr>\n",
       "    <tr>\n",
       "      <th>2009-12-31 16:19:00</th>\n",
       "      <td>10.2478</td>\n",
       "      <td>10.2478</td>\n",
       "      <td>10.2478</td>\n",
       "      <td>10.2478</td>\n",
       "    </tr>\n",
       "  </tbody>\n",
       "</table>\n",
       "</div>"
      ],
      "text/plain": [
       "                        open     high      low    close\n",
       "ts                                                     \n",
       "2009-12-31 16:15:00  10.2425  10.2426  10.2425  10.2426\n",
       "2009-12-31 16:16:00  10.2426      NaN      NaN  10.2426\n",
       "2009-12-31 16:17:00  10.2426      NaN      NaN  10.2426\n",
       "2009-12-31 16:18:00      NaN      NaN      NaN      NaN\n",
       "2009-12-31 16:19:00  10.2478  10.2478  10.2478  10.2478"
      ]
     },
     "execution_count": 32,
     "metadata": {},
     "output_type": "execute_result"
    }
   ],
   "source": [
    "x.loc[x['open'].isnull(), 'open'] = x['close']\n",
    "x.tail()"
   ]
  },
  {
   "cell_type": "code",
   "execution_count": null,
   "metadata": {
    "collapsed": true
   },
   "outputs": [],
   "source": [
    "x['open'] = x['open'].fillna"
   ]
  },
  {
   "cell_type": "code",
   "execution_count": null,
   "metadata": {
    "collapsed": true
   },
   "outputs": [],
   "source": [
    "x['close'] = x.fillna"
   ]
  },
  {
   "cell_type": "code",
   "execution_count": 14,
   "metadata": {
    "collapsed": false
   },
   "outputs": [
    {
     "data": {
      "text/html": [
       "<div>\n",
       "<table border=\"1\" class=\"dataframe\">\n",
       "  <thead>\n",
       "    <tr style=\"text-align: right;\">\n",
       "      <th></th>\n",
       "      <th>open</th>\n",
       "      <th>high</th>\n",
       "      <th>low</th>\n",
       "      <th>close</th>\n",
       "      <th>padded</th>\n",
       "      <th>ewstd</th>\n",
       "      <th>scaledpx</th>\n",
       "      <th>scaledpx-cln</th>\n",
       "    </tr>\n",
       "    <tr>\n",
       "      <th>ts</th>\n",
       "      <th></th>\n",
       "      <th></th>\n",
       "      <th></th>\n",
       "      <th></th>\n",
       "      <th></th>\n",
       "      <th></th>\n",
       "      <th></th>\n",
       "      <th></th>\n",
       "    </tr>\n",
       "  </thead>\n",
       "  <tbody>\n",
       "    <tr>\n",
       "      <th>2009-12-31 16:15:00</th>\n",
       "      <td>10.2425</td>\n",
       "      <td>10.2426</td>\n",
       "      <td>10.2425</td>\n",
       "      <td>10.2426</td>\n",
       "      <td>10.2426</td>\n",
       "      <td>0.001928</td>\n",
       "      <td>5313.304974</td>\n",
       "      <td>5313.304974</td>\n",
       "    </tr>\n",
       "    <tr>\n",
       "      <th>2009-12-31 16:16:00</th>\n",
       "      <td>NaN</td>\n",
       "      <td>NaN</td>\n",
       "      <td>NaN</td>\n",
       "      <td>NaN</td>\n",
       "      <td>10.2426</td>\n",
       "      <td>0.001904</td>\n",
       "      <td>5378.476696</td>\n",
       "      <td>5378.476696</td>\n",
       "    </tr>\n",
       "    <tr>\n",
       "      <th>2009-12-31 16:17:00</th>\n",
       "      <td>NaN</td>\n",
       "      <td>NaN</td>\n",
       "      <td>NaN</td>\n",
       "      <td>NaN</td>\n",
       "      <td>10.2426</td>\n",
       "      <td>0.001871</td>\n",
       "      <td>5473.221432</td>\n",
       "      <td>5473.221432</td>\n",
       "    </tr>\n",
       "    <tr>\n",
       "      <th>2009-12-31 16:18:00</th>\n",
       "      <td>NaN</td>\n",
       "      <td>NaN</td>\n",
       "      <td>NaN</td>\n",
       "      <td>NaN</td>\n",
       "      <td>10.2426</td>\n",
       "      <td>0.001831</td>\n",
       "      <td>5593.313683</td>\n",
       "      <td>5593.313683</td>\n",
       "    </tr>\n",
       "    <tr>\n",
       "      <th>2009-12-31 16:19:00</th>\n",
       "      <td>10.2478</td>\n",
       "      <td>10.2478</td>\n",
       "      <td>10.2478</td>\n",
       "      <td>10.2478</td>\n",
       "      <td>10.2478</td>\n",
       "      <td>0.002095</td>\n",
       "      <td>4892.042740</td>\n",
       "      <td>4892.042740</td>\n",
       "    </tr>\n",
       "  </tbody>\n",
       "</table>\n",
       "</div>"
      ],
      "text/plain": [
       "                        open     high      low    close   padded     ewstd  \\\n",
       "ts                                                                           \n",
       "2009-12-31 16:15:00  10.2425  10.2426  10.2425  10.2426  10.2426  0.001928   \n",
       "2009-12-31 16:16:00      NaN      NaN      NaN      NaN  10.2426  0.001904   \n",
       "2009-12-31 16:17:00      NaN      NaN      NaN      NaN  10.2426  0.001871   \n",
       "2009-12-31 16:18:00      NaN      NaN      NaN      NaN  10.2426  0.001831   \n",
       "2009-12-31 16:19:00  10.2478  10.2478  10.2478  10.2478  10.2478  0.002095   \n",
       "\n",
       "                        scaledpx  scaledpx-cln  \n",
       "ts                                              \n",
       "2009-12-31 16:15:00  5313.304974   5313.304974  \n",
       "2009-12-31 16:16:00  5378.476696   5378.476696  \n",
       "2009-12-31 16:17:00  5473.221432   5473.221432  \n",
       "2009-12-31 16:18:00  5593.313683   5593.313683  \n",
       "2009-12-31 16:19:00  4892.042740   4892.042740  "
      ]
     },
     "execution_count": 14,
     "metadata": {},
     "output_type": "execute_result"
    }
   ],
   "source": [
    "x = df.resample('1T').asfreq()\n",
    "\n",
    "x['padded'] = x['close'].ffill(limit=3)\n",
    "\n",
    "x['ewstd'] = x[['padded']].ewm(com=10, ignore_na=True).std()\n",
    "x['scaledpx'] = x['padded'] / x['ewstd']\n",
    "x['scaledpx-cln'] = x['padded'] / x['ewstd'].replace(0, np.nan)\n",
    "x.tail()"
   ]
  },
  {
   "cell_type": "code",
   "execution_count": 6,
   "metadata": {
    "collapsed": false
   },
   "outputs": [
    {
     "data": {
      "text/html": [
       "<div>\n",
       "<table border=\"1\" class=\"dataframe\">\n",
       "  <thead>\n",
       "    <tr style=\"text-align: right;\">\n",
       "      <th></th>\n",
       "      <th>open</th>\n",
       "      <th>high</th>\n",
       "      <th>low</th>\n",
       "      <th>close</th>\n",
       "    </tr>\n",
       "    <tr>\n",
       "      <th>ts</th>\n",
       "      <th></th>\n",
       "      <th></th>\n",
       "      <th></th>\n",
       "      <th></th>\n",
       "    </tr>\n",
       "  </thead>\n",
       "  <tbody>\n",
       "    <tr>\n",
       "      <th>2009-01-01 18:59:00</th>\n",
       "      <td>10.923</td>\n",
       "      <td>10.923</td>\n",
       "      <td>10.923</td>\n",
       "      <td>10.923</td>\n",
       "    </tr>\n",
       "    <tr>\n",
       "      <th>2009-01-01 19:00:00</th>\n",
       "      <td>10.923</td>\n",
       "      <td>10.923</td>\n",
       "      <td>10.923</td>\n",
       "      <td>10.923</td>\n",
       "    </tr>\n",
       "    <tr>\n",
       "      <th>2009-01-01 19:01:00</th>\n",
       "      <td>10.923</td>\n",
       "      <td>10.923</td>\n",
       "      <td>10.923</td>\n",
       "      <td>10.923</td>\n",
       "    </tr>\n",
       "    <tr>\n",
       "      <th>2009-01-01 19:02:00</th>\n",
       "      <td>10.923</td>\n",
       "      <td>10.923</td>\n",
       "      <td>10.923</td>\n",
       "      <td>10.923</td>\n",
       "    </tr>\n",
       "    <tr>\n",
       "      <th>2009-01-01 19:03:00</th>\n",
       "      <td>10.923</td>\n",
       "      <td>10.923</td>\n",
       "      <td>10.923</td>\n",
       "      <td>10.923</td>\n",
       "    </tr>\n",
       "  </tbody>\n",
       "</table>\n",
       "</div>"
      ],
      "text/plain": [
       "                       open    high     low   close\n",
       "ts                                                 \n",
       "2009-01-01 18:59:00  10.923  10.923  10.923  10.923\n",
       "2009-01-01 19:00:00  10.923  10.923  10.923  10.923\n",
       "2009-01-01 19:01:00  10.923  10.923  10.923  10.923\n",
       "2009-01-01 19:02:00  10.923  10.923  10.923  10.923\n",
       "2009-01-01 19:03:00  10.923  10.923  10.923  10.923"
      ]
     },
     "execution_count": 6,
     "metadata": {},
     "output_type": "execute_result"
    }
   ],
   "source": [
    "datasets.resample_and_forward_fill(df).head()\n"
   ]
  },
  {
   "cell_type": "code",
   "execution_count": 4,
   "metadata": {
    "collapsed": false
   },
   "outputs": [
    {
     "name": "stdout",
     "output_type": "stream",
     "text": [
      "             count      mean       std        min       25%       50%  \\\n",
      "open-0    320835.0  0.000208  0.986889 -14.907891 -0.215051  0.000838   \n",
      "high-0    320835.0 -0.005788  0.987393  -0.886483 -0.533205 -0.387187   \n",
      "low-0     320835.0  0.005269  0.987411 -15.457607 -0.113386  0.388779   \n",
      "open-1    320835.0  0.000212  0.986892 -14.907891 -0.215051  0.000841   \n",
      "high-1    320835.0 -0.005781  0.987399  -0.886483 -0.533205 -0.387187   \n",
      "low-1     320835.0  0.005270  0.987411 -15.457607 -0.113386  0.388779   \n",
      "close-1   320835.0  0.000185  0.984498 -15.914604 -0.232207 -0.000316   \n",
      "open-2    320835.0  0.000213  0.986892 -14.907891 -0.215051  0.000841   \n",
      "high-2    320835.0 -0.005781  0.987398  -0.886483 -0.533205 -0.387187   \n",
      "low-2     320835.0  0.005270  0.987411 -15.457607 -0.113386  0.388779   \n",
      "close-2   320835.0  0.000235  0.989166 -14.681343 -0.305912 -0.000812   \n",
      "open-3    320835.0  0.000213  0.986892 -14.907891 -0.215051  0.000842   \n",
      "high-3    320835.0 -0.005780  0.987398  -0.886483 -0.533205 -0.387187   \n",
      "low-3     320835.0  0.005270  0.987411 -15.457607 -0.113386  0.388779   \n",
      "close-3   320835.0  0.000236  0.991730 -13.905264 -0.347805 -0.001234   \n",
      "open-4    320835.0  0.000214  0.986892 -14.907891 -0.215051  0.000842   \n",
      "high-4    320835.0 -0.005780  0.987398  -0.886483 -0.533205 -0.387187   \n",
      "low-4     320835.0  0.005270  0.987411 -15.457607 -0.113386  0.388779   \n",
      "close-4   320835.0  0.000266  0.993408 -13.502898 -0.377034 -0.002158   \n",
      "open-5    320835.0  0.000225  0.986872 -14.907891 -0.215050  0.000843   \n",
      "high-5    320835.0 -0.005780  0.987398  -0.886483 -0.533205 -0.387184   \n",
      "low-5     320835.0  0.005285  0.987386 -15.457607 -0.113383  0.388781   \n",
      "close-5   320835.0  0.000320  0.994668 -13.110973 -0.399185 -0.002721   \n",
      "open-8    320835.0  0.000226  0.986871 -14.907891 -0.215050  0.000843   \n",
      "high-8    320835.0 -0.005780  0.987398  -0.886483 -0.533205 -0.387176   \n",
      "low-8     320835.0  0.005285  0.987387 -15.457607 -0.113383  0.388781   \n",
      "close-8   320835.0  0.000581  0.997380 -11.286825 -0.442277 -0.004334   \n",
      "open-13   320835.0  0.000217  0.986856 -14.907891 -0.215046  0.000843   \n",
      "high-13   320835.0 -0.005794  0.987376  -0.886483 -0.533205 -0.387174   \n",
      "low-13    320835.0  0.005285  0.987387 -15.457607 -0.113383  0.388779   \n",
      "close-13  320835.0  0.000774  1.000777 -10.190576 -0.488034 -0.006930   \n",
      "open-20   320835.0  0.000221  0.986856 -14.907891 -0.215043  0.000844   \n",
      "high-20   320835.0 -0.005791  0.987375  -0.886483 -0.533205 -0.387166   \n",
      "low-20    320835.0  0.005286  0.987387 -15.457607 -0.113363  0.388775   \n",
      "close-20  320835.0  0.001043  1.004833  -8.316398 -0.519871 -0.006345   \n",
      "open-29   320835.0  0.000223  0.986850 -14.907891 -0.215016  0.000844   \n",
      "high-29   320835.0 -0.005800  0.987370  -0.886483 -0.533205 -0.387166   \n",
      "low-29    320835.0  0.005293  0.987386 -15.457607 -0.113337  0.388773   \n",
      "close-29  320835.0  0.001266  1.009560  -9.313882 -0.547321 -0.006943   \n",
      "\n",
      "               75%        max  \n",
      "open-0    0.210000  15.887363  \n",
      "high-0    0.107923  16.397172  \n",
      "low-0     0.536868   0.923612  \n",
      "open-1    0.210005  15.887363  \n",
      "high-1    0.107942  16.397172  \n",
      "low-1     0.536868   0.923612  \n",
      "close-1   0.229753  16.511331  \n",
      "open-2    0.210005  15.887363  \n",
      "high-2    0.107942  16.397172  \n",
      "low-2     0.536868   0.923612  \n",
      "close-2   0.299634  16.024834  \n",
      "open-3    0.210005  15.887363  \n",
      "high-3    0.107942  16.397172  \n",
      "low-3     0.536872   0.923612  \n",
      "close-3   0.341099  15.454402  \n",
      "open-4    0.210005  15.887363  \n",
      "high-4    0.107942  16.397172  \n",
      "low-4     0.536877   0.923612  \n",
      "close-4   0.369374  14.904455  \n",
      "open-5    0.210005  15.887363  \n",
      "high-5    0.107942  16.397172  \n",
      "low-5     0.536878   0.923612  \n",
      "close-5   0.390134  14.632576  \n",
      "open-8    0.210000  15.887363  \n",
      "high-8    0.107942  16.397172  \n",
      "low-8     0.536888   0.923612  \n",
      "close-8   0.430866  13.761968  \n",
      "open-13   0.209995  15.887363  \n",
      "high-13   0.107923  16.397172  \n",
      "low-13    0.536890   0.923612  \n",
      "close-13  0.471427  12.689729  \n",
      "open-20   0.210005  15.887363  \n",
      "high-20   0.107923  16.397172  \n",
      "low-20    0.536893   0.923612  \n",
      "close-20  0.504571  11.944913  \n",
      "open-29   0.210000  15.887363  \n",
      "high-29   0.107901  16.397172  \n",
      "low-29    0.536905   0.923612  \n",
      "close-29  0.531855  11.627006  \n",
      "ts\n",
      "2012-01-02 15:54:00    1\n",
      "2012-01-02 15:56:00    1\n",
      "2012-01-02 15:57:00    0\n",
      "2012-01-02 15:58:00    1\n",
      "2012-01-02 16:00:00    0\n",
      "2012-01-02 16:01:00    0\n",
      "2012-01-02 16:02:00    1\n",
      "2012-01-02 16:05:00    1\n",
      "2012-01-02 16:06:00    0\n",
      "2012-01-02 16:07:00    1\n",
      "2012-01-02 16:08:00    1\n",
      "2012-01-02 16:10:00    0\n",
      "2012-01-02 16:11:00    0\n",
      "2012-01-02 16:12:00    0\n",
      "2012-01-02 16:13:00    0\n",
      "2012-01-02 16:14:00    1\n",
      "2012-01-02 16:15:00    0\n",
      "2012-01-02 16:17:00    1\n",
      "2012-01-02 16:18:00    0\n",
      "2012-01-02 16:19:00    0\n",
      "Name: close, dtype: int64\n"
     ]
    }
   ],
   "source": [
    "X_train, Y_train, price_train = datasets.prepare_dataset3(df, lookahead=1, n_periods=10)\n",
    "print(X_train.describe().transpose())\n",
    "print(Y_train[:20])"
   ]
  },
  {
   "cell_type": "code",
   "execution_count": 7,
   "metadata": {
    "collapsed": false
   },
   "outputs": [],
   "source": [
    "X_train['ts'] = X_train.index"
   ]
  },
  {
   "cell_type": "code",
   "execution_count": 14,
   "metadata": {
    "collapsed": false
   },
   "outputs": [],
   "source": [
    "x = X_train['ts'].ix[0]"
   ]
  },
  {
   "cell_type": "code",
   "execution_count": 50,
   "metadata": {
    "collapsed": false
   },
   "outputs": [
    {
     "data": {
      "text/plain": [
       "0.625"
      ]
     },
     "execution_count": 50,
     "metadata": {},
     "output_type": "execute_result"
    }
   ],
   "source": [
    "(x.hour + x.minute / 60 ) /  24."
   ]
  },
  {
   "cell_type": "code",
   "execution_count": 71,
   "metadata": {
    "collapsed": false
   },
   "outputs": [],
   "source": [
    "\n",
    "def fractional_time_of_week(ts):\n",
    "    \"\"\" converts a pandas Timestamp into a float representing the relative time within a calendar week 0 and 2*pi \"\"\"\n",
    "    return 2*np.pi * (ts.day*24*60  + ts.hour*60 + ts.minute)/(24*60*7)\n",
    "\n",
    "def fractional_time_of_day(ts):\n",
    "    \"\"\" converts a pandas Timestamp into a float representing the time of day between 0 and 2*pi \"\"\"\n",
    "    return 2*np.pi * (ts.hour*60 + ts.minute)/(24*60)\n",
    "  "
   ]
  },
  {
   "cell_type": "code",
   "execution_count": 76,
   "metadata": {
    "collapsed": false
   },
   "outputs": [
    {
     "data": {
      "text/plain": [
       "<matplotlib.axes._subplots.AxesSubplot at 0x10a438990>"
      ]
     },
     "execution_count": 76,
     "metadata": {},
     "output_type": "execute_result"
    },
    {
     "data": {
      "image/png": "[encoded data removed]",
      "text/plain": [
       "<matplotlib.figure.Figure at 0x113278d50>"
      ]
     },
     "metadata": {},
     "output_type": "display_data"
    }
   ],
   "source": [
    "np.sin(X_train['ts'][:30000].apply(fractional_time_of_week)).plot()\n",
    "np.cos(X_train['ts'][:30000].apply(fractional_time_of_week)).plot()"
   ]
  },
  {
   "cell_type": "code",
   "execution_count": 10,
   "metadata": {
    "collapsed": false
   },
   "outputs": [
    {
     "data": {
      "text/plain": [
       "Timedelta('0 days 00:01:38.029198')"
      ]
     },
     "execution_count": 10,
     "metadata": {},
     "output_type": "execute_result"
    }
   ],
   "source": [
    "X_train['ts'].diff().mean()"
   ]
  },
  {
   "cell_type": "code",
   "execution_count": 3,
   "metadata": {
    "collapsed": false
   },
   "outputs": [],
   "source": [
    "print (X_train.shape)\n",
    "n_features = X_train.shape[1]\n",
    "print (\"n_features:\", n_features)\n",
    "\n",
    "lookahead = 1\n",
    "n_categories = 2\n",
    "layer_widths = [10,10,10]\n",
    "dropout = 0\n",
    "\n",
    "from model01 import MLPModel01\n",
    "model = MLPModel01(lookahead, n_features, n_categories, layer_widths, dropout)\n",
    "print (model.summary())\n",
    "#\n",
    "hist = model.fit(X_train.as_matrix(), Y_train, max_epochs=20)\n",
    "\n",
    "X_test, Y_test, price_test = prepare_dataset3(df[100000:200000], lookahead=1, n_periods=3)\n",
    "Y_pred = model.predict(X_test.as_matrix())\n",
    "\n",
    "import metrics\n",
    "metrics.performance_report(\"foo\", price_test, lookahead, Y_test, Y_pred)"
   ]
  },
  {
   "cell_type": "code",
   "execution_count": 8,
   "metadata": {
    "collapsed": false
   },
   "outputs": [
    {
     "data": {
      "text/plain": [
       "120.0"
      ]
     },
     "execution_count": 8,
     "metadata": {},
     "output_type": "execute_result"
    }
   ],
   "source": [
    "60*24\n",
    "np.sqrt(14400)"
   ]
  },
  {
   "cell_type": "code",
   "execution_count": 27,
   "metadata": {
    "collapsed": false
   },
   "outputs": [
    {
     "data": {
      "text/plain": [
       "[<matplotlib.lines.Line2D at 0x10f297150>]"
      ]
     },
     "execution_count": 27,
     "metadata": {},
     "output_type": "execute_result"
    },
    {
     "data": {
      "image/png": "[encoded data removed]",
      "text/plain": [
       "<matplotlib.figure.Figure at 0x10f0218d0>"
      ]
     },
     "metadata": {},
     "output_type": "display_data"
    }
   ],
   "source": [
    "def lookbacks_cubed(n_periods):\n",
    "    max_lb_idx = max(0, n_periods - 4)\n",
    "    lookbacks = np.concatenate([np.arange(4), 4+(np.arange(max_lb_idx) **3)]).astype(int)\n",
    "    return lookbacks\n",
    "\n",
    "plt.plot(lookbacks_cubed(30)/1440., '.-')"
   ]
  },
  {
   "cell_type": "code",
   "execution_count": 52,
   "metadata": {
    "collapsed": false
   },
   "outputs": [
    {
     "data": {
      "text/plain": [
       "1.4541184093599153"
      ]
     },
     "execution_count": 52,
     "metadata": {},
     "output_type": "execute_result"
    }
   ],
   "source": [
    "(1+ 0.01e-4) **(260*24*60)"
   ]
  },
  {
   "cell_type": "code",
   "execution_count": 7,
   "metadata": {
    "collapsed": false
   },
   "outputs": [],
   "source": [
    "import datasets\n",
    "import numpy as np"
   ]
  },
  {
   "cell_type": "code",
   "execution_count": 13,
   "metadata": {
    "collapsed": false
   },
   "outputs": [
    {
     "data": {
      "text/plain": [
       "array([  0,   1,   2,   3,   4,   5,   8,  13,  20,  29,  40,  53,  68,\n",
       "        85, 104, 125, 148, 173, 200, 229, 260, 293, 328, 365, 404])"
      ]
     },
     "execution_count": 13,
     "metadata": {},
     "output_type": "execute_result"
    }
   ],
   "source": [
    "datasets.lookbacks_squared(25) "
   ]
  },
  {
   "cell_type": "code",
   "execution_count": 11,
   "metadata": {
    "collapsed": false
   },
   "outputs": [
    {
     "data": {
      "text/plain": [
       "array([0, 1, 2, 3, 4])"
      ]
     },
     "execution_count": 11,
     "metadata": {},
     "output_type": "execute_result"
    }
   ],
   "source": [
    "np.arange(5)"
   ]
  },
  {
   "cell_type": "code",
   "execution_count": 10,
   "metadata": {
    "collapsed": false
   },
   "outputs": [
    {
     "data": {
      "text/plain": [
       "array([  5,   8,  13,  20,  29,  40,  53,  68,  85, 104, 125, 148, 173,\n",
       "       200, 229, 260, 293, 328, 365, 404, 445, 488, 533, 580])"
      ]
     },
     "execution_count": 10,
     "metadata": {},
     "output_type": "execute_result"
    }
   ],
   "source": [
    "4+(np.arange(1,25) **2)"
   ]
  },
  {
   "cell_type": "code",
   "execution_count": 27,
   "metadata": {
    "collapsed": false
   },
   "outputs": [
    {
     "data": {
      "text/plain": [
       "'test 321 hello 1.320'"
      ]
     },
     "execution_count": 27,
     "metadata": {},
     "output_type": "execute_result"
    }
   ],
   "source": [
    "m = {'a':321, 'b':'hello', 'c':1.32}\n",
    "\"test {a} {b} {c:.3f}\".format(**m)\n"
   ]
  },
  {
   "cell_type": "code",
   "execution_count": 9,
   "metadata": {
    "collapsed": false
   },
   "outputs": [
    {
     "name": "stdout",
     "output_type": "stream",
     "text": [
      "-rwxr-xr-x@ 1 andy  staff    17K 18 Apr 17:52 \u001b[31m./output/MLPModel01_20170418_1151_EURUSD_DS3_20092014_LA1_F99_C2_L100_100_100_DO0.5.npz\u001b[m\u001b[m\r\n",
      "-rw-r--r--@ 1 andy  staff   2.9K 18 Apr 21:17 ./output/MLPModel01_20170418_1912_EURUSD_DS3_20092014_LA1_F99_C2_L100_100_100_DO0.npz\r\n",
      "-rw-r--r--@ 1 andy  staff   1.3K 23 Apr 10:23 ./output/MLPModel01_20170423_1021_EURUSD_DS3_20092014_LA1_F99_C2_L100_100_100_DO0.npz\r\n",
      "-rw-r--r--@ 1 andy  staff   4.0K 23 Apr 10:36 ./output/MLPModel01_20170423_1024_EURUSD_DS3_20092014_LA1_F99_C2_L100_100_100_DO0.npz\r\n",
      "-rw-r--r--@ 1 andy  staff   2.9K 23 Apr 11:16 ./output/MLPModel01_20170423_1051_EURUSD_DS3_20092014_LA1_F99_C2_L500_500_500_DO0.npz\r\n",
      "-rw-r--r--@ 1 andy  staff   3.0K 23 Apr 12:38 ./output/MLPModel01_20170423_1237_EURUSD_DS3_20092014_LA1_F99_C2_L100_100_100_100_DO0.npz\r\n",
      "-rw-r--r--@ 1 andy  staff    10K 23 Apr 13:01 ./output/MLPModel01_20170423_1239_EURUSD_DS3_20092014_LA1_F99_C2_L32_32_32_32_DO0.5.npz\r\n",
      "-rw-r--r--@ 1 andy  staff    26K 23 Apr 13:45 ./output/MLPModel01_20170423_1307_EURUSD_DS3_20092014_LA1_F99_C2_L100_DO0.npz\r\n",
      "-rw-r--r--@ 1 andy  staff    17K 23 Apr 15:37 ./output/MLPModel01_20170423_1448_EURUSD_DS3_20092014_LA1_F99_C2_L100_100_DO0.npz\r\n",
      "-rw-r--r--@ 1 andy  staff    17K 23 Apr 17:19 ./output/MLPModel01_20170423_1615_EURUSD_DS3_20092014_LA1_F99_C2_L500_DO0.npz\r\n",
      "-rw-r--r--@ 1 andy  staff    17K 23 Apr 20:23 ./output/MLPModel01_20170423_1800_EURUSD_DS3_20092014_LA1_F99_C2_L500_500_DO0.npz\r\n",
      "-rw-r--r--@ 1 andy  staff    17K 24 Apr 00:27 ./output/MLPModel01_20170423_2154_EURUSD_DS3_20092014_LA1_F99_C2_L500_500_DO0.5.npz\r\n",
      "-rw-r--r--@ 1 andy  staff    32K 24 Apr 15:08 ./output/MLPModel01_20170424_0713_EURUSD_DS3_20092014_LA1_F99_C2_L500_500_500_DO0.5.npz\r\n",
      "-rw-r--r--@ 1 andy  staff    17K 25 Apr 11:43 ./output/MLPModel01_20170425_1049_EURUSD_DS3_20092014_LA1_F99_C2_L100_100_DO0.5.npz\r\n",
      "-rw-r--r--@ 1 andy  staff    17K 25 Apr 15:51 ./output/MLPModel01_20170425_1447_EURUSD_DS3_20092014_LA1_F99_C2_L100_100_100_DO0.5.npz\r\n",
      "-rw-r--r--@ 1 andy  staff    17K 26 Apr 00:03 ./output/MLPModel01_20170425_2130_EURUSD_DS3_20092014_LA1_F99_C2_L500_500_DO0.5.npz\r\n"
     ]
    }
   ],
   "source": [
    "!ls -lh ./output/MLP*EURUSD*npz\n"
   ]
  },
  {
   "cell_type": "code",
   "execution_count": 24,
   "metadata": {
    "collapsed": false
   },
   "outputs": [
    {
     "data": {
      "text/html": [
       "<div>\n",
       "<table border=\"1\" class=\"dataframe\">\n",
       "  <thead>\n",
       "    <tr style=\"text-align: right;\">\n",
       "      <th></th>\n",
       "      <th>a</th>\n",
       "      <th>b</th>\n",
       "      <th>c</th>\n",
       "    </tr>\n",
       "  </thead>\n",
       "  <tbody>\n",
       "    <tr>\n",
       "      <th>0</th>\n",
       "      <td>1.0</td>\n",
       "      <td>2.3</td>\n",
       "      <td>foo</td>\n",
       "    </tr>\n",
       "    <tr>\n",
       "      <th>1</th>\n",
       "      <td>3.0</td>\n",
       "      <td>2.3</td>\n",
       "      <td>bAR</td>\n",
       "    </tr>\n",
       "  </tbody>\n",
       "</table>\n",
       "</div>"
      ],
      "text/plain": [
       "     a    b    c\n",
       "0  1.0  2.3  foo\n",
       "1  3.0  2.3  bAR"
      ]
     },
     "execution_count": 24,
     "metadata": {},
     "output_type": "execute_result"
    }
   ],
   "source": [
    "import pandas as pd\n",
    "df =pd.DataFrame()\n",
    "\n",
    "m1 = {'a':1, 'b':2.3, 'c':'foo'}\n",
    "m2 = {'a':3, 'b':2.3, 'c':'bAR'}\n",
    "df = df.append(pd.Series(m1), ignore_index=True)\n",
    "df = df.append(pd.Series(m2), ignore_index=True)\n",
    "df"
   ]
  }
 ],
 "metadata": {
  "kernelspec": {
   "display_name": "Python 2",
   "language": "python",
   "name": "python2"
  },
  "language_info": {
   "codemirror_mode": {
    "name": "ipython",
    "version": 2
   },
   "file_extension": ".py",
   "mimetype": "text/x-python",
   "name": "python",
   "nbconvert_exporter": "python",
   "pygments_lexer": "ipython2",
   "version": "2.7.13"
  }
 },
 "nbformat": 4,
 "nbformat_minor": 1
}
