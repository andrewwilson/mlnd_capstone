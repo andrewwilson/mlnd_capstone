{
 "cells": [
  {
   "cell_type": "code",
   "execution_count": 1,
   "metadata": {
    "collapsed": true
   },
   "outputs": [],
   "source": [
    "import pandas as pd\n",
    "import numpy as np\n",
    "import datasets\n",
    "import metrics\n",
    "import matplotlib.pyplot as plt\n",
    "import seaborn as sns\n",
    "%matplotlib inline\n",
    "from baseline01  import Baseline01\n",
    "from baseline02  import Baseline02SMA\n",
    "from baseline02  import Baseline02EWMA\n",
    "from IPython.display import display"
   ]
  },
  {
   "cell_type": "code",
   "execution_count": 2,
   "metadata": {
    "collapsed": true
   },
   "outputs": [],
   "source": [
    "#### EURUSD 2009-2014 dataset"
   ]
  },
  {
   "cell_type": "code",
   "execution_count": 3,
   "metadata": {
    "collapsed": false
   },
   "outputs": [],
   "source": [
    "# load  dataset\n",
    "lookahead=1\n",
    "dataset = 'DS3'\n",
    "window=25\n",
    "sym='EURUSD'\n",
    "year=20092014\n",
    "title = sym + \" \" + str(year)\n",
    "X_test, Y_test, prices_test = datasets.load(datasets.filename(dataset, lookahead, window, sym, year))"
   ]
  },
  {
   "cell_type": "code",
   "execution_count": 4,
   "metadata": {
    "collapsed": false
   },
   "outputs": [
    {
     "name": "stdout",
     "output_type": "stream",
     "text": [
      "EURUSD 20092014: f1-score: 0.484, mean future return: -0.013 bps, (-0.013 bps), annualized future return -0.379 (-0.377)\n"
     ]
    }
   ],
   "source": [
    "model = Baseline01(lookahead=1)\n",
    "Y_test_pred = model.predict(prices_test)\n",
    "#metrics.performance_report(title,  prices_test,  lookahead, Y_test, Y_test_pred, cum_return_plot=False);\n",
    "Y_test = prices_test.pct_change(1)"
   ]
  },
  {
   "cell_type": "code",
   "execution_count": 8,
   "metadata": {
    "collapsed": false
   },
   "outputs": [
    {
     "name": "stdout",
     "output_type": "stream",
     "text": [
      "(1, 0.48432049087155088)\n",
      "(2, 0.48519320130863414)\n",
      "(3, 0.48459117744730135)\n",
      "(4, 0.48383081177427184)\n",
      "(5, 0.48374867305786878)\n",
      "(6, 0.48302830259337276)\n",
      "(7, 0.4821745823303924)\n",
      "(8, 0.48181912633971163)\n",
      "(9, 0.48145952509164364)\n",
      "(10, 0.48092144806615855)\n",
      "(11, 0.48100359212664673)\n",
      "(12, 0.48092436373407865)\n",
      "(13, 0.48072490433475412)\n",
      "(14, 0.48009570551677572)\n",
      "(15, 0.48029664209086415)\n",
      "(16, 0.48014036752447298)\n",
      "(17, 0.47997628453284436)\n",
      "(18, 0.47999741168736632)\n",
      "(19, 0.47960895779362012)\n",
      "(20, 0.47968653771743497)\n",
      "('Best centre-of-mass: ', 2)\n",
      "EURUSD 20092014: f1-score: 0.485, mean future return: -0.010 bps, (-0.010 bps), annualized future return -0.320 (-0.319)\n"
     ]
    }
   ],
   "source": [
    "best = None\n",
    "best_w = None\n",
    "for w in range(1,21):\n",
    "    model = Baseline02SMA(lookahead=1, window=w)\n",
    "    Y_test_pred = model.predict(prices_test)\n",
    "    m = metrics.performance_report(title,  prices_test,  lookahead, Y_test, Y_test_pred, no_print=True);\n",
    "  \n",
    "    print(w,m['f1_score'])\n",
    "    if best is None or m['f1_score'] > best:\n",
    "        best = m['f1_score']\n",
    "        best_w = w\n",
    "\n",
    "print(\"Best centre-of-mass: \", best_w)\n",
    "model = Baseline02SMA(lookahead=1, window=best_w)\n",
    "Y_test_pred = model.predict(prices_test)\n",
    "metrics.performance_report(title,  prices_test,  lookahead, Y_test, Y_test_pred, cum_return_plot=False, heatmap=False);\n"
   ]
  },
  {
   "cell_type": "code",
   "execution_count": 9,
   "metadata": {
    "collapsed": false,
    "scrolled": false
   },
   "outputs": [
    {
     "name": "stdout",
     "output_type": "stream",
     "text": [
      "(1, 0.48106042812648125)\n",
      "(2, 0.47952957999409634)\n",
      "(3, 0.47867584741612884)\n",
      "(4, 0.4778995565307117)\n",
      "(5, 0.47716921826789532)\n",
      "(6, 0.47658355947160852)\n",
      "(7, 0.4761861064833573)\n",
      "(8, 0.4758511655171927)\n",
      "(9, 0.47542488380246095)\n",
      "(10, 0.47523363843857008)\n",
      "(11, 0.47503945629076821)\n",
      "(12, 0.47480697468477623)\n",
      "(13, 0.47458520612243421)\n",
      "(14, 0.47435791770917091)\n",
      "(15, 0.47421184357566137)\n",
      "(16, 0.4741058615638869)\n",
      "(17, 0.47394978878266969)\n",
      "(18, 0.4737270659566501)\n",
      "(19, 0.47363575093183347)\n",
      "(20, 0.47354005535381705)\n",
      "('Best centre-of-mass: ', 1)\n",
      "EURUSD 20092014: f1-score: 0.481, mean future return: -0.016 bps, (-0.016 bps), annualized future return -0.456 (-0.456)\n"
     ]
    }
   ],
   "source": [
    "best = None\n",
    "best_w = None\n",
    "for w in range(1,21):\n",
    "    model = Baseline02EWMA(lookahead=1, centre_of_mass=w)\n",
    "    Y_test_pred = model.predict(prices_test)\n",
    "    m = metrics.performance_report(title,  prices_test,  lookahead, Y_test, Y_test_pred, no_print=True);\n",
    "  \n",
    "    print(w,m['f1_score'])\n",
    "    if best is None or m['f1_score'] > best:\n",
    "        best = m['f1_score']\n",
    "        best_w = w\n",
    "\n",
    "print(\"Best centre-of-mass: \", best_w)\n",
    "model = Baseline02EWMA(lookahead=1, centre_of_mass=best_w)\n",
    "Y_test_pred = model.predict(prices_test)\n",
    "metrics.performance_report(title,  prices_test,  lookahead, Y_test, Y_test_pred, cum_return_plot=False, heatmap=False);\n"
   ]
  },
  {
   "cell_type": "markdown",
   "metadata": {
    "collapsed": true
   },
   "source": [
    "---------------\n",
    "\n",
    "#### Idea - inverted signal\n",
    "\n",
    "Models all give negative results, suggesting that over short timescales price change is mean-reverting. \n",
    "Let's try invert the signal, and tune for best performance"
   ]
  },
  {
   "cell_type": "code",
   "execution_count": 11,
   "metadata": {
    "collapsed": false
   },
   "outputs": [
    {
     "name": "stdout",
     "output_type": "stream",
     "text": [
      "EURUSD 20092014: f1-score: 0.513, mean future return: 0.012 bps, (0.012 bps), annualized future return 0.572 (0.575)\n"
     ]
    }
   ],
   "source": [
    "model = Baseline01(lookahead=1)\n",
    "Y_test_pred = 1.0 - model.predict(prices_test)\n",
    "metrics.performance_report(title,  prices_test,  lookahead, Y_test, Y_test_pred, cum_return_plot=False);"
   ]
  },
  {
   "cell_type": "code",
   "execution_count": 18,
   "metadata": {
    "collapsed": false
   },
   "outputs": [
    {
     "name": "stdout",
     "output_type": "stream",
     "text": [
      "(1, 0.51289556741033426)\n",
      "(101, 0.52073183482357288)\n",
      "(201, 0.52293511310445107)\n",
      "(301, 0.52572086869446077)\n",
      "(401, 0.52803591528196459)\n",
      "(501, 0.53144741486719549)\n",
      "(601, 0.53402352357122662)\n",
      "(701, 0.5362532947168539)\n",
      "(801, 0.53861307734107189)\n",
      "(901, 0.54085854266264954)\n",
      "(1001, 0.54266474152564004)\n",
      "(1101, 0.5441595028635976)\n",
      "(1201, 0.54512604853135049)\n",
      "(1301, 0.54651835769213819)\n",
      "(1401, 0.5470265701150826)\n",
      "(1501, 0.54786842268614744)\n",
      "(1601, 0.5483318617822186)\n",
      "(1701, 0.54903881780092378)\n",
      "(1801, 0.54980943498129897)\n",
      "(1901, 0.55069526837187388)\n",
      "(2001, 0.5516013849941318)\n",
      "(2101, 0.55252288392216953)\n",
      "(2201, 0.55274835209210349)\n",
      "(2301, 0.5532228105924718)\n",
      "(2401, 0.55391497579488647)\n",
      "(2501, 0.55402604805668076)\n",
      "(2601, 0.55450204323448138)\n",
      "(2701, 0.5546958483805452)\n",
      "(2801, 0.55521058664211531)\n",
      "(2901, 0.5554963306216999)\n",
      "(3001, 0.55566683826560681)\n",
      "(3101, 0.55595804507777213)\n",
      "(3201, 0.55614450457786069)\n",
      "(3301, 0.55615005352425995)\n",
      "(3401, 0.55648517183051904)\n",
      "(3501, 0.55642282565039647)\n",
      "(3601, 0.55653248823163348)\n",
      "(3701, 0.55640403520279758)\n",
      "(3801, 0.55622491185198419)\n",
      "(3901, 0.55634195284875643)\n",
      "(4001, 0.55620971555433107)\n",
      "(4101, 0.55630008171219392)\n",
      "(4201, 0.55588926910029368)\n",
      "(4301, 0.5555896080971553)\n",
      "(4401, 0.55505358204966815)\n",
      "(4501, 0.55472012387189895)\n",
      "(4601, 0.55462745016504544)\n",
      "(4701, 0.55422829983797284)\n",
      "(4801, 0.55394632455892201)\n",
      "(4901, 0.55362804198346871)\n",
      "('Best w is', 3601)\n"
     ]
    },
    {
     "data": {
      "image/png": "[encoded data removed]",
      "text/plain": [
       "<matplotlib.figure.Figure at 0x196e7f190>"
      ]
     },
     "metadata": {},
     "output_type": "display_data"
    }
   ],
   "source": [
    "ws = []\n",
    "f1s = []\n",
    "best = None\n",
    "best_w = None\n",
    "#for w in range(1,21):\n",
    "#for w in range(21,201,10):\n",
    "for w in range(1,5001,100):\n",
    "    model = Baseline02SMA(lookahead=1, window=w)\n",
    "    Y_test_pred = 1.0 - model.predict(prices_test)\n",
    "    m = metrics.performance_report(title,  prices_test,  lookahead, Y_test, Y_test_pred, no_print=True);\n",
    "    ws.append(w)\n",
    "    f1s.append(m['f1_score'])\n",
    "    print (w, m['f1_score'])\n",
    "\n",
    "    if best is None or m['f1_score'] > best:\n",
    "        best = m['f1_score']\n",
    "        best_w = w\n",
    "        \n",
    "plt.plot(ws, f1s)\n",
    "print(\"Best w is\", best_w)"
   ]
  },
  {
   "cell_type": "code",
   "execution_count": 22,
   "metadata": {
    "collapsed": false
   },
   "outputs": [
    {
     "name": "stdout",
     "output_type": "stream",
     "text": [
      "EURUSD 20092014: f1-score: 0.557, mean future return: -0.000 bps, (-0.000 bps), annualized future return -0.008 (-0.007)\n"
     ]
    }
   ],
   "source": [
    "model = Baseline02SMA(lookahead=1, window=3601)\n",
    "Y_test_pred = 1.0 - model.predict(prices_test)\n",
    "metrics.performance_report(title,  prices_test,  lookahead, Y_test, Y_test_pred, cum_return_plot=False, heatmap=False);"
   ]
  },
  {
   "cell_type": "code",
   "execution_count": 20,
   "metadata": {
    "collapsed": false,
    "scrolled": false
   },
   "outputs": [
    {
     "name": "stdout",
     "output_type": "stream",
     "text": [
      "(1, 0.51895163156495361)\n",
      "(101, 0.5311083193621744)\n",
      "(201, 0.53775043290505165)\n",
      "(301, 0.54325577631987798)\n",
      "(401, 0.54692180311868455)\n",
      "(501, 0.549802389233639)\n",
      "(601, 0.55207867071554495)\n",
      "(701, 0.55425286927161943)\n",
      "(801, 0.55652943022528467)\n",
      "(901, 0.55863654816790509)\n",
      "(1001, 0.560386848403717)\n",
      "(1101, 0.56201570817294388)\n",
      "(1201, 0.56345007967016625)\n",
      "(1301, 0.56453573402347568)\n",
      "(1401, 0.56546154361028567)\n",
      "(1501, 0.56628440117337331)\n",
      "(1601, 0.56716219593431616)\n",
      "(1701, 0.56778054614958284)\n",
      "(1801, 0.56834259334965931)\n",
      "(1901, 0.56882822355999518)\n",
      "(2001, 0.56932942005649867)\n",
      "(2101, 0.56982842319141014)\n",
      "(2201, 0.57016361681151551)\n",
      "(2301, 0.57034665617306401)\n",
      "(2401, 0.57059334955503216)\n",
      "(2501, 0.57079072500295758)\n",
      "(2601, 0.57083953475657245)\n",
      "(2701, 0.57084542255315429)\n",
      "(2801, 0.57067182904562885)\n",
      "(2901, 0.5704319903247671)\n",
      "(3001, 0.57004341172929696)\n",
      "(3101, 0.56973934361425382)\n",
      "(3201, 0.56955602127850291)\n",
      "(3301, 0.56911089324702102)\n",
      "(3401, 0.56864367286820394)\n",
      "(3501, 0.56821010233786495)\n",
      "(3601, 0.56777440522262901)\n",
      "(3701, 0.5672723611895415)\n",
      "(3801, 0.56675116075691045)\n",
      "(3901, 0.56632531430859001)\n",
      "(4001, 0.5659226053614822)\n",
      "(4101, 0.56546205497166724)\n",
      "(4201, 0.56508680169905989)\n",
      "(4301, 0.56460183502281991)\n",
      "(4401, 0.56421418772584275)\n",
      "(4501, 0.5637994930287582)\n",
      "(4601, 0.56330741941748608)\n",
      "(4701, 0.56284393976791791)\n",
      "(4801, 0.56241610016111454)\n",
      "(4901, 0.56205812650060649)\n",
      "('Best w is', 2701)\n"
     ]
    },
    {
     "data": {
      "image/png": "[encoded data removed]",
      "text/plain": [
       "<matplotlib.figure.Figure at 0x197109110>"
      ]
     },
     "metadata": {},
     "output_type": "display_data"
    }
   ],
   "source": [
    "ws = []\n",
    "f1s = []\n",
    "best = None\n",
    "best_w = None\n",
    "#for w in range(1,21):\n",
    "#for w in range(21,201,10):\n",
    "for w in range(1,5001,100):\n",
    "    model = Baseline02EWMA(lookahead=1, centre_of_mass=w)\n",
    "    Y_test_pred = 1.0 - model.predict(prices_test)\n",
    "    m = metrics.performance_report(title,  prices_test,  lookahead, Y_test, Y_test_pred, no_print=True);\n",
    "    ws.append(w)\n",
    "    f1s.append(m['f1_score'])\n",
    "    print (w, m['f1_score'])\n",
    "\n",
    "    if best is None or m['f1_score'] > best:\n",
    "        best = m['f1_score']\n",
    "        best_w = w\n",
    "        \n",
    "plt.plot(ws, f1s)\n",
    "print(\"Best w is\", best_w)"
   ]
  },
  {
   "cell_type": "code",
   "execution_count": 26,
   "metadata": {
    "collapsed": false
   },
   "outputs": [
    {
     "name": "stdout",
     "output_type": "stream",
     "text": [
      "EURUSD 20092014: f1-score: 0.526, mean future return: 0.018 bps, (0.018 bps), annualized future return 0.987 (0.987)\n"
     ]
    }
   ],
   "source": [
    "model = Baseline02EWMA(lookahead=1, centre_of_mass=20)\n",
    "Y_test_pred = 1.0 - model.predict(prices_test)\n",
    "metrics.performance_report(title,  prices_test,  lookahead, Y_test, Y_test_pred, cum_return_plot=False, heatmap=False);"
   ]
  },
  {
   "cell_type": "code",
   "execution_count": 25,
   "metadata": {
    "collapsed": false
   },
   "outputs": [
    {
     "data": {
      "text/plain": [
       "ts\n",
       "2009-01-12 05:28:00    0.500000\n",
       "2009-01-12 05:29:00    0.499800\n",
       "2009-01-12 05:30:00    0.499800\n",
       "2009-01-12 05:31:00    0.499900\n",
       "2009-01-12 05:32:00    0.499925\n",
       "2009-01-12 05:33:00    0.499719\n",
       "2009-01-12 05:34:00    0.499783\n",
       "2009-01-12 05:35:00    0.499857\n",
       "2009-01-12 05:36:00    0.499901\n",
       "2009-01-12 05:37:00    0.499822\n",
       "2009-01-12 05:38:00    0.499658\n",
       "2009-01-12 05:39:00    0.499689\n",
       "2009-01-12 05:40:00    0.499783\n",
       "2009-01-12 05:41:00    0.499792\n",
       "2009-01-12 05:42:00    0.499793\n",
       "2009-01-12 05:43:00    0.499800\n",
       "2009-01-12 05:44:00    0.499826\n",
       "2009-01-12 05:45:00    0.499842\n",
       "2009-01-12 05:46:00    0.499828\n",
       "2009-01-12 05:47:00    0.499746\n",
       "2009-01-12 05:48:00    0.499774\n",
       "2009-01-12 05:49:00    0.499790\n",
       "2009-01-12 05:50:00    0.499809\n",
       "2009-01-12 05:51:00    0.499836\n",
       "2009-01-12 05:52:00    0.499839\n",
       "2009-01-12 05:53:00    0.499829\n",
       "2009-01-12 05:54:00    0.499859\n",
       "2009-01-12 05:55:00    0.499869\n",
       "2009-01-12 05:56:00    0.499881\n",
       "2009-01-12 05:57:00    0.499874\n",
       "                         ...   \n",
       "2014-12-31 16:30:00    0.500006\n",
       "2014-12-31 16:31:00    0.500006\n",
       "2014-12-31 16:32:00    0.500005\n",
       "2014-12-31 16:33:00    0.500006\n",
       "2014-12-31 16:34:00    0.500006\n",
       "2014-12-31 16:35:00    0.500006\n",
       "2014-12-31 16:36:00    0.500006\n",
       "2014-12-31 16:37:00    0.500006\n",
       "2014-12-31 16:38:00    0.500005\n",
       "2014-12-31 16:39:00    0.500006\n",
       "2014-12-31 16:40:00    0.500006\n",
       "2014-12-31 16:41:00    0.500006\n",
       "2014-12-31 16:42:00    0.500006\n",
       "2014-12-31 16:43:00    0.500005\n",
       "2014-12-31 16:44:00    0.500006\n",
       "2014-12-31 16:45:00    0.500006\n",
       "2014-12-31 16:46:00    0.500006\n",
       "2014-12-31 16:47:00    0.500006\n",
       "2014-12-31 16:48:00    0.500005\n",
       "2014-12-31 16:49:00    0.500006\n",
       "2014-12-31 16:50:00    0.500006\n",
       "2014-12-31 16:51:00    0.500005\n",
       "2014-12-31 16:52:00    0.500005\n",
       "2014-12-31 16:53:00    0.500005\n",
       "2014-12-31 16:54:00    0.500005\n",
       "2014-12-31 16:55:00    0.500005\n",
       "2014-12-31 16:56:00    0.500005\n",
       "2014-12-31 16:57:00    0.500005\n",
       "2014-12-31 16:58:00    0.500005\n",
       "2014-12-31 16:59:00    0.500005\n",
       "Name: close, dtype: float64"
      ]
     },
     "execution_count": 25,
     "metadata": {},
     "output_type": "execute_result"
    }
   ],
   "source": [
    "Y_test_pred"
   ]
  }
 ],
 "metadata": {
  "kernelspec": {
   "display_name": "Python 2",
   "language": "python",
   "name": "python2"
  },
  "language_info": {
   "codemirror_mode": {
    "name": "ipython",
    "version": 2
   },
   "file_extension": ".py",
   "mimetype": "text/x-python",
   "name": "python",
   "nbconvert_exporter": "python",
   "pygments_lexer": "ipython2",
   "version": "2.7.13"
  }
 },
 "nbformat": 4,
 "nbformat_minor": 0
}
