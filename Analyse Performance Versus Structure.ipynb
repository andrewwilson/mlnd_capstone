{
 "cells": [
  {
   "cell_type": "code",
   "execution_count": 47,
   "metadata": {
    "collapsed": false
   },
   "outputs": [],
   "source": [
    "import pandas as pd\n",
    "import numpy as np\n",
    "import matplotlib.pyplot as plt\n",
    "%matplotlib inline"
   ]
  },
  {
   "cell_type": "code",
   "execution_count": 51,
   "metadata": {
    "collapsed": false
   },
   "outputs": [
    {
     "data": {
      "text/html": [
       "<div>\n",
       "<table border=\"1\" class=\"dataframe\">\n",
       "  <thead>\n",
       "    <tr style=\"text-align: right;\">\n",
       "      <th></th>\n",
       "      <th>layer description</th>\n",
       "      <th>dropout</th>\n",
       "      <th>nodes</th>\n",
       "      <th>layers</th>\n",
       "      <th>parameters</th>\n",
       "      <th>epochs</th>\n",
       "      <th>training f1-score</th>\n",
       "      <th>validation f1-score</th>\n",
       "      <th>1-minute\n",
       "mean future return \n",
       "(bps)</th>\n",
       "      <th>annualized\n",
       "mean future return</th>\n",
       "      <th>Notes</th>\n",
       "    </tr>\n",
       "  </thead>\n",
       "  <tbody>\n",
       "    <tr>\n",
       "      <th>0</th>\n",
       "      <td>100</td>\n",
       "      <td>0.0</td>\n",
       "      <td>100</td>\n",
       "      <td>1</td>\n",
       "      <td>10101</td>\n",
       "      <td>1000</td>\n",
       "      <td>0.533</td>\n",
       "      <td>0.516</td>\n",
       "      <td>0.021</td>\n",
       "      <td>1.236</td>\n",
       "      <td>NaN</td>\n",
       "    </tr>\n",
       "    <tr>\n",
       "      <th>1</th>\n",
       "      <td>100x100</td>\n",
       "      <td>0.0</td>\n",
       "      <td>10000</td>\n",
       "      <td>2</td>\n",
       "      <td>20201</td>\n",
       "      <td>1000</td>\n",
       "      <td>0.542</td>\n",
       "      <td>0.520</td>\n",
       "      <td>0.023</td>\n",
       "      <td>1.390</td>\n",
       "      <td>NaN</td>\n",
       "    </tr>\n",
       "    <tr>\n",
       "      <th>2</th>\n",
       "      <td>500</td>\n",
       "      <td>0.0</td>\n",
       "      <td>500</td>\n",
       "      <td>1</td>\n",
       "      <td>50501</td>\n",
       "      <td>1000</td>\n",
       "      <td>0.547</td>\n",
       "      <td>0.518</td>\n",
       "      <td>0.021</td>\n",
       "      <td>1.166</td>\n",
       "      <td>NaN</td>\n",
       "    </tr>\n",
       "    <tr>\n",
       "      <th>3</th>\n",
       "      <td>100x100x100</td>\n",
       "      <td>0.0</td>\n",
       "      <td>1000000</td>\n",
       "      <td>3</td>\n",
       "      <td>30301</td>\n",
       "      <td>20</td>\n",
       "      <td>0.540</td>\n",
       "      <td>0.519</td>\n",
       "      <td>0.024</td>\n",
       "      <td>1.454</td>\n",
       "      <td>rapidly overfits without dropout</td>\n",
       "    </tr>\n",
       "    <tr>\n",
       "      <th>4</th>\n",
       "      <td>100x100x100</td>\n",
       "      <td>0.0</td>\n",
       "      <td>1000000</td>\n",
       "      <td>3</td>\n",
       "      <td>30301</td>\n",
       "      <td>115</td>\n",
       "      <td>0.544</td>\n",
       "      <td>0.521</td>\n",
       "      <td>0.026</td>\n",
       "      <td>1.642</td>\n",
       "      <td>f1-score improved with further training, even ...</td>\n",
       "    </tr>\n",
       "    <tr>\n",
       "      <th>5</th>\n",
       "      <td>100x100x100</td>\n",
       "      <td>0.5</td>\n",
       "      <td>1000000</td>\n",
       "      <td>3</td>\n",
       "      <td>30301</td>\n",
       "      <td>1000</td>\n",
       "      <td>0.539</td>\n",
       "      <td>0.524</td>\n",
       "      <td>0.025</td>\n",
       "      <td>1.582</td>\n",
       "      <td>NaN</td>\n",
       "    </tr>\n",
       "    <tr>\n",
       "      <th>6</th>\n",
       "      <td>500x500x500</td>\n",
       "      <td>0.0</td>\n",
       "      <td>125000000</td>\n",
       "      <td>3</td>\n",
       "      <td>551501</td>\n",
       "      <td>15</td>\n",
       "      <td>0.539</td>\n",
       "      <td>0.518</td>\n",
       "      <td>0.021</td>\n",
       "      <td>1.223</td>\n",
       "      <td>rapidly overfits without dropout, early stoppi...</td>\n",
       "    </tr>\n",
       "    <tr>\n",
       "      <th>7</th>\n",
       "      <td>32x32x32x32</td>\n",
       "      <td>0.5</td>\n",
       "      <td>1048576</td>\n",
       "      <td>4</td>\n",
       "      <td>6401</td>\n",
       "      <td>455</td>\n",
       "      <td>0.336</td>\n",
       "      <td>0.341</td>\n",
       "      <td>0.001</td>\n",
       "      <td>0.055</td>\n",
       "      <td>NaN</td>\n",
       "    </tr>\n",
       "  </tbody>\n",
       "</table>\n",
       "</div>"
      ],
      "text/plain": [
       "  layer description  dropout      nodes  layers  parameters  epochs  \\\n",
       "0               100      0.0        100       1       10101    1000   \n",
       "1           100x100      0.0      10000       2       20201    1000   \n",
       "2               500      0.0        500       1       50501    1000   \n",
       "3       100x100x100      0.0    1000000       3       30301      20   \n",
       "4       100x100x100      0.0    1000000       3       30301     115   \n",
       "5       100x100x100      0.5    1000000       3       30301    1000   \n",
       "6       500x500x500      0.0  125000000       3      551501      15   \n",
       "7       32x32x32x32      0.5    1048576       4        6401     455   \n",
       "\n",
       "   training f1-score  validation f1-score  \\\n",
       "0              0.533                0.516   \n",
       "1              0.542                0.520   \n",
       "2              0.547                0.518   \n",
       "3              0.540                0.519   \n",
       "4              0.544                0.521   \n",
       "5              0.539                0.524   \n",
       "6              0.539                0.518   \n",
       "7              0.336                0.341   \n",
       "\n",
       "   1-minute\\nmean future return \\n(bps)  annualized\\nmean future return  \\\n",
       "0                                 0.021                           1.236   \n",
       "1                                 0.023                           1.390   \n",
       "2                                 0.021                           1.166   \n",
       "3                                 0.024                           1.454   \n",
       "4                                 0.026                           1.642   \n",
       "5                                 0.025                           1.582   \n",
       "6                                 0.021                           1.223   \n",
       "7                                 0.001                           0.055   \n",
       "\n",
       "                                               Notes  \n",
       "0                                                NaN  \n",
       "1                                                NaN  \n",
       "2                                                NaN  \n",
       "3                   rapidly overfits without dropout  \n",
       "4  f1-score improved with further training, even ...  \n",
       "5                                                NaN  \n",
       "6  rapidly overfits without dropout, early stoppi...  \n",
       "7                                                NaN  "
      ]
     },
     "execution_count": 51,
     "metadata": {},
     "output_type": "execute_result"
    }
   ],
   "source": [
    "df = pd.read_csv(\"modelPerformance.csv\")\n",
    "df\n"
   ]
  },
  {
   "cell_type": "code",
   "execution_count": 63,
   "metadata": {
    "collapsed": false
   },
   "outputs": [
    {
     "data": {
      "text/html": [
       "<div>\n",
       "<table border=\"1\" class=\"dataframe\">\n",
       "  <thead>\n",
       "    <tr style=\"text-align: right;\">\n",
       "      <th></th>\n",
       "      <th>layer description</th>\n",
       "      <th>dropout</th>\n",
       "      <th>nodes</th>\n",
       "      <th>layers</th>\n",
       "      <th>parameters</th>\n",
       "      <th>epochs</th>\n",
       "      <th>training f1-score</th>\n",
       "      <th>validation f1-score</th>\n",
       "      <th>1-minute\n",
       "mean future return \n",
       "(bps)</th>\n",
       "      <th>annualized\n",
       "mean future return</th>\n",
       "      <th>Notes</th>\n",
       "    </tr>\n",
       "  </thead>\n",
       "  <tbody>\n",
       "    <tr>\n",
       "      <th>0</th>\n",
       "      <td>100</td>\n",
       "      <td>0.0</td>\n",
       "      <td>100</td>\n",
       "      <td>1</td>\n",
       "      <td>10101</td>\n",
       "      <td>1000</td>\n",
       "      <td>0.533</td>\n",
       "      <td>0.516</td>\n",
       "      <td>0.021</td>\n",
       "      <td>1.236</td>\n",
       "      <td>NaN</td>\n",
       "    </tr>\n",
       "    <tr>\n",
       "      <th>1</th>\n",
       "      <td>100x100</td>\n",
       "      <td>0.0</td>\n",
       "      <td>10000</td>\n",
       "      <td>2</td>\n",
       "      <td>20201</td>\n",
       "      <td>1000</td>\n",
       "      <td>0.542</td>\n",
       "      <td>0.520</td>\n",
       "      <td>0.023</td>\n",
       "      <td>1.390</td>\n",
       "      <td>NaN</td>\n",
       "    </tr>\n",
       "    <tr>\n",
       "      <th>2</th>\n",
       "      <td>500</td>\n",
       "      <td>0.0</td>\n",
       "      <td>500</td>\n",
       "      <td>1</td>\n",
       "      <td>50501</td>\n",
       "      <td>1000</td>\n",
       "      <td>0.547</td>\n",
       "      <td>0.518</td>\n",
       "      <td>0.021</td>\n",
       "      <td>1.166</td>\n",
       "      <td>NaN</td>\n",
       "    </tr>\n",
       "  </tbody>\n",
       "</table>\n",
       "</div>"
      ],
      "text/plain": [
       "  layer description  dropout  nodes  layers  parameters  epochs  \\\n",
       "0               100      0.0    100       1       10101    1000   \n",
       "1           100x100      0.0  10000       2       20201    1000   \n",
       "2               500      0.0    500       1       50501    1000   \n",
       "\n",
       "   training f1-score  validation f1-score  \\\n",
       "0              0.533                0.516   \n",
       "1              0.542                0.520   \n",
       "2              0.547                0.518   \n",
       "\n",
       "   1-minute\\nmean future return \\n(bps)  annualized\\nmean future return Notes  \n",
       "0                                 0.021                           1.236   NaN  \n",
       "1                                 0.023                           1.390   NaN  \n",
       "2                                 0.021                           1.166   NaN  "
      ]
     },
     "execution_count": 63,
     "metadata": {},
     "output_type": "execute_result"
    }
   ],
   "source": [
    "data = df[df['epochs'] == 1000]\n",
    "data = data[data['dropout'] == 0]\n",
    "data"
   ]
  },
  {
   "cell_type": "code",
   "execution_count": 64,
   "metadata": {
    "collapsed": false
   },
   "outputs": [
    {
     "data": {
      "image/png": "[encoded data removed]",
      "text/plain": [
       "<matplotlib.figure.Figure at 0x7f78bd7049d0>"
      ]
     },
     "metadata": {},
     "output_type": "display_data"
    }
   ],
   "source": [
    "plt.scatter(np.log(data['parameters']), data['training f1-score'], label='training f1')\n",
    "plt.scatter(np.log(data['parameters']), data['validation f1-score'], label='validation f1')\n",
    "plt.legend()\n",
    "plt.title('parameters vs score')\n",
    "plt.show()"
   ]
  },
  {
   "cell_type": "code",
   "execution_count": 65,
   "metadata": {
    "collapsed": false
   },
   "outputs": [
    {
     "data": {
      "image/png": "[encoded data removed]",
      "text/plain": [
       "<matplotlib.figure.Figure at 0x7f78bde91f50>"
      ]
     },
     "metadata": {},
     "output_type": "display_data"
    }
   ],
   "source": [
    "plt.scatter(np.log(data['nodes']), data['training f1-score'], label='training f1')\n",
    "plt.scatter(np.log(data['nodes']), data['validation f1-score'], label='validation f1')\n",
    "plt.title('nodes vs score')\n",
    "plt.show()"
   ]
  },
  {
   "cell_type": "code",
   "execution_count": 66,
   "metadata": {
    "collapsed": false
   },
   "outputs": [
    {
     "data": {
      "image/png": "[encoded data removed]",
      "text/plain": [
       "<matplotlib.figure.Figure at 0x7f78bd5c6d10>"
      ]
     },
     "metadata": {},
     "output_type": "display_data"
    }
   ],
   "source": [
    "plt.scatter(data['parameters']/data['layers'],data['training f1-score'], label='training f1')\n",
    "plt.scatter(data['parameters']/data['layers'], data['validation f1-score'], label='validation f1')\n",
    "plt.title('params / layer vs score')\n",
    "plt.show()"
   ]
  },
  {
   "cell_type": "code",
   "execution_count": 67,
   "metadata": {
    "collapsed": false
   },
   "outputs": [
    {
     "data": {
      "image/png": "[encoded data removed]",
      "text/plain": [
       "<matplotlib.figure.Figure at 0x7f78bd962c90>"
      ]
     },
     "metadata": {},
     "output_type": "display_data"
    }
   ],
   "source": [
    "plt.scatter(data['nodes']/data['layers'],data['training f1-score'], label='training f1')\n",
    "plt.scatter(data['nodes']/data['layers'], data['validation f1-score'], label='validation f1')\n",
    "plt.title('nodes / layer vs score')\n",
    "plt.show()"
   ]
  },
  {
   "cell_type": "code",
   "execution_count": null,
   "metadata": {
    "collapsed": true
   },
   "outputs": [],
   "source": []
  }
 ],
 "metadata": {
  "kernelspec": {
   "display_name": "Python 2",
   "language": "python",
   "name": "python2"
  },
  "language_info": {
   "codemirror_mode": {
    "name": "ipython",
    "version": 2
   },
   "file_extension": ".py",
   "mimetype": "text/x-python",
   "name": "python",
   "nbconvert_exporter": "python",
   "pygments_lexer": "ipython2",
   "version": "2.7.12"
  }
 },
 "nbformat": 4,
 "nbformat_minor": 2
}
