{
 "cells": [
  {
   "cell_type": "code",
   "execution_count": 4,
   "metadata": {
    "collapsed": false
   },
   "outputs": [],
   "source": [
    "import datasets\n",
    "import utils\n",
    "import env\n",
    "import os"
   ]
  },
  {
   "cell_type": "code",
   "execution_count": 5,
   "metadata": {
    "collapsed": false
   },
   "outputs": [
    {
     "name": "stdout",
     "output_type": "stream",
     "text": [
      "EURJPY ['2009', '2010', '2011', '2012', '2013', '2014', '2015', '2016']\n",
      "GBPUSD ['2009', '2010', '2011', '2012', '2013', '2014', '2015', '2016']\n",
      "EURGBP ['2009', '2010', '2011', '2012', '2013', '2014', '2015', '2016']\n",
      "XAUUSD ['2009', '2010', '2011', '2012', '2013', '2014', '2015', '2016']\n",
      "GBPJPY ['2009', '2010', '2011', '2012', '2013', '2014', '2015', '2016']\n",
      "EURUSD ['2009', '2010', '2011', '2012', '2013', '2014', '2015', '2016']\n",
      "GBPCHF ['2009', '2010', '2011', '2012', '2013', '2014', '2015', '2016']\n",
      "USDJPY ['2009', '2010', '2011', '2012', '2013', '2014', '2015', '2016']\n",
      "XAUGBP ['2009', '2010', '2011', '2012', '2013', '2014', '2015', '2016']\n",
      "XAGUSD ['2009', '2010', '2011', '2012', '2013', '2014', '2015', '2016']\n"
     ]
    }
   ],
   "source": [
    "for sym, years in utils.fx_1minute_bar_catalog().items():\n",
    "    print sym, years"
   ]
  },
  {
   "cell_type": "code",
   "execution_count": 6,
   "metadata": {
    "collapsed": false
   },
   "outputs": [],
   "source": [
    "lookahead=1\n",
    "window = 60"
   ]
  },
  {
   "cell_type": "code",
   "execution_count": 7,
   "metadata": {
    "collapsed": false
   },
   "outputs": [
    {
     "name": "stdout",
     "output_type": "stream",
     "text": [
      "('preparing', './input/DS1-LA001-W060-USDJPY-2009.h5')\n",
      "('saved', './input/DS1-LA001-W060-USDJPY-2009.h5')\n",
      "('preparing', './input/DS1-LA001-W060-USDJPY-2010.h5')\n",
      "('saved', './input/DS1-LA001-W060-USDJPY-2010.h5')\n",
      "('preparing', './input/DS1-LA001-W060-USDJPY-2011.h5')\n",
      "('saved', './input/DS1-LA001-W060-USDJPY-2011.h5')\n",
      "('preparing', './input/DS1-LA001-W060-USDJPY-2012.h5')\n",
      "('saved', './input/DS1-LA001-W060-USDJPY-2012.h5')\n",
      "('preparing', './input/DS1-LA001-W060-USDJPY-2013.h5')\n",
      "('saved', './input/DS1-LA001-W060-USDJPY-2013.h5')\n",
      "('preparing', './input/DS1-LA001-W060-USDJPY-2014.h5')\n",
      "('saved', './input/DS1-LA001-W060-USDJPY-2014.h5')\n",
      "('preparing', './input/DS1-LA001-W060-USDJPY-2015.h5')\n",
      "('saved', './input/DS1-LA001-W060-USDJPY-2015.h5')\n",
      "('preparing', './input/DS1-LA001-W060-USDJPY-2016.h5')\n",
      "('saved', './input/DS1-LA001-W060-USDJPY-2016.h5')\n",
      "('preparing', './input/DS1-LA001-W060-EURUSD-2009.h5')\n",
      "('saved', './input/DS1-LA001-W060-EURUSD-2009.h5')\n",
      "('preparing', './input/DS1-LA001-W060-EURUSD-2010.h5')\n",
      "('saved', './input/DS1-LA001-W060-EURUSD-2010.h5')\n",
      "('preparing', './input/DS1-LA001-W060-EURUSD-2011.h5')\n",
      "('saved', './input/DS1-LA001-W060-EURUSD-2011.h5')\n",
      "('preparing', './input/DS1-LA001-W060-EURUSD-2012.h5')\n",
      "('saved', './input/DS1-LA001-W060-EURUSD-2012.h5')\n",
      "('preparing', './input/DS1-LA001-W060-EURUSD-2013.h5')\n",
      "('saved', './input/DS1-LA001-W060-EURUSD-2013.h5')\n",
      "('preparing', './input/DS1-LA001-W060-EURUSD-2014.h5')\n",
      "('saved', './input/DS1-LA001-W060-EURUSD-2014.h5')\n",
      "('preparing', './input/DS1-LA001-W060-EURUSD-2015.h5')\n",
      "('saved', './input/DS1-LA001-W060-EURUSD-2015.h5')\n",
      "('preparing', './input/DS1-LA001-W060-EURUSD-2016.h5')\n",
      "('saved', './input/DS1-LA001-W060-EURUSD-2016.h5')\n",
      "('preparing', './input/DS1-LA001-W060-XAUUSD-2009.h5')\n",
      "('saved', './input/DS1-LA001-W060-XAUUSD-2009.h5')\n",
      "('preparing', './input/DS1-LA001-W060-XAUUSD-2010.h5')\n",
      "('saved', './input/DS1-LA001-W060-XAUUSD-2010.h5')\n",
      "('preparing', './input/DS1-LA001-W060-XAUUSD-2011.h5')\n",
      "('saved', './input/DS1-LA001-W060-XAUUSD-2011.h5')\n",
      "('preparing', './input/DS1-LA001-W060-XAUUSD-2012.h5')\n",
      "('saved', './input/DS1-LA001-W060-XAUUSD-2012.h5')\n",
      "('preparing', './input/DS1-LA001-W060-XAUUSD-2013.h5')\n",
      "('saved', './input/DS1-LA001-W060-XAUUSD-2013.h5')\n",
      "('preparing', './input/DS1-LA001-W060-XAUUSD-2014.h5')\n",
      "('saved', './input/DS1-LA001-W060-XAUUSD-2014.h5')\n",
      "('preparing', './input/DS1-LA001-W060-XAUUSD-2015.h5')\n",
      "('saved', './input/DS1-LA001-W060-XAUUSD-2015.h5')\n",
      "('preparing', './input/DS1-LA001-W060-XAUUSD-2016.h5')\n",
      "('saved', './input/DS1-LA001-W060-XAUUSD-2016.h5')\n"
     ]
    }
   ],
   "source": [
    "for sym in ['USDJPY','EURUSD', 'XAUUSD']:\n",
    "    for year in ['2009', '2010', '2011', '2012', '2013', '2014', '2015', '2016']:\n",
    "        filename = datasets.filename(dataset='DS1', lookahead=lookahead, window=window, sym=sym, year=year)\n",
    "        print('preparing',filename)\n",
    "\n",
    "        X,Y,prices = datasets.prepare_dataset1(\n",
    "            utils.load_1minute_fx_bars(sym, year), lookahead=lookahead, window=window)\n",
    "        \n",
    "        datasets.save(X=X, Y=Y, prices=prices, filename=filename)\n",
    "        print('saved',filename)"
   ]
  },
  {
   "cell_type": "code",
   "execution_count": 8,
   "metadata": {
    "collapsed": false
   },
   "outputs": [
    {
     "name": "stdout",
     "output_type": "stream",
     "text": [
      "total 31854520\r\n",
      "drwxr-xr-x@ 27 andy  staff        918  5 Mar 11:40 \u001b[34m.\u001b[m\u001b[m/\r\n",
      "drwxr-xr-x@ 38 andy  staff       1292  5 Mar 11:25 \u001b[34m..\u001b[m\u001b[m/\r\n",
      "-rw-r--r--@  1 andy  staff   54870152  5 Mar 11:23 DS1-LA001-W003-USDJPY-2009.h5\r\n",
      "-rw-r--r--@  1 andy  staff  682158248  5 Mar 11:30 DS1-LA001-W060-EURUSD-2009.h5\r\n",
      "-rw-r--r--@  1 andy  staff  675095208  5 Mar 11:31 DS1-LA001-W060-EURUSD-2010.h5\r\n",
      "-rw-r--r--@  1 andy  staff  687096424  5 Mar 11:31 DS1-LA001-W060-EURUSD-2011.h5\r\n",
      "-rw-r--r--@  1 andy  staff  714459752  5 Mar 11:32 DS1-LA001-W060-EURUSD-2012.h5\r\n",
      "-rw-r--r--@  1 andy  staff  711384552  5 Mar 11:32 DS1-LA001-W060-EURUSD-2013.h5\r\n",
      "-rw-r--r--@  1 andy  staff  703182696  5 Mar 11:33 DS1-LA001-W060-EURUSD-2014.h5\r\n",
      "-rw-r--r--@  1 andy  staff  714556968  5 Mar 11:34 DS1-LA001-W060-EURUSD-2015.h5\r\n",
      "-rw-r--r--@  1 andy  staff  715487464  5 Mar 11:35 DS1-LA001-W060-EURUSD-2016.h5\r\n",
      "-rw-r--r--@  1 andy  staff  657509032  5 Mar 11:25 DS1-LA001-W060-USDJPY-2009.h5\r\n",
      "-rw-r--r--@  1 andy  staff  628502952  5 Mar 11:25 DS1-LA001-W060-USDJPY-2010.h5\r\n",
      "-rw-r--r--@  1 andy  staff  571859752  5 Mar 11:26 DS1-LA001-W060-USDJPY-2011.h5\r\n",
      "-rw-r--r--@  1 andy  staff  701613352  5 Mar 11:27 DS1-LA001-W060-USDJPY-2012.h5\r\n",
      "-rw-r--r--@  1 andy  staff  711775400  5 Mar 11:27 DS1-LA001-W060-USDJPY-2013.h5\r\n",
      "-rw-r--r--@  1 andy  staff  703706472  5 Mar 11:28 DS1-LA001-W060-USDJPY-2014.h5\r\n",
      "-rw-r--r--@  1 andy  staff  713924072  5 Mar 11:29 DS1-LA001-W060-USDJPY-2015.h5\r\n",
      "-rw-r--r--@  1 andy  staff  714967656  5 Mar 11:29 DS1-LA001-W060-USDJPY-2016.h5\r\n",
      "-rw-r--r--@  1 andy  staff  523892584  5 Mar 11:35 DS1-LA001-W060-XAUUSD-2009.h5\r\n",
      "-rw-r--r--@  1 andy  staff  662945192  5 Mar 11:36 DS1-LA001-W060-XAUUSD-2010.h5\r\n",
      "-rw-r--r--@  1 andy  staff  674988072  5 Mar 11:36 DS1-LA001-W060-XAUUSD-2011.h5\r\n",
      "-rw-r--r--@  1 andy  staff  680009576  5 Mar 11:37 DS1-LA001-W060-XAUUSD-2012.h5\r\n",
      "-rw-r--r--@  1 andy  staff  680729768  5 Mar 11:37 DS1-LA001-W060-XAUUSD-2013.h5\r\n",
      "-rw-r--r--@  1 andy  staff  673678632  5 Mar 11:38 DS1-LA001-W060-XAUUSD-2014.h5\r\n",
      "-rw-r--r--@  1 andy  staff  673797672  5 Mar 11:39 DS1-LA001-W060-XAUUSD-2015.h5\r\n",
      "-rw-r--r--@  1 andy  staff  677267688  5 Mar 11:40 DS1-LA001-W060-XAUUSD-2016.h5\r\n"
     ]
    }
   ],
   "source": [
    "ls -al ./input/"
   ]
  },
  {
   "cell_type": "code",
   "execution_count": 1,
   "metadata": {
    "collapsed": false
   },
   "outputs": [],
   "source": [
    "import datasets\n",
    "X,Y,prices = datasets.load('./input/DS1-LA001-W060-USDJPY-2015.h5')"
   ]
  },
  {
   "cell_type": "code",
   "execution_count": 13,
   "metadata": {
    "collapsed": false
   },
   "outputs": [
    {
     "data": {
      "text/plain": [
       "ts\n",
       "2015-01-14 01:34:00    116.836\n",
       "2015-01-14 01:35:00    116.859\n",
       "2015-01-14 01:36:00    116.839\n",
       "2015-01-14 01:37:00    116.850\n",
       "2015-01-14 01:38:00    116.851\n",
       "2015-01-14 01:39:00    116.864\n",
       "2015-01-14 01:40:00    116.843\n",
       "2015-01-14 01:41:00    116.847\n",
       "2015-01-14 01:42:00    116.823\n",
       "2015-01-14 01:43:00    116.800\n",
       "2015-01-14 01:44:00    116.784\n",
       "2015-01-14 01:45:00    116.813\n",
       "2015-01-14 01:46:00    116.827\n",
       "2015-01-14 01:47:00    116.814\n",
       "2015-01-14 01:48:00    116.782\n",
       "2015-01-14 01:49:00    116.822\n",
       "2015-01-14 01:50:00    116.815\n",
       "2015-01-14 01:51:00    116.785\n",
       "2015-01-14 01:52:00    116.828\n",
       "2015-01-14 01:53:00    116.843\n",
       "2015-01-14 01:54:00    116.831\n",
       "2015-01-14 01:55:00    116.869\n",
       "2015-01-14 01:56:00    116.872\n",
       "2015-01-14 01:57:00    116.895\n",
       "2015-01-14 01:58:00    116.952\n",
       "2015-01-14 01:59:00    116.937\n",
       "2015-01-14 02:00:00    116.937\n",
       "2015-01-14 02:01:00    117.008\n",
       "2015-01-14 02:02:00    116.976\n",
       "2015-01-14 02:03:00    117.059\n",
       "                        ...   \n",
       "2015-12-31 16:28:00    120.196\n",
       "2015-12-31 16:29:00    120.194\n",
       "2015-12-31 16:30:00    120.196\n",
       "2015-12-31 16:31:00    120.185\n",
       "2015-12-31 16:32:00    120.185\n",
       "2015-12-31 16:33:00    120.189\n",
       "2015-12-31 16:34:00    120.191\n",
       "2015-12-31 16:35:00    120.192\n",
       "2015-12-31 16:36:00    120.193\n",
       "2015-12-31 16:37:00    120.192\n",
       "2015-12-31 16:38:00    120.192\n",
       "2015-12-31 16:39:00    120.194\n",
       "2015-12-31 16:40:00    120.193\n",
       "2015-12-31 16:41:00    120.196\n",
       "2015-12-31 16:42:00    120.198\n",
       "2015-12-31 16:43:00    120.196\n",
       "2015-12-31 16:44:00    120.203\n",
       "2015-12-31 16:45:00    120.226\n",
       "2015-12-31 16:46:00    120.238\n",
       "2015-12-31 16:47:00    120.263\n",
       "2015-12-31 16:48:00    120.271\n",
       "2015-12-31 16:49:00    120.301\n",
       "2015-12-31 16:50:00    120.313\n",
       "2015-12-31 16:51:00    120.329\n",
       "2015-12-31 16:52:00    120.305\n",
       "2015-12-31 16:53:00    120.303\n",
       "2015-12-31 16:54:00    120.309\n",
       "2015-12-31 16:55:00    120.292\n",
       "2015-12-31 16:56:00    120.291\n",
       "2015-12-31 16:57:00    120.235\n",
       "Name: close, dtype: float64"
      ]
     },
     "execution_count": 13,
     "metadata": {},
     "output_type": "execute_result"
    }
   ],
   "source": [
    "prices"
   ]
  }
 ],
 "metadata": {
  "kernelspec": {
   "display_name": "Python 2",
   "language": "python",
   "name": "python2"
  },
  "language_info": {
   "codemirror_mode": {
    "name": "ipython",
    "version": 2
   },
   "file_extension": ".py",
   "mimetype": "text/x-python",
   "name": "python",
   "nbconvert_exporter": "python",
   "pygments_lexer": "ipython2",
   "version": "2.7.13"
  }
 },
 "nbformat": 4,
 "nbformat_minor": 1
}
