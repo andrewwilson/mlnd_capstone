{
 "cells": [
  {
   "cell_type": "code",
   "execution_count": 11,
   "metadata": {
    "collapsed": false
   },
   "outputs": [],
   "source": [
    "from __future__ import print_function, division\n",
    "import datasets\n",
    "import utils\n",
    "import env\n",
    "import os\n",
    "import numpy as np\n",
    "import pandas as pd"
   ]
  },
  {
   "cell_type": "code",
   "execution_count": 12,
   "metadata": {
    "collapsed": false
   },
   "outputs": [
    {
     "name": "stdout",
     "output_type": "stream",
     "text": [
      "XAUUSD ['2009', '2010', '2011', '2012', '2013', '2014', '2015', '2016']\n",
      "EURUSD ['2009', '2010', '2011', '2012', '2013', '2014', '2015', '2016']\n",
      "EURSEK ['2009', '2010', '2011', '2012', '2013', '2014', '2015', '2016']\n",
      "USDJPY ['2009', '2010', '2011', '2012', '2013', '2014', '2015', '2016']\n"
     ]
    }
   ],
   "source": [
    "for sym, years in utils.fx_1minute_bar_catalog().items():\n",
    "    print(sym, years)"
   ]
  },
  {
   "cell_type": "code",
   "execution_count": 13,
   "metadata": {
    "collapsed": false
   },
   "outputs": [],
   "source": [
    "lookahead=1\n",
    "n_periods = 25"
   ]
  },
  {
   "cell_type": "code",
   "execution_count": 15,
   "metadata": {
    "collapsed": false
   },
   "outputs": [
    {
     "name": "stdout",
     "output_type": "stream",
     "text": [
      "preparing ./input/DS3-LA001-W025-EURSEK-2015.h5\n",
      "saved ./input/DS3-LA001-W025-EURSEK-2015.h5\n",
      "preparing ./input/DS3-LA001-W025-EURSEK-2016.h5\n",
      "saved ./input/DS3-LA001-W025-EURSEK-2016.h5\n"
     ]
    }
   ],
   "source": [
    "## individual 1 yr sets. Validation 2015, Test 2016\n",
    "# use dataset3 logic, and resampling with 10 minute max forward fill.\n",
    "sym='EURSEK'\n",
    "   \n",
    "for year in ['2015', '2016']:\n",
    "        filename = datasets.filename(dataset='DS3', lookahead=lookahead, n_periods=n_periods, sym=sym, year=year)\n",
    "        print('preparing',filename)\n",
    "\n",
    "        X,Y,prices = datasets.prepare_dataset3(\n",
    "            utils.load_1minute_fx_bars(sym, year), lookahead=lookahead, n_periods=n_periods)\n",
    "        \n",
    "        datasets.save(X=X, Y=Y, prices=prices, filename=filename)\n",
    "        print('saved',filename)\n"
   ]
  },
  {
   "cell_type": "code",
   "execution_count": null,
   "metadata": {
    "collapsed": false,
    "scrolled": true
   },
   "outputs": [],
   "source": [
    "## large 6yr training sets. Train 2009-2014. Validation 2015, Test 2016\n",
    "# use dataset3 logic, and resampling with 10 minute max forward fill.\n",
    "sym='EURUSD'\n",
    "lookahead=1\n",
    "n_periods = 25\n",
    "\n",
    "filename = datasets.filename(dataset='DS3', lookahead=lookahead, n_periods=n_periods, sym=sym, year=20092014)\n",
    "print('preparing',filename)\n",
    "\n",
    "all_prices = None\n",
    "for year in ['2009', '2010', '2011', '2012', '2013', '2014']:\n",
    "    prices = utils.load_1minute_fx_bars(sym, year)\n",
    "    if all_prices is None:\n",
    "        all_prices = prices\n",
    "    else:\n",
    "        all_prices = pd.concat([all_prices, prices])\n",
    "\n",
    "X,Y,prices = datasets.prepare_dataset3(\n",
    "    all_prices, lookahead=lookahead, n_periods=n_periods)\n",
    "        \n",
    "datasets.save(X=X, Y=Y, prices=prices, filename=filename)\n",
    "print('saved',filename)\n",
    "\n",
    "X.describe().transpose()"
   ]
  },
  {
   "cell_type": "code",
   "execution_count": null,
   "metadata": {
    "collapsed": false
   },
   "outputs": [],
   "source": [
    "X.describe().transpose()"
   ]
  },
  {
   "cell_type": "code",
   "execution_count": null,
   "metadata": {
    "collapsed": false
   },
   "outputs": [],
   "source": []
  },
  {
   "cell_type": "code",
   "execution_count": null,
   "metadata": {
    "collapsed": false
   },
   "outputs": [],
   "source": [
    "import datasets\n",
    "#X,Y,prices, fut_returns = datasets.load('./input/DS1-LA001-W060-EURSEK-2015.h5')\n",
    "X,Y,prices = datasets.load('./input/DS3-LA001-W025-USDJPY-2016.h5')\n",
    "X.shape"
   ]
  },
  {
   "cell_type": "code",
   "execution_count": null,
   "metadata": {
    "collapsed": false
   },
   "outputs": [],
   "source": [
    "X.describe().transpose()"
   ]
  },
  {
   "cell_type": "code",
   "execution_count": null,
   "metadata": {
    "collapsed": true
   },
   "outputs": [],
   "source": []
  }
 ],
 "metadata": {
  "kernelspec": {
   "display_name": "Python 2",
   "language": "python",
   "name": "python2"
  },
  "language_info": {
   "codemirror_mode": {
    "name": "ipython",
    "version": 2
   },
   "file_extension": ".py",
   "mimetype": "text/x-python",
   "name": "python",
   "nbconvert_exporter": "python",
   "pygments_lexer": "ipython2",
   "version": "2.7.13"
  }
 },
 "nbformat": 4,
 "nbformat_minor": 1
}
