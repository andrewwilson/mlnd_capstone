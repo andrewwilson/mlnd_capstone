{
 "cells": [
  {
   "cell_type": "code",
   "execution_count": 1,
   "metadata": {
    "collapsed": false
   },
   "outputs": [],
   "source": [
    "from __future__ import print_function, division\n",
    "import datasets\n",
    "import utils\n",
    "import env\n",
    "import os"
   ]
  },
  {
   "cell_type": "code",
   "execution_count": 2,
   "metadata": {
    "collapsed": false
   },
   "outputs": [
    {
     "name": "stdout",
     "output_type": "stream",
     "text": [
      "EURSEK ['2009', '2010', '2011', '2012', '2013', '2014', '2015', '2016']\n"
     ]
    }
   ],
   "source": [
    "for sym, years in utils.fx_1minute_bar_catalog().items():\n",
    "    print sym, years"
   ]
  },
  {
   "cell_type": "code",
   "execution_count": 3,
   "metadata": {
    "collapsed": false
   },
   "outputs": [],
   "source": [
    "lookahead=1\n",
    "window = 60"
   ]
  },
  {
   "cell_type": "code",
   "execution_count": 5,
   "metadata": {
    "collapsed": false
   },
   "outputs": [
    {
     "name": "stdout",
     "output_type": "stream",
     "text": [
      "('preparing', './input/DS1-LA001-W060-EURSEK-2009.h5')\n",
      "('saved', './input/DS1-LA001-W060-EURSEK-2009.h5')\n",
      "('preparing', './input/DS1-LA001-W060-EURSEK-2010.h5')\n",
      "('saved', './input/DS1-LA001-W060-EURSEK-2010.h5')\n",
      "('preparing', './input/DS1-LA001-W060-EURSEK-2011.h5')\n",
      "('saved', './input/DS1-LA001-W060-EURSEK-2011.h5')\n",
      "('preparing', './input/DS1-LA001-W060-EURSEK-2012.h5')\n",
      "('saved', './input/DS1-LA001-W060-EURSEK-2012.h5')\n",
      "('preparing', './input/DS1-LA001-W060-EURSEK-2013.h5')\n",
      "('saved', './input/DS1-LA001-W060-EURSEK-2013.h5')\n",
      "('preparing', './input/DS1-LA001-W060-EURSEK-2014.h5')\n",
      "('saved', './input/DS1-LA001-W060-EURSEK-2014.h5')\n",
      "('preparing', './input/DS1-LA001-W060-EURSEK-2015.h5')\n",
      "('saved', './input/DS1-LA001-W060-EURSEK-2015.h5')\n",
      "('preparing', './input/DS1-LA001-W060-EURSEK-2016.h5')\n",
      "('saved', './input/DS1-LA001-W060-EURSEK-2016.h5')\n"
     ]
    }
   ],
   "source": [
    "for sym in ['USDJPY','EURUSD', 'XAUUSD']:\n",
    "#for sym in ['EURSEK']:\n",
    "    for year in ['2009', '2010', '2011', '2012', '2013', '2014', '2015', '2016']:\n",
    "        filename = datasets.filename(dataset='DS1', lookahead=lookahead, window=window, sym=sym, year=year)\n",
    "        print('preparing',filename)\n",
    "\n",
    "        X,Y,prices,fut_returns = datasets.prepare_dataset1(\n",
    "            utils.load_1minute_fx_bars(sym, year), lookahead=lookahead, window=window)\n",
    "        \n",
    "        datasets.save(X=X, Y=Y, prices=prices, future_returns=fut_returns, filename=filename)\n",
    "        print('saved',filename)"
   ]
  },
  {
   "cell_type": "code",
   "execution_count": 7,
   "metadata": {
    "collapsed": false
   },
   "outputs": [
    {
     "name": "stdout",
     "output_type": "stream",
     "text": [
      "total 40708488\r\n",
      "drwxr-xr-x@ 35 andy  staff       1190  6 Mar 08:18 \u001b[34m.\u001b[m\u001b[m/\r\n",
      "drwxr-xr-x@ 40 andy  staff       1360  6 Mar 08:19 \u001b[34m..\u001b[m\u001b[m/\r\n",
      "-rw-r--r--@  1 andy  staff   54870152  5 Mar 11:23 DS1-LA001-W003-USDJPY-2009.h5\r\n",
      "-rw-r--r--@  1 andy  staff  373019448  6 Mar 08:15 DS1-LA001-W060-EURSEK-2009.h5\r\n",
      "-rw-r--r--@  1 andy  staff  437507448  6 Mar 08:15 DS1-LA001-W060-EURSEK-2010.h5\r\n",
      "-rw-r--r--@  1 andy  staff  503603448  6 Mar 08:15 DS1-LA001-W060-EURSEK-2011.h5\r\n",
      "-rw-r--r--@  1 andy  staff  618785448  6 Mar 08:16 DS1-LA001-W060-EURSEK-2012.h5\r\n",
      "-rw-r--r--@  1 andy  staff  627153448  6 Mar 08:16 DS1-LA001-W060-EURSEK-2013.h5\r\n",
      "-rw-r--r--@  1 andy  staff  638715448  6 Mar 08:17 DS1-LA001-W060-EURSEK-2014.h5\r\n",
      "-rw-r--r--@  1 andy  staff  657407448  6 Mar 08:18 DS1-LA001-W060-EURSEK-2015.h5\r\n",
      "-rw-r--r--@  1 andy  staff  677021448  6 Mar 08:18 DS1-LA001-W060-EURSEK-2016.h5\r\n",
      "-rw-r--r--@  1 andy  staff  682158248  5 Mar 13:14 DS1-LA001-W060-EURUSD-2009.h5\r\n",
      "-rw-r--r--@  1 andy  staff  675095208  5 Mar 13:14 DS1-LA001-W060-EURUSD-2010.h5\r\n",
      "-rw-r--r--@  1 andy  staff  687096424  5 Mar 13:14 DS1-LA001-W060-EURUSD-2011.h5\r\n",
      "-rw-r--r--@  1 andy  staff  714459752  5 Mar 13:14 DS1-LA001-W060-EURUSD-2012.h5\r\n",
      "-rw-r--r--@  1 andy  staff  711384552  5 Mar 13:14 DS1-LA001-W060-EURUSD-2013.h5\r\n",
      "-rw-r--r--@  1 andy  staff  703182696  5 Mar 13:14 DS1-LA001-W060-EURUSD-2014.h5\r\n",
      "-rw-r--r--@  1 andy  staff  714556968  5 Mar 13:14 DS1-LA001-W060-EURUSD-2015.h5\r\n",
      "-rw-r--r--@  1 andy  staff  715487464  5 Mar 13:14 DS1-LA001-W060-EURUSD-2016.h5\r\n",
      "-rw-r--r--@  1 andy  staff  657509032  5 Mar 13:14 DS1-LA001-W060-USDJPY-2009.h5\r\n",
      "-rw-r--r--@  1 andy  staff  628502952  5 Mar 13:14 DS1-LA001-W060-USDJPY-2010.h5\r\n",
      "-rw-r--r--@  1 andy  staff  571859752  5 Mar 13:14 DS1-LA001-W060-USDJPY-2011.h5\r\n",
      "-rw-r--r--@  1 andy  staff  701613352  5 Mar 13:14 DS1-LA001-W060-USDJPY-2012.h5\r\n",
      "-rw-r--r--@  1 andy  staff  711775400  5 Mar 13:14 DS1-LA001-W060-USDJPY-2013.h5\r\n",
      "-rw-r--r--@  1 andy  staff  703706472  5 Mar 13:14 DS1-LA001-W060-USDJPY-2014.h5\r\n",
      "-rw-r--r--@  1 andy  staff  713924072  5 Mar 13:14 DS1-LA001-W060-USDJPY-2015.h5\r\n",
      "-rw-r--r--@  1 andy  staff  714967656  5 Mar 13:14 DS1-LA001-W060-USDJPY-2016.h5\r\n",
      "-rw-r--r--@  1 andy  staff  523892584  5 Mar 13:14 DS1-LA001-W060-XAUUSD-2009.h5\r\n",
      "-rw-r--r--@  1 andy  staff  662945192  5 Mar 13:14 DS1-LA001-W060-XAUUSD-2010.h5\r\n",
      "-rw-r--r--@  1 andy  staff  674988072  5 Mar 13:14 DS1-LA001-W060-XAUUSD-2011.h5\r\n",
      "-rw-r--r--@  1 andy  staff  680009576  5 Mar 13:14 DS1-LA001-W060-XAUUSD-2012.h5\r\n",
      "-rw-r--r--@  1 andy  staff  680729768  5 Mar 13:14 DS1-LA001-W060-XAUUSD-2013.h5\r\n",
      "-rw-r--r--@  1 andy  staff  673678632  5 Mar 13:14 DS1-LA001-W060-XAUUSD-2014.h5\r\n",
      "-rw-r--r--@  1 andy  staff  673797672  5 Mar 13:14 DS1-LA001-W060-XAUUSD-2015.h5\r\n",
      "-rw-r--r--@  1 andy  staff  677267688  5 Mar 13:14 DS1-LA001-W060-XAUUSD-2016.h5\r\n"
     ]
    }
   ],
   "source": [
    "ls -al ./input/"
   ]
  },
  {
   "cell_type": "code",
   "execution_count": 8,
   "metadata": {
    "collapsed": false
   },
   "outputs": [],
   "source": [
    "import datasets\n",
    "X,Y,prices, fut_returns = datasets.load('./input/DS1-LA001-W060-EURSEK-2015.h5')"
   ]
  },
  {
   "cell_type": "code",
   "execution_count": 10,
   "metadata": {
    "collapsed": false
   },
   "outputs": [
    {
     "data": {
      "text/plain": [
       "ts\n",
       "2015-01-14 21:42:00    0.000857\n",
       "2015-01-14 21:44:00    0.000066\n",
       "2015-01-14 21:45:00   -0.000880\n",
       "2015-01-14 21:46:00   -0.000080\n",
       "2015-01-14 21:47:00   -0.000073\n",
       "2015-01-14 21:48:00    0.000169\n",
       "2015-01-14 21:49:00   -0.000112\n",
       "2015-01-14 21:50:00    0.000009\n",
       "2015-01-14 21:51:00    0.000000\n",
       "2015-01-14 21:52:00    0.000103\n",
       "2015-01-14 21:53:00   -0.000012\n",
       "2015-01-14 21:54:00    0.000000\n",
       "2015-01-14 21:55:00    0.000029\n",
       "2015-01-14 21:56:00    0.000024\n",
       "2015-01-14 21:57:00   -0.000005\n",
       "2015-01-14 21:59:00    0.000003\n",
       "2015-01-14 22:00:00    0.000045\n",
       "2015-01-14 22:01:00   -0.000001\n",
       "2015-01-14 22:02:00    0.000000\n",
       "2015-01-14 22:03:00    0.000006\n",
       "2015-01-14 22:04:00   -0.000125\n",
       "2015-01-14 22:05:00    0.000009\n",
       "2015-01-14 22:06:00    0.000078\n",
       "2015-01-14 22:07:00   -0.000644\n",
       "2015-01-14 22:08:00    0.000039\n",
       "2015-01-14 22:09:00    0.000047\n",
       "2015-01-14 22:10:00    0.000007\n",
       "2015-01-14 22:11:00    0.000076\n",
       "2015-01-14 22:12:00    0.000086\n",
       "2015-01-14 22:13:00   -0.000023\n",
       "                         ...   \n",
       "2015-12-31 16:28:00    0.000000\n",
       "2015-12-31 16:29:00   -0.000139\n",
       "2015-12-31 16:30:00    0.000017\n",
       "2015-12-31 16:31:00    0.000011\n",
       "2015-12-31 16:32:00    0.000000\n",
       "2015-12-31 16:33:00    0.000011\n",
       "2015-12-31 16:34:00   -0.000005\n",
       "2015-12-31 16:35:00    0.000005\n",
       "2015-12-31 16:37:00    0.000000\n",
       "2015-12-31 16:38:00    0.000016\n",
       "2015-12-31 16:39:00   -0.000005\n",
       "2015-12-31 16:40:00    0.000011\n",
       "2015-12-31 16:41:00   -0.000005\n",
       "2015-12-31 16:42:00    0.000005\n",
       "2015-12-31 16:43:00    0.000127\n",
       "2015-12-31 16:44:00   -0.000027\n",
       "2015-12-31 16:45:00   -0.000044\n",
       "2015-12-31 16:46:00   -0.000049\n",
       "2015-12-31 16:47:00   -0.000031\n",
       "2015-12-31 16:48:00    0.000055\n",
       "2015-12-31 16:49:00    0.000000\n",
       "2015-12-31 16:50:00   -0.000082\n",
       "2015-12-31 16:51:00    0.000136\n",
       "2015-12-31 16:52:00    0.000000\n",
       "2015-12-31 16:53:00    0.000000\n",
       "2015-12-31 16:54:00    0.000022\n",
       "2015-12-31 16:55:00   -0.000049\n",
       "2015-12-31 16:56:00    0.000052\n",
       "2015-12-31 16:57:00   -0.000099\n",
       "2015-12-31 16:58:00         NaN\n",
       "Name: close, dtype: float64"
      ]
     },
     "execution_count": 10,
     "metadata": {},
     "output_type": "execute_result"
    }
   ],
   "source": [
    "fut_returns"
   ]
  }
 ],
 "metadata": {
  "kernelspec": {
   "display_name": "Python 2",
   "language": "python",
   "name": "python2"
  },
  "language_info": {
   "codemirror_mode": {
    "name": "ipython",
    "version": 2
   },
   "file_extension": ".py",
   "mimetype": "text/x-python",
   "name": "python",
   "nbconvert_exporter": "python",
   "pygments_lexer": "ipython2",
   "version": "2.7.13"
  }
 },
 "nbformat": 4,
 "nbformat_minor": 1
}
