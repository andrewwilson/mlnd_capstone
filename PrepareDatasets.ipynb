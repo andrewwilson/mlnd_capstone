{
 "cells": [
  {
   "cell_type": "code",
   "execution_count": 1,
   "metadata": {
    "collapsed": false
   },
   "outputs": [],
   "source": [
    "from __future__ import print_function, division\n",
    "import datasets\n",
    "import utils\n",
    "import env\n",
    "import os"
   ]
  },
  {
   "cell_type": "code",
   "execution_count": 4,
   "metadata": {
    "collapsed": false
   },
   "outputs": [
    {
     "name": "stdout",
     "output_type": "stream",
     "text": [
      "XAUUSD ['2009', '2010', '2011', '2012', '2013', '2014', '2015', '2016']\n",
      "EURUSD ['2009', '2010', '2011', '2012', '2013', '2014', '2015', '2016']\n",
      "EURSEK ['2009', '2010', '2011', '2012', '2013', '2014', '2015', '2016']\n",
      "USDJPY ['2009', '2010', '2011', '2012', '2013', '2014', '2015', '2016']\n"
     ]
    }
   ],
   "source": [
    "for sym, years in utils.fx_1minute_bar_catalog().items():\n",
    "    print(sym, years)"
   ]
  },
  {
   "cell_type": "code",
   "execution_count": 5,
   "metadata": {
    "collapsed": false
   },
   "outputs": [],
   "source": [
    "lookahead=1\n",
    "window = 60"
   ]
  },
  {
   "cell_type": "code",
   "execution_count": 6,
   "metadata": {
    "collapsed": false
   },
   "outputs": [
    {
     "name": "stdout",
     "output_type": "stream",
     "text": [
      "preparing ./input/DS1-LA001-W060-USDJPY-2009.h5\n",
      "saved ./input/DS1-LA001-W060-USDJPY-2009.h5\n",
      "preparing ./input/DS1-LA001-W060-USDJPY-2010.h5\n",
      "saved ./input/DS1-LA001-W060-USDJPY-2010.h5\n",
      "preparing ./input/DS1-LA001-W060-USDJPY-2011.h5\n",
      "saved ./input/DS1-LA001-W060-USDJPY-2011.h5\n",
      "preparing ./input/DS1-LA001-W060-USDJPY-2012.h5\n",
      "saved ./input/DS1-LA001-W060-USDJPY-2012.h5\n",
      "preparing ./input/DS1-LA001-W060-USDJPY-2013.h5\n",
      "saved ./input/DS1-LA001-W060-USDJPY-2013.h5\n",
      "preparing ./input/DS1-LA001-W060-USDJPY-2014.h5\n",
      "saved ./input/DS1-LA001-W060-USDJPY-2014.h5\n",
      "preparing ./input/DS1-LA001-W060-USDJPY-2015.h5\n",
      "saved ./input/DS1-LA001-W060-USDJPY-2015.h5\n",
      "preparing ./input/DS1-LA001-W060-USDJPY-2016.h5\n",
      "saved ./input/DS1-LA001-W060-USDJPY-2016.h5\n",
      "preparing ./input/DS1-LA001-W060-EURUSD-2009.h5\n",
      "saved ./input/DS1-LA001-W060-EURUSD-2009.h5\n",
      "preparing ./input/DS1-LA001-W060-EURUSD-2010.h5\n",
      "saved ./input/DS1-LA001-W060-EURUSD-2010.h5\n",
      "preparing ./input/DS1-LA001-W060-EURUSD-2011.h5\n",
      "saved ./input/DS1-LA001-W060-EURUSD-2011.h5\n",
      "preparing ./input/DS1-LA001-W060-EURUSD-2012.h5\n",
      "saved ./input/DS1-LA001-W060-EURUSD-2012.h5\n",
      "preparing ./input/DS1-LA001-W060-EURUSD-2013.h5\n",
      "saved ./input/DS1-LA001-W060-EURUSD-2013.h5\n",
      "preparing ./input/DS1-LA001-W060-EURUSD-2014.h5\n",
      "saved ./input/DS1-LA001-W060-EURUSD-2014.h5\n",
      "preparing ./input/DS1-LA001-W060-EURUSD-2015.h5\n",
      "saved ./input/DS1-LA001-W060-EURUSD-2015.h5\n",
      "preparing ./input/DS1-LA001-W060-EURUSD-2016.h5\n",
      "saved ./input/DS1-LA001-W060-EURUSD-2016.h5\n",
      "preparing ./input/DS1-LA001-W060-XAUUSD-2009.h5\n",
      "saved ./input/DS1-LA001-W060-XAUUSD-2009.h5\n",
      "preparing ./input/DS1-LA001-W060-XAUUSD-2010.h5\n",
      "saved ./input/DS1-LA001-W060-XAUUSD-2010.h5\n",
      "preparing ./input/DS1-LA001-W060-XAUUSD-2011.h5\n",
      "saved ./input/DS1-LA001-W060-XAUUSD-2011.h5\n",
      "preparing ./input/DS1-LA001-W060-XAUUSD-2012.h5\n",
      "saved ./input/DS1-LA001-W060-XAUUSD-2012.h5\n",
      "preparing ./input/DS1-LA001-W060-XAUUSD-2013.h5\n",
      "saved ./input/DS1-LA001-W060-XAUUSD-2013.h5\n",
      "preparing ./input/DS1-LA001-W060-XAUUSD-2014.h5\n",
      "saved ./input/DS1-LA001-W060-XAUUSD-2014.h5\n",
      "preparing ./input/DS1-LA001-W060-XAUUSD-2015.h5\n",
      "saved ./input/DS1-LA001-W060-XAUUSD-2015.h5\n",
      "preparing ./input/DS1-LA001-W060-XAUUSD-2016.h5\n",
      "saved ./input/DS1-LA001-W060-XAUUSD-2016.h5\n"
     ]
    }
   ],
   "source": [
    "for sym in ['USDJPY','EURUSD', 'XAUUSD']:\n",
    "#for sym in ['EURSEK']:\n",
    "    for year in ['2009', '2010', '2011', '2012', '2013', '2014', '2015', '2016']:\n",
    "        filename = datasets.filename(dataset='DS1', lookahead=lookahead, window=window, sym=sym, year=year)\n",
    "        print('preparing',filename)\n",
    "\n",
    "        X,Y,prices,fut_returns = datasets.prepare_dataset1(\n",
    "            utils.load_1minute_fx_bars(sym, year), lookahead=lookahead, window=window)\n",
    "        \n",
    "        datasets.save(X=X, Y=Y, prices=prices, future_returns=fut_returns, filename=filename)\n",
    "        print('saved',filename)"
   ]
  },
  {
   "cell_type": "code",
   "execution_count": 7,
   "metadata": {
    "collapsed": false
   },
   "outputs": [
    {
     "name": "stdout",
     "output_type": "stream",
     "text": [
      "total 40857424\r\n",
      "drwxr-xr-x@ 34 andy  staff       1156  6 Mar 08:31 \u001b[34m.\u001b[m\u001b[m/\r\n",
      "drwxr-xr-x@ 40 andy  staff       1360  6 Mar 09:32 \u001b[34m..\u001b[m\u001b[m/\r\n",
      "-rw-r--r--@  1 andy  staff  373019448  6 Mar 08:21 DS1-LA001-W060-EURSEK-2009.h5\r\n",
      "-rw-r--r--@  1 andy  staff  437507448  6 Mar 08:21 DS1-LA001-W060-EURSEK-2010.h5\r\n",
      "-rw-r--r--@  1 andy  staff  503603448  6 Mar 08:21 DS1-LA001-W060-EURSEK-2011.h5\r\n",
      "-rw-r--r--@  1 andy  staff  618785448  6 Mar 08:21 DS1-LA001-W060-EURSEK-2012.h5\r\n",
      "-rw-r--r--@  1 andy  staff  627153448  6 Mar 08:21 DS1-LA001-W060-EURSEK-2013.h5\r\n",
      "-rw-r--r--@  1 andy  staff  638715448  6 Mar 08:21 DS1-LA001-W060-EURSEK-2014.h5\r\n",
      "-rw-r--r--@  1 andy  staff  657407448  6 Mar 08:21 DS1-LA001-W060-EURSEK-2015.h5\r\n",
      "-rw-r--r--@  1 andy  staff  677021448  6 Mar 08:21 DS1-LA001-W060-EURSEK-2016.h5\r\n",
      "-rw-r--r--@  1 andy  staff  687661448  6 Mar 08:36 DS1-LA001-W060-EURUSD-2009.h5\r\n",
      "-rw-r--r--@  1 andy  staff  680541448  6 Mar 08:37 DS1-LA001-W060-EURUSD-2010.h5\r\n",
      "-rw-r--r--@  1 andy  staff  692639448  6 Mar 08:37 DS1-LA001-W060-EURUSD-2011.h5\r\n",
      "-rw-r--r--@  1 andy  staff  720223448  6 Mar 09:10 DS1-LA001-W060-EURUSD-2012.h5\r\n",
      "-rw-r--r--@  1 andy  staff  717123448  6 Mar 09:25 DS1-LA001-W060-EURUSD-2013.h5\r\n",
      "-rw-r--r--@  1 andy  staff  708855448  6 Mar 09:26 DS1-LA001-W060-EURUSD-2014.h5\r\n",
      "-rw-r--r--@  1 andy  staff  720321448  6 Mar 09:26 DS1-LA001-W060-EURUSD-2015.h5\r\n",
      "-rw-r--r--@  1 andy  staff  721259448  6 Mar 09:27 DS1-LA001-W060-EURUSD-2016.h5\r\n",
      "-rw-r--r--@  1 andy  staff  662813448  6 Mar 08:30 DS1-LA001-W060-USDJPY-2009.h5\r\n",
      "-rw-r--r--@  1 andy  staff  633573448  6 Mar 08:30 DS1-LA001-W060-USDJPY-2010.h5\r\n",
      "-rw-r--r--@  1 andy  staff  576473448  6 Mar 08:31 DS1-LA001-W060-USDJPY-2011.h5\r\n",
      "-rw-r--r--@  1 andy  staff  707273448  6 Mar 08:32 DS1-LA001-W060-USDJPY-2012.h5\r\n",
      "-rw-r--r--@  1 andy  staff  717517448  6 Mar 08:32 DS1-LA001-W060-USDJPY-2013.h5\r\n",
      "-rw-r--r--@  1 andy  staff  709383448  6 Mar 08:33 DS1-LA001-W060-USDJPY-2014.h5\r\n",
      "-rw-r--r--@  1 andy  staff  719683448  6 Mar 08:34 DS1-LA001-W060-USDJPY-2015.h5\r\n",
      "-rw-r--r--@  1 andy  staff  720735448  6 Mar 08:35 DS1-LA001-W060-USDJPY-2016.h5\r\n",
      "-rw-r--r--@  1 andy  staff  528119448  6 Mar 09:28 DS1-LA001-W060-XAUUSD-2009.h5\r\n",
      "-rw-r--r--@  1 andy  staff  668293448  6 Mar 09:28 DS1-LA001-W060-XAUUSD-2010.h5\r\n",
      "-rw-r--r--@  1 andy  staff  680433448  6 Mar 09:29 DS1-LA001-W060-XAUUSD-2011.h5\r\n",
      "-rw-r--r--@  1 andy  staff  685495448  6 Mar 09:29 DS1-LA001-W060-XAUUSD-2012.h5\r\n",
      "-rw-r--r--@  1 andy  staff  686221448  6 Mar 09:30 DS1-LA001-W060-XAUUSD-2013.h5\r\n",
      "-rw-r--r--@  1 andy  staff  679113448  6 Mar 09:30 DS1-LA001-W060-XAUUSD-2014.h5\r\n",
      "-rw-r--r--@  1 andy  staff  679233448  6 Mar 09:31 DS1-LA001-W060-XAUUSD-2015.h5\r\n",
      "-rw-r--r--@  1 andy  staff  682731448  6 Mar 09:31 DS1-LA001-W060-XAUUSD-2016.h5\r\n"
     ]
    }
   ],
   "source": [
    "ls -al ./input/"
   ]
  },
  {
   "cell_type": "code",
   "execution_count": 12,
   "metadata": {
    "collapsed": false
   },
   "outputs": [],
   "source": [
    "import datasets\n",
    "X,Y,prices, fut_returns = datasets.load('./input/DS1-LA001-W060-EURSEK-2015.h5')"
   ]
  },
  {
   "cell_type": "code",
   "execution_count": 13,
   "metadata": {
    "collapsed": false
   },
   "outputs": [
    {
     "data": {
      "text/plain": [
       "0.00017612881902742618"
      ]
     },
     "execution_count": 13,
     "metadata": {},
     "output_type": "execute_result"
    }
   ],
   "source": [
    "fut_returns.std()"
   ]
  }
 ],
 "metadata": {
  "kernelspec": {
   "display_name": "Python 2",
   "language": "python",
   "name": "python2"
  },
  "language_info": {
   "codemirror_mode": {
    "name": "ipython",
    "version": 2
   },
   "file_extension": ".py",
   "mimetype": "text/x-python",
   "name": "python",
   "nbconvert_exporter": "python",
   "pygments_lexer": "ipython2",
   "version": "2.7.13"
  }
 },
 "nbformat": 4,
 "nbformat_minor": 1
}
