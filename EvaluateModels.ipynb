{
 "cells": [
  {
   "cell_type": "code",
   "execution_count": 1,
   "metadata": {
    "collapsed": false
   },
   "outputs": [
    {
     "name": "stderr",
     "output_type": "stream",
     "text": [
      "Using TensorFlow backend.\n"
     ]
    }
   ],
   "source": [
    "from __future__ import division, print_function\n",
    "import numpy as np\n",
    "import pandas as pd\n",
    "import utils\n",
    "from model01 import MLPModel01\n",
    "from metrics import performance_report\n",
    "import datasets\n",
    "\n",
    "import matplotlib.pyplot as plt\n",
    "import seaborn as sns\n",
    "%matplotlib inline\n",
    "\n",
    "import keras\n",
    "from sklearn.metrics import classification_report, f1_score, accuracy_score, precision_recall_curve, confusion_matrix"
   ]
  },
  {
   "cell_type": "code",
   "execution_count": 2,
   "metadata": {
    "collapsed": true
   },
   "outputs": [],
   "source": [
    "n_categories = 2 # implicit in prepare_data (maybe parameterise)\n",
    "lookahead = 1\n",
    "window = 25\n",
    "sym = 'USDJPY'\n",
    "dataset_name = 'DS2'"
   ]
  },
  {
   "cell_type": "code",
   "execution_count": 3,
   "metadata": {
    "collapsed": false
   },
   "outputs": [],
   "source": [
    "X_train, Y_train, prices_train, fut_return_train = \\\n",
    "    datasets.load(datasets.filename(dataset_name, lookahead, window, sym, 2009))\n",
    "\n",
    "X_dev, Y_dev, prices_dev, fut_return_dev = \\\n",
    "    datasets.load(datasets.filename(dataset_name, lookahead, window, sym, 2010))\n",
    "\n",
    "    # sample 50k records from 2010 as dev set\n",
    "dev_idx = np.random.choice(len(X_dev), 50000, replace=False)\n",
    "X_dev, Y_dev, prices_dev, fut_return_dev = \\\n",
    "    X_dev.ix[dev_idx], Y_dev.ix[dev_idx], prices_dev.ix[dev_idx], fut_return_dev.ix[dev_idx]\n",
    "\n",
    "X_test, Y_test, prices_test, fut_return_test = \\\n",
    "    datasets.load(datasets.filename(dataset_name, lookahead, window, sym, 2011))"
   ]
  },
  {
   "cell_type": "code",
   "execution_count": 4,
   "metadata": {
    "collapsed": false
   },
   "outputs": [
    {
     "name": "stdout",
     "output_type": "stream",
     "text": [
      "train (334974, 99)\n",
      "dev (50000, 99)\n",
      "test (291804, 99)\n",
      "n_features: 99\n"
     ]
    }
   ],
   "source": [
    "print(\"train\", X_train.shape)\n",
    "print(\"dev\", X_dev.shape)\n",
    "print(\"test\", X_test.shape)\n",
    "n_features = X_train.shape[1]\n",
    "print (\"n_features:\", n_features)"
   ]
  },
  {
   "cell_type": "code",
   "execution_count": 5,
   "metadata": {
    "collapsed": false
   },
   "outputs": [],
   "source": [
    "# from sklearn.linear_model import SGDClassifier\n",
    "# lin_model = SGDClassifier(loss='hinge', penalty='l2', n_iter=200, n_jobs=10)\n",
    "# lin_model.fit(X_train.as_matrix(), Y_train)\n",
    "\n",
    "# print( \"train f1\", f1_score(Y_train, lin_model.predict(X_train), average='weighted') )\n",
    "# print( \"test f1\", f1_score(Y_test, lin_model.predict(X_test), average='weighted'))"
   ]
  },
  {
   "cell_type": "code",
   "execution_count": null,
   "metadata": {
    "collapsed": false
   },
   "outputs": [],
   "source": [
    "# from sklearn.linear_model import LogisticRegression\n",
    "# lr_model = LogisticRegression(n_jobs=10)\n",
    "# lr_model.fit(X_train.as_matrix(), Y_train)\n",
    "\n",
    "# print( \"train f1\", f1_score(Y_train, lr_model.predict(X_train), average='weighted') )\n",
    "# print( \"test f1\", f1_score(Y_test, lr_model.predict(X_test), average='weighted'))"
   ]
  },
  {
   "cell_type": "code",
   "execution_count": 6,
   "metadata": {
    "collapsed": false
   },
   "outputs": [
    {
     "name": "stdout",
     "output_type": "stream",
     "text": [
      "train f1 0.521069664243\n",
      "dev f1 0.515350669766\n",
      "test f1 0.527648972427\n"
     ]
    }
   ],
   "source": [
    "from sklearn.naive_bayes import GaussianNB\n",
    "gnb_model = GaussianNB()\n",
    "gnb_model.fit(X_train.as_matrix(), Y_train)\n",
    "\n",
    "print( \"train f1\", f1_score(Y_train, gnb_model.predict(X_train), average='weighted') )\n",
    "print( \"dev f1\", f1_score(Y_dev, gnb_model.predict(X_dev), average='weighted'))\n",
    "print( \"test f1\", f1_score(Y_test, gnb_model.predict(X_test), average='weighted'))"
   ]
  },
  {
   "cell_type": "code",
   "execution_count": 7,
   "metadata": {
    "collapsed": false
   },
   "outputs": [
    {
     "name": "stdout",
     "output_type": "stream",
     "text": [
      "train f1 0.589305808349\n",
      "dev f1 0.604770239158\n",
      "test f1 0.6089402023\n"
     ]
    }
   ],
   "source": [
    "from sklearn.ensemble import AdaBoostClassifier\n",
    "adb_model = AdaBoostClassifier()\n",
    "adb_model.fit(X_train.as_matrix(), Y_train)\n",
    "\n",
    "print( \"train f1\", f1_score(Y_train, adb_model.predict(X_train), average='weighted') )\n",
    "print( \"dev f1\", f1_score(Y_dev, adb_model.predict(X_dev), average='weighted'))\n",
    "print( \"test f1\", f1_score(Y_test, adb_model.predict(X_test), average='weighted'))"
   ]
  },
  {
   "cell_type": "code",
   "execution_count": 8,
   "metadata": {
    "collapsed": false
   },
   "outputs": [
    {
     "name": "stdout",
     "output_type": "stream",
     "text": [
      "train f1 0.563269297825\n",
      "dev f1 0.567891044488\n",
      "test f1 0.575893201386\n"
     ]
    }
   ],
   "source": [
    "from sklearn.ensemble import RandomForestClassifier\n",
    "rf_model = RandomForestClassifier(max_depth=5, n_jobs=12)\n",
    "rf_model.fit(X_train.as_matrix(), Y_train)\n",
    "\n",
    "print( \"train f1\", f1_score(Y_train, rf_model.predict(X_train), average='weighted') )\n",
    "print( \"dev f1\", f1_score(Y_dev, rf_model.predict(X_dev), average='weighted'))\n",
    "print( \"test f1\", f1_score(Y_test, rf_model.predict(X_test), average='weighted'))"
   ]
  },
  {
   "cell_type": "code",
   "execution_count": 9,
   "metadata": {
    "collapsed": true
   },
   "outputs": [],
   "source": [
    "layer_widths = [100,100,100]\n",
    "dropout = 0.5"
   ]
  },
  {
   "cell_type": "code",
   "execution_count": 10,
   "metadata": {
    "collapsed": false
   },
   "outputs": [
    {
     "name": "stdout",
     "output_type": "stream",
     "text": [
      "compilation took: 0.3 seconds\n",
      "Model id:  MLPModel01_20170313_0838_LA1_F99_C2_L100_100_100_DO0.5\n",
      "____________________________________________________________________________________________________\n",
      "Layer (type)                     Output Shape          Param #     Connected to                     \n",
      "====================================================================================================\n",
      "dense_1 (Dense)                  (None, 100)           10000       dense_input_1[0][0]              \n",
      "____________________________________________________________________________________________________\n",
      "dropout_1 (Dropout)              (None, 100)           0           dense_1[0][0]                    \n",
      "____________________________________________________________________________________________________\n",
      "dense_2 (Dense)                  (None, 100)           10100       dropout_1[0][0]                  \n",
      "____________________________________________________________________________________________________\n",
      "dropout_2 (Dropout)              (None, 100)           0           dense_2[0][0]                    \n",
      "____________________________________________________________________________________________________\n",
      "dense_3 (Dense)                  (None, 100)           10100       dropout_2[0][0]                  \n",
      "____________________________________________________________________________________________________\n",
      "dropout_3 (Dropout)              (None, 100)           0           dense_3[0][0]                    \n",
      "____________________________________________________________________________________________________\n",
      "dense_4 (Dense)                  (None, 1)             101         dropout_3[0][0]                  \n",
      "====================================================================================================\n",
      "Total params: 30,301\n",
      "Trainable params: 30,301\n",
      "Non-trainable params: 0\n",
      "____________________________________________________________________________________________________\n",
      "None\n"
     ]
    }
   ],
   "source": [
    "model = MLPModel01(lookahead, n_features, n_categories, layer_widths, dropout)\n",
    "print (model.summary())"
   ]
  },
  {
   "cell_type": "code",
   "execution_count": null,
   "metadata": {
    "collapsed": false,
    "scrolled": false
   },
   "outputs": [],
   "source": [
    "max_epochs = 200\n",
    "hist = model.fit(\n",
    "    X_train.as_matrix(), Y_train, \n",
    "    validation_data=(X_dev.as_matrix(),Y_dev), \n",
    "    max_epochs=max_epochs,\n",
    "    es_patience=100, \n",
    "    es_min_delta=1e-5,\n",
    "    batch_size=1024*50)"
   ]
  },
  {
   "cell_type": "code",
   "execution_count": null,
   "metadata": {
    "collapsed": false
   },
   "outputs": [],
   "source": [
    "plt.plot(model.progress_callback.train_losses[-100:], label='train_loss')\n",
    "plt.plot(model.progress_callback.validation_losses[-100:], label='validation_loss')\n",
    "plt.legend()\n",
    "plt.show()\n",
    "plt.plot(model.progress_callback.train_f1s, label='train_f1')\n",
    "plt.plot(model.progress_callback.validation_f1s, label='validation_f1')\n",
    "\n",
    "plt.legend();"
   ]
  },
  {
   "cell_type": "code",
   "execution_count": null,
   "metadata": {
    "collapsed": false
   },
   "outputs": [],
   "source": [
    "Y_train_pred = model.predict(X_train.as_matrix(), batch_size=1024)\n",
    "Y_train_pred_class = utils.prediction_to_category2(Y_train_pred)\n",
    "\n",
    "Y_dev_pred = model.predict(X_dev.as_matrix(), batch_size=1024)\n",
    "Y_dev_pred_class = utils.prediction_to_category2(Y_dev_pred)\n",
    "\n",
    "Y_test_pred = model.predict(X_test.as_matrix(), batch_size=1024)\n",
    "Y_test_pred_class = utils.prediction_to_category2(Y_test_pred)"
   ]
  },
  {
   "cell_type": "code",
   "execution_count": 11,
   "metadata": {
    "collapsed": true
   },
   "outputs": [],
   "source": [
    "# random forest model\n",
    "Y_test_pred = rf_model.predict(X_test)\n",
    "Y_test_pred_class = utils.prediction_to_category2(Y_test_pred)\n"
   ]
  },
  {
   "cell_type": "code",
   "execution_count": null,
   "metadata": {
    "collapsed": true
   },
   "outputs": [],
   "source": [
    "# adaboost model\n",
    "Y_test_pred = adb_model.predict(X_test)\n",
    "Y_test_pred_class = utils.prediction_to_category2(Y_test_pred)\n"
   ]
  },
  {
   "cell_type": "code",
   "execution_count": null,
   "metadata": {
    "collapsed": true
   },
   "outputs": [],
   "source": [
    "# gaussian naive bayes model\n",
    "Y_test_pred = gnb_model.predict(X_test)\n",
    "Y_test_pred_class = utils.prediction_to_category2(Y_test_pred)\n"
   ]
  },
  {
   "cell_type": "code",
   "execution_count": null,
   "metadata": {
    "collapsed": false
   },
   "outputs": [],
   "source": [
    "Y_test_pred.shape"
   ]
  },
  {
   "cell_type": "code",
   "execution_count": null,
   "metadata": {
    "collapsed": false
   },
   "outputs": [],
   "source": [
    "Y_test_pred = Y_test_pred.reshape(Y_test_pred.shape[0])\n",
    "Y_test_pred_class = Y_test_pred_class.reshape(Y_test_pred_class.shape[0])\n",
    "print (Y_test_pred.shape)"
   ]
  },
  {
   "cell_type": "code",
   "execution_count": null,
   "metadata": {
    "collapsed": false
   },
   "outputs": [],
   "source": [
    "plt.figure(figsize=(8,4))\n",
    "plt.hist(Y_train_pred, alpha=0.5, bins=30, normed=True, label='train')\n",
    "plt.hist(Y_dev_pred, alpha=0.5, bins=30, normed=True, label='dev')\n",
    "plt.hist(Y_test_pred, alpha=0.5, bins=30, normed=True, label='test')\n",
    "\n",
    "plt.hist(Y_train_pred_class, alpha=0.3, normed=True)\n",
    "plt.hist(Y_dev_pred_class, alpha=0.3, normed=True)\n",
    "plt.hist(Y_test_pred_class, alpha=0.3, normed=True)\n",
    "plt.legend()"
   ]
  },
  {
   "cell_type": "code",
   "execution_count": null,
   "metadata": {
    "collapsed": false
   },
   "outputs": [],
   "source": [
    "performance_report(\"train\", prices_train, lookahead, Y_train, Y_train_pred_class)\n",
    "performance_report(\"dev\",  prices_dev,  lookahead, Y_dev, Y_dev_pred_class)\n",
    "performance_report(\"test\",  prices_test,  lookahead, Y_test, Y_test_pred_class)\n",
    "\n",
    "train_curve = precision_recall_curve(Y_train, Y_train_pred)\n",
    "test_curve = precision_recall_curve(Y_test, Y_test_pred)\n",
    "\n",
    "plt.plot(train_curve[0], train_curve[1], label='train')\n",
    "plt.plot(test_curve[0], test_curve[1], label='test')\n",
    "plt.legend()\n",
    "plt.show()\n",
    "sns.heatmap(confusion_matrix(Y_test, Y_test_pred_class))"
   ]
  },
  {
   "cell_type": "markdown",
   "metadata": {},
   "source": [
    "dropout = 0  , lookahead = 1\n",
    "\n",
    "| width | layers    | epochs | train | test |\n",
    "| -----: | ---- :     | ---:    | ---:   | ---:  |\n",
    "| 1     | 1         |  100   | .57   | .58  |\n",
    "| 1     | 100       |  100   | .58   | .59  |\n",
    "| 1     | 100       |  500   | .57   | .59  |\n",
    "| 1     | 100 x 100 |  100 | .58   | .59  |\n",
    "| 10    | 1         |  100 |  .57  | .59  |\n",
    "| 10    | 10        |  100 |  .57  | .58  |\n",
    "| 10    | 100       |  100 |  .58 | .58   |\n",
    "| 10    | 100 x 100 |  100 |  .60 | .58   |\n",
    "| 10    | 100 x 100 x 100 |  100 |  .62 | .57   |\n",
    "| 10    | 100 x 100 x 100 x 100 |  100 |  .63 | .56   |\n",
    "| 20    | 1 |  100 |  .56 | .58  |\n",
    "| 20    | 100 |  100 | .58  | .58  |\n",
    "| 40    | 100 |  500 x 500 x 500 | .60  | .61  |\n",
    "\n",
    "Dropout = 0.1, lookahead = 1 \n",
    "\n",
    "| width | layers    | epochs | train | test |\n",
    "| -----: | ---- :     | ---:    | ---:   | ---:  |\n",
    "| 10    | 100 x 100 x 100 x 100 |  100 | .60  | .58  |\n",
    "| 10    | 100 x 100 x 100 x 100 |  200 | .62  | .58  |\n",
    "\n",
    "\n",
    "Dropout = 0.2, lookahead = 1 \n",
    "\n",
    "| width | layers    | epochs | train | test |\n",
    "| -----: | ---- :     | ---:    | ---:   | ---:  |\n",
    "| 10    | 100 x 100 x 100 x 100 |  100 | .59 | .59  |\n",
    "| 10    | 100 x 100 x 100 x 100 |  200 | .60 | .58  |\n",
    "\n",
    "Dropout = 0.5, lookeahead = 1\n",
    "\n",
    "| width | layers    | epochs | train | test |\n",
    "| -----: | ---- :     | ---:    | ---:   | ---:  |\n",
    "| 60    | 500 x 500 x 500 x 500 |  200 | .64 | .62|\n",
    "| 60    | 100 x 100 x 100 x 100 |  200 | .64 | .65\n",
    "\n"
   ]
  },
  {
   "cell_type": "markdown",
   "metadata": {
    "collapsed": false
   },
   "source": [
    "\n",
    "- .681 / .57 100^3 / LA:1, W:60\n",
    "- .679 / .569 100^4\n"
   ]
  },
  {
   "cell_type": "code",
   "execution_count": null,
   "metadata": {
    "collapsed": false
   },
   "outputs": [],
   "source": [
    "print( len(Y_test) )\n",
    "print( len(Y_test_pred_class) )\n",
    "print( len(prices_test))\n",
    "print( len(utils.future_return(prices_test, 1) ))"
   ]
  },
  {
   "cell_type": "markdown",
   "metadata": {},
   "source": [
    "idea: look at mean future return on *perfect* 1min prediction. (or on last minute direction)\n"
   ]
  },
  {
   "cell_type": "code",
   "execution_count": null,
   "metadata": {
    "collapsed": false
   },
   "outputs": [],
   "source": [
    "np.sqrt(20000)"
   ]
  },
  {
   "cell_type": "code",
   "execution_count": null,
   "metadata": {
    "collapsed": false
   },
   "outputs": [],
   "source": [
    "i_s = []\n",
    "returns = (prices_test-prices_test.mean()).pct_change()\n",
    "mean_rets = []\n",
    "for a in np.arange(1,15,.1):\n",
    "    i = int(a*a)\n",
    "    test_returns = utils.future_return(prices_test, i).fillna(0).values\n",
    "    test_returns = test_returns - test_returns.mean()\n",
    "\n",
    "    # just use sign of latest return as predictor\n",
    "    idx = np.sign(returns)\n",
    "\n",
    "    mean_ret = (test_returns * idx).mean() * 1e4\n",
    "    mean_rets.append(mean_ret)\n",
    "    i_s.append(i) #*24))\n",
    "plt.plot(i_s, mean_rets,'.-')"
   ]
  },
  {
   "cell_type": "code",
   "execution_count": null,
   "metadata": {
    "collapsed": false
   },
   "outputs": [],
   "source": [
    "i_s = []\n",
    "mean_rets = []\n",
    "for a in np.arange(1,15,.1):\n",
    "    i = int(a*a)\n",
    "    test_returns = utils.future_return(prices_test, i).fillna(0).values\n",
    "    test_returns = test_returns - test_returns.mean()\n",
    "\n",
    "    idx = np.zeros(len(test_returns))\n",
    "    idx[Y_test_pred_class == 0] = -1\n",
    "    idx[Y_test_pred_class == 1] = 1\n",
    "\n",
    "    mean_ret = (test_returns * idx).mean() * 1e4\n",
    "    mean_rets.append(mean_ret)\n",
    "    i_s.append(i) #*24))\n",
    "plt.plot(i_s, mean_rets,'.-')"
   ]
  },
  {
   "cell_type": "code",
   "execution_count": null,
   "metadata": {
    "collapsed": false
   },
   "outputs": [],
   "source": [
    "ser = pd.Series(mean_rets, index = pd.DatetimeIndex(np.array(i_s)* 60e9))\n",
    "ser.plot()\n",
    "#plt.plot(i_s, mean_rets,'.-')"
   ]
  },
  {
   "cell_type": "code",
   "execution_count": null,
   "metadata": {
    "collapsed": false
   },
   "outputs": [],
   "source": [
    "prices_test.plot()"
   ]
  },
  {
   "cell_type": "code",
   "execution_count": null,
   "metadata": {
    "collapsed": false
   },
   "outputs": [],
   "source": [
    "n_trade = 1000\n"
   ]
  },
  {
   "cell_type": "code",
   "execution_count": null,
   "metadata": {
    "collapsed": false
   },
   "outputs": [],
   "source": [
    "18000 / (60*24)"
   ]
  },
  {
   "cell_type": "code",
   "execution_count": 14,
   "metadata": {
    "collapsed": false
   },
   "outputs": [
    {
     "name": "stdout",
     "output_type": "stream",
     "text": [
      "------------------------------------------------------\n",
      "test\n",
      "f1-score: 0.402, mean future return: 0.003 bps\n"
     ]
    },
    {
     "data": {
      "text/plain": [
       "<matplotlib.axes._subplots.AxesSubplot at 0x12b52edd0>"
      ]
     },
     "execution_count": 14,
     "metadata": {},
     "output_type": "execute_result"
    },
    {
     "data": {
      "image/png": "[encoded data removed]",
      "text/plain": [
       "<matplotlib.figure.Figure at 0x125e37cd0>"
      ]
     },
     "metadata": {},
     "output_type": "display_data"
    }
   ],
   "source": [
    "\n",
    "# load test dataset\n",
    "X_test, Y_test, prices_test, fut_return_test = datasets.load(datasets.filename(dataset_name, lookahead, window, sym, 2012))\n",
    "Y_test_pred = model.predict(X_test.as_matrix(), batch_size=1024)\n",
    "\n",
    "performance_report(\"test\",  prices_test,  lookahead, Y_test, Y_test_pred)\n",
    "(fut_return_test.ix[Y_test_pred_class[:,0]]+1).cumprod().plot()\n",
    "\n",
    "# TODO: demean fut_return.."
   ]
  },
  {
   "cell_type": "code",
   "execution_count": 12,
   "metadata": {
    "collapsed": false
   },
   "outputs": [
    {
     "name": "stdout",
     "output_type": "stream",
     "text": [
      "------------------------------------------------------\n",
      "test\n",
      "f1-score: 0.521, mean future return: 0.017 bps\n"
     ]
    },
    {
     "data": {
      "text/plain": [
       "<matplotlib.axes._subplots.AxesSubplot at 0x1260d3c10>"
      ]
     },
     "execution_count": 12,
     "metadata": {},
     "output_type": "execute_result"
    },
    {
     "data": {
      "image/png": "[encoded data removed]",
      "text/plain": [
       "<matplotlib.figure.Figure at 0x125e46310>"
      ]
     },
     "metadata": {},
     "output_type": "display_data"
    }
   ],
   "source": [
    "# random forest model\n",
    "# load test dataset\n",
    "X_test, Y_test, prices_test, fut_return_test = datasets.load(datasets.filename(dataset_name, lookahead, window, sym, 2014))\n",
    "#X_test, Y_test, prices_test, fut_return_test = datasets.prepare_dataset2(df=datasets.random_ohlc(300000),lookahead=1, window=25)\n",
    "\n",
    "performance_report(\"RF model\",  prices_test,  lookahead, Y_test, rf_model.predict(X_test), cum_return_plot=True)\n",
    "(fut_return_test.ix[Y_test_pred_class[:]]+1).cumprod().plot()\n"
   ]
  },
  {
   "cell_type": "code",
   "execution_count": 13,
   "metadata": {
    "collapsed": false
   },
   "outputs": [
    {
     "name": "stdout",
     "output_type": "stream",
     "text": [
      "------------------------------------------------------\n",
      "test\n",
      "f1-score: 0.516, mean future return: 0.020 bps\n"
     ]
    },
    {
     "data": {
      "text/plain": [
       "<matplotlib.axes._subplots.AxesSubplot at 0x1260f3f10>"
      ]
     },
     "execution_count": 13,
     "metadata": {},
     "output_type": "execute_result"
    },
    {
     "data": {
      "image/png": "[encoded data removed]",
      "text/plain": [
       "<matplotlib.figure.Figure at 0x12714bcd0>"
      ]
     },
     "metadata": {},
     "output_type": "display_data"
    }
   ],
   "source": [
    "# adaboost model\n",
    "# load test dataset\n",
    "X_test, Y_test, prices_test, fut_return_test = datasets.load(datasets.filename(dataset_name, lookahead, window, sym, 2014))\n",
    "#X_test, Y_test, prices_test, fut_return_test = datasets.prepare_dataset2(df=datasets.random_ohlc(300000),lookahead=1, window=25)\n",
    "Y_test_pred = adb_model.predict(X_test)\n",
    "Y_test_pred_class = utils.prediction_to_category2(Y_test_pred)\n",
    "performance_report(\"test\",  prices_test,  lookahead, Y_test, Y_test_pred_class)\n",
    "(fut_return_test.ix[Y_test_pred_class[:]]+1).cumprod().plot()\n"
   ]
  },
  {
   "cell_type": "code",
   "execution_count": null,
   "metadata": {
    "collapsed": false
   },
   "outputs": [],
   "source": [
    "len(fut_return_test)"
   ]
  },
  {
   "cell_type": "code",
   "execution_count": null,
   "metadata": {
    "collapsed": true
   },
   "outputs": [],
   "source": []
  }
 ],
 "metadata": {
  "kernelspec": {
   "display_name": "Python 2",
   "language": "python",
   "name": "python2"
  },
  "language_info": {
   "codemirror_mode": {
    "name": "ipython",
    "version": 2
   },
   "file_extension": ".py",
   "mimetype": "text/x-python",
   "name": "python",
   "nbconvert_exporter": "python",
   "pygments_lexer": "ipython2",
   "version": "2.7.13"
  }
 },
 "nbformat": 4,
 "nbformat_minor": 1
}
