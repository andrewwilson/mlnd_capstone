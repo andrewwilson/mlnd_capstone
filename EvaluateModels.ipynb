{
 "cells": [
  {
   "cell_type": "code",
   "execution_count": 1,
   "metadata": {
    "collapsed": false
   },
   "outputs": [
    {
     "name": "stderr",
     "output_type": "stream",
     "text": [
      "Using TensorFlow backend.\n"
     ]
    }
   ],
   "source": [
    "from __future__ import division, print_function\n",
    "import numpy as np\n",
    "import pandas as pd\n",
    "import utils\n",
    "from model01 import MLPModel01\n",
    "from preprocess import prepare_data\n",
    "from metrics import performance_report\n",
    "\n",
    "import matplotlib.pyplot as plt\n",
    "import seaborn as sns\n",
    "%matplotlib inline\n",
    "\n",
    "import keras\n",
    "from sklearn.metrics import classification_report, f1_score, accuracy_score, precision_recall_curve, confusion_matrix"
   ]
  },
  {
   "cell_type": "code",
   "execution_count": 2,
   "metadata": {
    "collapsed": true
   },
   "outputs": [],
   "source": [
    "n_categories = 2 # implicit in prepare_data (maybe parameterise)\n",
    "lookahead = 1\n",
    "window = 60"
   ]
  },
  {
   "cell_type": "code",
   "execution_count": null,
   "metadata": {
    "collapsed": true
   },
   "outputs": [],
   "source": []
  },
  {
   "cell_type": "code",
   "execution_count": 3,
   "metadata": {
    "collapsed": false
   },
   "outputs": [],
   "source": [
    "X_train, Y_train, prices_train = prepare_data(utils.load_1minute_fx_bars(\"USDJPY\", 2009)[:10000], lookahead=lookahead, window=window)"
   ]
  },
  {
   "cell_type": "code",
   "execution_count": 4,
   "metadata": {
    "collapsed": true
   },
   "outputs": [],
   "source": [
    "X_dev, Y_dev, prices_dev = prepare_data(utils.load_1minute_fx_bars(\"USDJPY\", 2010)[:10000], lookahead=lookahead, window=window)"
   ]
  },
  {
   "cell_type": "code",
   "execution_count": 5,
   "metadata": {
    "collapsed": true
   },
   "outputs": [],
   "source": [
    "X_test, Y_test, prices_test = prepare_data(utils.load_1minute_fx_bars(\"USDJPY\", 2011)[:10000], lookahead=lookahead, window=window)"
   ]
  },
  {
   "cell_type": "code",
   "execution_count": 6,
   "metadata": {
    "collapsed": false
   },
   "outputs": [
    {
     "name": "stdout",
     "output_type": "stream",
     "text": [
      "(10000, 243)\n",
      "n_features: 243\n"
     ]
    }
   ],
   "source": [
    "print (X_train.shape)\n",
    "n_features = X_train.shape[1]\n",
    "print (\"n_features:\", n_features)"
   ]
  },
  {
   "cell_type": "code",
   "execution_count": 7,
   "metadata": {
    "collapsed": false
   },
   "outputs": [],
   "source": [
    "# from sklearn.linear_model import SGDClassifier\n",
    "# lin_model = SGDClassifier(loss='hinge', penalty='l2', n_iter=200, n_jobs=10)\n",
    "# lin_model.fit(X_train.as_matrix(), Y_train)\n",
    "\n",
    "# print( \"train f1\", f1_score(Y_train, lin_model.predict(X_train), average='weighted') )\n",
    "# print( \"test f1\", f1_score(Y_test, lin_model.predict(X_test), average='weighted'))"
   ]
  },
  {
   "cell_type": "code",
   "execution_count": 8,
   "metadata": {
    "collapsed": false
   },
   "outputs": [],
   "source": [
    "# from sklearn.linear_model import LogisticRegression\n",
    "# lr_model = LogisticRegression(n_jobs=10)\n",
    "# lr_model.fit(X_train.as_matrix(), Y_train)\n",
    "\n",
    "# print( \"train f1\", f1_score(Y_train, lr_model.predict(X_train), average='weighted') )\n",
    "# print( \"test f1\", f1_score(Y_test, lr_model.predict(X_test), average='weighted'))"
   ]
  },
  {
   "cell_type": "code",
   "execution_count": 9,
   "metadata": {
    "collapsed": false
   },
   "outputs": [
    {
     "name": "stdout",
     "output_type": "stream",
     "text": [
      "train f1 0.620688666052\n",
      "dev f1 0.402660331754\n",
      "test f1 0.552269670436\n"
     ]
    }
   ],
   "source": [
    "from sklearn.ensemble import RandomForestClassifier\n",
    "rf_model = RandomForestClassifier(max_depth=5, n_jobs=12)\n",
    "rf_model.fit(X_train.as_matrix(), Y_train)\n",
    "\n",
    "print( \"train f1\", f1_score(Y_train, rf_model.predict(X_train), average='weighted') )\n",
    "print( \"dev f1\", f1_score(Y_dev, rf_model.predict(X_dev), average='weighted'))\n",
    "print( \"test f1\", f1_score(Y_test, rf_model.predict(X_test), average='weighted'))"
   ]
  },
  {
   "cell_type": "code",
   "execution_count": 10,
   "metadata": {
    "collapsed": true
   },
   "outputs": [],
   "source": [
    "layer_widths = [500]\n",
    "dropout = 0.5"
   ]
  },
  {
   "cell_type": "code",
   "execution_count": 11,
   "metadata": {
    "collapsed": false
   },
   "outputs": [
    {
     "name": "stdout",
     "output_type": "stream",
     "text": [
      "compilation took: 0.2 seconds\n",
      "Model id:  MLPModel01_20170303_0839_LA1_F243_C2_L500_DO0.5\n",
      "____________________________________________________________________________________________________\n",
      "Layer (type)                     Output Shape          Param #     Connected to                     \n",
      "====================================================================================================\n",
      "dense_1 (Dense)                  (None, 500)           122000      dense_input_1[0][0]              \n",
      "____________________________________________________________________________________________________\n",
      "dropout_1 (Dropout)              (None, 500)           0           dense_1[0][0]                    \n",
      "____________________________________________________________________________________________________\n",
      "dense_2 (Dense)                  (None, 1)             501         dropout_1[0][0]                  \n",
      "====================================================================================================\n",
      "Total params: 122,501\n",
      "Trainable params: 122,501\n",
      "Non-trainable params: 0\n",
      "____________________________________________________________________________________________________\n",
      "None\n"
     ]
    }
   ],
   "source": [
    "model = MLPModel01(lookahead, n_features, n_categories, layer_widths, dropout)\n",
    "print (model.summary())"
   ]
  },
  {
   "cell_type": "code",
   "execution_count": 12,
   "metadata": {
    "collapsed": false,
    "scrolled": false
   },
   "outputs": [
    {
     "name": "stdout",
     "output_type": "stream",
     "text": [
      "Epoch 0, train_loss: 1.6549 validation_loss 0.7622  validation accuracy 0.5389  validation f1 0.5622\n",
      "Epoch 1, train_loss: 1.1462 validation_loss 0.8232  validation accuracy 0.5410  validation f1 0.5601\n",
      "Epoch 2, train_loss: 1.3308 validation_loss 0.7845  validation accuracy 0.5299  validation f1 0.5363\n",
      "Epoch 3, train_loss: 1.2207 validation_loss 0.7540  validation accuracy 0.5227  validation f1 0.5334\n",
      "Epoch 4, train_loss: 1.0810 validation_loss 0.7935  validation accuracy 0.4773  validation f1 0.4634\n",
      "saved to  saves/MLPModel01_20170303_0839_LA1_F243_C2_L500_DO0.5-005-0.7935.hdf5\n",
      "Epoch 5, train_loss: 1.0735 validation_loss 0.8590  validation accuracy 0.4463  validation f1 0.3951\n",
      "Epoch 6, train_loss: 1.1468 validation_loss 0.8709  validation accuracy 0.4408  validation f1 0.3734\n",
      "Epoch 7, train_loss: 1.1527 validation_loss 0.8271  validation accuracy 0.4507  validation f1 0.3624\n",
      "Epoch 8, train_loss: 1.0994 validation_loss 0.7777  validation accuracy 0.4723  validation f1 0.3870\n",
      "Epoch 9, train_loss: 1.0230 validation_loss 0.7619  validation accuracy 0.4867  validation f1 0.3953\n",
      "saved to  saves/MLPModel01_20170303_0839_LA1_F243_C2_L500_DO0.5-010-0.7619.hdf5\n",
      "\n",
      "Epoch 00009: reducing learning rate to 0.000200000009499.\n",
      "Epoch 10, train_loss: 0.9690 validation_loss 0.7628  validation accuracy 0.4913  validation f1 0.4057\n",
      "Epoch 11, train_loss: 0.9863 validation_loss 0.7638  validation accuracy 0.4949  validation f1 0.4141\n",
      "Epoch 12, train_loss: 0.9723 validation_loss 0.7643  validation accuracy 0.4974  validation f1 0.4206\n",
      "Epoch 13, train_loss: 0.9675 validation_loss 0.7639  validation accuracy 0.4993  validation f1 0.4255\n",
      "Epoch 14, train_loss: 0.9789 validation_loss 0.7627  validation accuracy 0.5003  validation f1 0.4273\n",
      "saved to  saves/MLPModel01_20170303_0839_LA1_F243_C2_L500_DO0.5-015-0.7627.hdf5\n",
      "Epoch 15, train_loss: 0.9923 validation_loss 0.7609  validation accuracy 0.5009  validation f1 0.4280\n",
      "Epoch 16, train_loss: 0.9661 validation_loss 0.7586  validation accuracy 0.4999  validation f1 0.4250\n",
      "\n",
      "Epoch 00016: reducing learning rate to 5e-05.\n",
      "Epoch 17, train_loss: 0.9789 validation_loss 0.7579  validation accuracy 0.4998  validation f1 0.4240\n",
      "Epoch 18, train_loss: 0.9760 validation_loss 0.7573  validation accuracy 0.4999  validation f1 0.4231\n",
      "Epoch 19, train_loss: 0.9674 validation_loss 0.7566  validation accuracy 0.4991  validation f1 0.4215\n",
      "saved to  saves/MLPModel01_20170303_0839_LA1_F243_C2_L500_DO0.5-020-0.7566.hdf5\n",
      "Epoch 20, train_loss: 0.9773 validation_loss 0.7559  validation accuracy 0.4979  validation f1 0.4185\n",
      "Epoch 21, train_loss: 0.9567 validation_loss 0.7552  validation accuracy 0.4964  validation f1 0.4154\n",
      "Epoch 22, train_loss: 0.9701 validation_loss 0.7545  validation accuracy 0.4953  validation f1 0.4127\n",
      "Epoch 23, train_loss: 0.9686 validation_loss 0.7539  validation accuracy 0.4944  validation f1 0.4111\n",
      "Epoch 24, train_loss: 0.9634 validation_loss 0.7534  validation accuracy 0.4922  validation f1 0.4075\n",
      "saved to  saves/MLPModel01_20170303_0839_LA1_F243_C2_L500_DO0.5-025-0.7534.hdf5\n",
      "Epoch 25, train_loss: 0.9795 validation_loss 0.7529  validation accuracy 0.4914  validation f1 0.4058\n",
      "Epoch 26, train_loss: 0.9646 validation_loss 0.7525  validation accuracy 0.4891  validation f1 0.4017\n",
      "Epoch 27, train_loss: 0.9621 validation_loss 0.7521  validation accuracy 0.4875  validation f1 0.3988\n",
      "Epoch 28, train_loss: 0.9559 validation_loss 0.7518  validation accuracy 0.4862  validation f1 0.3958\n",
      "Epoch 29, train_loss: 0.9594 validation_loss 0.7515  validation accuracy 0.4857  validation f1 0.3939\n",
      "saved to  saves/MLPModel01_20170303_0839_LA1_F243_C2_L500_DO0.5-030-0.7515.hdf5\n",
      "Epoch 30, train_loss: 0.9634 validation_loss 0.7513  validation accuracy 0.4838  validation f1 0.3910\n",
      "Epoch 31, train_loss: 0.9560 validation_loss 0.7511  validation accuracy 0.4823  validation f1 0.3887\n",
      "Epoch 32, train_loss: 0.9651 validation_loss 0.7510  validation accuracy 0.4813  validation f1 0.3868\n",
      "Epoch 33, train_loss: 0.9349 validation_loss 0.7508  validation accuracy 0.4805  validation f1 0.3860\n",
      "Epoch 34, train_loss: 0.9539 validation_loss 0.7507  validation accuracy 0.4797  validation f1 0.3846\n",
      "saved to  saves/MLPModel01_20170303_0839_LA1_F243_C2_L500_DO0.5-035-0.7507.hdf5\n",
      "Epoch 35, train_loss: 0.9591 validation_loss 0.7505  validation accuracy 0.4802  validation f1 0.3857\n",
      "Epoch 36, train_loss: 0.9726 validation_loss 0.7503  validation accuracy 0.4803  validation f1 0.3859\n",
      "Epoch 37, train_loss: 0.9523 validation_loss 0.7502  validation accuracy 0.4801  validation f1 0.3865\n",
      "Epoch 38, train_loss: 0.9419 validation_loss 0.7500  validation accuracy 0.4799  validation f1 0.3866\n",
      "Epoch 39, train_loss: 0.9657 validation_loss 0.7498  validation accuracy 0.4793  validation f1 0.3859\n",
      "saved to  saves/MLPModel01_20170303_0839_LA1_F243_C2_L500_DO0.5-040-0.7498.hdf5\n",
      "Epoch 40, train_loss: 0.9626 validation_loss 0.7495  validation accuracy 0.4791  validation f1 0.3865\n",
      "Epoch 41, train_loss: 0.9625 validation_loss 0.7493  validation accuracy 0.4799  validation f1 0.3882\n",
      "Epoch 42, train_loss: 0.9500 validation_loss 0.7491  validation accuracy 0.4801  validation f1 0.3890\n",
      "Epoch 43, train_loss: 0.9376 validation_loss 0.7489  validation accuracy 0.4796  validation f1 0.3888\n",
      "Epoch 44, train_loss: 0.9456 validation_loss 0.7487  validation accuracy 0.4800  validation f1 0.3905\n",
      "saved to  saves/MLPModel01_20170303_0839_LA1_F243_C2_L500_DO0.5-045-0.7487.hdf5\n",
      "Epoch 45, train_loss: 0.9409 validation_loss 0.7485  validation accuracy 0.4805  validation f1 0.3918\n",
      "Epoch 46, train_loss: 0.9367 validation_loss 0.7482  validation accuracy 0.4807  validation f1 0.3928\n",
      "Epoch 47, train_loss: 0.9507 validation_loss 0.7480  validation accuracy 0.4811  validation f1 0.3940\n",
      "Epoch 48, train_loss: 0.9407 validation_loss 0.7478  validation accuracy 0.4810  validation f1 0.3947\n",
      "Epoch 49, train_loss: 0.9432 validation_loss 0.7476  validation accuracy 0.4816  validation f1 0.3962\n",
      "saved to  saves/MLPModel01_20170303_0839_LA1_F243_C2_L500_DO0.5-050-0.7476.hdf5\n",
      "Epoch 50, train_loss: 0.9493 validation_loss 0.7474  validation accuracy 0.4818  validation f1 0.3972\n",
      "Epoch 51, train_loss: 0.9501 validation_loss 0.7473  validation accuracy 0.4821  validation f1 0.3980\n",
      "Epoch 52, train_loss: 0.9405 validation_loss 0.7471  validation accuracy 0.4823  validation f1 0.3980\n",
      "Epoch 53, train_loss: 0.9341 validation_loss 0.7470  validation accuracy 0.4824  validation f1 0.3984\n",
      "Epoch 54, train_loss: 0.9542 validation_loss 0.7468  validation accuracy 0.4824  validation f1 0.3987\n",
      "saved to  saves/MLPModel01_20170303_0839_LA1_F243_C2_L500_DO0.5-055-0.7468.hdf5\n",
      "Epoch 55, train_loss: 0.9528 validation_loss 0.7467  validation accuracy 0.4823  validation f1 0.3994\n",
      "Epoch 56, train_loss: 0.9552 validation_loss 0.7466  validation accuracy 0.4823  validation f1 0.4002\n",
      "Epoch 57, train_loss: 0.9428 validation_loss 0.7465  validation accuracy 0.4822  validation f1 0.4003\n",
      "Epoch 58, train_loss: 0.9420 validation_loss 0.7463  validation accuracy 0.4829  validation f1 0.4016\n",
      "Epoch 59, train_loss: 0.9375 validation_loss 0.7462  validation accuracy 0.4828  validation f1 0.4014\n",
      "saved to  saves/MLPModel01_20170303_0839_LA1_F243_C2_L500_DO0.5-060-0.7462.hdf5\n",
      "Epoch 60, train_loss: 0.9396 validation_loss 0.7461  validation accuracy 0.4830  validation f1 0.4019\n",
      "Epoch 61, train_loss: 0.9296 validation_loss 0.7461  validation accuracy 0.4830  validation f1 0.4020\n",
      "Epoch 62, train_loss: 0.9302 validation_loss 0.7460  validation accuracy 0.4830  validation f1 0.4020\n",
      "Epoch 63, train_loss: 0.9455 validation_loss 0.7460  validation accuracy 0.4827  validation f1 0.4018\n",
      "Epoch 64, train_loss: 0.9364 validation_loss 0.7459  validation accuracy 0.4832  validation f1 0.4023\n",
      "saved to  saves/MLPModel01_20170303_0839_LA1_F243_C2_L500_DO0.5-065-0.7459.hdf5\n",
      "Epoch 65, train_loss: 0.9216 validation_loss 0.7459  validation accuracy 0.4832  validation f1 0.4023\n",
      "Epoch 66, train_loss: 0.9481 validation_loss 0.7459  validation accuracy 0.4830  validation f1 0.4019\n",
      "Epoch 67, train_loss: 0.9426 validation_loss 0.7458  validation accuracy 0.4830  validation f1 0.4016\n",
      "Epoch 68, train_loss: 0.9318 validation_loss 0.7458  validation accuracy 0.4826  validation f1 0.4010\n",
      "Epoch 69, train_loss: 0.9386 validation_loss 0.7458  validation accuracy 0.4826  validation f1 0.4009\n",
      "saved to  saves/MLPModel01_20170303_0839_LA1_F243_C2_L500_DO0.5-070-0.7458.hdf5\n",
      "Epoch 70, train_loss: 0.9262 validation_loss 0.7458  validation accuracy 0.4826  validation f1 0.4006\n",
      "Epoch 71, train_loss: 0.9343 validation_loss 0.7458  validation accuracy 0.4826  validation f1 0.4000\n",
      "Epoch 72, train_loss: 0.9515 validation_loss 0.7458  validation accuracy 0.4826  validation f1 0.3999\n",
      "Epoch 73, train_loss: 0.9189 validation_loss 0.7457  validation accuracy 0.4828  validation f1 0.4001\n",
      "Epoch 74, train_loss: 0.9347 validation_loss 0.7457  validation accuracy 0.4831  validation f1 0.4007\n",
      "saved to  saves/MLPModel01_20170303_0839_LA1_F243_C2_L500_DO0.5-075-0.7457.hdf5\n",
      "Epoch 75, train_loss: 0.9309 validation_loss 0.7457  validation accuracy 0.4833  validation f1 0.4008\n",
      "Epoch 76, train_loss: 0.9106 validation_loss 0.7456  validation accuracy 0.4834  validation f1 0.4008\n",
      "Epoch 77, train_loss: 0.9228 validation_loss 0.7456  validation accuracy 0.4837  validation f1 0.4008\n",
      "Epoch 78, train_loss: 0.9365 validation_loss 0.7456  validation accuracy 0.4839  validation f1 0.4012\n",
      "Epoch 79, train_loss: 0.9195 validation_loss 0.7456  validation accuracy 0.4842  validation f1 0.4013\n",
      "saved to  saves/MLPModel01_20170303_0839_LA1_F243_C2_L500_DO0.5-080-0.7456.hdf5\n",
      "Epoch 80, train_loss: 0.9283 validation_loss 0.7456  validation accuracy 0.4841  validation f1 0.4009\n",
      "Epoch 81, train_loss: 0.9172 validation_loss 0.7457  validation accuracy 0.4846  validation f1 0.4015\n",
      "Epoch 82, train_loss: 0.9059 validation_loss 0.7457  validation accuracy 0.4846  validation f1 0.4010\n",
      "Epoch 83, train_loss: 0.9095 validation_loss 0.7457  validation accuracy 0.4844  validation f1 0.4006\n",
      "Epoch 84, train_loss: 0.9265 validation_loss 0.7458  validation accuracy 0.4843  validation f1 0.3999\n",
      "saved to  saves/MLPModel01_20170303_0839_LA1_F243_C2_L500_DO0.5-085-0.7458.hdf5\n",
      "Epoch 00084: early stopping\n"
     ]
    }
   ],
   "source": [
    "max_epochs = 200\n",
    "hist = model.fit(\n",
    "    X_train.as_matrix(), Y_train, \n",
    "    validation_data=(X_dev.as_matrix(),Y_dev), \n",
    "    max_epochs=max_epochs,\n",
    "    es_patience=25, \n",
    "    batch_size=1024*50)"
   ]
  },
  {
   "cell_type": "code",
   "execution_count": 87,
   "metadata": {
    "collapsed": false
   },
   "outputs": [
    {
     "data": {
      "image/png": "[encoded data removed]",
      "text/plain": [
       "<matplotlib.figure.Figure at 0x7f2b40b817d0>"
      ]
     },
     "metadata": {},
     "output_type": "display_data"
    }
   ],
   "source": [
    "plt.plot(model.progress_callback.train_losses, label='train_loss')\n",
    "plt.plot(model.progress_callback.validation_losses, label='validation_loss')\n",
    "plt.plot(model.progress_callback.train_f1s, label='train_f1')\n",
    "plt.plot(model.progress_callback.validation_f1s, label='validation_f1')\n",
    "plt.plot(model.progress_callback.train_accuracies, label='train_accuracy')\n",
    "plt.plot(model.progress_callback.validation_accuracies, label='validation_accuracy')\n",
    "plt.legend();"
   ]
  },
  {
   "cell_type": "code",
   "execution_count": 88,
   "metadata": {
    "collapsed": false
   },
   "outputs": [],
   "source": [
    "Y_train_pred = model.predict(X_train.as_matrix(), batch_size=1024)\n",
    "Y_train_pred_class = utils.prediction_to_category2(Y_train_pred)\n",
    "Y_test_pred = model.predict(X_test.as_matrix(), batch_size=1024)\n",
    "Y_test_pred_class = utils.prediction_to_category2(Y_test_pred)"
   ]
  },
  {
   "cell_type": "code",
   "execution_count": 89,
   "metadata": {
    "collapsed": false
   },
   "outputs": [
    {
     "data": {
      "text/plain": [
       "<matplotlib.legend.Legend at 0x7f2b61a0fed0>"
      ]
     },
     "execution_count": 89,
     "metadata": {},
     "output_type": "execute_result"
    },
    {
     "data": {
      "image/png": "[encoded data removed]",
      "text/plain": [
       "<matplotlib.figure.Figure at 0x7f2b61a04250>"
      ]
     },
     "metadata": {},
     "output_type": "display_data"
    }
   ],
   "source": [
    "plt.figure(figsize=(8,4))\n",
    "plt.hist(Y_train_pred, alpha=0.5, bins=30, normed=True, label='train')\n",
    "plt.hist(Y_test_pred, alpha=0.5, bins=30, normed=True, label='test')\n",
    "plt.hist(Y_train_pred_class, alpha=0.3, normed=True)\n",
    "plt.hist(Y_test_pred_class, alpha=0.3, normed=True)\n",
    "plt.legend()"
   ]
  },
  {
   "cell_type": "code",
   "execution_count": 90,
   "metadata": {
    "collapsed": false
   },
   "outputs": [
    {
     "name": "stdout",
     "output_type": "stream",
     "text": [
      "------------------------------------------------------\n",
      "train\n",
      "f1-score: 0.466\n",
      "             precision    recall  f1-score   support\n",
      "\n",
      "          0       0.53      0.20      0.30    169596\n",
      "          1       0.51      0.82      0.63    173860\n",
      "\n",
      "avg / total       0.52      0.52      0.47    343456\n",
      "\n",
      "------------------------------------------------------\n",
      "test\n",
      "f1-score: 0.465\n",
      "             precision    recall  f1-score   support\n",
      "\n",
      "          0       0.53      0.20      0.29    147683\n",
      "          1       0.52      0.83      0.64    152603\n",
      "\n",
      "avg / total       0.52      0.52      0.46    300286\n",
      "\n"
     ]
    },
    {
     "data": {
      "image/png": "[encoded data removed]",
      "text/plain": [
       "<matplotlib.figure.Figure at 0x7f2b61779a50>"
      ]
     },
     "metadata": {},
     "output_type": "display_data"
    },
    {
     "data": {
      "text/plain": [
       "<matplotlib.axes._subplots.AxesSubplot at 0x7f2b6180e9d0>"
      ]
     },
     "execution_count": 90,
     "metadata": {},
     "output_type": "execute_result"
    },
    {
     "data": {
      "image/png": "[encoded data removed]",
      "text/plain": [
       "<matplotlib.figure.Figure at 0x7f2b62415550>"
      ]
     },
     "metadata": {},
     "output_type": "display_data"
    }
   ],
   "source": [
    "performance_report(\"train\", prices_train, lookahead, Y_train, Y_train_pred_class)\n",
    "performance_report(\"test\",  prices_test,  lookahead, Y_test, Y_test_pred_class)\n",
    "\n",
    "train_curve = precision_recall_curve(Y_train, Y_train_pred)\n",
    "test_curve = precision_recall_curve(Y_test, Y_test_pred)\n",
    "\n",
    "plt.plot(train_curve[0], train_curve[1], label='train')\n",
    "plt.plot(test_curve[0], test_curve[1], label='test')\n",
    "plt.legend()\n",
    "plt.show()\n",
    "sns.heatmap(confusion_matrix(Y_test, Y_test_pred_class))"
   ]
  },
  {
   "cell_type": "markdown",
   "metadata": {},
   "source": [
    "dropout = 0  , lookahead = 1\n",
    "\n",
    "| width | layers    | epochs | train | test |\n",
    "| -----: | ---- :     | ---:    | ---:   | ---:  |\n",
    "| 1     | 1         |  100   | .57   | .58  |\n",
    "| 1     | 100       |  100   | .58   | .59  |\n",
    "| 1     | 100       |  500   | .57   | .59  |\n",
    "| 1     | 100 x 100 |  100 | .58   | .59  |\n",
    "| 10    | 1         |  100 |  .57  | .59  |\n",
    "| 10    | 10        |  100 |  .57  | .58  |\n",
    "| 10    | 100       |  100 |  .58 | .58   |\n",
    "| 10    | 100 x 100 |  100 |  .60 | .58   |\n",
    "| 10    | 100 x 100 x 100 |  100 |  .62 | .57   |\n",
    "| 10    | 100 x 100 x 100 x 100 |  100 |  .63 | .56   |\n",
    "| 20    | 1 |  100 |  .56 | .58  |\n",
    "| 20    | 100 |  100 | .58  | .58  |\n",
    "| 40    | 100 |  500 x 500 x 500 | .60  | .61  |\n",
    "\n",
    "Dropout = 0.1, lookahead = 1 \n",
    "\n",
    "| width | layers    | epochs | train | test |\n",
    "| -----: | ---- :     | ---:    | ---:   | ---:  |\n",
    "| 10    | 100 x 100 x 100 x 100 |  100 | .60  | .58  |\n",
    "| 10    | 100 x 100 x 100 x 100 |  200 | .62  | .58  |\n",
    "\n",
    "\n",
    "Dropout = 0.2, lookahead = 1 \n",
    "\n",
    "| width | layers    | epochs | train | test |\n",
    "| -----: | ---- :     | ---:    | ---:   | ---:  |\n",
    "| 10    | 100 x 100 x 100 x 100 |  100 | .59 | .59  |\n",
    "| 10    | 100 x 100 x 100 x 100 |  200 | .60 | .58  |\n",
    "\n",
    "Dropout = 0.5, lookeahead = 1\n",
    "\n",
    "| width | layers    | epochs | train | test |\n",
    "| -----: | ---- :     | ---:    | ---:   | ---:  |\n",
    "| 60    | 500 x 500 x 500 x 500 |  200 | .64 | .62|\n",
    "| 60    | 100 x 100 x 100 x 100 |  200 | .64 | .65\n",
    "\n"
   ]
  },
  {
   "cell_type": "markdown",
   "metadata": {
    "collapsed": false
   },
   "source": [
    "\n",
    "- .681 / .57 100^3 / LA:1, W:60\n",
    "- .679 / .569 100^4\n"
   ]
  },
  {
   "cell_type": "code",
   "execution_count": null,
   "metadata": {
    "collapsed": false
   },
   "outputs": [],
   "source": [
    "print( len(Y_test) )\n",
    "print( len(Y_test_pred_class) )\n",
    "print( len(prices_test))\n",
    "print( len(utils.future_return(prices_test, 1) ))"
   ]
  },
  {
   "cell_type": "code",
   "execution_count": null,
   "metadata": {
    "collapsed": false
   },
   "outputs": [],
   "source": [
    "i_s = []\n",
    "mean_rets = []\n",
    "for i in range(1,500,1):\n",
    "    test_returns = utils.future_return(prices_test, i).fillna(0).values\n",
    "    test_returns = test_returns - test_returns.mean()\n",
    "\n",
    "    idx = np.zeros(len(test_returns))\n",
    "    idx[Y_test_pred_class[:,0] == 0] = -1\n",
    "    idx[Y_test_pred_class[:,0] == 1] = 1\n",
    "\n",
    "    mean_ret = (test_returns * idx).mean() * 1e4\n",
    "    mean_rets.append(mean_ret)\n",
    "    i_s.append(i/60) #*24))\n",
    "plt.plot(i_s, mean_rets,'.-')"
   ]
  },
  {
   "cell_type": "code",
   "execution_count": null,
   "metadata": {
    "collapsed": false
   },
   "outputs": [],
   "source": [
    "prices_test.plot()"
   ]
  },
  {
   "cell_type": "code",
   "execution_count": null,
   "metadata": {
    "collapsed": false
   },
   "outputs": [],
   "source": [
    "n_trade = 1000\n"
   ]
  },
  {
   "cell_type": "code",
   "execution_count": null,
   "metadata": {
    "collapsed": false
   },
   "outputs": [],
   "source": [
    "18000 / (60*24)"
   ]
  },
  {
   "cell_type": "code",
   "execution_count": null,
   "metadata": {
    "collapsed": true
   },
   "outputs": [],
   "source": []
  }
 ],
 "metadata": {
  "kernelspec": {
   "display_name": "Python 2",
   "language": "python",
   "name": "python2"
  },
  "language_info": {
   "codemirror_mode": {
    "name": "ipython",
    "version": 2
   },
   "file_extension": ".py",
   "mimetype": "text/x-python",
   "name": "python",
   "nbconvert_exporter": "python",
   "pygments_lexer": "ipython2",
   "version": "2.7.13"
  }
 },
 "nbformat": 4,
 "nbformat_minor": 1
}
