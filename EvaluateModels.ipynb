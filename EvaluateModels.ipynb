{
 "cells": [
  {
   "cell_type": "code",
   "execution_count": 1,
   "metadata": {
    "collapsed": false
   },
   "outputs": [
    {
     "name": "stderr",
     "output_type": "stream",
     "text": [
      "Using TensorFlow backend.\n"
     ]
    }
   ],
   "source": [
    "from __future__ import division, print_function\n",
    "import numpy as np\n",
    "import pandas as pd\n",
    "import utils\n",
    "from model01 import MLPModel01\n",
    "from metrics import performance_report\n",
    "import datasets\n",
    "\n",
    "import matplotlib.pyplot as plt\n",
    "import seaborn as sns\n",
    "%matplotlib inline\n",
    "\n",
    "import keras\n",
    "from sklearn.metrics import classification_report, f1_score, accuracy_score, precision_recall_curve, confusion_matrix"
   ]
  },
  {
   "cell_type": "code",
   "execution_count": 3,
   "metadata": {
    "collapsed": true
   },
   "outputs": [],
   "source": [
    "n_categories = 2 # implicit in prepare_data (maybe parameterise)\n",
    "lookahead = 1\n",
    "window = 25\n",
    "sym = 'EURUSD'\n",
    "dataset_name = 'DS3'"
   ]
  },
  {
   "cell_type": "code",
   "execution_count": 3,
   "metadata": {
    "collapsed": false
   },
   "outputs": [],
   "source": [
    "X_train, Y_train, prices_train = \\\n",
    "    datasets.load(datasets.filename(dataset_name, lookahead, window, sym, 20092014))\n",
    "\n",
    "X_dev, Y_dev, prices_dev = \\\n",
    "    datasets.load(datasets.filename(dataset_name, lookahead, window, sym, 2010))\n",
    "\n",
    "    # sample 50k records from 2010 as dev set\n",
    "dev_idx = np.random.choice(len(X_dev), 50000, replace=False)\n",
    "X_dev, Y_dev, prices_dev = \\\n",
    "    X_dev.ix[dev_idx], Y_dev.ix[dev_idx], prices_dev.ix[dev_idx]\n",
    "\n",
    "X_test, Y_test, prices_test = \\\n",
    "    datasets.load(datasets.filename(dataset_name, lookahead, window, sym, 2011))"
   ]
  },
  {
   "cell_type": "code",
   "execution_count": 4,
   "metadata": {
    "collapsed": false
   },
   "outputs": [
    {
     "name": "stdout",
     "output_type": "stream",
     "text": [
      "train (190077, 99)\n",
      "dev (50000, 99)\n",
      "test (255369, 99)\n",
      "n_features: 99\n"
     ]
    }
   ],
   "source": [
    "print(\"train\", X_train.shape)\n",
    "print(\"dev\", X_dev.shape)\n",
    "print(\"test\", X_test.shape)\n",
    "n_features = X_train.shape[1]\n",
    "print (\"n_features:\", n_features)"
   ]
  },
  {
   "cell_type": "code",
   "execution_count": 5,
   "metadata": {
    "collapsed": false
   },
   "outputs": [],
   "source": [
    "# from sklearn.linear_model import SGDClassifier\n",
    "# lin_model = SGDClassifier(loss='hinge', penalty='l2', n_iter=200, n_jobs=10)\n",
    "# lin_model.fit(X_train.as_matrix(), Y_train)\n",
    "\n",
    "# print( \"train f1\", f1_score(Y_train, lin_model.predict(X_train), average='weighted') )\n",
    "# print( \"test f1\", f1_score(Y_test, lin_model.predict(X_test), average='weighted'))"
   ]
  },
  {
   "cell_type": "code",
   "execution_count": 6,
   "metadata": {
    "collapsed": false
   },
   "outputs": [],
   "source": [
    "# from sklearn.linear_model import LogisticRegression\n",
    "# lr_model = LogisticRegression(n_jobs=10)\n",
    "# lr_model.fit(X_train.as_matrix(), Y_train)\n",
    "\n",
    "# print( \"train f1\", f1_score(Y_train, lr_model.predict(X_train), average='weighted') )\n",
    "# print( \"test f1\", f1_score(Y_test, lr_model.predict(X_test), average='weighted'))"
   ]
  },
  {
   "cell_type": "code",
   "execution_count": 7,
   "metadata": {
    "collapsed": false
   },
   "outputs": [
    {
     "name": "stdout",
     "output_type": "stream",
     "text": [
      "train f1 0.518182012932\n",
      "dev f1 0.521592616638\n",
      "test f1 0.518403981561\n"
     ]
    }
   ],
   "source": [
    "from sklearn.naive_bayes import GaussianNB\n",
    "gnb_model = GaussianNB()\n",
    "gnb_model.fit(X_train.as_matrix(), Y_train)\n",
    "\n",
    "print( \"train f1\", f1_score(Y_train, gnb_model.predict(X_train), average='weighted') )\n",
    "print( \"dev f1\", f1_score(Y_dev, gnb_model.predict(X_dev), average='weighted'))\n",
    "print( \"test f1\", f1_score(Y_test, gnb_model.predict(X_test), average='weighted'))"
   ]
  },
  {
   "cell_type": "code",
   "execution_count": 6,
   "metadata": {
    "collapsed": false
   },
   "outputs": [
    {
     "name": "stdout",
     "output_type": "stream",
     "text": [
      "train f1 0.539973274056\n",
      "dev f1 0.524399349787\n",
      "test f1 0.518441055731\n"
     ]
    }
   ],
   "source": [
    "from sklearn.ensemble import AdaBoostClassifier\n",
    "adb_model = AdaBoostClassifier()\n",
    "adb_model.fit(X_train.as_matrix(), Y_train)\n",
    "\n",
    "print( \"train f1\", f1_score(Y_train, adb_model.predict(X_train), average='weighted') )\n",
    "print( \"dev f1\", f1_score(Y_dev, adb_model.predict(X_dev), average='weighted'))\n",
    "print( \"test f1\", f1_score(Y_test, adb_model.predict(X_test), average='weighted'))"
   ]
  },
  {
   "cell_type": "code",
   "execution_count": 7,
   "metadata": {
    "collapsed": false
   },
   "outputs": [
    {
     "name": "stdout",
     "output_type": "stream",
     "text": [
      "train f1 0.519621528969\n",
      "dev f1 0.515293220567\n",
      "test f1 0.506598950933\n"
     ]
    }
   ],
   "source": [
    "from sklearn.ensemble import RandomForestClassifier\n",
    "rf_model = RandomForestClassifier(max_depth=5, n_jobs=12)\n",
    "rf_model.fit(X_train.as_matrix(), Y_train)\n",
    "\n",
    "print( \"train f1\", f1_score(Y_train, rf_model.predict(X_train), average='weighted') )\n",
    "print( \"dev f1\", f1_score(Y_dev, rf_model.predict(X_dev), average='weighted'))\n",
    "print( \"test f1\", f1_score(Y_test, rf_model.predict(X_test), average='weighted'))"
   ]
  },
  {
   "cell_type": "code",
   "execution_count": 8,
   "metadata": {
    "collapsed": true
   },
   "outputs": [],
   "source": [
    "layer_widths = [100,100,100]\n",
    "dropout = 0.5"
   ]
  },
  {
   "cell_type": "code",
   "execution_count": 9,
   "metadata": {
    "collapsed": false
   },
   "outputs": [
    {
     "name": "stdout",
     "output_type": "stream",
     "text": [
      "compilation took: 0.8 seconds\n",
      "Model id:  MLPModel01_20170406_2225_LA2_F99_C2_L100_100_100_DO0.5\n",
      "____________________________________________________________________________________________________\n",
      "Layer (type)                     Output Shape          Param #     Connected to                     \n",
      "====================================================================================================\n",
      "dense_1 (Dense)                  (None, 100)           10000       dense_input_1[0][0]              \n",
      "____________________________________________________________________________________________________\n",
      "dropout_1 (Dropout)              (None, 100)           0           dense_1[0][0]                    \n",
      "____________________________________________________________________________________________________\n",
      "dense_2 (Dense)                  (None, 100)           10100       dropout_1[0][0]                  \n",
      "____________________________________________________________________________________________________\n",
      "dropout_2 (Dropout)              (None, 100)           0           dense_2[0][0]                    \n",
      "____________________________________________________________________________________________________\n",
      "dense_3 (Dense)                  (None, 100)           10100       dropout_2[0][0]                  \n",
      "____________________________________________________________________________________________________\n",
      "dropout_3 (Dropout)              (None, 100)           0           dense_3[0][0]                    \n",
      "____________________________________________________________________________________________________\n",
      "dense_4 (Dense)                  (None, 1)             101         dropout_3[0][0]                  \n",
      "====================================================================================================\n",
      "Total params: 30,301\n",
      "Trainable params: 30,301\n",
      "Non-trainable params: 0\n",
      "____________________________________________________________________________________________________\n",
      "None\n"
     ]
    }
   ],
   "source": [
    "model = MLPModel01(lookahead, n_features, n_categories, layer_widths, dropout)\n",
    "print (model.summary())"
   ]
  },
  {
   "cell_type": "code",
   "execution_count": 33,
   "metadata": {
    "collapsed": false,
    "scrolled": true
   },
   "outputs": [
    {
     "name": "stdout",
     "output_type": "stream",
     "text": [
      "Epoch 0, train_loss: 0.69161 val_loss 0.69140  train_accuracy 0.5189 val_accuracy 0.5301  train_f1 0.5536 val_f1 0.6061\n",
      "Epoch 1, train_loss: 0.69141 val_loss 0.69140  train_accuracy 0.5207 val_accuracy 0.5301  train_f1 0.5560 val_f1 0.6065\n",
      "Epoch 2, train_loss: 0.69139 val_loss 0.69140  train_accuracy 0.5207 val_accuracy 0.5302  train_f1 0.5557 val_f1 0.6065\n",
      "Epoch 3, train_loss: 0.69149 val_loss 0.69140  train_accuracy 0.5211 val_accuracy 0.5303  train_f1 0.5570 val_f1 0.6065\n",
      "Epoch 4, train_loss: 0.69149 val_loss 0.69140  train_accuracy 0.5189 val_accuracy 0.5303  train_f1 0.5546 val_f1 0.6063\n",
      "saved to  ./output/MLPModel01_20170406_2225_LA2_F99_C2_L100_100_100_DO0.5-1005-0.6914.hdf5\n",
      "Epoch 5, train_loss: 0.69128 val_loss 0.69140  train_accuracy 0.5204 val_accuracy 0.5302  train_f1 0.5550 val_f1 0.6063\n",
      "Epoch 6, train_loss: 0.69147 val_loss 0.69140  train_accuracy 0.5212 val_accuracy 0.5303  train_f1 0.5563 val_f1 0.6067\n",
      "Epoch 7, train_loss: 0.69141 val_loss 0.69140  train_accuracy 0.5213 val_accuracy 0.5303  train_f1 0.5565 val_f1 0.6068\n",
      "Epoch 8, train_loss: 0.69137 val_loss 0.69140  train_accuracy 0.5220 val_accuracy 0.5303  train_f1 0.5575 val_f1 0.6064\n",
      "Epoch 9, train_loss: 0.69141 val_loss 0.69139  train_accuracy 0.5199 val_accuracy 0.5303  train_f1 0.5554 val_f1 0.6060\n",
      "saved to  ./output/MLPModel01_20170406_2225_LA2_F99_C2_L100_100_100_DO0.5-1010-0.6914.hdf5\n",
      "Epoch 10, train_loss: 0.69147 val_loss 0.69139  train_accuracy 0.5188 val_accuracy 0.5302  train_f1 0.5545 val_f1 0.6064\n",
      "Epoch 11, train_loss: 0.69145 val_loss 0.69139  train_accuracy 0.5202 val_accuracy 0.5303  train_f1 0.5567 val_f1 0.6067\n",
      "Epoch 12, train_loss: 0.69164 val_loss 0.69139  train_accuracy 0.5210 val_accuracy 0.5302  train_f1 0.5571 val_f1 0.6066\n",
      "Epoch 13, train_loss: 0.69142 val_loss 0.69139  train_accuracy 0.5213 val_accuracy 0.5301  train_f1 0.5571 val_f1 0.6065\n",
      "Epoch 14, train_loss: 0.69134 val_loss 0.69139  train_accuracy 0.5216 val_accuracy 0.5299  train_f1 0.5572 val_f1 0.6066\n",
      "saved to  ./output/MLPModel01_20170406_2225_LA2_F99_C2_L100_100_100_DO0.5-1015-0.6914.hdf5\n",
      "Epoch 15, train_loss: 0.69136 val_loss 0.69139  train_accuracy 0.5203 val_accuracy 0.5301  train_f1 0.5563 val_f1 0.6063\n",
      "Epoch 16, train_loss: 0.69143 val_loss 0.69139  train_accuracy 0.5202 val_accuracy 0.5301  train_f1 0.5559 val_f1 0.6061\n",
      "Epoch 17, train_loss: 0.69127 val_loss 0.69138  train_accuracy 0.5214 val_accuracy 0.5304  train_f1 0.5566 val_f1 0.6053\n",
      "Epoch 18, train_loss: 0.69141 val_loss 0.69138  train_accuracy 0.5198 val_accuracy 0.5304  train_f1 0.5548 val_f1 0.6048\n",
      "Epoch 19, train_loss: 0.69120 val_loss 0.69138  train_accuracy 0.5215 val_accuracy 0.5304  train_f1 0.5558 val_f1 0.6042\n",
      "saved to  ./output/MLPModel01_20170406_2225_LA2_F99_C2_L100_100_100_DO0.5-1020-0.6914.hdf5\n",
      "Epoch 20, train_loss: 0.69165 val_loss 0.69138  train_accuracy 0.5190 val_accuracy 0.5307  train_f1 0.5537 val_f1 0.6040\n",
      "Epoch 21, train_loss: 0.69148 val_loss 0.69138  train_accuracy 0.5197 val_accuracy 0.5306  train_f1 0.5541 val_f1 0.6043\n",
      "Epoch 22, train_loss: 0.69130 val_loss 0.69138  train_accuracy 0.5216 val_accuracy 0.5305  train_f1 0.5562 val_f1 0.6043\n",
      "Epoch 23, train_loss: 0.69146 val_loss 0.69138  train_accuracy 0.5217 val_accuracy 0.5305  train_f1 0.5563 val_f1 0.6045\n",
      "Epoch 24, train_loss: 0.69140 val_loss 0.69137  train_accuracy 0.5207 val_accuracy 0.5305  train_f1 0.5550 val_f1 0.6051\n",
      "saved to  ./output/MLPModel01_20170406_2225_LA2_F99_C2_L100_100_100_DO0.5-1025-0.6914.hdf5\n",
      "Epoch 25, train_loss: 0.69155 val_loss 0.69137  train_accuracy 0.5214 val_accuracy 0.5303  train_f1 0.5563 val_f1 0.6053\n",
      "Epoch 26, train_loss: 0.69140 val_loss 0.69138  train_accuracy 0.5212 val_accuracy 0.5304  train_f1 0.5553 val_f1 0.6056\n",
      "Epoch 27, train_loss: 0.69162 val_loss 0.69137  train_accuracy 0.5197 val_accuracy 0.5305  train_f1 0.5552 val_f1 0.6062\n",
      "Epoch 28, train_loss: 0.69126 val_loss 0.69137  train_accuracy 0.5208 val_accuracy 0.5306  train_f1 0.5564 val_f1 0.6067\n",
      "Epoch 29, train_loss: 0.69135 val_loss 0.69137  train_accuracy 0.5213 val_accuracy 0.5306  train_f1 0.5572 val_f1 0.6067\n",
      "saved to  ./output/MLPModel01_20170406_2225_LA2_F99_C2_L100_100_100_DO0.5-1030-0.6914.hdf5\n",
      "Epoch 30, train_loss: 0.69158 val_loss 0.69137  train_accuracy 0.5200 val_accuracy 0.5304  train_f1 0.5560 val_f1 0.6064\n",
      "Epoch 31, train_loss: 0.69125 val_loss 0.69137  train_accuracy 0.5212 val_accuracy 0.5302  train_f1 0.5572 val_f1 0.6060\n",
      "Epoch 32, train_loss: 0.69136 val_loss 0.69137  train_accuracy 0.5221 val_accuracy 0.5302  train_f1 0.5575 val_f1 0.6056\n",
      "Epoch 33, train_loss: 0.69143 val_loss 0.69136  train_accuracy 0.5220 val_accuracy 0.5303  train_f1 0.5569 val_f1 0.6053\n",
      "Epoch 34, train_loss: 0.69134 val_loss 0.69136  train_accuracy 0.5227 val_accuracy 0.5303  train_f1 0.5575 val_f1 0.6053\n",
      "saved to  ./output/MLPModel01_20170406_2225_LA2_F99_C2_L100_100_100_DO0.5-1035-0.6914.hdf5\n",
      "Epoch 35, train_loss: 0.69151 val_loss 0.69137  train_accuracy 0.5191 val_accuracy 0.5303  train_f1 0.5542 val_f1 0.6055\n",
      "Epoch 36, train_loss: 0.69143 val_loss 0.69136  train_accuracy 0.5205 val_accuracy 0.5303  train_f1 0.5552 val_f1 0.6053\n",
      "Epoch 37, train_loss: 0.69147 val_loss 0.69136  train_accuracy 0.5200 val_accuracy 0.5302  train_f1 0.5553 val_f1 0.6050\n",
      "Epoch 38, train_loss: 0.69148 val_loss 0.69136  train_accuracy 0.5201 val_accuracy 0.5305  train_f1 0.5548 val_f1 0.6050\n",
      "Epoch 39, train_loss: 0.69155 val_loss 0.69136  train_accuracy 0.5201 val_accuracy 0.5305  train_f1 0.5552 val_f1 0.6053\n",
      "saved to  ./output/MLPModel01_20170406_2225_LA2_F99_C2_L100_100_100_DO0.5-1040-0.6914.hdf5\n",
      "Epoch 40, train_loss: 0.69137 val_loss 0.69136  train_accuracy 0.5204 val_accuracy 0.5305  train_f1 0.5554 val_f1 0.6058\n",
      "Epoch 41, train_loss: 0.69138 val_loss 0.69136  train_accuracy 0.5211 val_accuracy 0.5307  train_f1 0.5570 val_f1 0.6067\n",
      "Epoch 42, train_loss: 0.69159 val_loss 0.69136  train_accuracy 0.5190 val_accuracy 0.5305  train_f1 0.5546 val_f1 0.6068\n",
      "Epoch 43, train_loss: 0.69148 val_loss 0.69136  train_accuracy 0.5191 val_accuracy 0.5304  train_f1 0.5546 val_f1 0.6070\n",
      "Epoch 44, train_loss: 0.69144 val_loss 0.69136  train_accuracy 0.5192 val_accuracy 0.5302  train_f1 0.5551 val_f1 0.6071\n",
      "saved to  ./output/MLPModel01_20170406_2225_LA2_F99_C2_L100_100_100_DO0.5-1045-0.6914.hdf5\n",
      "Epoch 45, train_loss: 0.69152 val_loss 0.69136  train_accuracy 0.5202 val_accuracy 0.5301  train_f1 0.5571 val_f1 0.6077\n",
      "Epoch 46, train_loss: 0.69138 val_loss 0.69136  train_accuracy 0.5197 val_accuracy 0.5301  train_f1 0.5565 val_f1 0.6078\n",
      "Epoch 47, train_loss: 0.69147 val_loss 0.69136  train_accuracy 0.5206 val_accuracy 0.5302  train_f1 0.5569 val_f1 0.6079\n",
      "Epoch 48, train_loss: 0.69123 val_loss 0.69136  train_accuracy 0.5223 val_accuracy 0.5304  train_f1 0.5589 val_f1 0.6084\n",
      "Epoch 49, train_loss: 0.69138 val_loss 0.69136  train_accuracy 0.5192 val_accuracy 0.5302  train_f1 0.5557 val_f1 0.6079\n",
      "saved to  ./output/MLPModel01_20170406_2225_LA2_F99_C2_L100_100_100_DO0.5-1050-0.6914.hdf5\n",
      "Epoch 50, train_loss: 0.69145 val_loss 0.69136  train_accuracy 0.5209 val_accuracy 0.5302  train_f1 0.5581 val_f1 0.6080\n",
      "Epoch 51, train_loss: 0.69143 val_loss 0.69136  train_accuracy 0.5195 val_accuracy 0.5302  train_f1 0.5564 val_f1 0.6079\n",
      "Epoch 52, train_loss: 0.69132 val_loss 0.69136  train_accuracy 0.5214 val_accuracy 0.5302  train_f1 0.5578 val_f1 0.6074\n",
      "Epoch 53, train_loss: 0.69155 val_loss 0.69136  train_accuracy 0.5200 val_accuracy 0.5305  train_f1 0.5555 val_f1 0.6073\n",
      "Epoch 54, train_loss: 0.69127 val_loss 0.69135  train_accuracy 0.5205 val_accuracy 0.5306  train_f1 0.5561 val_f1 0.6070\n",
      "saved to  ./output/MLPModel01_20170406_2225_LA2_F99_C2_L100_100_100_DO0.5-1055-0.6914.hdf5\n",
      "Epoch 55, train_loss: 0.69124 val_loss 0.69135  train_accuracy 0.5221 val_accuracy 0.5306  train_f1 0.5577 val_f1 0.6066\n",
      "Epoch 56, train_loss: 0.69138 val_loss 0.69135  train_accuracy 0.5211 val_accuracy 0.5304  train_f1 0.5568 val_f1 0.6060\n",
      "Epoch 57, train_loss: 0.69129 val_loss 0.69135  train_accuracy 0.5217 val_accuracy 0.5305  train_f1 0.5568 val_f1 0.6057\n",
      "Epoch 58, train_loss: 0.69128 val_loss 0.69134  train_accuracy 0.5214 val_accuracy 0.5305  train_f1 0.5559 val_f1 0.6056\n",
      "Epoch 59, train_loss: 0.69128 val_loss 0.69134  train_accuracy 0.5219 val_accuracy 0.5307  train_f1 0.5571 val_f1 0.6058\n",
      "saved to  ./output/MLPModel01_20170406_2225_LA2_F99_C2_L100_100_100_DO0.5-1060-0.6913.hdf5\n",
      "Epoch 60, train_loss: 0.69127 val_loss 0.69134  train_accuracy 0.5218 val_accuracy 0.5308  train_f1 0.5567 val_f1 0.6057\n",
      "Epoch 61, train_loss: 0.69147 val_loss 0.69133  train_accuracy 0.5192 val_accuracy 0.5308  train_f1 0.5546 val_f1 0.6055\n",
      "Epoch 62, train_loss: 0.69130 val_loss 0.69133  train_accuracy 0.5212 val_accuracy 0.5309  train_f1 0.5549 val_f1 0.6059\n",
      "Epoch 63, train_loss: 0.69128 val_loss 0.69133  train_accuracy 0.5219 val_accuracy 0.5308  train_f1 0.5573 val_f1 0.6063\n",
      "Epoch 64, train_loss: 0.69144 val_loss 0.69133  train_accuracy 0.5208 val_accuracy 0.5306  train_f1 0.5562 val_f1 0.6067\n",
      "saved to  ./output/MLPModel01_20170406_2225_LA2_F99_C2_L100_100_100_DO0.5-1065-0.6913.hdf5\n",
      "Epoch 65, train_loss: 0.69123 val_loss 0.69133  train_accuracy 0.5210 val_accuracy 0.5307  train_f1 0.5568 val_f1 0.6066\n",
      "Epoch 66, train_loss: 0.69137 val_loss 0.69132  train_accuracy 0.5206 val_accuracy 0.5307  train_f1 0.5562 val_f1 0.6065\n",
      "Epoch 67, train_loss: 0.69136 val_loss 0.69132  train_accuracy 0.5204 val_accuracy 0.5307  train_f1 0.5566 val_f1 0.6066\n",
      "Epoch 68, train_loss: 0.69140 val_loss 0.69132  train_accuracy 0.5203 val_accuracy 0.5306  train_f1 0.5566 val_f1 0.6070\n",
      "Epoch 69, train_loss: 0.69132 val_loss 0.69132  train_accuracy 0.5206 val_accuracy 0.5307  train_f1 0.5573 val_f1 0.6069\n",
      "saved to  ./output/MLPModel01_20170406_2225_LA2_F99_C2_L100_100_100_DO0.5-1070-0.6913.hdf5\n",
      "Epoch 70, train_loss: 0.69136 val_loss 0.69132  train_accuracy 0.5214 val_accuracy 0.5311  train_f1 0.5574 val_f1 0.6065\n",
      "Epoch 71, train_loss: 0.69128 val_loss 0.69131  train_accuracy 0.5227 val_accuracy 0.5311  train_f1 0.5584 val_f1 0.6064\n",
      "Epoch 72, train_loss: 0.69123 val_loss 0.69131  train_accuracy 0.5207 val_accuracy 0.5310  train_f1 0.5564 val_f1 0.6061\n",
      "Epoch 73, train_loss: 0.69126 val_loss 0.69131  train_accuracy 0.5222 val_accuracy 0.5310  train_f1 0.5578 val_f1 0.6061\n",
      "Epoch 74, train_loss: 0.69135 val_loss 0.69131  train_accuracy 0.5212 val_accuracy 0.5309  train_f1 0.5577 val_f1 0.6061\n",
      "saved to  ./output/MLPModel01_20170406_2225_LA2_F99_C2_L100_100_100_DO0.5-1075-0.6913.hdf5\n",
      "Epoch 75, train_loss: 0.69130 val_loss 0.69130  train_accuracy 0.5213 val_accuracy 0.5310  train_f1 0.5564 val_f1 0.6060\n",
      "Epoch 76, train_loss: 0.69147 val_loss 0.69130  train_accuracy 0.5202 val_accuracy 0.5311  train_f1 0.5555 val_f1 0.6059\n",
      "Epoch 77, train_loss: 0.69135 val_loss 0.69130  train_accuracy 0.5211 val_accuracy 0.5309  train_f1 0.5559 val_f1 0.6056\n",
      "Epoch 78, train_loss: 0.69131 val_loss 0.69130  train_accuracy 0.5207 val_accuracy 0.5311  train_f1 0.5557 val_f1 0.6060\n",
      "Epoch 79, train_loss: 0.69113 val_loss 0.69130  train_accuracy 0.5207 val_accuracy 0.5309  train_f1 0.5560 val_f1 0.6055\n",
      "saved to  ./output/MLPModel01_20170406_2225_LA2_F99_C2_L100_100_100_DO0.5-1080-0.6913.hdf5\n",
      "Epoch 80, train_loss: 0.69141 val_loss 0.69130  train_accuracy 0.5217 val_accuracy 0.5309  train_f1 0.5567 val_f1 0.6052\n",
      "Epoch 81, train_loss: 0.69121 val_loss 0.69130  train_accuracy 0.5227 val_accuracy 0.5307  train_f1 0.5570 val_f1 0.6041\n",
      "Epoch 82, train_loss: 0.69145 val_loss 0.69130  train_accuracy 0.5215 val_accuracy 0.5308  train_f1 0.5554 val_f1 0.6031\n",
      "Epoch 83, train_loss: 0.69113 val_loss 0.69130  train_accuracy 0.5218 val_accuracy 0.5306  train_f1 0.5548 val_f1 0.6024\n",
      "Epoch 84, train_loss: 0.69122 val_loss 0.69130  train_accuracy 0.5216 val_accuracy 0.5307  train_f1 0.5544 val_f1 0.6022\n",
      "saved to  ./output/MLPModel01_20170406_2225_LA2_F99_C2_L100_100_100_DO0.5-1085-0.6913.hdf5\n",
      "Epoch 85, train_loss: 0.69129 val_loss 0.69130  train_accuracy 0.5220 val_accuracy 0.5307  train_f1 0.5546 val_f1 0.6020\n",
      "Epoch 86, train_loss: 0.69139 val_loss 0.69130  train_accuracy 0.5197 val_accuracy 0.5307  train_f1 0.5524 val_f1 0.6026\n",
      "Epoch 87, train_loss: 0.69144 val_loss 0.69130  train_accuracy 0.5209 val_accuracy 0.5307  train_f1 0.5545 val_f1 0.6034\n",
      "Epoch 88, train_loss: 0.69122 val_loss 0.69130  train_accuracy 0.5203 val_accuracy 0.5310  train_f1 0.5551 val_f1 0.6044\n",
      "Epoch 89, train_loss: 0.69136 val_loss 0.69130  train_accuracy 0.5215 val_accuracy 0.5310  train_f1 0.5559 val_f1 0.6048\n",
      "saved to  ./output/MLPModel01_20170406_2225_LA2_F99_C2_L100_100_100_DO0.5-1090-0.6913.hdf5\n",
      "Epoch 90, train_loss: 0.69109 val_loss 0.69130  train_accuracy 0.5216 val_accuracy 0.5310  train_f1 0.5568 val_f1 0.6051\n",
      "Epoch 91, train_loss: 0.69125 val_loss 0.69130  train_accuracy 0.5207 val_accuracy 0.5311  train_f1 0.5554 val_f1 0.6048\n",
      "Epoch 92, train_loss: 0.69133 val_loss 0.69130  train_accuracy 0.5202 val_accuracy 0.5308  train_f1 0.5551 val_f1 0.6040\n",
      "Epoch 93, train_loss: 0.69136 val_loss 0.69130  train_accuracy 0.5223 val_accuracy 0.5308  train_f1 0.5561 val_f1 0.6038\n",
      "Epoch 94, train_loss: 0.69108 val_loss 0.69130  train_accuracy 0.5215 val_accuracy 0.5308  train_f1 0.5557 val_f1 0.6038\n",
      "saved to  ./output/MLPModel01_20170406_2225_LA2_F99_C2_L100_100_100_DO0.5-1095-0.6913.hdf5\n",
      "Epoch 95, train_loss: 0.69126 val_loss 0.69129  train_accuracy 0.5211 val_accuracy 0.5309  train_f1 0.5554 val_f1 0.6034\n",
      "Epoch 96, train_loss: 0.69125 val_loss 0.69129  train_accuracy 0.5207 val_accuracy 0.5308  train_f1 0.5548 val_f1 0.6031\n",
      "Epoch 97, train_loss: 0.69141 val_loss 0.69129  train_accuracy 0.5206 val_accuracy 0.5307  train_f1 0.5545 val_f1 0.6033\n",
      "Epoch 98, train_loss: 0.69123 val_loss 0.69129  train_accuracy 0.5209 val_accuracy 0.5309  train_f1 0.5552 val_f1 0.6036\n",
      "Epoch 99, train_loss: 0.69127 val_loss 0.69129  train_accuracy 0.5219 val_accuracy 0.5309  train_f1 0.5558 val_f1 0.6038\n",
      "saved to  ./output/MLPModel01_20170406_2225_LA2_F99_C2_L100_100_100_DO0.5-1100-0.6913.hdf5\n",
      "Epoch 100, train_loss: 0.69138 val_loss 0.69129  train_accuracy 0.5205 val_accuracy 0.5309  train_f1 0.5550 val_f1 0.6038\n",
      "Epoch 101, train_loss: 0.69131 val_loss 0.69129  train_accuracy 0.5212 val_accuracy 0.5309  train_f1 0.5559 val_f1 0.6039\n",
      "Epoch 102, train_loss: 0.69127 val_loss 0.69129  train_accuracy 0.5217 val_accuracy 0.5310  train_f1 0.5564 val_f1 0.6042\n",
      "Epoch 103, train_loss: 0.69131 val_loss 0.69129  train_accuracy 0.5204 val_accuracy 0.5311  train_f1 0.5555 val_f1 0.6046\n",
      "Epoch 104, train_loss: 0.69137 val_loss 0.69129  train_accuracy 0.5220 val_accuracy 0.5309  train_f1 0.5564 val_f1 0.6043\n",
      "saved to  ./output/MLPModel01_20170406_2225_LA2_F99_C2_L100_100_100_DO0.5-1105-0.6913.hdf5\n",
      "Epoch 105, train_loss: 0.69120 val_loss 0.69129  train_accuracy 0.5207 val_accuracy 0.5311  train_f1 0.5556 val_f1 0.6049\n",
      "Epoch 106, train_loss: 0.69127 val_loss 0.69129  train_accuracy 0.5214 val_accuracy 0.5311  train_f1 0.5563 val_f1 0.6051\n",
      "Epoch 107, train_loss: 0.69122 val_loss 0.69129  train_accuracy 0.5195 val_accuracy 0.5311  train_f1 0.5552 val_f1 0.6050\n",
      "Epoch 108, train_loss: 0.69135 val_loss 0.69129  train_accuracy 0.5222 val_accuracy 0.5311  train_f1 0.5571 val_f1 0.6047\n",
      "Epoch 109, train_loss: 0.69134 val_loss 0.69129  train_accuracy 0.5203 val_accuracy 0.5310  train_f1 0.5554 val_f1 0.6047\n",
      "saved to  ./output/MLPModel01_20170406_2225_LA2_F99_C2_L100_100_100_DO0.5-1110-0.6913.hdf5\n",
      "Epoch 110, train_loss: 0.69133 val_loss 0.69129  train_accuracy 0.5224 val_accuracy 0.5311  train_f1 0.5578 val_f1 0.6050\n",
      "Epoch 111, train_loss: 0.69102 val_loss 0.69128  train_accuracy 0.5223 val_accuracy 0.5311  train_f1 0.5578 val_f1 0.6054\n",
      "Epoch 112, train_loss: 0.69132 val_loss 0.69128  train_accuracy 0.5210 val_accuracy 0.5311  train_f1 0.5568 val_f1 0.6055\n",
      "Epoch 113, train_loss: 0.69121 val_loss 0.69128  train_accuracy 0.5197 val_accuracy 0.5311  train_f1 0.5560 val_f1 0.6056\n",
      "Epoch 114, train_loss: 0.69124 val_loss 0.69128  train_accuracy 0.5207 val_accuracy 0.5312  train_f1 0.5569 val_f1 0.6060\n",
      "saved to  ./output/MLPModel01_20170406_2225_LA2_F99_C2_L100_100_100_DO0.5-1115-0.6913.hdf5\n",
      "Epoch 115, train_loss: 0.69137 val_loss 0.69128  train_accuracy 0.5186 val_accuracy 0.5312  train_f1 0.5553 val_f1 0.6059\n",
      "Epoch 116, train_loss: 0.69117 val_loss 0.69128  train_accuracy 0.5229 val_accuracy 0.5311  train_f1 0.5588 val_f1 0.6052\n",
      "Epoch 117, train_loss: 0.69138 val_loss 0.69128  train_accuracy 0.5212 val_accuracy 0.5311  train_f1 0.5569 val_f1 0.6048\n",
      "Epoch 118, train_loss: 0.69121 val_loss 0.69128  train_accuracy 0.5218 val_accuracy 0.5308  train_f1 0.5568 val_f1 0.6042\n",
      "Epoch 119, train_loss: 0.69139 val_loss 0.69128  train_accuracy 0.5209 val_accuracy 0.5310  train_f1 0.5562 val_f1 0.6039\n",
      "saved to  ./output/MLPModel01_20170406_2225_LA2_F99_C2_L100_100_100_DO0.5-1120-0.6913.hdf5\n",
      "Epoch 120, train_loss: 0.69131 val_loss 0.69128  train_accuracy 0.5213 val_accuracy 0.5309  train_f1 0.5556 val_f1 0.6040\n",
      "Epoch 121, train_loss: 0.69138 val_loss 0.69128  train_accuracy 0.5211 val_accuracy 0.5309  train_f1 0.5564 val_f1 0.6042\n",
      "Epoch 122, train_loss: 0.69145 val_loss 0.69128  train_accuracy 0.5209 val_accuracy 0.5311  train_f1 0.5564 val_f1 0.6050\n",
      "Epoch 123, train_loss: 0.69143 val_loss 0.69128  train_accuracy 0.5205 val_accuracy 0.5310  train_f1 0.5563 val_f1 0.6048\n",
      "Epoch 124, train_loss: 0.69126 val_loss 0.69128  train_accuracy 0.5196 val_accuracy 0.5312  train_f1 0.5552 val_f1 0.6051\n",
      "saved to  ./output/MLPModel01_20170406_2225_LA2_F99_C2_L100_100_100_DO0.5-1125-0.6913.hdf5\n",
      "Epoch 125, train_loss: 0.69127 val_loss 0.69129  train_accuracy 0.5202 val_accuracy 0.5312  train_f1 0.5564 val_f1 0.6056\n",
      "Epoch 126, train_loss: 0.69118 val_loss 0.69128  train_accuracy 0.5227 val_accuracy 0.5313  train_f1 0.5579 val_f1 0.6054\n",
      "Epoch 127, train_loss: 0.69121 val_loss 0.69128  train_accuracy 0.5226 val_accuracy 0.5311  train_f1 0.5582 val_f1 0.6048\n",
      "Epoch 128, train_loss: 0.69117 val_loss 0.69128  train_accuracy 0.5217 val_accuracy 0.5310  train_f1 0.5566 val_f1 0.6044\n",
      "Epoch 129, train_loss: 0.69145 val_loss 0.69128  train_accuracy 0.5209 val_accuracy 0.5310  train_f1 0.5555 val_f1 0.6039\n",
      "saved to  ./output/MLPModel01_20170406_2225_LA2_F99_C2_L100_100_100_DO0.5-1130-0.6913.hdf5\n",
      "Epoch 130, train_loss: 0.69130 val_loss 0.69128  train_accuracy 0.5216 val_accuracy 0.5308  train_f1 0.5557 val_f1 0.6033\n",
      "Epoch 131, train_loss: 0.69115 val_loss 0.69128  train_accuracy 0.5225 val_accuracy 0.5310  train_f1 0.5568 val_f1 0.6032\n",
      "Epoch 132, train_loss: 0.69133 val_loss 0.69128  train_accuracy 0.5200 val_accuracy 0.5312  train_f1 0.5549 val_f1 0.6034\n",
      "Epoch 133, train_loss: 0.69135 val_loss 0.69128  train_accuracy 0.5222 val_accuracy 0.5312  train_f1 0.5553 val_f1 0.6033\n",
      "Epoch 134, train_loss: 0.69116 val_loss 0.69128  train_accuracy 0.5212 val_accuracy 0.5313  train_f1 0.5546 val_f1 0.6032\n",
      "saved to  ./output/MLPModel01_20170406_2225_LA2_F99_C2_L100_100_100_DO0.5-1135-0.6913.hdf5\n",
      "Epoch 135, train_loss: 0.69114 val_loss 0.69127  train_accuracy 0.5223 val_accuracy 0.5314  train_f1 0.5551 val_f1 0.6030\n",
      "Epoch 136, train_loss: 0.69125 val_loss 0.69127  train_accuracy 0.5210 val_accuracy 0.5311  train_f1 0.5542 val_f1 0.6021\n",
      "Epoch 137, train_loss: 0.69136 val_loss 0.69127  train_accuracy 0.5219 val_accuracy 0.5310  train_f1 0.5548 val_f1 0.6016\n",
      "Epoch 138, train_loss: 0.69131 val_loss 0.69127  train_accuracy 0.5217 val_accuracy 0.5310  train_f1 0.5542 val_f1 0.6015\n",
      "Epoch 139, train_loss: 0.69098 val_loss 0.69127  train_accuracy 0.5217 val_accuracy 0.5310  train_f1 0.5539 val_f1 0.6011\n",
      "saved to  ./output/MLPModel01_20170406_2225_LA2_F99_C2_L100_100_100_DO0.5-1140-0.6913.hdf5\n",
      "Epoch 140, train_loss: 0.69112 val_loss 0.69126  train_accuracy 0.5227 val_accuracy 0.5308  train_f1 0.5548 val_f1 0.6006\n",
      "Epoch 141, train_loss: 0.69115 val_loss 0.69126  train_accuracy 0.5220 val_accuracy 0.5308  train_f1 0.5542 val_f1 0.6003\n",
      "Epoch 142, train_loss: 0.69111 val_loss 0.69126  train_accuracy 0.5209 val_accuracy 0.5309  train_f1 0.5531 val_f1 0.6003\n",
      "Epoch 143, train_loss: 0.69135 val_loss 0.69125  train_accuracy 0.5200 val_accuracy 0.5311  train_f1 0.5519 val_f1 0.6009\n",
      "Epoch 144, train_loss: 0.69122 val_loss 0.69125  train_accuracy 0.5223 val_accuracy 0.5309  train_f1 0.5546 val_f1 0.6010\n",
      "saved to  ./output/MLPModel01_20170406_2225_LA2_F99_C2_L100_100_100_DO0.5-1145-0.6913.hdf5\n",
      "Epoch 145, train_loss: 0.69136 val_loss 0.69125  train_accuracy 0.5216 val_accuracy 0.5309  train_f1 0.5539 val_f1 0.6015\n",
      "Epoch 146, train_loss: 0.69121 val_loss 0.69125  train_accuracy 0.5215 val_accuracy 0.5312  train_f1 0.5550 val_f1 0.6021\n",
      "Epoch 147, train_loss: 0.69108 val_loss 0.69125  train_accuracy 0.5226 val_accuracy 0.5312  train_f1 0.5557 val_f1 0.6021\n",
      "Epoch 148, train_loss: 0.69111 val_loss 0.69125  train_accuracy 0.5246 val_accuracy 0.5313  train_f1 0.5575 val_f1 0.6021\n",
      "Epoch 149, train_loss: 0.69107 val_loss 0.69125  train_accuracy 0.5237 val_accuracy 0.5313  train_f1 0.5564 val_f1 0.6010\n",
      "saved to  ./output/MLPModel01_20170406_2225_LA2_F99_C2_L100_100_100_DO0.5-1150-0.6912.hdf5\n",
      "Epoch 150, train_loss: 0.69120 val_loss 0.69125  train_accuracy 0.5217 val_accuracy 0.5309  train_f1 0.5544 val_f1 0.6005\n",
      "Epoch 151, train_loss: 0.69106 val_loss 0.69124  train_accuracy 0.5223 val_accuracy 0.5309  train_f1 0.5548 val_f1 0.6002\n",
      "Epoch 152, train_loss: 0.69113 val_loss 0.69124  train_accuracy 0.5226 val_accuracy 0.5309  train_f1 0.5552 val_f1 0.6003\n",
      "Epoch 153, train_loss: 0.69124 val_loss 0.69124  train_accuracy 0.5218 val_accuracy 0.5311  train_f1 0.5545 val_f1 0.6006\n",
      "Epoch 154, train_loss: 0.69119 val_loss 0.69124  train_accuracy 0.5217 val_accuracy 0.5309  train_f1 0.5549 val_f1 0.6001\n",
      "saved to  ./output/MLPModel01_20170406_2225_LA2_F99_C2_L100_100_100_DO0.5-1155-0.6912.hdf5\n",
      "Epoch 155, train_loss: 0.69115 val_loss 0.69124  train_accuracy 0.5219 val_accuracy 0.5309  train_f1 0.5549 val_f1 0.6001\n",
      "Epoch 156, train_loss: 0.69117 val_loss 0.69124  train_accuracy 0.5216 val_accuracy 0.5308  train_f1 0.5542 val_f1 0.6000\n",
      "Epoch 157, train_loss: 0.69107 val_loss 0.69124  train_accuracy 0.5226 val_accuracy 0.5309  train_f1 0.5560 val_f1 0.6001\n",
      "Epoch 158, train_loss: 0.69124 val_loss 0.69124  train_accuracy 0.5220 val_accuracy 0.5308  train_f1 0.5542 val_f1 0.5998\n",
      "Epoch 159, train_loss: 0.69096 val_loss 0.69124  train_accuracy 0.5238 val_accuracy 0.5307  train_f1 0.5559 val_f1 0.5997\n",
      "saved to  ./output/MLPModel01_20170406_2225_LA2_F99_C2_L100_100_100_DO0.5-1160-0.6912.hdf5\n",
      "Epoch 160, train_loss: 0.69131 val_loss 0.69124  train_accuracy 0.5211 val_accuracy 0.5306  train_f1 0.5537 val_f1 0.5995\n",
      "Epoch 161, train_loss: 0.69129 val_loss 0.69124  train_accuracy 0.5212 val_accuracy 0.5307  train_f1 0.5540 val_f1 0.5997\n",
      "Epoch 162, train_loss: 0.69106 val_loss 0.69124  train_accuracy 0.5206 val_accuracy 0.5308  train_f1 0.5538 val_f1 0.5998\n",
      "Epoch 163, train_loss: 0.69118 val_loss 0.69124  train_accuracy 0.5226 val_accuracy 0.5307  train_f1 0.5560 val_f1 0.5997\n",
      "Epoch 164, train_loss: 0.69112 val_loss 0.69124  train_accuracy 0.5225 val_accuracy 0.5307  train_f1 0.5555 val_f1 0.5998\n",
      "saved to  ./output/MLPModel01_20170406_2225_LA2_F99_C2_L100_100_100_DO0.5-1165-0.6912.hdf5\n",
      "Epoch 165, train_loss: 0.69124 val_loss 0.69124  train_accuracy 0.5213 val_accuracy 0.5307  train_f1 0.5542 val_f1 0.5997\n",
      "Epoch 166, train_loss: 0.69128 val_loss 0.69124  train_accuracy 0.5225 val_accuracy 0.5308  train_f1 0.5552 val_f1 0.5993\n",
      "Epoch 167, train_loss: 0.69119 val_loss 0.69123  train_accuracy 0.5215 val_accuracy 0.5308  train_f1 0.5537 val_f1 0.5993\n",
      "Epoch 168, train_loss: 0.69123 val_loss 0.69123  train_accuracy 0.5225 val_accuracy 0.5307  train_f1 0.5551 val_f1 0.5988\n",
      "Epoch 169, train_loss: 0.69129 val_loss 0.69123  train_accuracy 0.5218 val_accuracy 0.5308  train_f1 0.5534 val_f1 0.5991\n",
      "saved to  ./output/MLPModel01_20170406_2225_LA2_F99_C2_L100_100_100_DO0.5-1170-0.6912.hdf5\n",
      "Epoch 170, train_loss: 0.69118 val_loss 0.69124  train_accuracy 0.5216 val_accuracy 0.5307  train_f1 0.5546 val_f1 0.5994\n",
      "Epoch 171, train_loss: 0.69129 val_loss 0.69123  train_accuracy 0.5202 val_accuracy 0.5308  train_f1 0.5525 val_f1 0.5998\n",
      "Epoch 172, train_loss: 0.69108 val_loss 0.69123  train_accuracy 0.5216 val_accuracy 0.5308  train_f1 0.5548 val_f1 0.6001\n",
      "Epoch 173, train_loss: 0.69118 val_loss 0.69123  train_accuracy 0.5207 val_accuracy 0.5308  train_f1 0.5542 val_f1 0.6002\n",
      "Epoch 174, train_loss: 0.69109 val_loss 0.69123  train_accuracy 0.5233 val_accuracy 0.5309  train_f1 0.5563 val_f1 0.6001\n",
      "saved to  ./output/MLPModel01_20170406_2225_LA2_F99_C2_L100_100_100_DO0.5-1175-0.6912.hdf5\n",
      "Epoch 175, train_loss: 0.69112 val_loss 0.69123  train_accuracy 0.5223 val_accuracy 0.5309  train_f1 0.5550 val_f1 0.5997\n",
      "Epoch 176, train_loss: 0.69119 val_loss 0.69122  train_accuracy 0.5220 val_accuracy 0.5309  train_f1 0.5551 val_f1 0.5994\n",
      "Epoch 177, train_loss: 0.69139 val_loss 0.69122  train_accuracy 0.5220 val_accuracy 0.5309  train_f1 0.5548 val_f1 0.5995\n",
      "Epoch 178, train_loss: 0.69117 val_loss 0.69122  train_accuracy 0.5222 val_accuracy 0.5309  train_f1 0.5556 val_f1 0.5998\n",
      "Epoch 179, train_loss: 0.69111 val_loss 0.69122  train_accuracy 0.5224 val_accuracy 0.5309  train_f1 0.5558 val_f1 0.5998\n",
      "saved to  ./output/MLPModel01_20170406_2225_LA2_F99_C2_L100_100_100_DO0.5-1180-0.6912.hdf5\n",
      "Epoch 180, train_loss: 0.69134 val_loss 0.69122  train_accuracy 0.5216 val_accuracy 0.5310  train_f1 0.5544 val_f1 0.6000\n",
      "Epoch 181, train_loss: 0.69091 val_loss 0.69122  train_accuracy 0.5233 val_accuracy 0.5310  train_f1 0.5565 val_f1 0.5998\n",
      "Epoch 182, train_loss: 0.69111 val_loss 0.69122  train_accuracy 0.5230 val_accuracy 0.5309  train_f1 0.5563 val_f1 0.5998\n",
      "Epoch 183, train_loss: 0.69120 val_loss 0.69122  train_accuracy 0.5218 val_accuracy 0.5311  train_f1 0.5547 val_f1 0.6004\n",
      "Epoch 184, train_loss: 0.69114 val_loss 0.69122  train_accuracy 0.5222 val_accuracy 0.5312  train_f1 0.5557 val_f1 0.6007\n",
      "saved to  ./output/MLPModel01_20170406_2225_LA2_F99_C2_L100_100_100_DO0.5-1185-0.6912.hdf5\n",
      "Epoch 185, train_loss: 0.69110 val_loss 0.69122  train_accuracy 0.5231 val_accuracy 0.5310  train_f1 0.5567 val_f1 0.6005\n",
      "Epoch 186, train_loss: 0.69114 val_loss 0.69121  train_accuracy 0.5242 val_accuracy 0.5311  train_f1 0.5578 val_f1 0.6004\n",
      "Epoch 187, train_loss: 0.69129 val_loss 0.69121  train_accuracy 0.5225 val_accuracy 0.5312  train_f1 0.5554 val_f1 0.6006\n",
      "Epoch 188, train_loss: 0.69125 val_loss 0.69121  train_accuracy 0.5195 val_accuracy 0.5311  train_f1 0.5528 val_f1 0.6002\n",
      "Epoch 189, train_loss: 0.69118 val_loss 0.69121  train_accuracy 0.5219 val_accuracy 0.5313  train_f1 0.5554 val_f1 0.6005\n",
      "saved to  ./output/MLPModel01_20170406_2225_LA2_F99_C2_L100_100_100_DO0.5-1190-0.6912.hdf5\n",
      "Epoch 190, train_loss: 0.69103 val_loss 0.69121  train_accuracy 0.5234 val_accuracy 0.5313  train_f1 0.5565 val_f1 0.6003\n",
      "Epoch 191, train_loss: 0.69127 val_loss 0.69121  train_accuracy 0.5208 val_accuracy 0.5312  train_f1 0.5544 val_f1 0.6005\n",
      "Epoch 192, train_loss: 0.69108 val_loss 0.69121  train_accuracy 0.5224 val_accuracy 0.5313  train_f1 0.5558 val_f1 0.6003\n",
      "Epoch 193, train_loss: 0.69118 val_loss 0.69121  train_accuracy 0.5225 val_accuracy 0.5311  train_f1 0.5552 val_f1 0.5997\n",
      "Epoch 194, train_loss: 0.69121 val_loss 0.69121  train_accuracy 0.5219 val_accuracy 0.5309  train_f1 0.5547 val_f1 0.5992\n",
      "saved to  ./output/MLPModel01_20170406_2225_LA2_F99_C2_L100_100_100_DO0.5-1195-0.6912.hdf5\n",
      "Epoch 195, train_loss: 0.69115 val_loss 0.69121  train_accuracy 0.5219 val_accuracy 0.5311  train_f1 0.5556 val_f1 0.5998\n",
      "Epoch 196, train_loss: 0.69125 val_loss 0.69121  train_accuracy 0.5216 val_accuracy 0.5310  train_f1 0.5539 val_f1 0.5996\n",
      "Epoch 197, train_loss: 0.69108 val_loss 0.69121  train_accuracy 0.5233 val_accuracy 0.5309  train_f1 0.5563 val_f1 0.5993\n",
      "Epoch 198, train_loss: 0.69141 val_loss 0.69121  train_accuracy 0.5190 val_accuracy 0.5312  train_f1 0.5520 val_f1 0.6001\n",
      "Epoch 199, train_loss: 0.69123 val_loss 0.69121  train_accuracy 0.5215 val_accuracy 0.5312  train_f1 0.5552 val_f1 0.6005\n",
      "saved to  ./output/MLPModel01_20170406_2225_LA2_F99_C2_L100_100_100_DO0.5-1200-0.6912.hdf5\n",
      "Epoch 200, train_loss: 0.69134 val_loss 0.69121  train_accuracy 0.5204 val_accuracy 0.5314  train_f1 0.5544 val_f1 0.6012\n",
      "Epoch 201, train_loss: 0.69103 val_loss 0.69121  train_accuracy 0.5225 val_accuracy 0.5315  train_f1 0.5570 val_f1 0.6015\n",
      "Epoch 202, train_loss: 0.69123 val_loss 0.69121  train_accuracy 0.5233 val_accuracy 0.5315  train_f1 0.5580 val_f1 0.6017\n",
      "Epoch 203, train_loss: 0.69107 val_loss 0.69120  train_accuracy 0.5217 val_accuracy 0.5312  train_f1 0.5562 val_f1 0.6017\n",
      "Epoch 204, train_loss: 0.69114 val_loss 0.69120  train_accuracy 0.5210 val_accuracy 0.5313  train_f1 0.5562 val_f1 0.6025\n",
      "saved to  ./output/MLPModel01_20170406_2225_LA2_F99_C2_L100_100_100_DO0.5-1205-0.6912.hdf5\n",
      "Epoch 205, train_loss: 0.69092 val_loss 0.69120  train_accuracy 0.5233 val_accuracy 0.5313  train_f1 0.5586 val_f1 0.6024\n",
      "Epoch 206, train_loss: 0.69103 val_loss 0.69120  train_accuracy 0.5221 val_accuracy 0.5314  train_f1 0.5570 val_f1 0.6021\n",
      "Epoch 207, train_loss: 0.69112 val_loss 0.69120  train_accuracy 0.5216 val_accuracy 0.5314  train_f1 0.5563 val_f1 0.6018\n",
      "Epoch 208, train_loss: 0.69118 val_loss 0.69120  train_accuracy 0.5215 val_accuracy 0.5314  train_f1 0.5557 val_f1 0.6012\n",
      "Epoch 209, train_loss: 0.69110 val_loss 0.69120  train_accuracy 0.5226 val_accuracy 0.5313  train_f1 0.5560 val_f1 0.6007\n",
      "saved to  ./output/MLPModel01_20170406_2225_LA2_F99_C2_L100_100_100_DO0.5-1210-0.6912.hdf5\n",
      "Epoch 210, train_loss: 0.69117 val_loss 0.69120  train_accuracy 0.5233 val_accuracy 0.5311  train_f1 0.5564 val_f1 0.6001\n",
      "Epoch 211, train_loss: 0.69111 val_loss 0.69120  train_accuracy 0.5221 val_accuracy 0.5311  train_f1 0.5557 val_f1 0.5998\n",
      "Epoch 212, train_loss: 0.69099 val_loss 0.69120  train_accuracy 0.5218 val_accuracy 0.5310  train_f1 0.5543 val_f1 0.5993\n",
      "Epoch 213, train_loss: 0.69099 val_loss 0.69119  train_accuracy 0.5215 val_accuracy 0.5308  train_f1 0.5538 val_f1 0.5986\n",
      "Epoch 214, train_loss: 0.69117 val_loss 0.69119  train_accuracy 0.5218 val_accuracy 0.5308  train_f1 0.5536 val_f1 0.5985\n",
      "saved to  ./output/MLPModel01_20170406_2225_LA2_F99_C2_L100_100_100_DO0.5-1215-0.6912.hdf5\n",
      "Epoch 215, train_loss: 0.69103 val_loss 0.69119  train_accuracy 0.5225 val_accuracy 0.5308  train_f1 0.5544 val_f1 0.5984\n",
      "Epoch 216, train_loss: 0.69118 val_loss 0.69119  train_accuracy 0.5214 val_accuracy 0.5308  train_f1 0.5539 val_f1 0.5982\n",
      "Epoch 217, train_loss: 0.69122 val_loss 0.69119  train_accuracy 0.5210 val_accuracy 0.5309  train_f1 0.5528 val_f1 0.5982\n",
      "Epoch 218, train_loss: 0.69102 val_loss 0.69119  train_accuracy 0.5226 val_accuracy 0.5307  train_f1 0.5551 val_f1 0.5978\n",
      "Epoch 219, train_loss: 0.69120 val_loss 0.69119  train_accuracy 0.5205 val_accuracy 0.5307  train_f1 0.5523 val_f1 0.5980\n",
      "saved to  ./output/MLPModel01_20170406_2225_LA2_F99_C2_L100_100_100_DO0.5-1220-0.6912.hdf5\n",
      "Epoch 220, train_loss: 0.69102 val_loss 0.69118  train_accuracy 0.5223 val_accuracy 0.5308  train_f1 0.5541 val_f1 0.5983\n",
      "Epoch 221, train_loss: 0.69112 val_loss 0.69118  train_accuracy 0.5219 val_accuracy 0.5308  train_f1 0.5539 val_f1 0.5987\n",
      "Epoch 222, train_loss: 0.69112 val_loss 0.69118  train_accuracy 0.5222 val_accuracy 0.5310  train_f1 0.5549 val_f1 0.5991\n",
      "Epoch 223, train_loss: 0.69110 val_loss 0.69118  train_accuracy 0.5221 val_accuracy 0.5310  train_f1 0.5551 val_f1 0.5991\n",
      "Epoch 224, train_loss: 0.69106 val_loss 0.69118  train_accuracy 0.5224 val_accuracy 0.5312  train_f1 0.5553 val_f1 0.5997\n",
      "saved to  ./output/MLPModel01_20170406_2225_LA2_F99_C2_L100_100_100_DO0.5-1225-0.6912.hdf5\n",
      "Epoch 225, train_loss: 0.69109 val_loss 0.69118  train_accuracy 0.5225 val_accuracy 0.5312  train_f1 0.5559 val_f1 0.5999\n",
      "Epoch 226, train_loss: 0.69099 val_loss 0.69118  train_accuracy 0.5226 val_accuracy 0.5310  train_f1 0.5557 val_f1 0.5992\n",
      "Epoch 227, train_loss: 0.69117 val_loss 0.69118  train_accuracy 0.5214 val_accuracy 0.5310  train_f1 0.5543 val_f1 0.5990\n",
      "Epoch 228, train_loss: 0.69112 val_loss 0.69117  train_accuracy 0.5220 val_accuracy 0.5311  train_f1 0.5549 val_f1 0.5995\n",
      "Epoch 229, train_loss: 0.69080 val_loss 0.69117  train_accuracy 0.5234 val_accuracy 0.5312  train_f1 0.5562 val_f1 0.6000\n",
      "saved to  ./output/MLPModel01_20170406_2225_LA2_F99_C2_L100_100_100_DO0.5-1230-0.6912.hdf5\n",
      "Epoch 230, train_loss: 0.69095 val_loss 0.69117  train_accuracy 0.5223 val_accuracy 0.5311  train_f1 0.5560 val_f1 0.5998\n",
      "Epoch 231, train_loss: 0.69107 val_loss 0.69116  train_accuracy 0.5231 val_accuracy 0.5311  train_f1 0.5565 val_f1 0.5994\n",
      "Epoch 232, train_loss: 0.69097 val_loss 0.69116  train_accuracy 0.5223 val_accuracy 0.5312  train_f1 0.5551 val_f1 0.5993\n",
      "Epoch 233, train_loss: 0.69105 val_loss 0.69116  train_accuracy 0.5216 val_accuracy 0.5312  train_f1 0.5550 val_f1 0.5987\n",
      "Epoch 234, train_loss: 0.69106 val_loss 0.69116  train_accuracy 0.5221 val_accuracy 0.5313  train_f1 0.5552 val_f1 0.5984\n",
      "saved to  ./output/MLPModel01_20170406_2225_LA2_F99_C2_L100_100_100_DO0.5-1235-0.6912.hdf5\n",
      "Epoch 235, train_loss: 0.69117 val_loss 0.69116  train_accuracy 0.5217 val_accuracy 0.5311  train_f1 0.5539 val_f1 0.5982\n",
      "Epoch 236, train_loss: 0.69109 val_loss 0.69116  train_accuracy 0.5222 val_accuracy 0.5312  train_f1 0.5546 val_f1 0.5989\n",
      "Epoch 237, train_loss: 0.69113 val_loss 0.69116  train_accuracy 0.5235 val_accuracy 0.5313  train_f1 0.5567 val_f1 0.5997\n",
      "Epoch 238, train_loss: 0.69118 val_loss 0.69116  train_accuracy 0.5215 val_accuracy 0.5314  train_f1 0.5546 val_f1 0.5999\n",
      "Epoch 239, train_loss: 0.69115 val_loss 0.69117  train_accuracy 0.5225 val_accuracy 0.5312  train_f1 0.5553 val_f1 0.6004\n",
      "saved to  ./output/MLPModel01_20170406_2225_LA2_F99_C2_L100_100_100_DO0.5-1240-0.6912.hdf5\n",
      "Epoch 240, train_loss: 0.69126 val_loss 0.69117  train_accuracy 0.5217 val_accuracy 0.5311  train_f1 0.5552 val_f1 0.6008\n",
      "Epoch 241, train_loss: 0.69102 val_loss 0.69117  train_accuracy 0.5237 val_accuracy 0.5312  train_f1 0.5576 val_f1 0.6010\n",
      "Epoch 242, train_loss: 0.69122 val_loss 0.69118  train_accuracy 0.5213 val_accuracy 0.5312  train_f1 0.5557 val_f1 0.6012\n",
      "Epoch 243, train_loss: 0.69097 val_loss 0.69118  train_accuracy 0.5242 val_accuracy 0.5313  train_f1 0.5578 val_f1 0.6016\n",
      "Epoch 244, train_loss: 0.69097 val_loss 0.69118  train_accuracy 0.5221 val_accuracy 0.5313  train_f1 0.5561 val_f1 0.6012\n",
      "saved to  ./output/MLPModel01_20170406_2225_LA2_F99_C2_L100_100_100_DO0.5-1245-0.6912.hdf5\n",
      "Epoch 245, train_loss: 0.69106 val_loss 0.69118  train_accuracy 0.5230 val_accuracy 0.5314  train_f1 0.5562 val_f1 0.6014\n",
      "Epoch 246, train_loss: 0.69084 val_loss 0.69118  train_accuracy 0.5238 val_accuracy 0.5313  train_f1 0.5571 val_f1 0.6013\n",
      "Epoch 247, train_loss: 0.69107 val_loss 0.69118  train_accuracy 0.5219 val_accuracy 0.5312  train_f1 0.5552 val_f1 0.6005\n",
      "Epoch 248, train_loss: 0.69100 val_loss 0.69117  train_accuracy 0.5218 val_accuracy 0.5312  train_f1 0.5543 val_f1 0.5998\n",
      "Epoch 249, train_loss: 0.69108 val_loss 0.69117  train_accuracy 0.5229 val_accuracy 0.5310  train_f1 0.5550 val_f1 0.5990\n",
      "saved to  ./output/MLPModel01_20170406_2225_LA2_F99_C2_L100_100_100_DO0.5-1250-0.6912.hdf5\n",
      "Epoch 250, train_loss: 0.69102 val_loss 0.69117  train_accuracy 0.5222 val_accuracy 0.5311  train_f1 0.5539 val_f1 0.5989\n",
      "Epoch 251, train_loss: 0.69109 val_loss 0.69117  train_accuracy 0.5238 val_accuracy 0.5310  train_f1 0.5551 val_f1 0.5984\n",
      "Epoch 252, train_loss: 0.69109 val_loss 0.69117  train_accuracy 0.5217 val_accuracy 0.5310  train_f1 0.5531 val_f1 0.5977\n",
      "Epoch 253, train_loss: 0.69115 val_loss 0.69117  train_accuracy 0.5217 val_accuracy 0.5311  train_f1 0.5522 val_f1 0.5978\n",
      "Epoch 254, train_loss: 0.69115 val_loss 0.69117  train_accuracy 0.5217 val_accuracy 0.5313  train_f1 0.5521 val_f1 0.5982\n",
      "saved to  ./output/MLPModel01_20170406_2225_LA2_F99_C2_L100_100_100_DO0.5-1255-0.6912.hdf5\n",
      "Epoch 255, train_loss: 0.69100 val_loss 0.69117  train_accuracy 0.5236 val_accuracy 0.5313  train_f1 0.5543 val_f1 0.5985\n",
      "Epoch 256, train_loss: 0.69112 val_loss 0.69117  train_accuracy 0.5219 val_accuracy 0.5313  train_f1 0.5533 val_f1 0.5984\n",
      "Epoch 257, train_loss: 0.69117 val_loss 0.69117  train_accuracy 0.5225 val_accuracy 0.5313  train_f1 0.5537 val_f1 0.5989\n",
      "Epoch 258, train_loss: 0.69106 val_loss 0.69117  train_accuracy 0.5228 val_accuracy 0.5316  train_f1 0.5552 val_f1 0.5999\n",
      "Epoch 259, train_loss: 0.69105 val_loss 0.69117  train_accuracy 0.5222 val_accuracy 0.5315  train_f1 0.5537 val_f1 0.6000\n",
      "saved to  ./output/MLPModel01_20170406_2225_LA2_F99_C2_L100_100_100_DO0.5-1260-0.6912.hdf5\n",
      "Epoch 260, train_loss: 0.69119 val_loss 0.69117  train_accuracy 0.5221 val_accuracy 0.5312  train_f1 0.5546 val_f1 0.6002\n",
      "Epoch 261, train_loss: 0.69100 val_loss 0.69117  train_accuracy 0.5220 val_accuracy 0.5311  train_f1 0.5544 val_f1 0.6004\n",
      "Epoch 262, train_loss: 0.69095 val_loss 0.69116  train_accuracy 0.5231 val_accuracy 0.5311  train_f1 0.5554 val_f1 0.6006\n",
      "Epoch 263, train_loss: 0.69101 val_loss 0.69117  train_accuracy 0.5237 val_accuracy 0.5311  train_f1 0.5567 val_f1 0.6007\n",
      "Epoch 264, train_loss: 0.69117 val_loss 0.69117  train_accuracy 0.5229 val_accuracy 0.5310  train_f1 0.5556 val_f1 0.6011\n",
      "saved to  ./output/MLPModel01_20170406_2225_LA2_F99_C2_L100_100_100_DO0.5-1265-0.6912.hdf5\n",
      "Epoch 265, train_loss: 0.69109 val_loss 0.69117  train_accuracy 0.5222 val_accuracy 0.5309  train_f1 0.5552 val_f1 0.6014\n",
      "Epoch 266, train_loss: 0.69086 val_loss 0.69117  train_accuracy 0.5235 val_accuracy 0.5309  train_f1 0.5566 val_f1 0.6015\n",
      "Epoch 267, train_loss: 0.69115 val_loss 0.69117  train_accuracy 0.5222 val_accuracy 0.5311  train_f1 0.5556 val_f1 0.6010\n",
      "Epoch 268, train_loss: 0.69086 val_loss 0.69116  train_accuracy 0.5222 val_accuracy 0.5310  train_f1 0.5552 val_f1 0.6008\n",
      "Epoch 269, train_loss: 0.69109 val_loss 0.69116  train_accuracy 0.5233 val_accuracy 0.5312  train_f1 0.5556 val_f1 0.6009\n",
      "saved to  ./output/MLPModel01_20170406_2225_LA2_F99_C2_L100_100_100_DO0.5-1270-0.6912.hdf5\n",
      "Epoch 270, train_loss: 0.69104 val_loss 0.69116  train_accuracy 0.5227 val_accuracy 0.5313  train_f1 0.5554 val_f1 0.6008\n",
      "Epoch 271, train_loss: 0.69115 val_loss 0.69116  train_accuracy 0.5222 val_accuracy 0.5313  train_f1 0.5544 val_f1 0.6008\n",
      "Epoch 272, train_loss: 0.69096 val_loss 0.69116  train_accuracy 0.5243 val_accuracy 0.5313  train_f1 0.5562 val_f1 0.6009\n",
      "Epoch 273, train_loss: 0.69086 val_loss 0.69116  train_accuracy 0.5229 val_accuracy 0.5314  train_f1 0.5552 val_f1 0.6009\n",
      "Epoch 274, train_loss: 0.69111 val_loss 0.69116  train_accuracy 0.5219 val_accuracy 0.5312  train_f1 0.5538 val_f1 0.6004\n",
      "saved to  ./output/MLPModel01_20170406_2225_LA2_F99_C2_L100_100_100_DO0.5-1275-0.6912.hdf5\n",
      "Epoch 275, train_loss: 0.69096 val_loss 0.69116  train_accuracy 0.5213 val_accuracy 0.5312  train_f1 0.5536 val_f1 0.6005\n",
      "Epoch 276, train_loss: 0.69115 val_loss 0.69116  train_accuracy 0.5216 val_accuracy 0.5312  train_f1 0.5538 val_f1 0.6004\n",
      "Epoch 277, train_loss: 0.69102 val_loss 0.69116  train_accuracy 0.5221 val_accuracy 0.5313  train_f1 0.5541 val_f1 0.6010\n",
      "Epoch 278, train_loss: 0.69094 val_loss 0.69116  train_accuracy 0.5229 val_accuracy 0.5314  train_f1 0.5551 val_f1 0.6012\n",
      "Epoch 279, train_loss: 0.69115 val_loss 0.69116  train_accuracy 0.5219 val_accuracy 0.5314  train_f1 0.5542 val_f1 0.6013\n",
      "saved to  ./output/MLPModel01_20170406_2225_LA2_F99_C2_L100_100_100_DO0.5-1280-0.6912.hdf5\n",
      "Epoch 280, train_loss: 0.69105 val_loss 0.69116  train_accuracy 0.5215 val_accuracy 0.5314  train_f1 0.5535 val_f1 0.6016\n",
      "Epoch 281, train_loss: 0.69119 val_loss 0.69116  train_accuracy 0.5218 val_accuracy 0.5312  train_f1 0.5543 val_f1 0.6017\n",
      "Epoch 282, train_loss: 0.69108 val_loss 0.69116  train_accuracy 0.5221 val_accuracy 0.5311  train_f1 0.5546 val_f1 0.6019\n",
      "Epoch 283, train_loss: 0.69088 val_loss 0.69116  train_accuracy 0.5231 val_accuracy 0.5313  train_f1 0.5563 val_f1 0.6019\n",
      "Epoch 284, train_loss: 0.69104 val_loss 0.69115  train_accuracy 0.5220 val_accuracy 0.5313  train_f1 0.5545 val_f1 0.6019\n",
      "saved to  ./output/MLPModel01_20170406_2225_LA2_F99_C2_L100_100_100_DO0.5-1285-0.6912.hdf5\n",
      "Epoch 285, train_loss: 0.69104 val_loss 0.69115  train_accuracy 0.5217 val_accuracy 0.5314  train_f1 0.5545 val_f1 0.6016\n",
      "Epoch 286, train_loss: 0.69082 val_loss 0.69115  train_accuracy 0.5222 val_accuracy 0.5314  train_f1 0.5547 val_f1 0.6014\n",
      "Epoch 287, train_loss: 0.69096 val_loss 0.69115  train_accuracy 0.5233 val_accuracy 0.5316  train_f1 0.5557 val_f1 0.6013\n",
      "Epoch 288, train_loss: 0.69102 val_loss 0.69115  train_accuracy 0.5229 val_accuracy 0.5317  train_f1 0.5546 val_f1 0.6013\n",
      "Epoch 289, train_loss: 0.69098 val_loss 0.69115  train_accuracy 0.5217 val_accuracy 0.5316  train_f1 0.5541 val_f1 0.6012\n",
      "saved to  ./output/MLPModel01_20170406_2225_LA2_F99_C2_L100_100_100_DO0.5-1290-0.6911.hdf5\n",
      "Epoch 290, train_loss: 0.69097 val_loss 0.69115  train_accuracy 0.5233 val_accuracy 0.5315  train_f1 0.5554 val_f1 0.6011\n",
      "Epoch 291, train_loss: 0.69101 val_loss 0.69115  train_accuracy 0.5226 val_accuracy 0.5315  train_f1 0.5542 val_f1 0.6009\n",
      "Epoch 292, train_loss: 0.69079 val_loss 0.69115  train_accuracy 0.5219 val_accuracy 0.5316  train_f1 0.5538 val_f1 0.6010\n",
      "Epoch 293, train_loss: 0.69083 val_loss 0.69115  train_accuracy 0.5226 val_accuracy 0.5316  train_f1 0.5543 val_f1 0.6006\n",
      "Epoch 294, train_loss: 0.69092 val_loss 0.69114  train_accuracy 0.5220 val_accuracy 0.5316  train_f1 0.5541 val_f1 0.6007\n",
      "saved to  ./output/MLPModel01_20170406_2225_LA2_F99_C2_L100_100_100_DO0.5-1295-0.6911.hdf5\n",
      "Epoch 295, train_loss: 0.69113 val_loss 0.69114  train_accuracy 0.5207 val_accuracy 0.5316  train_f1 0.5529 val_f1 0.6012\n",
      "Epoch 296, train_loss: 0.69094 val_loss 0.69114  train_accuracy 0.5244 val_accuracy 0.5317  train_f1 0.5565 val_f1 0.6011\n",
      "Epoch 297, train_loss: 0.69094 val_loss 0.69114  train_accuracy 0.5225 val_accuracy 0.5315  train_f1 0.5542 val_f1 0.6009\n",
      "Epoch 298, train_loss: 0.69097 val_loss 0.69114  train_accuracy 0.5234 val_accuracy 0.5315  train_f1 0.5549 val_f1 0.6010\n",
      "Epoch 299, train_loss: 0.69087 val_loss 0.69114  train_accuracy 0.5211 val_accuracy 0.5317  train_f1 0.5535 val_f1 0.6006\n",
      "saved to  ./output/MLPModel01_20170406_2225_LA2_F99_C2_L100_100_100_DO0.5-1300-0.6911.hdf5\n",
      "Epoch 300, train_loss: 0.69097 val_loss 0.69114  train_accuracy 0.5230 val_accuracy 0.5316  train_f1 0.5543 val_f1 0.6001\n",
      "Epoch 301, train_loss: 0.69089 val_loss 0.69113  train_accuracy 0.5229 val_accuracy 0.5316  train_f1 0.5541 val_f1 0.6002\n",
      "Epoch 302, train_loss: 0.69101 val_loss 0.69113  train_accuracy 0.5215 val_accuracy 0.5317  train_f1 0.5533 val_f1 0.6004\n",
      "Epoch 303, train_loss: 0.69077 val_loss 0.69113  train_accuracy 0.5233 val_accuracy 0.5316  train_f1 0.5553 val_f1 0.6005\n",
      "Epoch 304, train_loss: 0.69073 val_loss 0.69112  train_accuracy 0.5247 val_accuracy 0.5315  train_f1 0.5568 val_f1 0.6000\n",
      "saved to  ./output/MLPModel01_20170406_2225_LA2_F99_C2_L100_100_100_DO0.5-1305-0.6911.hdf5\n",
      "Epoch 305, train_loss: 0.69086 val_loss 0.69112  train_accuracy 0.5236 val_accuracy 0.5315  train_f1 0.5557 val_f1 0.5997\n",
      "Epoch 306, train_loss: 0.69085 val_loss 0.69111  train_accuracy 0.5239 val_accuracy 0.5313  train_f1 0.5551 val_f1 0.5991\n",
      "Epoch 307, train_loss: 0.69090 val_loss 0.69111  train_accuracy 0.5228 val_accuracy 0.5310  train_f1 0.5542 val_f1 0.5983\n",
      "Epoch 308, train_loss: 0.69099 val_loss 0.69111  train_accuracy 0.5221 val_accuracy 0.5309  train_f1 0.5540 val_f1 0.5979\n",
      "Epoch 309, train_loss: 0.69091 val_loss 0.69111  train_accuracy 0.5226 val_accuracy 0.5308  train_f1 0.5538 val_f1 0.5978\n",
      "saved to  ./output/MLPModel01_20170406_2225_LA2_F99_C2_L100_100_100_DO0.5-1310-0.6911.hdf5\n",
      "Epoch 310, train_loss: 0.69090 val_loss 0.69111  train_accuracy 0.5230 val_accuracy 0.5309  train_f1 0.5535 val_f1 0.5979\n",
      "Epoch 311, train_loss: 0.69094 val_loss 0.69111  train_accuracy 0.5237 val_accuracy 0.5311  train_f1 0.5548 val_f1 0.5985\n",
      "Epoch 312, train_loss: 0.69101 val_loss 0.69111  train_accuracy 0.5219 val_accuracy 0.5311  train_f1 0.5532 val_f1 0.5985\n",
      "Epoch 313, train_loss: 0.69104 val_loss 0.69111  train_accuracy 0.5216 val_accuracy 0.5313  train_f1 0.5526 val_f1 0.5991\n",
      "Epoch 314, train_loss: 0.69095 val_loss 0.69111  train_accuracy 0.5228 val_accuracy 0.5313  train_f1 0.5538 val_f1 0.5994\n",
      "saved to  ./output/MLPModel01_20170406_2225_LA2_F99_C2_L100_100_100_DO0.5-1315-0.6911.hdf5\n",
      "Epoch 315, train_loss: 0.69096 val_loss 0.69111  train_accuracy 0.5232 val_accuracy 0.5316  train_f1 0.5550 val_f1 0.6001\n",
      "Epoch 316, train_loss: 0.69105 val_loss 0.69111  train_accuracy 0.5218 val_accuracy 0.5317  train_f1 0.5540 val_f1 0.6011\n",
      "Epoch 317, train_loss: 0.69107 val_loss 0.69111  train_accuracy 0.5218 val_accuracy 0.5316  train_f1 0.5550 val_f1 0.6010\n",
      "Epoch 318, train_loss: 0.69078 val_loss 0.69111  train_accuracy 0.5236 val_accuracy 0.5317  train_f1 0.5559 val_f1 0.6008\n",
      "Epoch 319, train_loss: 0.69088 val_loss 0.69111  train_accuracy 0.5243 val_accuracy 0.5315  train_f1 0.5564 val_f1 0.5998\n",
      "saved to  ./output/MLPModel01_20170406_2225_LA2_F99_C2_L100_100_100_DO0.5-1320-0.6911.hdf5\n",
      "Epoch 320, train_loss: 0.69082 val_loss 0.69111  train_accuracy 0.5229 val_accuracy 0.5313  train_f1 0.5544 val_f1 0.5994\n",
      "Epoch 321, train_loss: 0.69105 val_loss 0.69111  train_accuracy 0.5226 val_accuracy 0.5312  train_f1 0.5540 val_f1 0.5992\n",
      "Epoch 322, train_loss: 0.69106 val_loss 0.69111  train_accuracy 0.5241 val_accuracy 0.5313  train_f1 0.5546 val_f1 0.5990\n",
      "Epoch 323, train_loss: 0.69105 val_loss 0.69111  train_accuracy 0.5245 val_accuracy 0.5311  train_f1 0.5555 val_f1 0.5986\n",
      "Epoch 324, train_loss: 0.69076 val_loss 0.69111  train_accuracy 0.5237 val_accuracy 0.5312  train_f1 0.5543 val_f1 0.5985\n",
      "saved to  ./output/MLPModel01_20170406_2225_LA2_F99_C2_L100_100_100_DO0.5-1325-0.6911.hdf5\n",
      "Epoch 325, train_loss: 0.69091 val_loss 0.69111  train_accuracy 0.5234 val_accuracy 0.5311  train_f1 0.5542 val_f1 0.5983\n",
      "Epoch 326, train_loss: 0.69094 val_loss 0.69111  train_accuracy 0.5230 val_accuracy 0.5311  train_f1 0.5538 val_f1 0.5985\n",
      "Epoch 327, train_loss: 0.69089 val_loss 0.69111  train_accuracy 0.5225 val_accuracy 0.5316  train_f1 0.5530 val_f1 0.5996\n",
      "Epoch 328, train_loss: 0.69071 val_loss 0.69110  train_accuracy 0.5237 val_accuracy 0.5316  train_f1 0.5550 val_f1 0.5998\n",
      "Epoch 329, train_loss: 0.69081 val_loss 0.69110  train_accuracy 0.5227 val_accuracy 0.5315  train_f1 0.5543 val_f1 0.5995\n",
      "saved to  ./output/MLPModel01_20170406_2225_LA2_F99_C2_L100_100_100_DO0.5-1330-0.6911.hdf5\n",
      "Epoch 330, train_loss: 0.69108 val_loss 0.69110  train_accuracy 0.5212 val_accuracy 0.5314  train_f1 0.5523 val_f1 0.5994\n",
      "Epoch 331, train_loss: 0.69082 val_loss 0.69110  train_accuracy 0.5231 val_accuracy 0.5313  train_f1 0.5542 val_f1 0.5991\n",
      "Epoch 332, train_loss: 0.69087 val_loss 0.69110  train_accuracy 0.5235 val_accuracy 0.5313  train_f1 0.5547 val_f1 0.5988\n",
      "Epoch 333, train_loss: 0.69096 val_loss 0.69110  train_accuracy 0.5239 val_accuracy 0.5308  train_f1 0.5545 val_f1 0.5976\n",
      "Epoch 334, train_loss: 0.69103 val_loss 0.69110  train_accuracy 0.5234 val_accuracy 0.5309  train_f1 0.5534 val_f1 0.5972\n",
      "saved to  ./output/MLPModel01_20170406_2225_LA2_F99_C2_L100_100_100_DO0.5-1335-0.6911.hdf5\n",
      "Epoch 335, train_loss: 0.69090 val_loss 0.69110  train_accuracy 0.5229 val_accuracy 0.5309  train_f1 0.5531 val_f1 0.5972\n",
      "Epoch 336, train_loss: 0.69086 val_loss 0.69110  train_accuracy 0.5233 val_accuracy 0.5306  train_f1 0.5523 val_f1 0.5965\n",
      "Epoch 337, train_loss: 0.69100 val_loss 0.69110  train_accuracy 0.5218 val_accuracy 0.5307  train_f1 0.5516 val_f1 0.5964\n",
      "Epoch 338, train_loss: 0.69095 val_loss 0.69110  train_accuracy 0.5226 val_accuracy 0.5306  train_f1 0.5524 val_f1 0.5964\n",
      "Epoch 339, train_loss: 0.69070 val_loss 0.69110  train_accuracy 0.5235 val_accuracy 0.5308  train_f1 0.5531 val_f1 0.5967\n",
      "saved to  ./output/MLPModel01_20170406_2225_LA2_F99_C2_L100_100_100_DO0.5-1340-0.6911.hdf5\n",
      "Epoch 340, train_loss: 0.69094 val_loss 0.69110  train_accuracy 0.5224 val_accuracy 0.5307  train_f1 0.5520 val_f1 0.5965\n",
      "Epoch 341, train_loss: 0.69108 val_loss 0.69110  train_accuracy 0.5220 val_accuracy 0.5308  train_f1 0.5522 val_f1 0.5971\n",
      "Epoch 342, train_loss: 0.69082 val_loss 0.69110  train_accuracy 0.5218 val_accuracy 0.5311  train_f1 0.5519 val_f1 0.5982\n",
      "Epoch 343, train_loss: 0.69088 val_loss 0.69110  train_accuracy 0.5216 val_accuracy 0.5314  train_f1 0.5515 val_f1 0.5990\n",
      "Epoch 344, train_loss: 0.69079 val_loss 0.69110  train_accuracy 0.5234 val_accuracy 0.5314  train_f1 0.5546 val_f1 0.5993\n",
      "saved to  ./output/MLPModel01_20170406_2225_LA2_F99_C2_L100_100_100_DO0.5-1345-0.6911.hdf5\n",
      "Epoch 345, train_loss: 0.69088 val_loss 0.69110  train_accuracy 0.5228 val_accuracy 0.5314  train_f1 0.5542 val_f1 0.5993\n",
      "Epoch 346, train_loss: 0.69073 val_loss 0.69110  train_accuracy 0.5219 val_accuracy 0.5315  train_f1 0.5531 val_f1 0.5997\n",
      "Epoch 347, train_loss: 0.69108 val_loss 0.69110  train_accuracy 0.5231 val_accuracy 0.5314  train_f1 0.5548 val_f1 0.5998\n",
      "Epoch 348, train_loss: 0.69087 val_loss 0.69110  train_accuracy 0.5236 val_accuracy 0.5311  train_f1 0.5544 val_f1 0.5989\n",
      "Epoch 349, train_loss: 0.69089 val_loss 0.69110  train_accuracy 0.5227 val_accuracy 0.5309  train_f1 0.5536 val_f1 0.5984\n",
      "saved to  ./output/MLPModel01_20170406_2225_LA2_F99_C2_L100_100_100_DO0.5-1350-0.6911.hdf5\n",
      "Epoch 350, train_loss: 0.69076 val_loss 0.69110  train_accuracy 0.5238 val_accuracy 0.5308  train_f1 0.5543 val_f1 0.5976\n",
      "Epoch 351, train_loss: 0.69076 val_loss 0.69110  train_accuracy 0.5248 val_accuracy 0.5308  train_f1 0.5552 val_f1 0.5976\n",
      "Epoch 352, train_loss: 0.69102 val_loss 0.69110  train_accuracy 0.5233 val_accuracy 0.5309  train_f1 0.5534 val_f1 0.5979\n",
      "Epoch 353, train_loss: 0.69097 val_loss 0.69110  train_accuracy 0.5225 val_accuracy 0.5312  train_f1 0.5521 val_f1 0.5989\n",
      "Epoch 354, train_loss: 0.69088 val_loss 0.69110  train_accuracy 0.5220 val_accuracy 0.5313  train_f1 0.5532 val_f1 0.5993\n",
      "saved to  ./output/MLPModel01_20170406_2225_LA2_F99_C2_L100_100_100_DO0.5-1355-0.6911.hdf5\n",
      "Epoch 355, train_loss: 0.69075 val_loss 0.69110  train_accuracy 0.5233 val_accuracy 0.5314  train_f1 0.5549 val_f1 0.5994\n",
      "Epoch 356, train_loss: 0.69087 val_loss 0.69110  train_accuracy 0.5239 val_accuracy 0.5312  train_f1 0.5541 val_f1 0.5987\n",
      "Epoch 357, train_loss: 0.69093 val_loss 0.69110  train_accuracy 0.5212 val_accuracy 0.5310  train_f1 0.5517 val_f1 0.5978\n",
      "Epoch 358, train_loss: 0.69070 val_loss 0.69110  train_accuracy 0.5236 val_accuracy 0.5309  train_f1 0.5534 val_f1 0.5973\n",
      "Epoch 359, train_loss: 0.69087 val_loss 0.69109  train_accuracy 0.5247 val_accuracy 0.5309  train_f1 0.5540 val_f1 0.5968\n",
      "saved to  ./output/MLPModel01_20170406_2225_LA2_F99_C2_L100_100_100_DO0.5-1360-0.6911.hdf5\n",
      "Epoch 360, train_loss: 0.69109 val_loss 0.69109  train_accuracy 0.5221 val_accuracy 0.5308  train_f1 0.5513 val_f1 0.5962\n",
      "Epoch 361, train_loss: 0.69095 val_loss 0.69110  train_accuracy 0.5246 val_accuracy 0.5308  train_f1 0.5531 val_f1 0.5962\n",
      "Epoch 362, train_loss: 0.69071 val_loss 0.69110  train_accuracy 0.5223 val_accuracy 0.5308  train_f1 0.5507 val_f1 0.5966\n",
      "Epoch 363, train_loss: 0.69095 val_loss 0.69110  train_accuracy 0.5227 val_accuracy 0.5308  train_f1 0.5516 val_f1 0.5975\n",
      "Epoch 364, train_loss: 0.69091 val_loss 0.69110  train_accuracy 0.5227 val_accuracy 0.5310  train_f1 0.5522 val_f1 0.5982\n",
      "saved to  ./output/MLPModel01_20170406_2225_LA2_F99_C2_L100_100_100_DO0.5-1365-0.6911.hdf5\n",
      "Epoch 365, train_loss: 0.69076 val_loss 0.69110  train_accuracy 0.5231 val_accuracy 0.5309  train_f1 0.5524 val_f1 0.5980\n",
      "Epoch 366, train_loss: 0.69091 val_loss 0.69110  train_accuracy 0.5226 val_accuracy 0.5309  train_f1 0.5523 val_f1 0.5980\n",
      "Epoch 367, train_loss: 0.69074 val_loss 0.69109  train_accuracy 0.5242 val_accuracy 0.5309  train_f1 0.5541 val_f1 0.5978\n",
      "Epoch 368, train_loss: 0.69089 val_loss 0.69109  train_accuracy 0.5239 val_accuracy 0.5309  train_f1 0.5540 val_f1 0.5978\n",
      "Epoch 369, train_loss: 0.69078 val_loss 0.69109  train_accuracy 0.5246 val_accuracy 0.5309  train_f1 0.5547 val_f1 0.5972\n",
      "saved to  ./output/MLPModel01_20170406_2225_LA2_F99_C2_L100_100_100_DO0.5-1370-0.6911.hdf5\n",
      "Epoch 370, train_loss: 0.69101 val_loss 0.69109  train_accuracy 0.5227 val_accuracy 0.5309  train_f1 0.5522 val_f1 0.5969\n",
      "Epoch 371, train_loss: 0.69093 val_loss 0.69108  train_accuracy 0.5233 val_accuracy 0.5308  train_f1 0.5525 val_f1 0.5966\n",
      "Epoch 372, train_loss: 0.69081 val_loss 0.69108  train_accuracy 0.5239 val_accuracy 0.5309  train_f1 0.5532 val_f1 0.5966\n",
      "Epoch 373, train_loss: 0.69088 val_loss 0.69108  train_accuracy 0.5221 val_accuracy 0.5309  train_f1 0.5510 val_f1 0.5969\n",
      "Epoch 374, train_loss: 0.69069 val_loss 0.69108  train_accuracy 0.5245 val_accuracy 0.5310  train_f1 0.5532 val_f1 0.5973\n",
      "saved to  ./output/MLPModel01_20170406_2225_LA2_F99_C2_L100_100_100_DO0.5-1375-0.6911.hdf5\n",
      "Epoch 375, train_loss: 0.69088 val_loss 0.69108  train_accuracy 0.5233 val_accuracy 0.5310  train_f1 0.5524 val_f1 0.5972\n",
      "Epoch 376, train_loss: 0.69082 val_loss 0.69108  train_accuracy 0.5231 val_accuracy 0.5310  train_f1 0.5523 val_f1 0.5971\n",
      "Epoch 377, train_loss: 0.69086 val_loss 0.69107  train_accuracy 0.5233 val_accuracy 0.5308  train_f1 0.5528 val_f1 0.5968\n",
      "Epoch 378, train_loss: 0.69098 val_loss 0.69107  train_accuracy 0.5234 val_accuracy 0.5309  train_f1 0.5527 val_f1 0.5966\n",
      "Epoch 379, train_loss: 0.69081 val_loss 0.69107  train_accuracy 0.5235 val_accuracy 0.5311  train_f1 0.5532 val_f1 0.5959\n",
      "saved to  ./output/MLPModel01_20170406_2225_LA2_F99_C2_L100_100_100_DO0.5-1380-0.6911.hdf5\n",
      "Epoch 380, train_loss: 0.69074 val_loss 0.69107  train_accuracy 0.5244 val_accuracy 0.5310  train_f1 0.5527 val_f1 0.5953\n",
      "Epoch 381, train_loss: 0.69089 val_loss 0.69107  train_accuracy 0.5236 val_accuracy 0.5311  train_f1 0.5526 val_f1 0.5952\n",
      "Epoch 382, train_loss: 0.69080 val_loss 0.69107  train_accuracy 0.5225 val_accuracy 0.5312  train_f1 0.5507 val_f1 0.5953\n",
      "Epoch 383, train_loss: 0.69086 val_loss 0.69107  train_accuracy 0.5238 val_accuracy 0.5310  train_f1 0.5517 val_f1 0.5949\n",
      "Epoch 384, train_loss: 0.69081 val_loss 0.69107  train_accuracy 0.5219 val_accuracy 0.5309  train_f1 0.5493 val_f1 0.5949\n",
      "saved to  ./output/MLPModel01_20170406_2225_LA2_F99_C2_L100_100_100_DO0.5-1385-0.6911.hdf5\n",
      "Epoch 385, train_loss: 0.69085 val_loss 0.69107  train_accuracy 0.5227 val_accuracy 0.5309  train_f1 0.5506 val_f1 0.5952\n",
      "Epoch 386, train_loss: 0.69092 val_loss 0.69107  train_accuracy 0.5224 val_accuracy 0.5312  train_f1 0.5510 val_f1 0.5956\n",
      "Epoch 387, train_loss: 0.69077 val_loss 0.69107  train_accuracy 0.5237 val_accuracy 0.5313  train_f1 0.5522 val_f1 0.5962\n",
      "Epoch 388, train_loss: 0.69088 val_loss 0.69107  train_accuracy 0.5246 val_accuracy 0.5313  train_f1 0.5539 val_f1 0.5962\n",
      "Epoch 389, train_loss: 0.69083 val_loss 0.69107  train_accuracy 0.5228 val_accuracy 0.5313  train_f1 0.5517 val_f1 0.5966\n",
      "saved to  ./output/MLPModel01_20170406_2225_LA2_F99_C2_L100_100_100_DO0.5-1390-0.6911.hdf5\n",
      "Epoch 390, train_loss: 0.69097 val_loss 0.69107  train_accuracy 0.5231 val_accuracy 0.5313  train_f1 0.5518 val_f1 0.5967\n",
      "Epoch 391, train_loss: 0.69083 val_loss 0.69107  train_accuracy 0.5230 val_accuracy 0.5312  train_f1 0.5527 val_f1 0.5970\n",
      "Epoch 392, train_loss: 0.69090 val_loss 0.69108  train_accuracy 0.5232 val_accuracy 0.5312  train_f1 0.5525 val_f1 0.5972\n",
      "Epoch 393, train_loss: 0.69079 val_loss 0.69108  train_accuracy 0.5232 val_accuracy 0.5312  train_f1 0.5528 val_f1 0.5972\n",
      "Epoch 394, train_loss: 0.69081 val_loss 0.69108  train_accuracy 0.5242 val_accuracy 0.5313  train_f1 0.5528 val_f1 0.5965\n",
      "saved to  ./output/MLPModel01_20170406_2225_LA2_F99_C2_L100_100_100_DO0.5-1395-0.6911.hdf5\n",
      "Epoch 395, train_loss: 0.69090 val_loss 0.69107  train_accuracy 0.5218 val_accuracy 0.5315  train_f1 0.5505 val_f1 0.5964\n",
      "Epoch 396, train_loss: 0.69094 val_loss 0.69107  train_accuracy 0.5227 val_accuracy 0.5311  train_f1 0.5515 val_f1 0.5960\n",
      "Epoch 397, train_loss: 0.69085 val_loss 0.69107  train_accuracy 0.5246 val_accuracy 0.5311  train_f1 0.5524 val_f1 0.5960\n",
      "Epoch 398, train_loss: 0.69087 val_loss 0.69107  train_accuracy 0.5220 val_accuracy 0.5310  train_f1 0.5501 val_f1 0.5961\n",
      "Epoch 399, train_loss: 0.69084 val_loss 0.69107  train_accuracy 0.5230 val_accuracy 0.5311  train_f1 0.5517 val_f1 0.5965\n",
      "saved to  ./output/MLPModel01_20170406_2225_LA2_F99_C2_L100_100_100_DO0.5-1400-0.6911.hdf5\n",
      "Epoch 400, train_loss: 0.69076 val_loss 0.69107  train_accuracy 0.5244 val_accuracy 0.5309  train_f1 0.5537 val_f1 0.5970\n",
      "Epoch 401, train_loss: 0.69076 val_loss 0.69106  train_accuracy 0.5238 val_accuracy 0.5309  train_f1 0.5534 val_f1 0.5969\n",
      "Epoch 402, train_loss: 0.69103 val_loss 0.69106  train_accuracy 0.5221 val_accuracy 0.5310  train_f1 0.5520 val_f1 0.5970\n",
      "Epoch 403, train_loss: 0.69084 val_loss 0.69106  train_accuracy 0.5224 val_accuracy 0.5311  train_f1 0.5517 val_f1 0.5973\n",
      "Epoch 404, train_loss: 0.69081 val_loss 0.69106  train_accuracy 0.5235 val_accuracy 0.5311  train_f1 0.5525 val_f1 0.5975\n",
      "saved to  ./output/MLPModel01_20170406_2225_LA2_F99_C2_L100_100_100_DO0.5-1405-0.6911.hdf5\n",
      "Epoch 405, train_loss: 0.69076 val_loss 0.69106  train_accuracy 0.5226 val_accuracy 0.5311  train_f1 0.5521 val_f1 0.5974\n",
      "Epoch 406, train_loss: 0.69091 val_loss 0.69106  train_accuracy 0.5226 val_accuracy 0.5312  train_f1 0.5526 val_f1 0.5979\n",
      "Epoch 407, train_loss: 0.69073 val_loss 0.69106  train_accuracy 0.5232 val_accuracy 0.5313  train_f1 0.5534 val_f1 0.5984\n",
      "Epoch 408, train_loss: 0.69094 val_loss 0.69106  train_accuracy 0.5237 val_accuracy 0.5314  train_f1 0.5539 val_f1 0.5987\n",
      "Epoch 409, train_loss: 0.69091 val_loss 0.69107  train_accuracy 0.5247 val_accuracy 0.5315  train_f1 0.5540 val_f1 0.5986\n",
      "saved to  ./output/MLPModel01_20170406_2225_LA2_F99_C2_L100_100_100_DO0.5-1410-0.6911.hdf5\n",
      "Epoch 410, train_loss: 0.69079 val_loss 0.69107  train_accuracy 0.5228 val_accuracy 0.5316  train_f1 0.5528 val_f1 0.5985\n",
      "Epoch 411, train_loss: 0.69089 val_loss 0.69107  train_accuracy 0.5250 val_accuracy 0.5315  train_f1 0.5543 val_f1 0.5990\n",
      "Epoch 412, train_loss: 0.69092 val_loss 0.69107  train_accuracy 0.5242 val_accuracy 0.5314  train_f1 0.5539 val_f1 0.5988\n",
      "Epoch 413, train_loss: 0.69077 val_loss 0.69107  train_accuracy 0.5235 val_accuracy 0.5312  train_f1 0.5536 val_f1 0.5985\n",
      "Epoch 414, train_loss: 0.69087 val_loss 0.69107  train_accuracy 0.5234 val_accuracy 0.5312  train_f1 0.5529 val_f1 0.5981\n",
      "saved to  ./output/MLPModel01_20170406_2225_LA2_F99_C2_L100_100_100_DO0.5-1415-0.6911.hdf5\n",
      "Epoch 415, train_loss: 0.69091 val_loss 0.69107  train_accuracy 0.5232 val_accuracy 0.5315  train_f1 0.5522 val_f1 0.5977\n",
      "Epoch 416, train_loss: 0.69088 val_loss 0.69107  train_accuracy 0.5232 val_accuracy 0.5314  train_f1 0.5515 val_f1 0.5980\n",
      "Epoch 417, train_loss: 0.69054 val_loss 0.69107  train_accuracy 0.5255 val_accuracy 0.5315  train_f1 0.5541 val_f1 0.5979\n",
      "Epoch 418, train_loss: 0.69073 val_loss 0.69107  train_accuracy 0.5227 val_accuracy 0.5316  train_f1 0.5510 val_f1 0.5977\n",
      "Epoch 419, train_loss: 0.69078 val_loss 0.69106  train_accuracy 0.5231 val_accuracy 0.5316  train_f1 0.5515 val_f1 0.5972\n",
      "saved to  ./output/MLPModel01_20170406_2225_LA2_F99_C2_L100_100_100_DO0.5-1420-0.6911.hdf5\n",
      "Epoch 420, train_loss: 0.69074 val_loss 0.69106  train_accuracy 0.5240 val_accuracy 0.5314  train_f1 0.5521 val_f1 0.5968\n",
      "Epoch 421, train_loss: 0.69071 val_loss 0.69105  train_accuracy 0.5243 val_accuracy 0.5314  train_f1 0.5523 val_f1 0.5964\n",
      "Epoch 422, train_loss: 0.69088 val_loss 0.69105  train_accuracy 0.5241 val_accuracy 0.5315  train_f1 0.5520 val_f1 0.5967\n",
      "Epoch 423, train_loss: 0.69068 val_loss 0.69104  train_accuracy 0.5239 val_accuracy 0.5316  train_f1 0.5519 val_f1 0.5971\n",
      "Epoch 424, train_loss: 0.69082 val_loss 0.69104  train_accuracy 0.5236 val_accuracy 0.5316  train_f1 0.5517 val_f1 0.5975\n",
      "saved to  ./output/MLPModel01_20170406_2225_LA2_F99_C2_L100_100_100_DO0.5-1425-0.6910.hdf5\n",
      "Epoch 425, train_loss: 0.69061 val_loss 0.69104  train_accuracy 0.5250 val_accuracy 0.5315  train_f1 0.5535 val_f1 0.5974\n",
      "Epoch 426, train_loss: 0.69073 val_loss 0.69104  train_accuracy 0.5253 val_accuracy 0.5317  train_f1 0.5539 val_f1 0.5970\n",
      "Epoch 427, train_loss: 0.69089 val_loss 0.69104  train_accuracy 0.5239 val_accuracy 0.5316  train_f1 0.5522 val_f1 0.5975\n",
      "Epoch 428, train_loss: 0.69088 val_loss 0.69104  train_accuracy 0.5234 val_accuracy 0.5315  train_f1 0.5519 val_f1 0.5978\n",
      "Epoch 429, train_loss: 0.69084 val_loss 0.69104  train_accuracy 0.5234 val_accuracy 0.5315  train_f1 0.5526 val_f1 0.5984\n",
      "saved to  ./output/MLPModel01_20170406_2225_LA2_F99_C2_L100_100_100_DO0.5-1430-0.6910.hdf5\n",
      "Epoch 430, train_loss: 0.69077 val_loss 0.69104  train_accuracy 0.5233 val_accuracy 0.5315  train_f1 0.5530 val_f1 0.5991\n",
      "Epoch 431, train_loss: 0.69083 val_loss 0.69104  train_accuracy 0.5240 val_accuracy 0.5315  train_f1 0.5540 val_f1 0.5992\n",
      "Epoch 432, train_loss: 0.69067 val_loss 0.69104  train_accuracy 0.5239 val_accuracy 0.5314  train_f1 0.5543 val_f1 0.5991\n",
      "Epoch 433, train_loss: 0.69071 val_loss 0.69104  train_accuracy 0.5233 val_accuracy 0.5316  train_f1 0.5529 val_f1 0.5995\n",
      "Epoch 434, train_loss: 0.69074 val_loss 0.69104  train_accuracy 0.5223 val_accuracy 0.5317  train_f1 0.5526 val_f1 0.5996\n",
      "saved to  ./output/MLPModel01_20170406_2225_LA2_F99_C2_L100_100_100_DO0.5-1435-0.6910.hdf5\n",
      "Epoch 435, train_loss: 0.69100 val_loss 0.69104  train_accuracy 0.5230 val_accuracy 0.5319  train_f1 0.5527 val_f1 0.6000\n",
      "Epoch 436, train_loss: 0.69061 val_loss 0.69104  train_accuracy 0.5231 val_accuracy 0.5319  train_f1 0.5537 val_f1 0.6005\n",
      "Epoch 437, train_loss: 0.69069 val_loss 0.69104  train_accuracy 0.5250 val_accuracy 0.5320  train_f1 0.5550 val_f1 0.6003\n",
      "Epoch 438, train_loss: 0.69068 val_loss 0.69103  train_accuracy 0.5251 val_accuracy 0.5321  train_f1 0.5561 val_f1 0.6001\n",
      "Epoch 439, train_loss: 0.69095 val_loss 0.69103  train_accuracy 0.5234 val_accuracy 0.5319  train_f1 0.5539 val_f1 0.5996\n",
      "saved to  ./output/MLPModel01_20170406_2225_LA2_F99_C2_L100_100_100_DO0.5-1440-0.6910.hdf5\n",
      "Epoch 440, train_loss: 0.69081 val_loss 0.69103  train_accuracy 0.5228 val_accuracy 0.5318  train_f1 0.5532 val_f1 0.5990\n",
      "Epoch 441, train_loss: 0.69077 val_loss 0.69103  train_accuracy 0.5233 val_accuracy 0.5317  train_f1 0.5529 val_f1 0.5985\n",
      "Epoch 442, train_loss: 0.69086 val_loss 0.69103  train_accuracy 0.5221 val_accuracy 0.5317  train_f1 0.5509 val_f1 0.5983\n",
      "Epoch 443, train_loss: 0.69077 val_loss 0.69103  train_accuracy 0.5240 val_accuracy 0.5317  train_f1 0.5522 val_f1 0.5978\n",
      "Epoch 444, train_loss: 0.69056 val_loss 0.69103  train_accuracy 0.5243 val_accuracy 0.5321  train_f1 0.5529 val_f1 0.5979\n",
      "saved to  ./output/MLPModel01_20170406_2225_LA2_F99_C2_L100_100_100_DO0.5-1445-0.6910.hdf5\n",
      "Epoch 445, train_loss: 0.69071 val_loss 0.69103  train_accuracy 0.5228 val_accuracy 0.5320  train_f1 0.5509 val_f1 0.5973\n",
      "Epoch 446, train_loss: 0.69097 val_loss 0.69103  train_accuracy 0.5229 val_accuracy 0.5320  train_f1 0.5504 val_f1 0.5969\n",
      "Epoch 447, train_loss: 0.69085 val_loss 0.69104  train_accuracy 0.5238 val_accuracy 0.5320  train_f1 0.5512 val_f1 0.5972\n",
      "Epoch 448, train_loss: 0.69077 val_loss 0.69104  train_accuracy 0.5237 val_accuracy 0.5318  train_f1 0.5514 val_f1 0.5975\n",
      "Epoch 449, train_loss: 0.69069 val_loss 0.69104  train_accuracy 0.5235 val_accuracy 0.5319  train_f1 0.5517 val_f1 0.5981\n",
      "saved to  ./output/MLPModel01_20170406_2225_LA2_F99_C2_L100_100_100_DO0.5-1450-0.6910.hdf5\n",
      "Epoch 450, train_loss: 0.69082 val_loss 0.69104  train_accuracy 0.5231 val_accuracy 0.5318  train_f1 0.5513 val_f1 0.5983\n",
      "Epoch 451, train_loss: 0.69065 val_loss 0.69104  train_accuracy 0.5226 val_accuracy 0.5316  train_f1 0.5512 val_f1 0.5984\n",
      "Epoch 452, train_loss: 0.69077 val_loss 0.69103  train_accuracy 0.5242 val_accuracy 0.5316  train_f1 0.5532 val_f1 0.5984\n",
      "Epoch 453, train_loss: 0.69085 val_loss 0.69104  train_accuracy 0.5243 val_accuracy 0.5318  train_f1 0.5531 val_f1 0.5983\n",
      "Epoch 454, train_loss: 0.69064 val_loss 0.69103  train_accuracy 0.5242 val_accuracy 0.5320  train_f1 0.5529 val_f1 0.5982\n",
      "saved to  ./output/MLPModel01_20170406_2225_LA2_F99_C2_L100_100_100_DO0.5-1455-0.6910.hdf5\n",
      "Epoch 455, train_loss: 0.69066 val_loss 0.69103  train_accuracy 0.5235 val_accuracy 0.5321  train_f1 0.5516 val_f1 0.5979\n",
      "Epoch 456, train_loss: 0.69070 val_loss 0.69103  train_accuracy 0.5247 val_accuracy 0.5321  train_f1 0.5530 val_f1 0.5978\n",
      "Epoch 457, train_loss: 0.69100 val_loss 0.69103  train_accuracy 0.5234 val_accuracy 0.5323  train_f1 0.5515 val_f1 0.5978\n",
      "Epoch 458, train_loss: 0.69053 val_loss 0.69103  train_accuracy 0.5234 val_accuracy 0.5322  train_f1 0.5521 val_f1 0.5981\n",
      "Epoch 459, train_loss: 0.69078 val_loss 0.69103  train_accuracy 0.5244 val_accuracy 0.5322  train_f1 0.5525 val_f1 0.5987\n",
      "saved to  ./output/MLPModel01_20170406_2225_LA2_F99_C2_L100_100_100_DO0.5-1460-0.6910.hdf5\n",
      "Epoch 460, train_loss: 0.69077 val_loss 0.69103  train_accuracy 0.5248 val_accuracy 0.5323  train_f1 0.5538 val_f1 0.5985\n",
      "Epoch 461, train_loss: 0.69072 val_loss 0.69103  train_accuracy 0.5239 val_accuracy 0.5322  train_f1 0.5523 val_f1 0.5982\n",
      "Epoch 462, train_loss: 0.69071 val_loss 0.69103  train_accuracy 0.5248 val_accuracy 0.5320  train_f1 0.5529 val_f1 0.5979\n",
      "Epoch 463, train_loss: 0.69085 val_loss 0.69103  train_accuracy 0.5240 val_accuracy 0.5322  train_f1 0.5528 val_f1 0.5976\n",
      "Epoch 464, train_loss: 0.69061 val_loss 0.69102  train_accuracy 0.5237 val_accuracy 0.5322  train_f1 0.5524 val_f1 0.5975\n",
      "saved to  ./output/MLPModel01_20170406_2225_LA2_F99_C2_L100_100_100_DO0.5-1465-0.6910.hdf5\n",
      "Epoch 465, train_loss: 0.69061 val_loss 0.69102  train_accuracy 0.5255 val_accuracy 0.5320  train_f1 0.5535 val_f1 0.5965\n",
      "Epoch 466, train_loss: 0.69065 val_loss 0.69101  train_accuracy 0.5242 val_accuracy 0.5320  train_f1 0.5518 val_f1 0.5962\n",
      "Epoch 467, train_loss: 0.69064 val_loss 0.69101  train_accuracy 0.5240 val_accuracy 0.5319  train_f1 0.5519 val_f1 0.5957\n",
      "Epoch 468, train_loss: 0.69069 val_loss 0.69101  train_accuracy 0.5241 val_accuracy 0.5319  train_f1 0.5515 val_f1 0.5951\n",
      "Epoch 469, train_loss: 0.69068 val_loss 0.69101  train_accuracy 0.5250 val_accuracy 0.5318  train_f1 0.5520 val_f1 0.5951\n",
      "saved to  ./output/MLPModel01_20170406_2225_LA2_F99_C2_L100_100_100_DO0.5-1470-0.6910.hdf5\n",
      "Epoch 470, train_loss: 0.69054 val_loss 0.69100  train_accuracy 0.5237 val_accuracy 0.5320  train_f1 0.5509 val_f1 0.5948\n",
      "Epoch 471, train_loss: 0.69058 val_loss 0.69100  train_accuracy 0.5257 val_accuracy 0.5318  train_f1 0.5524 val_f1 0.5948\n",
      "Epoch 472, train_loss: 0.69064 val_loss 0.69099  train_accuracy 0.5243 val_accuracy 0.5318  train_f1 0.5508 val_f1 0.5946\n",
      "Epoch 473, train_loss: 0.69075 val_loss 0.69099  train_accuracy 0.5245 val_accuracy 0.5318  train_f1 0.5514 val_f1 0.5948\n",
      "Epoch 474, train_loss: 0.69072 val_loss 0.69099  train_accuracy 0.5239 val_accuracy 0.5318  train_f1 0.5506 val_f1 0.5951\n",
      "saved to  ./output/MLPModel01_20170406_2225_LA2_F99_C2_L100_100_100_DO0.5-1475-0.6910.hdf5\n",
      "Epoch 475, train_loss: 0.69068 val_loss 0.69100  train_accuracy 0.5238 val_accuracy 0.5320  train_f1 0.5514 val_f1 0.5962\n",
      "Epoch 476, train_loss: 0.69078 val_loss 0.69100  train_accuracy 0.5229 val_accuracy 0.5318  train_f1 0.5513 val_f1 0.5966\n",
      "Epoch 477, train_loss: 0.69067 val_loss 0.69100  train_accuracy 0.5242 val_accuracy 0.5319  train_f1 0.5525 val_f1 0.5969\n",
      "Epoch 478, train_loss: 0.69083 val_loss 0.69100  train_accuracy 0.5228 val_accuracy 0.5320  train_f1 0.5504 val_f1 0.5969\n",
      "Epoch 479, train_loss: 0.69064 val_loss 0.69100  train_accuracy 0.5241 val_accuracy 0.5319  train_f1 0.5528 val_f1 0.5970\n",
      "saved to  ./output/MLPModel01_20170406_2225_LA2_F99_C2_L100_100_100_DO0.5-1480-0.6910.hdf5\n",
      "Epoch 480, train_loss: 0.69067 val_loss 0.69100  train_accuracy 0.5243 val_accuracy 0.5322  train_f1 0.5520 val_f1 0.5970\n",
      "Epoch 481, train_loss: 0.69080 val_loss 0.69100  train_accuracy 0.5243 val_accuracy 0.5320  train_f1 0.5515 val_f1 0.5965\n",
      "Epoch 482, train_loss: 0.69070 val_loss 0.69100  train_accuracy 0.5228 val_accuracy 0.5320  train_f1 0.5503 val_f1 0.5962\n",
      "Epoch 483, train_loss: 0.69082 val_loss 0.69100  train_accuracy 0.5240 val_accuracy 0.5319  train_f1 0.5512 val_f1 0.5962\n",
      "Epoch 484, train_loss: 0.69089 val_loss 0.69101  train_accuracy 0.5239 val_accuracy 0.5320  train_f1 0.5511 val_f1 0.5966\n",
      "saved to  ./output/MLPModel01_20170406_2225_LA2_F99_C2_L100_100_100_DO0.5-1485-0.6910.hdf5\n",
      "Epoch 485, train_loss: 0.69067 val_loss 0.69101  train_accuracy 0.5225 val_accuracy 0.5319  train_f1 0.5498 val_f1 0.5966\n",
      "Epoch 486, train_loss: 0.69086 val_loss 0.69101  train_accuracy 0.5251 val_accuracy 0.5320  train_f1 0.5524 val_f1 0.5970\n",
      "Epoch 487, train_loss: 0.69072 val_loss 0.69101  train_accuracy 0.5250 val_accuracy 0.5320  train_f1 0.5522 val_f1 0.5972\n",
      "Epoch 488, train_loss: 0.69079 val_loss 0.69101  train_accuracy 0.5232 val_accuracy 0.5318  train_f1 0.5506 val_f1 0.5973\n",
      "Epoch 489, train_loss: 0.69077 val_loss 0.69101  train_accuracy 0.5230 val_accuracy 0.5317  train_f1 0.5509 val_f1 0.5975\n",
      "saved to  ./output/MLPModel01_20170406_2225_LA2_F99_C2_L100_100_100_DO0.5-1490-0.6910.hdf5\n",
      "Epoch 490, train_loss: 0.69067 val_loss 0.69101  train_accuracy 0.5239 val_accuracy 0.5317  train_f1 0.5521 val_f1 0.5975\n",
      "Epoch 491, train_loss: 0.69056 val_loss 0.69101  train_accuracy 0.5239 val_accuracy 0.5318  train_f1 0.5518 val_f1 0.5972\n",
      "Epoch 492, train_loss: 0.69047 val_loss 0.69101  train_accuracy 0.5246 val_accuracy 0.5317  train_f1 0.5531 val_f1 0.5971\n",
      "Epoch 493, train_loss: 0.69074 val_loss 0.69101  train_accuracy 0.5223 val_accuracy 0.5317  train_f1 0.5507 val_f1 0.5968\n",
      "Epoch 494, train_loss: 0.69059 val_loss 0.69100  train_accuracy 0.5243 val_accuracy 0.5318  train_f1 0.5523 val_f1 0.5968\n",
      "saved to  ./output/MLPModel01_20170406_2225_LA2_F99_C2_L100_100_100_DO0.5-1495-0.6910.hdf5\n",
      "Epoch 495, train_loss: 0.69059 val_loss 0.69100  train_accuracy 0.5244 val_accuracy 0.5318  train_f1 0.5521 val_f1 0.5966\n",
      "Epoch 496, train_loss: 0.69076 val_loss 0.69099  train_accuracy 0.5244 val_accuracy 0.5319  train_f1 0.5519 val_f1 0.5965\n",
      "Epoch 497, train_loss: 0.69076 val_loss 0.69099  train_accuracy 0.5245 val_accuracy 0.5320  train_f1 0.5522 val_f1 0.5966\n",
      "Epoch 498, train_loss: 0.69074 val_loss 0.69099  train_accuracy 0.5234 val_accuracy 0.5319  train_f1 0.5507 val_f1 0.5965\n",
      "Epoch 499, train_loss: 0.69068 val_loss 0.69099  train_accuracy 0.5255 val_accuracy 0.5318  train_f1 0.5528 val_f1 0.5965\n",
      "saved to  ./output/MLPModel01_20170406_2225_LA2_F99_C2_L100_100_100_DO0.5-1500-0.6910.hdf5\n",
      "Epoch 500, train_loss: 0.69061 val_loss 0.69099  train_accuracy 0.5229 val_accuracy 0.5318  train_f1 0.5513 val_f1 0.5967\n",
      "Epoch 501, train_loss: 0.69082 val_loss 0.69099  train_accuracy 0.5236 val_accuracy 0.5318  train_f1 0.5512 val_f1 0.5974\n",
      "Epoch 502, train_loss: 0.69071 val_loss 0.69099  train_accuracy 0.5241 val_accuracy 0.5319  train_f1 0.5521 val_f1 0.5976\n",
      "Epoch 503, train_loss: 0.69068 val_loss 0.69099  train_accuracy 0.5249 val_accuracy 0.5320  train_f1 0.5522 val_f1 0.5974\n",
      "Epoch 504, train_loss: 0.69071 val_loss 0.69099  train_accuracy 0.5252 val_accuracy 0.5321  train_f1 0.5528 val_f1 0.5975\n",
      "saved to  ./output/MLPModel01_20170406_2225_LA2_F99_C2_L100_100_100_DO0.5-1505-0.6910.hdf5\n",
      "Epoch 505, train_loss: 0.69078 val_loss 0.69099  train_accuracy 0.5241 val_accuracy 0.5319  train_f1 0.5520 val_f1 0.5972\n",
      "Epoch 506, train_loss: 0.69072 val_loss 0.69099  train_accuracy 0.5252 val_accuracy 0.5319  train_f1 0.5527 val_f1 0.5969\n",
      "Epoch 507, train_loss: 0.69066 val_loss 0.69099  train_accuracy 0.5245 val_accuracy 0.5318  train_f1 0.5512 val_f1 0.5966\n",
      "Epoch 508, train_loss: 0.69061 val_loss 0.69099  train_accuracy 0.5242 val_accuracy 0.5318  train_f1 0.5514 val_f1 0.5971\n",
      "Epoch 509, train_loss: 0.69073 val_loss 0.69099  train_accuracy 0.5244 val_accuracy 0.5319  train_f1 0.5514 val_f1 0.5974\n",
      "saved to  ./output/MLPModel01_20170406_2225_LA2_F99_C2_L100_100_100_DO0.5-1510-0.6910.hdf5\n",
      "Epoch 510, train_loss: 0.69084 val_loss 0.69099  train_accuracy 0.5241 val_accuracy 0.5319  train_f1 0.5516 val_f1 0.5975\n",
      "Epoch 511, train_loss: 0.69064 val_loss 0.69099  train_accuracy 0.5248 val_accuracy 0.5318  train_f1 0.5519 val_f1 0.5977\n",
      "Epoch 512, train_loss: 0.69076 val_loss 0.69099  train_accuracy 0.5236 val_accuracy 0.5315  train_f1 0.5512 val_f1 0.5979\n",
      "Epoch 513, train_loss: 0.69061 val_loss 0.69099  train_accuracy 0.5237 val_accuracy 0.5314  train_f1 0.5512 val_f1 0.5978\n",
      "Epoch 514, train_loss: 0.69067 val_loss 0.69099  train_accuracy 0.5245 val_accuracy 0.5316  train_f1 0.5523 val_f1 0.5982\n",
      "saved to  ./output/MLPModel01_20170406_2225_LA2_F99_C2_L100_100_100_DO0.5-1515-0.6910.hdf5\n",
      "Epoch 515, train_loss: 0.69093 val_loss 0.69099  train_accuracy 0.5228 val_accuracy 0.5317  train_f1 0.5501 val_f1 0.5983\n",
      "Epoch 516, train_loss: 0.69058 val_loss 0.69099  train_accuracy 0.5234 val_accuracy 0.5316  train_f1 0.5520 val_f1 0.5983\n",
      "Epoch 517, train_loss: 0.69077 val_loss 0.69098  train_accuracy 0.5233 val_accuracy 0.5316  train_f1 0.5516 val_f1 0.5980\n",
      "Epoch 518, train_loss: 0.69067 val_loss 0.69098  train_accuracy 0.5253 val_accuracy 0.5315  train_f1 0.5528 val_f1 0.5978\n",
      "Epoch 519, train_loss: 0.69052 val_loss 0.69098  train_accuracy 0.5248 val_accuracy 0.5316  train_f1 0.5528 val_f1 0.5971\n",
      "saved to  ./output/MLPModel01_20170406_2225_LA2_F99_C2_L100_100_100_DO0.5-1520-0.6910.hdf5\n",
      "Epoch 520, train_loss: 0.69072 val_loss 0.69098  train_accuracy 0.5235 val_accuracy 0.5318  train_f1 0.5504 val_f1 0.5966\n",
      "Epoch 521, train_loss: 0.69074 val_loss 0.69098  train_accuracy 0.5233 val_accuracy 0.5317  train_f1 0.5497 val_f1 0.5965\n",
      "Epoch 522, train_loss: 0.69051 val_loss 0.69098  train_accuracy 0.5248 val_accuracy 0.5317  train_f1 0.5523 val_f1 0.5966\n",
      "Epoch 523, train_loss: 0.69063 val_loss 0.69098  train_accuracy 0.5220 val_accuracy 0.5318  train_f1 0.5491 val_f1 0.5969\n",
      "Epoch 524, train_loss: 0.69055 val_loss 0.69098  train_accuracy 0.5238 val_accuracy 0.5317  train_f1 0.5509 val_f1 0.5968\n",
      "saved to  ./output/MLPModel01_20170406_2225_LA2_F99_C2_L100_100_100_DO0.5-1525-0.6910.hdf5\n",
      "Epoch 525, train_loss: 0.69051 val_loss 0.69097  train_accuracy 0.5253 val_accuracy 0.5313  train_f1 0.5521 val_f1 0.5959\n",
      "Epoch 526, train_loss: 0.69079 val_loss 0.69097  train_accuracy 0.5230 val_accuracy 0.5314  train_f1 0.5493 val_f1 0.5958\n",
      "Epoch 527, train_loss: 0.69074 val_loss 0.69097  train_accuracy 0.5255 val_accuracy 0.5315  train_f1 0.5525 val_f1 0.5964\n",
      "Epoch 528, train_loss: 0.69070 val_loss 0.69097  train_accuracy 0.5255 val_accuracy 0.5315  train_f1 0.5519 val_f1 0.5966\n",
      "Epoch 529, train_loss: 0.69052 val_loss 0.69097  train_accuracy 0.5246 val_accuracy 0.5316  train_f1 0.5510 val_f1 0.5969\n",
      "saved to  ./output/MLPModel01_20170406_2225_LA2_F99_C2_L100_100_100_DO0.5-1530-0.6910.hdf5\n",
      "Epoch 530, train_loss: 0.69066 val_loss 0.69097  train_accuracy 0.5228 val_accuracy 0.5313  train_f1 0.5497 val_f1 0.5965\n",
      "Epoch 531, train_loss: 0.69062 val_loss 0.69097  train_accuracy 0.5241 val_accuracy 0.5314  train_f1 0.5500 val_f1 0.5967\n",
      "Epoch 532, train_loss: 0.69076 val_loss 0.69097  train_accuracy 0.5256 val_accuracy 0.5314  train_f1 0.5518 val_f1 0.5968\n",
      "Epoch 533, train_loss: 0.69070 val_loss 0.69098  train_accuracy 0.5233 val_accuracy 0.5314  train_f1 0.5497 val_f1 0.5967\n",
      "Epoch 534, train_loss: 0.69081 val_loss 0.69098  train_accuracy 0.5238 val_accuracy 0.5316  train_f1 0.5504 val_f1 0.5969\n",
      "saved to  ./output/MLPModel01_20170406_2225_LA2_F99_C2_L100_100_100_DO0.5-1535-0.6910.hdf5\n",
      "Epoch 535, train_loss: 0.69055 val_loss 0.69098  train_accuracy 0.5240 val_accuracy 0.5315  train_f1 0.5504 val_f1 0.5968\n",
      "Epoch 536, train_loss: 0.69065 val_loss 0.69098  train_accuracy 0.5237 val_accuracy 0.5314  train_f1 0.5498 val_f1 0.5967\n",
      "Epoch 537, train_loss: 0.69050 val_loss 0.69097  train_accuracy 0.5238 val_accuracy 0.5313  train_f1 0.5499 val_f1 0.5965\n",
      "Epoch 538, train_loss: 0.69070 val_loss 0.69097  train_accuracy 0.5241 val_accuracy 0.5312  train_f1 0.5504 val_f1 0.5961\n",
      "Epoch 539, train_loss: 0.69077 val_loss 0.69097  train_accuracy 0.5238 val_accuracy 0.5313  train_f1 0.5496 val_f1 0.5962\n",
      "saved to  ./output/MLPModel01_20170406_2225_LA2_F99_C2_L100_100_100_DO0.5-1540-0.6910.hdf5\n",
      "Epoch 540, train_loss: 0.69059 val_loss 0.69097  train_accuracy 0.5247 val_accuracy 0.5314  train_f1 0.5504 val_f1 0.5964\n",
      "Epoch 541, train_loss: 0.69053 val_loss 0.69097  train_accuracy 0.5250 val_accuracy 0.5312  train_f1 0.5511 val_f1 0.5959\n",
      "Epoch 542, train_loss: 0.69065 val_loss 0.69096  train_accuracy 0.5235 val_accuracy 0.5313  train_f1 0.5493 val_f1 0.5956\n",
      "Epoch 543, train_loss: 0.69070 val_loss 0.69097  train_accuracy 0.5251 val_accuracy 0.5313  train_f1 0.5513 val_f1 0.5955\n",
      "Epoch 544, train_loss: 0.69059 val_loss 0.69096  train_accuracy 0.5245 val_accuracy 0.5313  train_f1 0.5507 val_f1 0.5955\n",
      "saved to  ./output/MLPModel01_20170406_2225_LA2_F99_C2_L100_100_100_DO0.5-1545-0.6910.hdf5\n",
      "Epoch 545, train_loss: 0.69047 val_loss 0.69096  train_accuracy 0.5244 val_accuracy 0.5314  train_f1 0.5505 val_f1 0.5955\n",
      "Epoch 546, train_loss: 0.69064 val_loss 0.69096  train_accuracy 0.5230 val_accuracy 0.5313  train_f1 0.5485 val_f1 0.5959\n",
      "Epoch 547, train_loss: 0.69069 val_loss 0.69096  train_accuracy 0.5250 val_accuracy 0.5314  train_f1 0.5505 val_f1 0.5964\n",
      "Epoch 548, train_loss: 0.69062 val_loss 0.69096  train_accuracy 0.5235 val_accuracy 0.5316  train_f1 0.5501 val_f1 0.5970\n",
      "Epoch 549, train_loss: 0.69072 val_loss 0.69096  train_accuracy 0.5238 val_accuracy 0.5316  train_f1 0.5503 val_f1 0.5970\n",
      "saved to  ./output/MLPModel01_20170406_2225_LA2_F99_C2_L100_100_100_DO0.5-1550-0.6910.hdf5\n",
      "Epoch 550, train_loss: 0.69053 val_loss 0.69096  train_accuracy 0.5251 val_accuracy 0.5316  train_f1 0.5520 val_f1 0.5967\n",
      "Epoch 551, train_loss: 0.69067 val_loss 0.69096  train_accuracy 0.5252 val_accuracy 0.5315  train_f1 0.5515 val_f1 0.5965\n",
      "Epoch 552, train_loss: 0.69054 val_loss 0.69096  train_accuracy 0.5254 val_accuracy 0.5312  train_f1 0.5509 val_f1 0.5962\n",
      "Epoch 553, train_loss: 0.69039 val_loss 0.69096  train_accuracy 0.5255 val_accuracy 0.5313  train_f1 0.5512 val_f1 0.5959\n",
      "Epoch 554, train_loss: 0.69072 val_loss 0.69096  train_accuracy 0.5250 val_accuracy 0.5311  train_f1 0.5505 val_f1 0.5959\n",
      "saved to  ./output/MLPModel01_20170406_2225_LA2_F99_C2_L100_100_100_DO0.5-1555-0.6910.hdf5\n",
      "Epoch 555, train_loss: 0.69062 val_loss 0.69096  train_accuracy 0.5242 val_accuracy 0.5310  train_f1 0.5491 val_f1 0.5956\n",
      "Epoch 556, train_loss: 0.69075 val_loss 0.69096  train_accuracy 0.5250 val_accuracy 0.5312  train_f1 0.5500 val_f1 0.5961\n",
      "Epoch 557, train_loss: 0.69060 val_loss 0.69096  train_accuracy 0.5256 val_accuracy 0.5314  train_f1 0.5514 val_f1 0.5968\n",
      "Epoch 558, train_loss: 0.69057 val_loss 0.69096  train_accuracy 0.5241 val_accuracy 0.5314  train_f1 0.5502 val_f1 0.5969\n",
      "Epoch 559, train_loss: 0.69053 val_loss 0.69096  train_accuracy 0.5227 val_accuracy 0.5314  train_f1 0.5492 val_f1 0.5967\n",
      "saved to  ./output/MLPModel01_20170406_2225_LA2_F99_C2_L100_100_100_DO0.5-1560-0.6910.hdf5\n",
      "Epoch 560, train_loss: 0.69058 val_loss 0.69095  train_accuracy 0.5240 val_accuracy 0.5313  train_f1 0.5502 val_f1 0.5960\n",
      "Epoch 561, train_loss: 0.69061 val_loss 0.69095  train_accuracy 0.5248 val_accuracy 0.5312  train_f1 0.5509 val_f1 0.5956\n",
      "Epoch 562, train_loss: 0.69063 val_loss 0.69095  train_accuracy 0.5243 val_accuracy 0.5311  train_f1 0.5499 val_f1 0.5950\n",
      "Epoch 563, train_loss: 0.69050 val_loss 0.69095  train_accuracy 0.5261 val_accuracy 0.5311  train_f1 0.5510 val_f1 0.5948\n",
      "Epoch 564, train_loss: 0.69058 val_loss 0.69095  train_accuracy 0.5254 val_accuracy 0.5311  train_f1 0.5506 val_f1 0.5944\n",
      "saved to  ./output/MLPModel01_20170406_2225_LA2_F99_C2_L100_100_100_DO0.5-1565-0.6909.hdf5\n",
      "Epoch 565, train_loss: 0.69060 val_loss 0.69095  train_accuracy 0.5247 val_accuracy 0.5312  train_f1 0.5494 val_f1 0.5940\n",
      "Epoch 566, train_loss: 0.69059 val_loss 0.69095  train_accuracy 0.5250 val_accuracy 0.5313  train_f1 0.5496 val_f1 0.5941\n",
      "Epoch 567, train_loss: 0.69054 val_loss 0.69095  train_accuracy 0.5243 val_accuracy 0.5312  train_f1 0.5488 val_f1 0.5944\n",
      "Epoch 568, train_loss: 0.69065 val_loss 0.69094  train_accuracy 0.5242 val_accuracy 0.5313  train_f1 0.5488 val_f1 0.5948\n",
      "Epoch 569, train_loss: 0.69061 val_loss 0.69094  train_accuracy 0.5252 val_accuracy 0.5312  train_f1 0.5505 val_f1 0.5951\n",
      "saved to  ./output/MLPModel01_20170406_2225_LA2_F99_C2_L100_100_100_DO0.5-1570-0.6909.hdf5\n",
      "Epoch 570, train_loss: 0.69057 val_loss 0.69094  train_accuracy 0.5265 val_accuracy 0.5312  train_f1 0.5518 val_f1 0.5950\n",
      "Epoch 571, train_loss: 0.69049 val_loss 0.69093  train_accuracy 0.5251 val_accuracy 0.5312  train_f1 0.5516 val_f1 0.5954\n",
      "Epoch 572, train_loss: 0.69052 val_loss 0.69093  train_accuracy 0.5267 val_accuracy 0.5310  train_f1 0.5523 val_f1 0.5951\n",
      "Epoch 573, train_loss: 0.69052 val_loss 0.69093  train_accuracy 0.5254 val_accuracy 0.5311  train_f1 0.5514 val_f1 0.5950\n",
      "Epoch 574, train_loss: 0.69062 val_loss 0.69093  train_accuracy 0.5257 val_accuracy 0.5312  train_f1 0.5514 val_f1 0.5950\n",
      "saved to  ./output/MLPModel01_20170406_2225_LA2_F99_C2_L100_100_100_DO0.5-1575-0.6909.hdf5\n",
      "Epoch 575, train_loss: 0.69054 val_loss 0.69093  train_accuracy 0.5241 val_accuracy 0.5310  train_f1 0.5494 val_f1 0.5950\n",
      "Epoch 576, train_loss: 0.69058 val_loss 0.69092  train_accuracy 0.5236 val_accuracy 0.5313  train_f1 0.5490 val_f1 0.5947\n",
      "Epoch 577, train_loss: 0.69033 val_loss 0.69092  train_accuracy 0.5255 val_accuracy 0.5313  train_f1 0.5510 val_f1 0.5945\n",
      "Epoch 578, train_loss: 0.69046 val_loss 0.69092  train_accuracy 0.5237 val_accuracy 0.5311  train_f1 0.5493 val_f1 0.5939\n",
      "Epoch 579, train_loss: 0.69057 val_loss 0.69092  train_accuracy 0.5246 val_accuracy 0.5313  train_f1 0.5500 val_f1 0.5940\n",
      "saved to  ./output/MLPModel01_20170406_2225_LA2_F99_C2_L100_100_100_DO0.5-1580-0.6909.hdf5\n",
      "Epoch 580, train_loss: 0.69055 val_loss 0.69092  train_accuracy 0.5255 val_accuracy 0.5312  train_f1 0.5505 val_f1 0.5941\n",
      "Epoch 581, train_loss: 0.69069 val_loss 0.69092  train_accuracy 0.5233 val_accuracy 0.5312  train_f1 0.5485 val_f1 0.5940\n",
      "Epoch 582, train_loss: 0.69065 val_loss 0.69092  train_accuracy 0.5234 val_accuracy 0.5312  train_f1 0.5485 val_f1 0.5942\n",
      "Epoch 583, train_loss: 0.69044 val_loss 0.69092  train_accuracy 0.5240 val_accuracy 0.5313  train_f1 0.5499 val_f1 0.5949\n",
      "Epoch 584, train_loss: 0.69047 val_loss 0.69092  train_accuracy 0.5262 val_accuracy 0.5312  train_f1 0.5518 val_f1 0.5951\n",
      "saved to  ./output/MLPModel01_20170406_2225_LA2_F99_C2_L100_100_100_DO0.5-1585-0.6909.hdf5\n",
      "Epoch 585, train_loss: 0.69054 val_loss 0.69092  train_accuracy 0.5264 val_accuracy 0.5313  train_f1 0.5526 val_f1 0.5947\n",
      "Epoch 586, train_loss: 0.69051 val_loss 0.69092  train_accuracy 0.5248 val_accuracy 0.5313  train_f1 0.5509 val_f1 0.5947\n",
      "Epoch 587, train_loss: 0.69050 val_loss 0.69092  train_accuracy 0.5251 val_accuracy 0.5312  train_f1 0.5511 val_f1 0.5946\n",
      "Epoch 588, train_loss: 0.69062 val_loss 0.69092  train_accuracy 0.5246 val_accuracy 0.5312  train_f1 0.5503 val_f1 0.5943\n",
      "Epoch 589, train_loss: 0.69045 val_loss 0.69092  train_accuracy 0.5249 val_accuracy 0.5315  train_f1 0.5505 val_f1 0.5943\n",
      "saved to  ./output/MLPModel01_20170406_2225_LA2_F99_C2_L100_100_100_DO0.5-1590-0.6909.hdf5\n",
      "Epoch 590, train_loss: 0.69050 val_loss 0.69092  train_accuracy 0.5260 val_accuracy 0.5313  train_f1 0.5509 val_f1 0.5938\n",
      "Epoch 591, train_loss: 0.69046 val_loss 0.69092  train_accuracy 0.5254 val_accuracy 0.5315  train_f1 0.5503 val_f1 0.5932\n",
      "Epoch 592, train_loss: 0.69054 val_loss 0.69092  train_accuracy 0.5255 val_accuracy 0.5313  train_f1 0.5492 val_f1 0.5926\n",
      "Epoch 593, train_loss: 0.69046 val_loss 0.69092  train_accuracy 0.5238 val_accuracy 0.5312  train_f1 0.5476 val_f1 0.5922\n",
      "Epoch 594, train_loss: 0.69041 val_loss 0.69091  train_accuracy 0.5256 val_accuracy 0.5312  train_f1 0.5492 val_f1 0.5922\n",
      "saved to  ./output/MLPModel01_20170406_2225_LA2_F99_C2_L100_100_100_DO0.5-1595-0.6909.hdf5\n",
      "Epoch 595, train_loss: 0.69063 val_loss 0.69091  train_accuracy 0.5245 val_accuracy 0.5312  train_f1 0.5479 val_f1 0.5923\n",
      "Epoch 596, train_loss: 0.69052 val_loss 0.69091  train_accuracy 0.5244 val_accuracy 0.5314  train_f1 0.5483 val_f1 0.5931\n",
      "Epoch 597, train_loss: 0.69057 val_loss 0.69091  train_accuracy 0.5258 val_accuracy 0.5315  train_f1 0.5505 val_f1 0.5940\n",
      "Epoch 598, train_loss: 0.69055 val_loss 0.69091  train_accuracy 0.5232 val_accuracy 0.5314  train_f1 0.5480 val_f1 0.5945\n",
      "Epoch 599, train_loss: 0.69049 val_loss 0.69091  train_accuracy 0.5247 val_accuracy 0.5313  train_f1 0.5498 val_f1 0.5949\n",
      "saved to  ./output/MLPModel01_20170406_2225_LA2_F99_C2_L100_100_100_DO0.5-1600-0.6909.hdf5\n",
      "Epoch 600, train_loss: 0.69057 val_loss 0.69091  train_accuracy 0.5248 val_accuracy 0.5314  train_f1 0.5507 val_f1 0.5954\n",
      "Epoch 601, train_loss: 0.69047 val_loss 0.69091  train_accuracy 0.5253 val_accuracy 0.5312  train_f1 0.5511 val_f1 0.5957\n",
      "Epoch 602, train_loss: 0.69049 val_loss 0.69092  train_accuracy 0.5256 val_accuracy 0.5313  train_f1 0.5515 val_f1 0.5959\n",
      "Epoch 603, train_loss: 0.69062 val_loss 0.69092  train_accuracy 0.5250 val_accuracy 0.5314  train_f1 0.5508 val_f1 0.5958\n",
      "Epoch 604, train_loss: 0.69047 val_loss 0.69092  train_accuracy 0.5242 val_accuracy 0.5313  train_f1 0.5503 val_f1 0.5958\n",
      "saved to  ./output/MLPModel01_20170406_2225_LA2_F99_C2_L100_100_100_DO0.5-1605-0.6909.hdf5\n",
      "Epoch 605, train_loss: 0.69042 val_loss 0.69092  train_accuracy 0.5249 val_accuracy 0.5314  train_f1 0.5507 val_f1 0.5958\n",
      "Epoch 606, train_loss: 0.69061 val_loss 0.69092  train_accuracy 0.5247 val_accuracy 0.5313  train_f1 0.5502 val_f1 0.5952\n",
      "Epoch 607, train_loss: 0.69052 val_loss 0.69092  train_accuracy 0.5251 val_accuracy 0.5313  train_f1 0.5503 val_f1 0.5952\n",
      "Epoch 608, train_loss: 0.69071 val_loss 0.69092  train_accuracy 0.5236 val_accuracy 0.5312  train_f1 0.5487 val_f1 0.5951\n",
      "Epoch 609, train_loss: 0.69049 val_loss 0.69092  train_accuracy 0.5236 val_accuracy 0.5313  train_f1 0.5494 val_f1 0.5956\n",
      "saved to  ./output/MLPModel01_20170406_2225_LA2_F99_C2_L100_100_100_DO0.5-1610-0.6909.hdf5\n",
      "Epoch 610, train_loss: 0.69058 val_loss 0.69092  train_accuracy 0.5264 val_accuracy 0.5313  train_f1 0.5520 val_f1 0.5955\n",
      "Epoch 611, train_loss: 0.69048 val_loss 0.69091  train_accuracy 0.5251 val_accuracy 0.5312  train_f1 0.5502 val_f1 0.5951\n",
      "Epoch 612, train_loss: 0.69060 val_loss 0.69091  train_accuracy 0.5254 val_accuracy 0.5314  train_f1 0.5508 val_f1 0.5952\n",
      "Epoch 613, train_loss: 0.69051 val_loss 0.69091  train_accuracy 0.5248 val_accuracy 0.5313  train_f1 0.5503 val_f1 0.5951\n",
      "Epoch 614, train_loss: 0.69057 val_loss 0.69091  train_accuracy 0.5243 val_accuracy 0.5315  train_f1 0.5490 val_f1 0.5951\n",
      "saved to  ./output/MLPModel01_20170406_2225_LA2_F99_C2_L100_100_100_DO0.5-1615-0.6909.hdf5\n",
      "Epoch 615, train_loss: 0.69063 val_loss 0.69091  train_accuracy 0.5254 val_accuracy 0.5314  train_f1 0.5503 val_f1 0.5951\n",
      "Epoch 616, train_loss: 0.69058 val_loss 0.69091  train_accuracy 0.5244 val_accuracy 0.5313  train_f1 0.5492 val_f1 0.5952\n",
      "Epoch 617, train_loss: 0.69050 val_loss 0.69091  train_accuracy 0.5254 val_accuracy 0.5316  train_f1 0.5504 val_f1 0.5950\n",
      "Epoch 618, train_loss: 0.69052 val_loss 0.69091  train_accuracy 0.5252 val_accuracy 0.5318  train_f1 0.5501 val_f1 0.5944\n",
      "Epoch 619, train_loss: 0.69052 val_loss 0.69091  train_accuracy 0.5252 val_accuracy 0.5318  train_f1 0.5488 val_f1 0.5945\n",
      "saved to  ./output/MLPModel01_20170406_2225_LA2_F99_C2_L100_100_100_DO0.5-1620-0.6909.hdf5\n",
      "Epoch 620, train_loss: 0.69041 val_loss 0.69091  train_accuracy 0.5252 val_accuracy 0.5320  train_f1 0.5492 val_f1 0.5947\n",
      "Epoch 621, train_loss: 0.69032 val_loss 0.69091  train_accuracy 0.5259 val_accuracy 0.5318  train_f1 0.5501 val_f1 0.5946\n",
      "Epoch 622, train_loss: 0.69060 val_loss 0.69091  train_accuracy 0.5251 val_accuracy 0.5317  train_f1 0.5491 val_f1 0.5947\n",
      "Epoch 623, train_loss: 0.69060 val_loss 0.69091  train_accuracy 0.5233 val_accuracy 0.5319  train_f1 0.5483 val_f1 0.5947\n",
      "Epoch 624, train_loss: 0.69041 val_loss 0.69091  train_accuracy 0.5251 val_accuracy 0.5319  train_f1 0.5496 val_f1 0.5946\n",
      "saved to  ./output/MLPModel01_20170406_2225_LA2_F99_C2_L100_100_100_DO0.5-1625-0.6909.hdf5\n",
      "Epoch 625, train_loss: 0.69061 val_loss 0.69091  train_accuracy 0.5225 val_accuracy 0.5318  train_f1 0.5473 val_f1 0.5947\n",
      "Epoch 626, train_loss: 0.69050 val_loss 0.69091  train_accuracy 0.5259 val_accuracy 0.5318  train_f1 0.5510 val_f1 0.5949\n",
      "Epoch 627, train_loss: 0.69060 val_loss 0.69091  train_accuracy 0.5245 val_accuracy 0.5318  train_f1 0.5492 val_f1 0.5952\n",
      "Epoch 628, train_loss: 0.69053 val_loss 0.69091  train_accuracy 0.5244 val_accuracy 0.5317  train_f1 0.5497 val_f1 0.5952\n",
      "Epoch 629, train_loss: 0.69025 val_loss 0.69091  train_accuracy 0.5257 val_accuracy 0.5316  train_f1 0.5505 val_f1 0.5950\n",
      "saved to  ./output/MLPModel01_20170406_2225_LA2_F99_C2_L100_100_100_DO0.5-1630-0.6909.hdf5\n",
      "Epoch 630, train_loss: 0.69051 val_loss 0.69091  train_accuracy 0.5243 val_accuracy 0.5316  train_f1 0.5490 val_f1 0.5944\n",
      "Epoch 631, train_loss: 0.69051 val_loss 0.69090  train_accuracy 0.5246 val_accuracy 0.5318  train_f1 0.5487 val_f1 0.5940\n",
      "Epoch 632, train_loss: 0.69051 val_loss 0.69090  train_accuracy 0.5251 val_accuracy 0.5319  train_f1 0.5490 val_f1 0.5940\n",
      "Epoch 633, train_loss: 0.69053 val_loss 0.69090  train_accuracy 0.5259 val_accuracy 0.5321  train_f1 0.5498 val_f1 0.5943\n",
      "Epoch 634, train_loss: 0.69047 val_loss 0.69090  train_accuracy 0.5249 val_accuracy 0.5321  train_f1 0.5487 val_f1 0.5939\n",
      "saved to  ./output/MLPModel01_20170406_2225_LA2_F99_C2_L100_100_100_DO0.5-1635-0.6909.hdf5\n",
      "Epoch 635, train_loss: 0.69060 val_loss 0.69090  train_accuracy 0.5250 val_accuracy 0.5323  train_f1 0.5487 val_f1 0.5938\n",
      "Epoch 636, train_loss: 0.69041 val_loss 0.69089  train_accuracy 0.5262 val_accuracy 0.5322  train_f1 0.5501 val_f1 0.5937\n",
      "Epoch 637, train_loss: 0.69055 val_loss 0.69090  train_accuracy 0.5253 val_accuracy 0.5320  train_f1 0.5490 val_f1 0.5932\n",
      "Epoch 638, train_loss: 0.69043 val_loss 0.69090  train_accuracy 0.5252 val_accuracy 0.5320  train_f1 0.5484 val_f1 0.5927\n",
      "Epoch 639, train_loss: 0.69049 val_loss 0.69089  train_accuracy 0.5260 val_accuracy 0.5318  train_f1 0.5491 val_f1 0.5925\n",
      "saved to  ./output/MLPModel01_20170406_2225_LA2_F99_C2_L100_100_100_DO0.5-1640-0.6909.hdf5\n",
      "Epoch 640, train_loss: 0.69040 val_loss 0.69089  train_accuracy 0.5253 val_accuracy 0.5319  train_f1 0.5486 val_f1 0.5920\n",
      "Epoch 641, train_loss: 0.69016 val_loss 0.69089  train_accuracy 0.5255 val_accuracy 0.5316  train_f1 0.5483 val_f1 0.5911\n",
      "Epoch 642, train_loss: 0.69051 val_loss 0.69089  train_accuracy 0.5240 val_accuracy 0.5317  train_f1 0.5462 val_f1 0.5905\n",
      "Epoch 643, train_loss: 0.69043 val_loss 0.69088  train_accuracy 0.5237 val_accuracy 0.5319  train_f1 0.5456 val_f1 0.5900\n",
      "Epoch 644, train_loss: 0.69041 val_loss 0.69088  train_accuracy 0.5262 val_accuracy 0.5319  train_f1 0.5477 val_f1 0.5898\n",
      "saved to  ./output/MLPModel01_20170406_2225_LA2_F99_C2_L100_100_100_DO0.5-1645-0.6909.hdf5\n",
      "Epoch 645, train_loss: 0.69046 val_loss 0.69088  train_accuracy 0.5259 val_accuracy 0.5317  train_f1 0.5468 val_f1 0.5894\n",
      "Epoch 646, train_loss: 0.69034 val_loss 0.69088  train_accuracy 0.5260 val_accuracy 0.5320  train_f1 0.5467 val_f1 0.5899\n",
      "Epoch 647, train_loss: 0.69052 val_loss 0.69088  train_accuracy 0.5251 val_accuracy 0.5319  train_f1 0.5470 val_f1 0.5901\n",
      "Epoch 648, train_loss: 0.69038 val_loss 0.69088  train_accuracy 0.5246 val_accuracy 0.5318  train_f1 0.5463 val_f1 0.5905\n",
      "Epoch 649, train_loss: 0.69040 val_loss 0.69087  train_accuracy 0.5247 val_accuracy 0.5317  train_f1 0.5479 val_f1 0.5912\n",
      "saved to  ./output/MLPModel01_20170406_2225_LA2_F99_C2_L100_100_100_DO0.5-1650-0.6909.hdf5\n",
      "Epoch 650, train_loss: 0.69047 val_loss 0.69087  train_accuracy 0.5237 val_accuracy 0.5317  train_f1 0.5466 val_f1 0.5921\n",
      "Epoch 651, train_loss: 0.69064 val_loss 0.69087  train_accuracy 0.5242 val_accuracy 0.5318  train_f1 0.5482 val_f1 0.5926\n",
      "Epoch 652, train_loss: 0.69043 val_loss 0.69087  train_accuracy 0.5252 val_accuracy 0.5318  train_f1 0.5489 val_f1 0.5929\n",
      "Epoch 653, train_loss: 0.69045 val_loss 0.69087  train_accuracy 0.5232 val_accuracy 0.5318  train_f1 0.5477 val_f1 0.5940\n",
      "Epoch 654, train_loss: 0.69045 val_loss 0.69087  train_accuracy 0.5249 val_accuracy 0.5320  train_f1 0.5498 val_f1 0.5948\n",
      "saved to  ./output/MLPModel01_20170406_2225_LA2_F99_C2_L100_100_100_DO0.5-1655-0.6909.hdf5\n",
      "Epoch 655, train_loss: 0.69034 val_loss 0.69087  train_accuracy 0.5255 val_accuracy 0.5319  train_f1 0.5509 val_f1 0.5951\n",
      "Epoch 656, train_loss: 0.69030 val_loss 0.69087  train_accuracy 0.5248 val_accuracy 0.5321  train_f1 0.5506 val_f1 0.5948\n",
      "Epoch 657, train_loss: 0.69050 val_loss 0.69087  train_accuracy 0.5241 val_accuracy 0.5320  train_f1 0.5491 val_f1 0.5947\n",
      "Epoch 658, train_loss: 0.69028 val_loss 0.69087  train_accuracy 0.5249 val_accuracy 0.5319  train_f1 0.5501 val_f1 0.5944\n",
      "Epoch 659, train_loss: 0.69032 val_loss 0.69087  train_accuracy 0.5255 val_accuracy 0.5320  train_f1 0.5497 val_f1 0.5946\n",
      "saved to  ./output/MLPModel01_20170406_2225_LA2_F99_C2_L100_100_100_DO0.5-1660-0.6909.hdf5\n",
      "Epoch 660, train_loss: 0.69053 val_loss 0.69087  train_accuracy 0.5240 val_accuracy 0.5318  train_f1 0.5489 val_f1 0.5945\n",
      "Epoch 661, train_loss: 0.69040 val_loss 0.69087  train_accuracy 0.5263 val_accuracy 0.5318  train_f1 0.5506 val_f1 0.5945\n",
      "Epoch 662, train_loss: 0.69042 val_loss 0.69087  train_accuracy 0.5253 val_accuracy 0.5317  train_f1 0.5499 val_f1 0.5945\n",
      "Epoch 663, train_loss: 0.69052 val_loss 0.69087  train_accuracy 0.5245 val_accuracy 0.5317  train_f1 0.5501 val_f1 0.5946\n",
      "Epoch 664, train_loss: 0.69034 val_loss 0.69086  train_accuracy 0.5261 val_accuracy 0.5315  train_f1 0.5510 val_f1 0.5940\n",
      "saved to  ./output/MLPModel01_20170406_2225_LA2_F99_C2_L100_100_100_DO0.5-1665-0.6909.hdf5\n",
      "Epoch 665, train_loss: 0.69015 val_loss 0.69085  train_accuracy 0.5264 val_accuracy 0.5317  train_f1 0.5510 val_f1 0.5936\n",
      "Epoch 666, train_loss: 0.69056 val_loss 0.69085  train_accuracy 0.5245 val_accuracy 0.5316  train_f1 0.5488 val_f1 0.5932\n",
      "Epoch 667, train_loss: 0.69048 val_loss 0.69085  train_accuracy 0.5241 val_accuracy 0.5318  train_f1 0.5483 val_f1 0.5934\n",
      "Epoch 668, train_loss: 0.69038 val_loss 0.69085  train_accuracy 0.5253 val_accuracy 0.5319  train_f1 0.5497 val_f1 0.5936\n",
      "Epoch 669, train_loss: 0.69050 val_loss 0.69085  train_accuracy 0.5248 val_accuracy 0.5319  train_f1 0.5489 val_f1 0.5934\n",
      "saved to  ./output/MLPModel01_20170406_2225_LA2_F99_C2_L100_100_100_DO0.5-1670-0.6908.hdf5\n",
      "Epoch 670, train_loss: 0.69058 val_loss 0.69085  train_accuracy 0.5246 val_accuracy 0.5317  train_f1 0.5491 val_f1 0.5939\n",
      "Epoch 671, train_loss: 0.69034 val_loss 0.69086  train_accuracy 0.5239 val_accuracy 0.5317  train_f1 0.5487 val_f1 0.5942\n",
      "Epoch 672, train_loss: 0.69031 val_loss 0.69086  train_accuracy 0.5257 val_accuracy 0.5318  train_f1 0.5512 val_f1 0.5946\n",
      "Epoch 673, train_loss: 0.69043 val_loss 0.69086  train_accuracy 0.5252 val_accuracy 0.5317  train_f1 0.5500 val_f1 0.5947\n",
      "Epoch 674, train_loss: 0.69040 val_loss 0.69086  train_accuracy 0.5252 val_accuracy 0.5317  train_f1 0.5495 val_f1 0.5947\n",
      "saved to  ./output/MLPModel01_20170406_2225_LA2_F99_C2_L100_100_100_DO0.5-1675-0.6909.hdf5\n",
      "Epoch 675, train_loss: 0.69038 val_loss 0.69085  train_accuracy 0.5256 val_accuracy 0.5319  train_f1 0.5511 val_f1 0.5945\n",
      "Epoch 676, train_loss: 0.69036 val_loss 0.69085  train_accuracy 0.5265 val_accuracy 0.5318  train_f1 0.5514 val_f1 0.5944\n",
      "Epoch 677, train_loss: 0.69048 val_loss 0.69085  train_accuracy 0.5252 val_accuracy 0.5318  train_f1 0.5492 val_f1 0.5937\n",
      "Epoch 678, train_loss: 0.69035 val_loss 0.69085  train_accuracy 0.5258 val_accuracy 0.5319  train_f1 0.5492 val_f1 0.5934\n",
      "Epoch 679, train_loss: 0.69038 val_loss 0.69085  train_accuracy 0.5251 val_accuracy 0.5319  train_f1 0.5487 val_f1 0.5937\n",
      "saved to  ./output/MLPModel01_20170406_2225_LA2_F99_C2_L100_100_100_DO0.5-1680-0.6909.hdf5\n",
      "Epoch 680, train_loss: 0.69040 val_loss 0.69085  train_accuracy 0.5248 val_accuracy 0.5317  train_f1 0.5486 val_f1 0.5940\n",
      "Epoch 681, train_loss: 0.69048 val_loss 0.69085  train_accuracy 0.5248 val_accuracy 0.5317  train_f1 0.5499 val_f1 0.5944\n",
      "Epoch 682, train_loss: 0.69033 val_loss 0.69085  train_accuracy 0.5258 val_accuracy 0.5318  train_f1 0.5504 val_f1 0.5944\n",
      "Epoch 683, train_loss: 0.69031 val_loss 0.69085  train_accuracy 0.5260 val_accuracy 0.5319  train_f1 0.5506 val_f1 0.5942\n",
      "Epoch 684, train_loss: 0.69046 val_loss 0.69086  train_accuracy 0.5244 val_accuracy 0.5320  train_f1 0.5488 val_f1 0.5943\n",
      "saved to  ./output/MLPModel01_20170406_2225_LA2_F99_C2_L100_100_100_DO0.5-1685-0.6909.hdf5\n",
      "Epoch 685, train_loss: 0.69053 val_loss 0.69086  train_accuracy 0.5248 val_accuracy 0.5318  train_f1 0.5486 val_f1 0.5943\n",
      "Epoch 686, train_loss: 0.69032 val_loss 0.69086  train_accuracy 0.5251 val_accuracy 0.5319  train_f1 0.5488 val_f1 0.5940\n",
      "Epoch 687, train_loss: 0.69038 val_loss 0.69085  train_accuracy 0.5266 val_accuracy 0.5320  train_f1 0.5500 val_f1 0.5942\n",
      "Epoch 688, train_loss: 0.69047 val_loss 0.69085  train_accuracy 0.5243 val_accuracy 0.5322  train_f1 0.5483 val_f1 0.5944\n",
      "Epoch 689, train_loss: 0.69047 val_loss 0.69085  train_accuracy 0.5259 val_accuracy 0.5321  train_f1 0.5500 val_f1 0.5945\n",
      "saved to  ./output/MLPModel01_20170406_2225_LA2_F99_C2_L100_100_100_DO0.5-1690-0.6908.hdf5\n",
      "Epoch 690, train_loss: 0.69055 val_loss 0.69085  train_accuracy 0.5236 val_accuracy 0.5323  train_f1 0.5483 val_f1 0.5949\n",
      "Epoch 691, train_loss: 0.69032 val_loss 0.69084  train_accuracy 0.5251 val_accuracy 0.5320  train_f1 0.5498 val_f1 0.5953\n",
      "Epoch 692, train_loss: 0.69034 val_loss 0.69085  train_accuracy 0.5249 val_accuracy 0.5317  train_f1 0.5501 val_f1 0.5953\n",
      "Epoch 693, train_loss: 0.69050 val_loss 0.69084  train_accuracy 0.5238 val_accuracy 0.5320  train_f1 0.5483 val_f1 0.5953\n",
      "Epoch 694, train_loss: 0.69036 val_loss 0.69085  train_accuracy 0.5260 val_accuracy 0.5321  train_f1 0.5510 val_f1 0.5952\n",
      "saved to  ./output/MLPModel01_20170406_2225_LA2_F99_C2_L100_100_100_DO0.5-1695-0.6908.hdf5\n",
      "Epoch 695, train_loss: 0.69030 val_loss 0.69085  train_accuracy 0.5262 val_accuracy 0.5324  train_f1 0.5502 val_f1 0.5950\n",
      "Epoch 696, train_loss: 0.69031 val_loss 0.69085  train_accuracy 0.5252 val_accuracy 0.5322  train_f1 0.5487 val_f1 0.5940\n",
      "Epoch 697, train_loss: 0.69028 val_loss 0.69085  train_accuracy 0.5239 val_accuracy 0.5323  train_f1 0.5476 val_f1 0.5942\n",
      "Epoch 698, train_loss: 0.69036 val_loss 0.69084  train_accuracy 0.5253 val_accuracy 0.5323  train_f1 0.5491 val_f1 0.5938\n",
      "Epoch 699, train_loss: 0.69029 val_loss 0.69084  train_accuracy 0.5253 val_accuracy 0.5321  train_f1 0.5486 val_f1 0.5929\n",
      "saved to  ./output/MLPModel01_20170406_2225_LA2_F99_C2_L100_100_100_DO0.5-1700-0.6908.hdf5\n",
      "Epoch 700, train_loss: 0.69040 val_loss 0.69084  train_accuracy 0.5247 val_accuracy 0.5320  train_f1 0.5480 val_f1 0.5926\n",
      "Epoch 701, train_loss: 0.69038 val_loss 0.69084  train_accuracy 0.5248 val_accuracy 0.5319  train_f1 0.5478 val_f1 0.5926\n",
      "Epoch 702, train_loss: 0.69039 val_loss 0.69084  train_accuracy 0.5240 val_accuracy 0.5320  train_f1 0.5467 val_f1 0.5931\n",
      "Epoch 703, train_loss: 0.69044 val_loss 0.69084  train_accuracy 0.5254 val_accuracy 0.5319  train_f1 0.5488 val_f1 0.5930\n",
      "Epoch 704, train_loss: 0.69050 val_loss 0.69084  train_accuracy 0.5248 val_accuracy 0.5319  train_f1 0.5484 val_f1 0.5938\n",
      "saved to  ./output/MLPModel01_20170406_2225_LA2_F99_C2_L100_100_100_DO0.5-1705-0.6908.hdf5\n",
      "Epoch 705, train_loss: 0.69028 val_loss 0.69084  train_accuracy 0.5247 val_accuracy 0.5322  train_f1 0.5484 val_f1 0.5946\n",
      "Epoch 706, train_loss: 0.69035 val_loss 0.69084  train_accuracy 0.5251 val_accuracy 0.5321  train_f1 0.5488 val_f1 0.5944\n",
      "Epoch 707, train_loss: 0.69042 val_loss 0.69084  train_accuracy 0.5257 val_accuracy 0.5323  train_f1 0.5490 val_f1 0.5946\n",
      "Epoch 708, train_loss: 0.69046 val_loss 0.69084  train_accuracy 0.5253 val_accuracy 0.5320  train_f1 0.5483 val_f1 0.5938\n",
      "Epoch 709, train_loss: 0.69049 val_loss 0.69084  train_accuracy 0.5244 val_accuracy 0.5319  train_f1 0.5472 val_f1 0.5935\n",
      "saved to  ./output/MLPModel01_20170406_2225_LA2_F99_C2_L100_100_100_DO0.5-1710-0.6908.hdf5\n",
      "Epoch 710, train_loss: 0.69037 val_loss 0.69084  train_accuracy 0.5249 val_accuracy 0.5321  train_f1 0.5477 val_f1 0.5941\n",
      "Epoch 711, train_loss: 0.69049 val_loss 0.69084  train_accuracy 0.5258 val_accuracy 0.5322  train_f1 0.5492 val_f1 0.5944\n",
      "Epoch 712, train_loss: 0.69020 val_loss 0.69084  train_accuracy 0.5253 val_accuracy 0.5320  train_f1 0.5483 val_f1 0.5947\n",
      "Epoch 713, train_loss: 0.69015 val_loss 0.69084  train_accuracy 0.5249 val_accuracy 0.5320  train_f1 0.5486 val_f1 0.5950\n",
      "Epoch 714, train_loss: 0.69029 val_loss 0.69084  train_accuracy 0.5259 val_accuracy 0.5319  train_f1 0.5494 val_f1 0.5951\n",
      "saved to  ./output/MLPModel01_20170406_2225_LA2_F99_C2_L100_100_100_DO0.5-1715-0.6908.hdf5\n",
      "Epoch 715, train_loss: 0.69027 val_loss 0.69084  train_accuracy 0.5265 val_accuracy 0.5319  train_f1 0.5502 val_f1 0.5948\n",
      "Epoch 716, train_loss: 0.69036 val_loss 0.69084  train_accuracy 0.5252 val_accuracy 0.5320  train_f1 0.5488 val_f1 0.5947\n",
      "Epoch 717, train_loss: 0.69045 val_loss 0.69084  train_accuracy 0.5253 val_accuracy 0.5319  train_f1 0.5481 val_f1 0.5949\n",
      "Epoch 718, train_loss: 0.69048 val_loss 0.69085  train_accuracy 0.5251 val_accuracy 0.5317  train_f1 0.5488 val_f1 0.5951\n",
      "Epoch 719, train_loss: 0.69040 val_loss 0.69085  train_accuracy 0.5245 val_accuracy 0.5316  train_f1 0.5484 val_f1 0.5955\n",
      "saved to  ./output/MLPModel01_20170406_2225_LA2_F99_C2_L100_100_100_DO0.5-1720-0.6909.hdf5\n",
      "Epoch 720, train_loss: 0.69041 val_loss 0.69085  train_accuracy 0.5265 val_accuracy 0.5318  train_f1 0.5502 val_f1 0.5959\n",
      "Epoch 721, train_loss: 0.69023 val_loss 0.69085  train_accuracy 0.5266 val_accuracy 0.5317  train_f1 0.5509 val_f1 0.5956\n",
      "Epoch 722, train_loss: 0.69037 val_loss 0.69085  train_accuracy 0.5267 val_accuracy 0.5319  train_f1 0.5505 val_f1 0.5951\n",
      "Epoch 723, train_loss: 0.69040 val_loss 0.69085  train_accuracy 0.5262 val_accuracy 0.5320  train_f1 0.5493 val_f1 0.5943\n",
      "Epoch 724, train_loss: 0.69036 val_loss 0.69085  train_accuracy 0.5249 val_accuracy 0.5319  train_f1 0.5484 val_f1 0.5938\n",
      "saved to  ./output/MLPModel01_20170406_2225_LA2_F99_C2_L100_100_100_DO0.5-1725-0.6908.hdf5\n",
      "Epoch 725, train_loss: 0.69041 val_loss 0.69085  train_accuracy 0.5263 val_accuracy 0.5319  train_f1 0.5487 val_f1 0.5931\n",
      "Epoch 726, train_loss: 0.69035 val_loss 0.69085  train_accuracy 0.5261 val_accuracy 0.5318  train_f1 0.5477 val_f1 0.5929\n",
      "Epoch 727, train_loss: 0.69030 val_loss 0.69084  train_accuracy 0.5260 val_accuracy 0.5317  train_f1 0.5475 val_f1 0.5923\n",
      "Epoch 728, train_loss: 0.69032 val_loss 0.69084  train_accuracy 0.5263 val_accuracy 0.5318  train_f1 0.5484 val_f1 0.5921\n",
      "Epoch 729, train_loss: 0.69045 val_loss 0.69083  train_accuracy 0.5255 val_accuracy 0.5320  train_f1 0.5469 val_f1 0.5921\n",
      "saved to  ./output/MLPModel01_20170406_2225_LA2_F99_C2_L100_100_100_DO0.5-1730-0.6908.hdf5\n",
      "Epoch 730, train_loss: 0.69028 val_loss 0.69083  train_accuracy 0.5246 val_accuracy 0.5319  train_f1 0.5463 val_f1 0.5924\n",
      "Epoch 731, train_loss: 0.69043 val_loss 0.69083  train_accuracy 0.5253 val_accuracy 0.5318  train_f1 0.5470 val_f1 0.5925\n",
      "Epoch 732, train_loss: 0.69034 val_loss 0.69083  train_accuracy 0.5264 val_accuracy 0.5318  train_f1 0.5489 val_f1 0.5928\n",
      "Epoch 733, train_loss: 0.69031 val_loss 0.69083  train_accuracy 0.5258 val_accuracy 0.5318  train_f1 0.5490 val_f1 0.5925\n",
      "Epoch 734, train_loss: 0.69021 val_loss 0.69082  train_accuracy 0.5258 val_accuracy 0.5317  train_f1 0.5478 val_f1 0.5922\n",
      "saved to  ./output/MLPModel01_20170406_2225_LA2_F99_C2_L100_100_100_DO0.5-1735-0.6908.hdf5\n",
      "Epoch 735, train_loss: 0.69035 val_loss 0.69082  train_accuracy 0.5247 val_accuracy 0.5318  train_f1 0.5472 val_f1 0.5922\n",
      "Epoch 736, train_loss: 0.69052 val_loss 0.69082  train_accuracy 0.5250 val_accuracy 0.5317  train_f1 0.5474 val_f1 0.5924\n",
      "Epoch 737, train_loss: 0.69044 val_loss 0.69082  train_accuracy 0.5247 val_accuracy 0.5317  train_f1 0.5464 val_f1 0.5927\n",
      "Epoch 738, train_loss: 0.69045 val_loss 0.69082  train_accuracy 0.5241 val_accuracy 0.5317  train_f1 0.5464 val_f1 0.5930\n",
      "Epoch 739, train_loss: 0.69027 val_loss 0.69082  train_accuracy 0.5248 val_accuracy 0.5320  train_f1 0.5473 val_f1 0.5936\n",
      "saved to  ./output/MLPModel01_20170406_2225_LA2_F99_C2_L100_100_100_DO0.5-1740-0.6908.hdf5\n",
      "Epoch 740, train_loss: 0.69023 val_loss 0.69082  train_accuracy 0.5249 val_accuracy 0.5321  train_f1 0.5483 val_f1 0.5941\n",
      "Epoch 741, train_loss: 0.69025 val_loss 0.69082  train_accuracy 0.5265 val_accuracy 0.5322  train_f1 0.5500 val_f1 0.5944\n",
      "Epoch 742, train_loss: 0.69023 val_loss 0.69081  train_accuracy 0.5261 val_accuracy 0.5320  train_f1 0.5494 val_f1 0.5944\n",
      "Epoch 743, train_loss: 0.69040 val_loss 0.69081  train_accuracy 0.5247 val_accuracy 0.5323  train_f1 0.5484 val_f1 0.5948\n",
      "Epoch 744, train_loss: 0.69053 val_loss 0.69081  train_accuracy 0.5264 val_accuracy 0.5323  train_f1 0.5505 val_f1 0.5946\n",
      "saved to  ./output/MLPModel01_20170406_2225_LA2_F99_C2_L100_100_100_DO0.5-1745-0.6908.hdf5\n",
      "Epoch 745, train_loss: 0.69046 val_loss 0.69082  train_accuracy 0.5259 val_accuracy 0.5321  train_f1 0.5498 val_f1 0.5942\n",
      "Epoch 746, train_loss: 0.69043 val_loss 0.69082  train_accuracy 0.5250 val_accuracy 0.5321  train_f1 0.5485 val_f1 0.5941\n",
      "Epoch 747, train_loss: 0.69019 val_loss 0.69082  train_accuracy 0.5265 val_accuracy 0.5318  train_f1 0.5493 val_f1 0.5929\n",
      "Epoch 748, train_loss: 0.69036 val_loss 0.69082  train_accuracy 0.5245 val_accuracy 0.5318  train_f1 0.5471 val_f1 0.5927\n",
      "Epoch 749, train_loss: 0.69047 val_loss 0.69082  train_accuracy 0.5248 val_accuracy 0.5319  train_f1 0.5472 val_f1 0.5925\n",
      "saved to  ./output/MLPModel01_20170406_2225_LA2_F99_C2_L100_100_100_DO0.5-1750-0.6908.hdf5\n",
      "Epoch 750, train_loss: 0.69020 val_loss 0.69082  train_accuracy 0.5250 val_accuracy 0.5321  train_f1 0.5471 val_f1 0.5924\n",
      "Epoch 751, train_loss: 0.69023 val_loss 0.69082  train_accuracy 0.5256 val_accuracy 0.5323  train_f1 0.5476 val_f1 0.5922\n",
      "Epoch 752, train_loss: 0.69031 val_loss 0.69082  train_accuracy 0.5245 val_accuracy 0.5321  train_f1 0.5466 val_f1 0.5917\n",
      "Epoch 753, train_loss: 0.69021 val_loss 0.69082  train_accuracy 0.5275 val_accuracy 0.5321  train_f1 0.5494 val_f1 0.5918\n",
      "Epoch 754, train_loss: 0.69017 val_loss 0.69082  train_accuracy 0.5260 val_accuracy 0.5320  train_f1 0.5479 val_f1 0.5915\n",
      "saved to  ./output/MLPModel01_20170406_2225_LA2_F99_C2_L100_100_100_DO0.5-1755-0.6908.hdf5\n",
      "Epoch 755, train_loss: 0.69042 val_loss 0.69081  train_accuracy 0.5253 val_accuracy 0.5321  train_f1 0.5475 val_f1 0.5919\n",
      "Epoch 756, train_loss: 0.69020 val_loss 0.69081  train_accuracy 0.5268 val_accuracy 0.5321  train_f1 0.5492 val_f1 0.5917\n",
      "Epoch 757, train_loss: 0.69038 val_loss 0.69081  train_accuracy 0.5250 val_accuracy 0.5321  train_f1 0.5477 val_f1 0.5917\n",
      "Epoch 758, train_loss: 0.69042 val_loss 0.69081  train_accuracy 0.5261 val_accuracy 0.5320  train_f1 0.5481 val_f1 0.5916\n",
      "Epoch 759, train_loss: 0.69029 val_loss 0.69081  train_accuracy 0.5265 val_accuracy 0.5319  train_f1 0.5488 val_f1 0.5917\n",
      "saved to  ./output/MLPModel01_20170406_2225_LA2_F99_C2_L100_100_100_DO0.5-1760-0.6908.hdf5\n",
      "Epoch 760, train_loss: 0.69017 val_loss 0.69081  train_accuracy 0.5267 val_accuracy 0.5319  train_f1 0.5485 val_f1 0.5919\n",
      "Epoch 761, train_loss: 0.69029 val_loss 0.69081  train_accuracy 0.5257 val_accuracy 0.5319  train_f1 0.5485 val_f1 0.5916\n",
      "Epoch 762, train_loss: 0.69031 val_loss 0.69081  train_accuracy 0.5255 val_accuracy 0.5319  train_f1 0.5474 val_f1 0.5915\n",
      "Epoch 763, train_loss: 0.69021 val_loss 0.69081  train_accuracy 0.5273 val_accuracy 0.5321  train_f1 0.5497 val_f1 0.5916\n",
      "Epoch 764, train_loss: 0.69039 val_loss 0.69081  train_accuracy 0.5261 val_accuracy 0.5322  train_f1 0.5478 val_f1 0.5917\n",
      "saved to  ./output/MLPModel01_20170406_2225_LA2_F99_C2_L100_100_100_DO0.5-1765-0.6908.hdf5\n",
      "Epoch 765, train_loss: 0.69021 val_loss 0.69081  train_accuracy 0.5257 val_accuracy 0.5323  train_f1 0.5474 val_f1 0.5917\n",
      "Epoch 766, train_loss: 0.69015 val_loss 0.69081  train_accuracy 0.5274 val_accuracy 0.5323  train_f1 0.5489 val_f1 0.5913\n",
      "Epoch 767, train_loss: 0.69019 val_loss 0.69081  train_accuracy 0.5256 val_accuracy 0.5324  train_f1 0.5474 val_f1 0.5910\n",
      "Epoch 768, train_loss: 0.69014 val_loss 0.69080  train_accuracy 0.5250 val_accuracy 0.5323  train_f1 0.5463 val_f1 0.5904\n",
      "Epoch 769, train_loss: 0.69033 val_loss 0.69080  train_accuracy 0.5249 val_accuracy 0.5322  train_f1 0.5458 val_f1 0.5905\n",
      "saved to  ./output/MLPModel01_20170406_2225_LA2_F99_C2_L100_100_100_DO0.5-1770-0.6908.hdf5\n",
      "Epoch 770, train_loss: 0.69030 val_loss 0.69080  train_accuracy 0.5266 val_accuracy 0.5321  train_f1 0.5486 val_f1 0.5907\n",
      "Epoch 771, train_loss: 0.69019 val_loss 0.69080  train_accuracy 0.5265 val_accuracy 0.5321  train_f1 0.5474 val_f1 0.5908\n",
      "Epoch 772, train_loss: 0.69006 val_loss 0.69080  train_accuracy 0.5258 val_accuracy 0.5324  train_f1 0.5475 val_f1 0.5913\n",
      "Epoch 773, train_loss: 0.69030 val_loss 0.69080  train_accuracy 0.5244 val_accuracy 0.5322  train_f1 0.5461 val_f1 0.5910\n",
      "Epoch 774, train_loss: 0.69039 val_loss 0.69079  train_accuracy 0.5253 val_accuracy 0.5322  train_f1 0.5466 val_f1 0.5913\n",
      "saved to  ./output/MLPModel01_20170406_2225_LA2_F99_C2_L100_100_100_DO0.5-1775-0.6908.hdf5\n",
      "Epoch 775, train_loss: 0.69032 val_loss 0.69080  train_accuracy 0.5256 val_accuracy 0.5322  train_f1 0.5470 val_f1 0.5916\n",
      "Epoch 776, train_loss: 0.69019 val_loss 0.69080  train_accuracy 0.5263 val_accuracy 0.5322  train_f1 0.5486 val_f1 0.5917\n",
      "Epoch 777, train_loss: 0.69003 val_loss 0.69079  train_accuracy 0.5267 val_accuracy 0.5321  train_f1 0.5487 val_f1 0.5910\n",
      "Epoch 778, train_loss: 0.69019 val_loss 0.69079  train_accuracy 0.5255 val_accuracy 0.5323  train_f1 0.5467 val_f1 0.5905\n",
      "Epoch 779, train_loss: 0.69036 val_loss 0.69079  train_accuracy 0.5254 val_accuracy 0.5322  train_f1 0.5459 val_f1 0.5903\n",
      "saved to  ./output/MLPModel01_20170406_2225_LA2_F99_C2_L100_100_100_DO0.5-1780-0.6908.hdf5\n",
      "Epoch 780, train_loss: 0.69026 val_loss 0.69079  train_accuracy 0.5254 val_accuracy 0.5321  train_f1 0.5457 val_f1 0.5900\n",
      "Epoch 781, train_loss: 0.69038 val_loss 0.69079  train_accuracy 0.5249 val_accuracy 0.5323  train_f1 0.5459 val_f1 0.5908\n",
      "Epoch 782, train_loss: 0.69035 val_loss 0.69079  train_accuracy 0.5257 val_accuracy 0.5323  train_f1 0.5471 val_f1 0.5913\n",
      "Epoch 783, train_loss: 0.69024 val_loss 0.69079  train_accuracy 0.5257 val_accuracy 0.5322  train_f1 0.5478 val_f1 0.5919\n",
      "Epoch 784, train_loss: 0.69050 val_loss 0.69079  train_accuracy 0.5261 val_accuracy 0.5323  train_f1 0.5492 val_f1 0.5925\n",
      "saved to  ./output/MLPModel01_20170406_2225_LA2_F99_C2_L100_100_100_DO0.5-1785-0.6908.hdf5\n",
      "Epoch 785, train_loss: 0.69040 val_loss 0.69079  train_accuracy 0.5254 val_accuracy 0.5323  train_f1 0.5483 val_f1 0.5928\n",
      "Epoch 786, train_loss: 0.69029 val_loss 0.69079  train_accuracy 0.5248 val_accuracy 0.5321  train_f1 0.5473 val_f1 0.5928\n",
      "Epoch 787, train_loss: 0.69019 val_loss 0.69079  train_accuracy 0.5253 val_accuracy 0.5322  train_f1 0.5479 val_f1 0.5928\n",
      "Epoch 788, train_loss: 0.69036 val_loss 0.69079  train_accuracy 0.5257 val_accuracy 0.5322  train_f1 0.5485 val_f1 0.5927\n",
      "Epoch 789, train_loss: 0.69029 val_loss 0.69079  train_accuracy 0.5257 val_accuracy 0.5323  train_f1 0.5488 val_f1 0.5920\n",
      "saved to  ./output/MLPModel01_20170406_2225_LA2_F99_C2_L100_100_100_DO0.5-1790-0.6908.hdf5\n",
      "Epoch 790, train_loss: 0.69046 val_loss 0.69079  train_accuracy 0.5256 val_accuracy 0.5324  train_f1 0.5479 val_f1 0.5919\n",
      "Epoch 791, train_loss: 0.69031 val_loss 0.69080  train_accuracy 0.5252 val_accuracy 0.5324  train_f1 0.5473 val_f1 0.5919\n",
      "Epoch 792, train_loss: 0.69038 val_loss 0.69080  train_accuracy 0.5266 val_accuracy 0.5324  train_f1 0.5492 val_f1 0.5922\n",
      "Epoch 793, train_loss: 0.69028 val_loss 0.69080  train_accuracy 0.5244 val_accuracy 0.5323  train_f1 0.5474 val_f1 0.5924\n",
      "Epoch 794, train_loss: 0.69032 val_loss 0.69080  train_accuracy 0.5260 val_accuracy 0.5323  train_f1 0.5488 val_f1 0.5931\n",
      "saved to  ./output/MLPModel01_20170406_2225_LA2_F99_C2_L100_100_100_DO0.5-1795-0.6908.hdf5\n",
      "Epoch 795, train_loss: 0.69002 val_loss 0.69079  train_accuracy 0.5262 val_accuracy 0.5321  train_f1 0.5495 val_f1 0.5926\n",
      "Epoch 796, train_loss: 0.69030 val_loss 0.69079  train_accuracy 0.5260 val_accuracy 0.5322  train_f1 0.5481 val_f1 0.5925\n",
      "Epoch 797, train_loss: 0.69041 val_loss 0.69079  train_accuracy 0.5254 val_accuracy 0.5323  train_f1 0.5479 val_f1 0.5925\n",
      "Epoch 798, train_loss: 0.69017 val_loss 0.69079  train_accuracy 0.5260 val_accuracy 0.5323  train_f1 0.5483 val_f1 0.5923\n",
      "Epoch 799, train_loss: 0.69018 val_loss 0.69079  train_accuracy 0.5267 val_accuracy 0.5322  train_f1 0.5494 val_f1 0.5918\n",
      "saved to  ./output/MLPModel01_20170406_2225_LA2_F99_C2_L100_100_100_DO0.5-1800-0.6908.hdf5\n",
      "Epoch 800, train_loss: 0.69021 val_loss 0.69079  train_accuracy 0.5254 val_accuracy 0.5324  train_f1 0.5473 val_f1 0.5914\n",
      "Epoch 801, train_loss: 0.69026 val_loss 0.69079  train_accuracy 0.5258 val_accuracy 0.5319  train_f1 0.5478 val_f1 0.5905\n",
      "Epoch 802, train_loss: 0.69034 val_loss 0.69078  train_accuracy 0.5267 val_accuracy 0.5319  train_f1 0.5484 val_f1 0.5902\n",
      "Epoch 803, train_loss: 0.69025 val_loss 0.69078  train_accuracy 0.5276 val_accuracy 0.5319  train_f1 0.5482 val_f1 0.5895\n",
      "Epoch 804, train_loss: 0.69030 val_loss 0.69078  train_accuracy 0.5246 val_accuracy 0.5320  train_f1 0.5454 val_f1 0.5898\n",
      "saved to  ./output/MLPModel01_20170406_2225_LA2_F99_C2_L100_100_100_DO0.5-1805-0.6908.hdf5\n",
      "Epoch 805, train_loss: 0.69021 val_loss 0.69078  train_accuracy 0.5256 val_accuracy 0.5320  train_f1 0.5456 val_f1 0.5897\n",
      "Epoch 806, train_loss: 0.69029 val_loss 0.69078  train_accuracy 0.5255 val_accuracy 0.5319  train_f1 0.5461 val_f1 0.5893\n",
      "Epoch 807, train_loss: 0.69012 val_loss 0.69078  train_accuracy 0.5260 val_accuracy 0.5318  train_f1 0.5465 val_f1 0.5894\n",
      "Epoch 808, train_loss: 0.69041 val_loss 0.69078  train_accuracy 0.5251 val_accuracy 0.5321  train_f1 0.5458 val_f1 0.5903\n",
      "Epoch 809, train_loss: 0.69021 val_loss 0.69078  train_accuracy 0.5257 val_accuracy 0.5321  train_f1 0.5462 val_f1 0.5903\n",
      "saved to  ./output/MLPModel01_20170406_2225_LA2_F99_C2_L100_100_100_DO0.5-1810-0.6908.hdf5\n",
      "Epoch 810, train_loss: 0.69004 val_loss 0.69078  train_accuracy 0.5255 val_accuracy 0.5322  train_f1 0.5464 val_f1 0.5904\n",
      "Epoch 811, train_loss: 0.69029 val_loss 0.69078  train_accuracy 0.5261 val_accuracy 0.5322  train_f1 0.5464 val_f1 0.5904\n",
      "Epoch 812, train_loss: 0.69024 val_loss 0.69078  train_accuracy 0.5259 val_accuracy 0.5320  train_f1 0.5471 val_f1 0.5908\n",
      "Epoch 813, train_loss: 0.69024 val_loss 0.69078  train_accuracy 0.5260 val_accuracy 0.5321  train_f1 0.5469 val_f1 0.5909\n",
      "Epoch 814, train_loss: 0.69037 val_loss 0.69078  train_accuracy 0.5260 val_accuracy 0.5320  train_f1 0.5473 val_f1 0.5907\n",
      "saved to  ./output/MLPModel01_20170406_2225_LA2_F99_C2_L100_100_100_DO0.5-1815-0.6908.hdf5\n",
      "Epoch 815, train_loss: 0.69015 val_loss 0.69078  train_accuracy 0.5268 val_accuracy 0.5321  train_f1 0.5479 val_f1 0.5907\n",
      "Epoch 816, train_loss: 0.69025 val_loss 0.69078  train_accuracy 0.5258 val_accuracy 0.5321  train_f1 0.5462 val_f1 0.5906\n",
      "Epoch 817, train_loss: 0.69006 val_loss 0.69078  train_accuracy 0.5266 val_accuracy 0.5322  train_f1 0.5468 val_f1 0.5907\n",
      "Epoch 818, train_loss: 0.69018 val_loss 0.69078  train_accuracy 0.5264 val_accuracy 0.5322  train_f1 0.5471 val_f1 0.5906\n",
      "Epoch 819, train_loss: 0.69019 val_loss 0.69078  train_accuracy 0.5269 val_accuracy 0.5321  train_f1 0.5477 val_f1 0.5898\n",
      "saved to  ./output/MLPModel01_20170406_2225_LA2_F99_C2_L100_100_100_DO0.5-1820-0.6908.hdf5\n",
      "Epoch 820, train_loss: 0.69020 val_loss 0.69077  train_accuracy 0.5271 val_accuracy 0.5321  train_f1 0.5474 val_f1 0.5896\n",
      "Epoch 821, train_loss: 0.69035 val_loss 0.69077  train_accuracy 0.5239 val_accuracy 0.5322  train_f1 0.5437 val_f1 0.5892\n",
      "Epoch 822, train_loss: 0.69000 val_loss 0.69077  train_accuracy 0.5276 val_accuracy 0.5322  train_f1 0.5471 val_f1 0.5890\n",
      "Epoch 823, train_loss: 0.69037 val_loss 0.69077  train_accuracy 0.5246 val_accuracy 0.5321  train_f1 0.5441 val_f1 0.5885\n",
      "Epoch 824, train_loss: 0.69019 val_loss 0.69077  train_accuracy 0.5279 val_accuracy 0.5322  train_f1 0.5467 val_f1 0.5885\n",
      "saved to  ./output/MLPModel01_20170406_2225_LA2_F99_C2_L100_100_100_DO0.5-1825-0.6908.hdf5\n",
      "Epoch 825, train_loss: 0.69013 val_loss 0.69077  train_accuracy 0.5266 val_accuracy 0.5322  train_f1 0.5458 val_f1 0.5885\n",
      "Epoch 826, train_loss: 0.69015 val_loss 0.69077  train_accuracy 0.5254 val_accuracy 0.5323  train_f1 0.5450 val_f1 0.5888\n",
      "Epoch 827, train_loss: 0.69037 val_loss 0.69076  train_accuracy 0.5246 val_accuracy 0.5325  train_f1 0.5442 val_f1 0.5892\n",
      "Epoch 828, train_loss: 0.69022 val_loss 0.69077  train_accuracy 0.5263 val_accuracy 0.5322  train_f1 0.5462 val_f1 0.5897\n",
      "Epoch 829, train_loss: 0.69017 val_loss 0.69076  train_accuracy 0.5252 val_accuracy 0.5320  train_f1 0.5456 val_f1 0.5904\n",
      "saved to  ./output/MLPModel01_20170406_2225_LA2_F99_C2_L100_100_100_DO0.5-1830-0.6908.hdf5\n",
      "Epoch 830, train_loss: 0.69027 val_loss 0.69077  train_accuracy 0.5255 val_accuracy 0.5319  train_f1 0.5471 val_f1 0.5910\n",
      "Epoch 831, train_loss: 0.69009 val_loss 0.69077  train_accuracy 0.5269 val_accuracy 0.5320  train_f1 0.5482 val_f1 0.5912\n",
      "Epoch 832, train_loss: 0.69016 val_loss 0.69076  train_accuracy 0.5261 val_accuracy 0.5320  train_f1 0.5474 val_f1 0.5911\n",
      "Epoch 833, train_loss: 0.69019 val_loss 0.69076  train_accuracy 0.5260 val_accuracy 0.5320  train_f1 0.5476 val_f1 0.5913\n",
      "Epoch 834, train_loss: 0.69020 val_loss 0.69076  train_accuracy 0.5264 val_accuracy 0.5320  train_f1 0.5473 val_f1 0.5912\n",
      "saved to  ./output/MLPModel01_20170406_2225_LA2_F99_C2_L100_100_100_DO0.5-1835-0.6908.hdf5\n",
      "Epoch 835, train_loss: 0.69022 val_loss 0.69076  train_accuracy 0.5282 val_accuracy 0.5319  train_f1 0.5492 val_f1 0.5907\n",
      "Epoch 836, train_loss: 0.69008 val_loss 0.69076  train_accuracy 0.5268 val_accuracy 0.5319  train_f1 0.5476 val_f1 0.5905\n",
      "Epoch 837, train_loss: 0.69016 val_loss 0.69076  train_accuracy 0.5273 val_accuracy 0.5322  train_f1 0.5476 val_f1 0.5905\n",
      "Epoch 838, train_loss: 0.69017 val_loss 0.69077  train_accuracy 0.5273 val_accuracy 0.5322  train_f1 0.5478 val_f1 0.5901\n",
      "Epoch 839, train_loss: 0.69014 val_loss 0.69077  train_accuracy 0.5267 val_accuracy 0.5322  train_f1 0.5469 val_f1 0.5903\n",
      "saved to  ./output/MLPModel01_20170406_2225_LA2_F99_C2_L100_100_100_DO0.5-1840-0.6908.hdf5\n",
      "Epoch 840, train_loss: 0.69030 val_loss 0.69077  train_accuracy 0.5250 val_accuracy 0.5323  train_f1 0.5448 val_f1 0.5908\n",
      "Epoch 841, train_loss: 0.69022 val_loss 0.69077  train_accuracy 0.5258 val_accuracy 0.5324  train_f1 0.5463 val_f1 0.5912\n",
      "Epoch 842, train_loss: 0.68997 val_loss 0.69077  train_accuracy 0.5270 val_accuracy 0.5326  train_f1 0.5477 val_f1 0.5916\n",
      "Epoch 843, train_loss: 0.69018 val_loss 0.69076  train_accuracy 0.5267 val_accuracy 0.5324  train_f1 0.5471 val_f1 0.5908\n",
      "Epoch 844, train_loss: 0.69028 val_loss 0.69076  train_accuracy 0.5251 val_accuracy 0.5323  train_f1 0.5453 val_f1 0.5903\n",
      "saved to  ./output/MLPModel01_20170406_2225_LA2_F99_C2_L100_100_100_DO0.5-1845-0.6908.hdf5\n",
      "Epoch 845, train_loss: 0.69025 val_loss 0.69076  train_accuracy 0.5271 val_accuracy 0.5322  train_f1 0.5469 val_f1 0.5896\n",
      "Epoch 846, train_loss: 0.69011 val_loss 0.69076  train_accuracy 0.5266 val_accuracy 0.5323  train_f1 0.5468 val_f1 0.5894\n",
      "Epoch 847, train_loss: 0.69029 val_loss 0.69076  train_accuracy 0.5248 val_accuracy 0.5323  train_f1 0.5444 val_f1 0.5894\n",
      "Epoch 848, train_loss: 0.69003 val_loss 0.69076  train_accuracy 0.5264 val_accuracy 0.5323  train_f1 0.5455 val_f1 0.5890\n",
      "Epoch 849, train_loss: 0.69014 val_loss 0.69076  train_accuracy 0.5258 val_accuracy 0.5322  train_f1 0.5441 val_f1 0.5890\n",
      "saved to  ./output/MLPModel01_20170406_2225_LA2_F99_C2_L100_100_100_DO0.5-1850-0.6908.hdf5\n",
      "Epoch 850, train_loss: 0.69027 val_loss 0.69076  train_accuracy 0.5246 val_accuracy 0.5322  train_f1 0.5438 val_f1 0.5890\n",
      "Epoch 851, train_loss: 0.69027 val_loss 0.69076  train_accuracy 0.5252 val_accuracy 0.5323  train_f1 0.5441 val_f1 0.5894\n",
      "Epoch 852, train_loss: 0.69027 val_loss 0.69076  train_accuracy 0.5264 val_accuracy 0.5322  train_f1 0.5455 val_f1 0.5897\n",
      "Epoch 853, train_loss: 0.69005 val_loss 0.69076  train_accuracy 0.5271 val_accuracy 0.5321  train_f1 0.5460 val_f1 0.5898\n",
      "Epoch 854, train_loss: 0.69017 val_loss 0.69076  train_accuracy 0.5250 val_accuracy 0.5319  train_f1 0.5442 val_f1 0.5897\n",
      "saved to  ./output/MLPModel01_20170406_2225_LA2_F99_C2_L100_100_100_DO0.5-1855-0.6908.hdf5\n",
      "Epoch 855, train_loss: 0.69019 val_loss 0.69075  train_accuracy 0.5265 val_accuracy 0.5320  train_f1 0.5460 val_f1 0.5898\n",
      "Epoch 856, train_loss: 0.69022 val_loss 0.69075  train_accuracy 0.5256 val_accuracy 0.5320  train_f1 0.5456 val_f1 0.5900\n",
      "Epoch 857, train_loss: 0.69008 val_loss 0.69075  train_accuracy 0.5258 val_accuracy 0.5319  train_f1 0.5452 val_f1 0.5896\n",
      "Epoch 858, train_loss: 0.69038 val_loss 0.69075  train_accuracy 0.5261 val_accuracy 0.5320  train_f1 0.5456 val_f1 0.5902\n",
      "Epoch 859, train_loss: 0.69030 val_loss 0.69075  train_accuracy 0.5255 val_accuracy 0.5321  train_f1 0.5450 val_f1 0.5908\n",
      "saved to  ./output/MLPModel01_20170406_2225_LA2_F99_C2_L100_100_100_DO0.5-1860-0.6908.hdf5\n",
      "Epoch 860, train_loss: 0.69010 val_loss 0.69075  train_accuracy 0.5264 val_accuracy 0.5322  train_f1 0.5467 val_f1 0.5910\n",
      "Epoch 861, train_loss: 0.69011 val_loss 0.69075  train_accuracy 0.5255 val_accuracy 0.5322  train_f1 0.5469 val_f1 0.5905\n",
      "Epoch 862, train_loss: 0.69020 val_loss 0.69075  train_accuracy 0.5260 val_accuracy 0.5318  train_f1 0.5462 val_f1 0.5892\n",
      "Epoch 863, train_loss: 0.69015 val_loss 0.69075  train_accuracy 0.5260 val_accuracy 0.5319  train_f1 0.5455 val_f1 0.5889\n",
      "Epoch 864, train_loss: 0.69014 val_loss 0.69075  train_accuracy 0.5268 val_accuracy 0.5319  train_f1 0.5464 val_f1 0.5880\n",
      "saved to  ./output/MLPModel01_20170406_2225_LA2_F99_C2_L100_100_100_DO0.5-1865-0.6908.hdf5\n",
      "Epoch 865, train_loss: 0.69015 val_loss 0.69075  train_accuracy 0.5257 val_accuracy 0.5319  train_f1 0.5444 val_f1 0.5881\n",
      "Epoch 866, train_loss: 0.69018 val_loss 0.69075  train_accuracy 0.5265 val_accuracy 0.5319  train_f1 0.5455 val_f1 0.5877\n",
      "Epoch 867, train_loss: 0.69024 val_loss 0.69075  train_accuracy 0.5275 val_accuracy 0.5320  train_f1 0.5456 val_f1 0.5878\n",
      "Epoch 868, train_loss: 0.69006 val_loss 0.69075  train_accuracy 0.5266 val_accuracy 0.5321  train_f1 0.5451 val_f1 0.5877\n",
      "Epoch 869, train_loss: 0.69012 val_loss 0.69075  train_accuracy 0.5261 val_accuracy 0.5324  train_f1 0.5445 val_f1 0.5878\n",
      "saved to  ./output/MLPModel01_20170406_2225_LA2_F99_C2_L100_100_100_DO0.5-1870-0.6908.hdf5\n",
      "Epoch 870, train_loss: 0.69001 val_loss 0.69075  train_accuracy 0.5265 val_accuracy 0.5323  train_f1 0.5448 val_f1 0.5878\n",
      "Epoch 871, train_loss: 0.69014 val_loss 0.69075  train_accuracy 0.5267 val_accuracy 0.5323  train_f1 0.5453 val_f1 0.5881\n",
      "Epoch 872, train_loss: 0.69028 val_loss 0.69075  train_accuracy 0.5258 val_accuracy 0.5323  train_f1 0.5446 val_f1 0.5884\n",
      "Epoch 873, train_loss: 0.69019 val_loss 0.69075  train_accuracy 0.5251 val_accuracy 0.5325  train_f1 0.5446 val_f1 0.5892\n",
      "Epoch 874, train_loss: 0.69021 val_loss 0.69075  train_accuracy 0.5257 val_accuracy 0.5325  train_f1 0.5452 val_f1 0.5896\n",
      "saved to  ./output/MLPModel01_20170406_2225_LA2_F99_C2_L100_100_100_DO0.5-1875-0.6908.hdf5\n",
      "Epoch 875, train_loss: 0.68999 val_loss 0.69075  train_accuracy 0.5274 val_accuracy 0.5327  train_f1 0.5473 val_f1 0.5897\n",
      "Epoch 876, train_loss: 0.69005 val_loss 0.69075  train_accuracy 0.5284 val_accuracy 0.5326  train_f1 0.5485 val_f1 0.5896\n",
      "Epoch 877, train_loss: 0.69011 val_loss 0.69075  train_accuracy 0.5270 val_accuracy 0.5329  train_f1 0.5472 val_f1 0.5894\n",
      "Epoch 878, train_loss: 0.69028 val_loss 0.69075  train_accuracy 0.5253 val_accuracy 0.5328  train_f1 0.5455 val_f1 0.5888\n",
      "Epoch 879, train_loss: 0.69016 val_loss 0.69075  train_accuracy 0.5257 val_accuracy 0.5330  train_f1 0.5450 val_f1 0.5892\n",
      "saved to  ./output/MLPModel01_20170406_2225_LA2_F99_C2_L100_100_100_DO0.5-1880-0.6907.hdf5\n",
      "Epoch 880, train_loss: 0.69007 val_loss 0.69075  train_accuracy 0.5280 val_accuracy 0.5329  train_f1 0.5472 val_f1 0.5892\n",
      "Epoch 881, train_loss: 0.69009 val_loss 0.69075  train_accuracy 0.5268 val_accuracy 0.5327  train_f1 0.5461 val_f1 0.5889\n",
      "Epoch 882, train_loss: 0.69010 val_loss 0.69075  train_accuracy 0.5258 val_accuracy 0.5328  train_f1 0.5448 val_f1 0.5885\n",
      "Epoch 883, train_loss: 0.69003 val_loss 0.69074  train_accuracy 0.5259 val_accuracy 0.5328  train_f1 0.5445 val_f1 0.5880\n",
      "Epoch 884, train_loss: 0.69022 val_loss 0.69075  train_accuracy 0.5258 val_accuracy 0.5327  train_f1 0.5448 val_f1 0.5887\n",
      "saved to  ./output/MLPModel01_20170406_2225_LA2_F99_C2_L100_100_100_DO0.5-1885-0.6907.hdf5\n",
      "Epoch 885, train_loss: 0.69023 val_loss 0.69075  train_accuracy 0.5255 val_accuracy 0.5328  train_f1 0.5445 val_f1 0.5887\n",
      "Epoch 886, train_loss: 0.69013 val_loss 0.69075  train_accuracy 0.5261 val_accuracy 0.5329  train_f1 0.5453 val_f1 0.5892\n",
      "Epoch 887, train_loss: 0.69024 val_loss 0.69075  train_accuracy 0.5258 val_accuracy 0.5329  train_f1 0.5454 val_f1 0.5894\n",
      "Epoch 888, train_loss: 0.69005 val_loss 0.69075  train_accuracy 0.5264 val_accuracy 0.5330  train_f1 0.5465 val_f1 0.5897\n",
      "Epoch 889, train_loss: 0.69005 val_loss 0.69074  train_accuracy 0.5268 val_accuracy 0.5330  train_f1 0.5458 val_f1 0.5895\n",
      "saved to  ./output/MLPModel01_20170406_2225_LA2_F99_C2_L100_100_100_DO0.5-1890-0.6907.hdf5\n",
      "Epoch 890, train_loss: 0.69006 val_loss 0.69074  train_accuracy 0.5279 val_accuracy 0.5329  train_f1 0.5471 val_f1 0.5888\n",
      "Epoch 891, train_loss: 0.69018 val_loss 0.69073  train_accuracy 0.5257 val_accuracy 0.5331  train_f1 0.5439 val_f1 0.5882\n",
      "Epoch 892, train_loss: 0.68995 val_loss 0.69073  train_accuracy 0.5276 val_accuracy 0.5329  train_f1 0.5460 val_f1 0.5874\n",
      "Epoch 893, train_loss: 0.69011 val_loss 0.69072  train_accuracy 0.5263 val_accuracy 0.5326  train_f1 0.5438 val_f1 0.5865\n",
      "Epoch 894, train_loss: 0.69020 val_loss 0.69072  train_accuracy 0.5260 val_accuracy 0.5329  train_f1 0.5424 val_f1 0.5857\n",
      "saved to  ./output/MLPModel01_20170406_2225_LA2_F99_C2_L100_100_100_DO0.5-1895-0.6907.hdf5\n",
      "Epoch 895, train_loss: 0.69017 val_loss 0.69072  train_accuracy 0.5275 val_accuracy 0.5331  train_f1 0.5444 val_f1 0.5858\n",
      "Epoch 896, train_loss: 0.69017 val_loss 0.69072  train_accuracy 0.5271 val_accuracy 0.5330  train_f1 0.5434 val_f1 0.5857\n",
      "Epoch 897, train_loss: 0.69023 val_loss 0.69073  train_accuracy 0.5277 val_accuracy 0.5328  train_f1 0.5441 val_f1 0.5859\n",
      "Epoch 898, train_loss: 0.69010 val_loss 0.69073  train_accuracy 0.5280 val_accuracy 0.5329  train_f1 0.5448 val_f1 0.5859\n",
      "Epoch 899, train_loss: 0.69010 val_loss 0.69073  train_accuracy 0.5275 val_accuracy 0.5329  train_f1 0.5440 val_f1 0.5856\n",
      "saved to  ./output/MLPModel01_20170406_2225_LA2_F99_C2_L100_100_100_DO0.5-1900-0.6907.hdf5\n",
      "Epoch 900, train_loss: 0.69005 val_loss 0.69073  train_accuracy 0.5258 val_accuracy 0.5329  train_f1 0.5417 val_f1 0.5855\n",
      "Epoch 901, train_loss: 0.68986 val_loss 0.69073  train_accuracy 0.5253 val_accuracy 0.5329  train_f1 0.5414 val_f1 0.5854\n",
      "Epoch 902, train_loss: 0.69013 val_loss 0.69072  train_accuracy 0.5262 val_accuracy 0.5327  train_f1 0.5426 val_f1 0.5855\n",
      "Epoch 903, train_loss: 0.69018 val_loss 0.69072  train_accuracy 0.5252 val_accuracy 0.5322  train_f1 0.5418 val_f1 0.5858\n",
      "Epoch 904, train_loss: 0.69026 val_loss 0.69073  train_accuracy 0.5256 val_accuracy 0.5326  train_f1 0.5425 val_f1 0.5872\n",
      "saved to  ./output/MLPModel01_20170406_2225_LA2_F99_C2_L100_100_100_DO0.5-1905-0.6907.hdf5\n",
      "Epoch 905, train_loss: 0.68998 val_loss 0.69073  train_accuracy 0.5265 val_accuracy 0.5328  train_f1 0.5441 val_f1 0.5882\n",
      "Epoch 906, train_loss: 0.69002 val_loss 0.69073  train_accuracy 0.5275 val_accuracy 0.5327  train_f1 0.5460 val_f1 0.5886\n",
      "Epoch 907, train_loss: 0.69023 val_loss 0.69073  train_accuracy 0.5251 val_accuracy 0.5327  train_f1 0.5437 val_f1 0.5888\n",
      "Epoch 908, train_loss: 0.69019 val_loss 0.69074  train_accuracy 0.5260 val_accuracy 0.5327  train_f1 0.5446 val_f1 0.5896\n",
      "Epoch 909, train_loss: 0.69009 val_loss 0.69073  train_accuracy 0.5284 val_accuracy 0.5328  train_f1 0.5473 val_f1 0.5900\n",
      "saved to  ./output/MLPModel01_20170406_2225_LA2_F99_C2_L100_100_100_DO0.5-1910-0.6907.hdf5\n",
      "Epoch 910, train_loss: 0.69018 val_loss 0.69073  train_accuracy 0.5252 val_accuracy 0.5330  train_f1 0.5444 val_f1 0.5907\n",
      "Epoch 911, train_loss: 0.69011 val_loss 0.69073  train_accuracy 0.5260 val_accuracy 0.5330  train_f1 0.5451 val_f1 0.5907\n",
      "Epoch 912, train_loss: 0.69021 val_loss 0.69073  train_accuracy 0.5265 val_accuracy 0.5331  train_f1 0.5461 val_f1 0.5909\n",
      "Epoch 913, train_loss: 0.69007 val_loss 0.69073  train_accuracy 0.5271 val_accuracy 0.5331  train_f1 0.5464 val_f1 0.5907\n",
      "Epoch 914, train_loss: 0.69026 val_loss 0.69073  train_accuracy 0.5237 val_accuracy 0.5330  train_f1 0.5435 val_f1 0.5906\n",
      "saved to  ./output/MLPModel01_20170406_2225_LA2_F99_C2_L100_100_100_DO0.5-1915-0.6907.hdf5\n",
      "Epoch 915, train_loss: 0.69007 val_loss 0.69073  train_accuracy 0.5262 val_accuracy 0.5330  train_f1 0.5460 val_f1 0.5909\n",
      "Epoch 916, train_loss: 0.69013 val_loss 0.69073  train_accuracy 0.5273 val_accuracy 0.5331  train_f1 0.5470 val_f1 0.5908\n",
      "Epoch 917, train_loss: 0.69010 val_loss 0.69073  train_accuracy 0.5275 val_accuracy 0.5334  train_f1 0.5466 val_f1 0.5906\n",
      "Epoch 918, train_loss: 0.69007 val_loss 0.69073  train_accuracy 0.5270 val_accuracy 0.5330  train_f1 0.5461 val_f1 0.5899\n",
      "Epoch 919, train_loss: 0.69009 val_loss 0.69073  train_accuracy 0.5267 val_accuracy 0.5331  train_f1 0.5452 val_f1 0.5898\n",
      "saved to  ./output/MLPModel01_20170406_2225_LA2_F99_C2_L100_100_100_DO0.5-1920-0.6907.hdf5\n",
      "Epoch 920, train_loss: 0.69004 val_loss 0.69073  train_accuracy 0.5268 val_accuracy 0.5331  train_f1 0.5452 val_f1 0.5894\n",
      "Epoch 921, train_loss: 0.69011 val_loss 0.69073  train_accuracy 0.5271 val_accuracy 0.5332  train_f1 0.5458 val_f1 0.5898\n",
      "Epoch 922, train_loss: 0.69006 val_loss 0.69073  train_accuracy 0.5264 val_accuracy 0.5331  train_f1 0.5451 val_f1 0.5896\n",
      "Epoch 923, train_loss: 0.68997 val_loss 0.69073  train_accuracy 0.5271 val_accuracy 0.5332  train_f1 0.5459 val_f1 0.5894\n",
      "Epoch 924, train_loss: 0.69017 val_loss 0.69072  train_accuracy 0.5269 val_accuracy 0.5332  train_f1 0.5451 val_f1 0.5894\n",
      "saved to  ./output/MLPModel01_20170406_2225_LA2_F99_C2_L100_100_100_DO0.5-1925-0.6907.hdf5\n",
      "Epoch 925, train_loss: 0.68991 val_loss 0.69072  train_accuracy 0.5278 val_accuracy 0.5333  train_f1 0.5457 val_f1 0.5887\n",
      "Epoch 926, train_loss: 0.69000 val_loss 0.69072  train_accuracy 0.5280 val_accuracy 0.5331  train_f1 0.5455 val_f1 0.5879\n",
      "Epoch 927, train_loss: 0.69012 val_loss 0.69072  train_accuracy 0.5275 val_accuracy 0.5331  train_f1 0.5450 val_f1 0.5875\n",
      "Epoch 928, train_loss: 0.69007 val_loss 0.69072  train_accuracy 0.5272 val_accuracy 0.5331  train_f1 0.5442 val_f1 0.5871\n",
      "Epoch 929, train_loss: 0.69009 val_loss 0.69071  train_accuracy 0.5271 val_accuracy 0.5330  train_f1 0.5442 val_f1 0.5871\n",
      "saved to  ./output/MLPModel01_20170406_2225_LA2_F99_C2_L100_100_100_DO0.5-1930-0.6907.hdf5\n",
      "Epoch 930, train_loss: 0.69031 val_loss 0.69071  train_accuracy 0.5258 val_accuracy 0.5335  train_f1 0.5425 val_f1 0.5882\n",
      "Epoch 931, train_loss: 0.69013 val_loss 0.69071  train_accuracy 0.5264 val_accuracy 0.5335  train_f1 0.5438 val_f1 0.5888\n",
      "Epoch 932, train_loss: 0.69008 val_loss 0.69071  train_accuracy 0.5267 val_accuracy 0.5335  train_f1 0.5440 val_f1 0.5892\n",
      "Epoch 933, train_loss: 0.69013 val_loss 0.69071  train_accuracy 0.5250 val_accuracy 0.5335  train_f1 0.5431 val_f1 0.5902\n",
      "Epoch 934, train_loss: 0.69013 val_loss 0.69072  train_accuracy 0.5263 val_accuracy 0.5329  train_f1 0.5453 val_f1 0.5907\n",
      "saved to  ./output/MLPModel01_20170406_2225_LA2_F99_C2_L100_100_100_DO0.5-1935-0.6907.hdf5\n",
      "Epoch 935, train_loss: 0.68991 val_loss 0.69071  train_accuracy 0.5267 val_accuracy 0.5332  train_f1 0.5465 val_f1 0.5912\n",
      "Epoch 936, train_loss: 0.69012 val_loss 0.69071  train_accuracy 0.5265 val_accuracy 0.5331  train_f1 0.5462 val_f1 0.5912\n",
      "Epoch 937, train_loss: 0.69017 val_loss 0.69071  train_accuracy 0.5280 val_accuracy 0.5330  train_f1 0.5471 val_f1 0.5905\n",
      "Epoch 938, train_loss: 0.68996 val_loss 0.69071  train_accuracy 0.5263 val_accuracy 0.5334  train_f1 0.5451 val_f1 0.5903\n",
      "Epoch 939, train_loss: 0.69004 val_loss 0.69071  train_accuracy 0.5263 val_accuracy 0.5335  train_f1 0.5449 val_f1 0.5898\n",
      "saved to  ./output/MLPModel01_20170406_2225_LA2_F99_C2_L100_100_100_DO0.5-1940-0.6907.hdf5\n",
      "Epoch 940, train_loss: 0.69008 val_loss 0.69071  train_accuracy 0.5268 val_accuracy 0.5334  train_f1 0.5453 val_f1 0.5896\n",
      "Epoch 941, train_loss: 0.69000 val_loss 0.69071  train_accuracy 0.5267 val_accuracy 0.5332  train_f1 0.5447 val_f1 0.5889\n",
      "Epoch 942, train_loss: 0.68998 val_loss 0.69071  train_accuracy 0.5268 val_accuracy 0.5331  train_f1 0.5453 val_f1 0.5886\n",
      "Epoch 943, train_loss: 0.68994 val_loss 0.69070  train_accuracy 0.5267 val_accuracy 0.5332  train_f1 0.5454 val_f1 0.5887\n",
      "Epoch 944, train_loss: 0.69023 val_loss 0.69070  train_accuracy 0.5264 val_accuracy 0.5332  train_f1 0.5448 val_f1 0.5890\n",
      "saved to  ./output/MLPModel01_20170406_2225_LA2_F99_C2_L100_100_100_DO0.5-1945-0.6907.hdf5\n",
      "Epoch 945, train_loss: 0.69012 val_loss 0.69070  train_accuracy 0.5260 val_accuracy 0.5332  train_f1 0.5451 val_f1 0.5895\n",
      "Epoch 946, train_loss: 0.69011 val_loss 0.69070  train_accuracy 0.5269 val_accuracy 0.5333  train_f1 0.5454 val_f1 0.5902\n",
      "Epoch 947, train_loss: 0.69012 val_loss 0.69070  train_accuracy 0.5258 val_accuracy 0.5332  train_f1 0.5448 val_f1 0.5902\n",
      "Epoch 948, train_loss: 0.69026 val_loss 0.69070  train_accuracy 0.5275 val_accuracy 0.5333  train_f1 0.5473 val_f1 0.5907\n",
      "Epoch 949, train_loss: 0.69025 val_loss 0.69071  train_accuracy 0.5260 val_accuracy 0.5334  train_f1 0.5461 val_f1 0.5912\n",
      "saved to  ./output/MLPModel01_20170406_2225_LA2_F99_C2_L100_100_100_DO0.5-1950-0.6907.hdf5\n",
      "Epoch 950, train_loss: 0.69017 val_loss 0.69071  train_accuracy 0.5271 val_accuracy 0.5333  train_f1 0.5473 val_f1 0.5916\n",
      "Epoch 951, train_loss: 0.69008 val_loss 0.69071  train_accuracy 0.5277 val_accuracy 0.5333  train_f1 0.5476 val_f1 0.5916\n",
      "Epoch 952, train_loss: 0.68992 val_loss 0.69071  train_accuracy 0.5264 val_accuracy 0.5333  train_f1 0.5469 val_f1 0.5912\n",
      "Epoch 953, train_loss: 0.68997 val_loss 0.69071  train_accuracy 0.5263 val_accuracy 0.5330  train_f1 0.5458 val_f1 0.5900\n",
      "Epoch 954, train_loss: 0.68994 val_loss 0.69070  train_accuracy 0.5263 val_accuracy 0.5331  train_f1 0.5453 val_f1 0.5896\n",
      "saved to  ./output/MLPModel01_20170406_2225_LA2_F99_C2_L100_100_100_DO0.5-1955-0.6907.hdf5\n",
      "Epoch 955, train_loss: 0.68986 val_loss 0.69070  train_accuracy 0.5272 val_accuracy 0.5334  train_f1 0.5455 val_f1 0.5889\n",
      "Epoch 956, train_loss: 0.68999 val_loss 0.69070  train_accuracy 0.5275 val_accuracy 0.5330  train_f1 0.5460 val_f1 0.5878\n",
      "Epoch 957, train_loss: 0.69014 val_loss 0.69069  train_accuracy 0.5266 val_accuracy 0.5329  train_f1 0.5441 val_f1 0.5875\n",
      "Epoch 958, train_loss: 0.68987 val_loss 0.69069  train_accuracy 0.5270 val_accuracy 0.5328  train_f1 0.5436 val_f1 0.5872\n",
      "Epoch 959, train_loss: 0.69003 val_loss 0.69069  train_accuracy 0.5257 val_accuracy 0.5327  train_f1 0.5422 val_f1 0.5868\n",
      "saved to  ./output/MLPModel01_20170406_2225_LA2_F99_C2_L100_100_100_DO0.5-1960-0.6907.hdf5\n",
      "Epoch 960, train_loss: 0.69016 val_loss 0.69069  train_accuracy 0.5259 val_accuracy 0.5326  train_f1 0.5427 val_f1 0.5865\n",
      "Epoch 961, train_loss: 0.69005 val_loss 0.69069  train_accuracy 0.5267 val_accuracy 0.5327  train_f1 0.5434 val_f1 0.5866\n",
      "Epoch 962, train_loss: 0.68991 val_loss 0.69069  train_accuracy 0.5282 val_accuracy 0.5327  train_f1 0.5445 val_f1 0.5868\n",
      "Epoch 963, train_loss: 0.69010 val_loss 0.69069  train_accuracy 0.5272 val_accuracy 0.5329  train_f1 0.5436 val_f1 0.5870\n",
      "Epoch 964, train_loss: 0.69004 val_loss 0.69069  train_accuracy 0.5264 val_accuracy 0.5331  train_f1 0.5434 val_f1 0.5874\n",
      "saved to  ./output/MLPModel01_20170406_2225_LA2_F99_C2_L100_100_100_DO0.5-1965-0.6907.hdf5\n",
      "Epoch 965, train_loss: 0.69027 val_loss 0.69070  train_accuracy 0.5255 val_accuracy 0.5333  train_f1 0.5429 val_f1 0.5883\n",
      "Epoch 966, train_loss: 0.68981 val_loss 0.69070  train_accuracy 0.5260 val_accuracy 0.5332  train_f1 0.5434 val_f1 0.5884\n",
      "Epoch 967, train_loss: 0.68993 val_loss 0.69070  train_accuracy 0.5268 val_accuracy 0.5332  train_f1 0.5437 val_f1 0.5883\n",
      "Epoch 968, train_loss: 0.68999 val_loss 0.69069  train_accuracy 0.5267 val_accuracy 0.5333  train_f1 0.5438 val_f1 0.5883\n",
      "Epoch 969, train_loss: 0.68989 val_loss 0.69069  train_accuracy 0.5276 val_accuracy 0.5334  train_f1 0.5441 val_f1 0.5882\n",
      "saved to  ./output/MLPModel01_20170406_2225_LA2_F99_C2_L100_100_100_DO0.5-1970-0.6907.hdf5\n",
      "Epoch 970, train_loss: 0.68987 val_loss 0.69069  train_accuracy 0.5285 val_accuracy 0.5335  train_f1 0.5453 val_f1 0.5879\n",
      "Epoch 971, train_loss: 0.69008 val_loss 0.69069  train_accuracy 0.5258 val_accuracy 0.5330  train_f1 0.5422 val_f1 0.5872\n",
      "Epoch 972, train_loss: 0.68990 val_loss 0.69069  train_accuracy 0.5272 val_accuracy 0.5329  train_f1 0.5428 val_f1 0.5862\n",
      "Epoch 973, train_loss: 0.68987 val_loss 0.69069  train_accuracy 0.5279 val_accuracy 0.5327  train_f1 0.5435 val_f1 0.5855\n",
      "Epoch 974, train_loss: 0.68992 val_loss 0.69069  train_accuracy 0.5277 val_accuracy 0.5326  train_f1 0.5433 val_f1 0.5850\n",
      "saved to  ./output/MLPModel01_20170406_2225_LA2_F99_C2_L100_100_100_DO0.5-1975-0.6907.hdf5\n",
      "Epoch 975, train_loss: 0.68997 val_loss 0.69069  train_accuracy 0.5277 val_accuracy 0.5326  train_f1 0.5426 val_f1 0.5848\n",
      "Epoch 976, train_loss: 0.68980 val_loss 0.69069  train_accuracy 0.5284 val_accuracy 0.5326  train_f1 0.5432 val_f1 0.5845\n",
      "Epoch 977, train_loss: 0.69006 val_loss 0.69069  train_accuracy 0.5263 val_accuracy 0.5326  train_f1 0.5412 val_f1 0.5845\n",
      "Epoch 978, train_loss: 0.69017 val_loss 0.69069  train_accuracy 0.5278 val_accuracy 0.5328  train_f1 0.5417 val_f1 0.5851\n",
      "Epoch 979, train_loss: 0.68988 val_loss 0.69069  train_accuracy 0.5255 val_accuracy 0.5329  train_f1 0.5407 val_f1 0.5855\n",
      "saved to  ./output/MLPModel01_20170406_2225_LA2_F99_C2_L100_100_100_DO0.5-1980-0.6907.hdf5\n",
      "Epoch 980, train_loss: 0.68988 val_loss 0.69069  train_accuracy 0.5273 val_accuracy 0.5328  train_f1 0.5427 val_f1 0.5854\n",
      "Epoch 981, train_loss: 0.68993 val_loss 0.69068  train_accuracy 0.5274 val_accuracy 0.5329  train_f1 0.5431 val_f1 0.5854\n",
      "Epoch 982, train_loss: 0.68999 val_loss 0.69068  train_accuracy 0.5267 val_accuracy 0.5328  train_f1 0.5418 val_f1 0.5852\n",
      "Epoch 983, train_loss: 0.69008 val_loss 0.69068  train_accuracy 0.5271 val_accuracy 0.5329  train_f1 0.5421 val_f1 0.5855\n",
      "Epoch 984, train_loss: 0.68984 val_loss 0.69068  train_accuracy 0.5271 val_accuracy 0.5329  train_f1 0.5422 val_f1 0.5855\n",
      "saved to  ./output/MLPModel01_20170406_2225_LA2_F99_C2_L100_100_100_DO0.5-1985-0.6907.hdf5\n",
      "Epoch 985, train_loss: 0.68998 val_loss 0.69068  train_accuracy 0.5261 val_accuracy 0.5327  train_f1 0.5413 val_f1 0.5855\n",
      "Epoch 986, train_loss: 0.68973 val_loss 0.69067  train_accuracy 0.5275 val_accuracy 0.5328  train_f1 0.5431 val_f1 0.5856\n",
      "Epoch 987, train_loss: 0.69001 val_loss 0.69067  train_accuracy 0.5272 val_accuracy 0.5327  train_f1 0.5431 val_f1 0.5852\n",
      "Epoch 988, train_loss: 0.69009 val_loss 0.69068  train_accuracy 0.5276 val_accuracy 0.5325  train_f1 0.5428 val_f1 0.5846\n",
      "Epoch 989, train_loss: 0.68999 val_loss 0.69068  train_accuracy 0.5260 val_accuracy 0.5326  train_f1 0.5415 val_f1 0.5848\n",
      "saved to  ./output/MLPModel01_20170406_2225_LA2_F99_C2_L100_100_100_DO0.5-1990-0.6907.hdf5\n",
      "Epoch 990, train_loss: 0.69014 val_loss 0.69068  train_accuracy 0.5274 val_accuracy 0.5326  train_f1 0.5424 val_f1 0.5853\n",
      "Epoch 991, train_loss: 0.68987 val_loss 0.69068  train_accuracy 0.5272 val_accuracy 0.5328  train_f1 0.5429 val_f1 0.5856\n",
      "Epoch 992, train_loss: 0.68972 val_loss 0.69068  train_accuracy 0.5281 val_accuracy 0.5326  train_f1 0.5442 val_f1 0.5860\n",
      "Epoch 993, train_loss: 0.68994 val_loss 0.69067  train_accuracy 0.5264 val_accuracy 0.5327  train_f1 0.5424 val_f1 0.5864\n",
      "Epoch 994, train_loss: 0.68986 val_loss 0.69067  train_accuracy 0.5274 val_accuracy 0.5328  train_f1 0.5434 val_f1 0.5864\n",
      "saved to  ./output/MLPModel01_20170406_2225_LA2_F99_C2_L100_100_100_DO0.5-1995-0.6907.hdf5\n",
      "Epoch 995, train_loss: 0.68998 val_loss 0.69067  train_accuracy 0.5274 val_accuracy 0.5326  train_f1 0.5443 val_f1 0.5861\n",
      "Epoch 996, train_loss: 0.69007 val_loss 0.69067  train_accuracy 0.5274 val_accuracy 0.5327  train_f1 0.5434 val_f1 0.5861\n",
      "Epoch 997, train_loss: 0.68997 val_loss 0.69067  train_accuracy 0.5272 val_accuracy 0.5325  train_f1 0.5434 val_f1 0.5859\n",
      "Epoch 998, train_loss: 0.68989 val_loss 0.69067  train_accuracy 0.5256 val_accuracy 0.5324  train_f1 0.5416 val_f1 0.5852\n",
      "Epoch 999, train_loss: 0.69006 val_loss 0.69067  train_accuracy 0.5272 val_accuracy 0.5322  train_f1 0.5430 val_f1 0.5851\n",
      "saved to  ./output/MLPModel01_20170406_2225_LA2_F99_C2_L100_100_100_DO0.5-2000-0.6907.hdf5\n"
     ]
    }
   ],
   "source": [
    "max_epochs = 1000\n",
    "hist = model.fit(\n",
    "    X_train.as_matrix(), Y_train, \n",
    "    validation_data=(X_dev.as_matrix(),Y_dev), \n",
    "    max_epochs=max_epochs,\n",
    "    es_patience=100, \n",
    "    es_min_delta=1e-5,\n",
    "    batch_size=1024*50)"
   ]
  },
  {
   "cell_type": "code",
   "execution_count": 34,
   "metadata": {
    "collapsed": false
   },
   "outputs": [
    {
     "data": {
      "image/png": "[encoded data removed]",
      "text/plain": [
       "<matplotlib.figure.Figure at 0x7fec576ed450>"
      ]
     },
     "metadata": {},
     "output_type": "display_data"
    },
    {
     "data": {
      "image/png": "[encoded data removed]",
      "text/plain": [
       "<matplotlib.figure.Figure at 0x7fec5218e310>"
      ]
     },
     "metadata": {},
     "output_type": "display_data"
    }
   ],
   "source": [
    "plt.plot(model.progress_callback.train_losses[-100:], label='train_loss')\n",
    "plt.plot(model.progress_callback.validation_losses[-100:], label='validation_loss')\n",
    "plt.legend()\n",
    "plt.show()\n",
    "plt.plot(model.progress_callback.train_f1s, label='train_f1')\n",
    "plt.plot(model.progress_callback.validation_f1s, label='validation_f1')\n",
    "\n",
    "plt.legend();"
   ]
  },
  {
   "cell_type": "code",
   "execution_count": 35,
   "metadata": {
    "collapsed": false
   },
   "outputs": [],
   "source": [
    "Y_train_pred = model.predict(X_train.as_matrix(), batch_size=1024)\n",
    "Y_train_pred_class = utils.prediction_to_category2(Y_train_pred)\n",
    "\n",
    "Y_dev_pred = model.predict(X_dev.as_matrix(), batch_size=1024)\n",
    "Y_dev_pred_class = utils.prediction_to_category2(Y_dev_pred)\n",
    "\n",
    "Y_test_pred = model.predict(X_test.as_matrix(), batch_size=1024)\n",
    "Y_test_pred_class = utils.prediction_to_category2(Y_test_pred)"
   ]
  },
  {
   "cell_type": "code",
   "execution_count": 13,
   "metadata": {
    "collapsed": true
   },
   "outputs": [],
   "source": [
    "# random forest model\n",
    "Y_test_pred = rf_model.predict(X_test)\n",
    "Y_test_pred_class = utils.prediction_to_category2(Y_test_pred)\n"
   ]
  },
  {
   "cell_type": "code",
   "execution_count": 14,
   "metadata": {
    "collapsed": true
   },
   "outputs": [],
   "source": [
    "# adaboost model\n",
    "Y_test_pred = adb_model.predict(X_test)\n",
    "Y_test_pred_class = utils.prediction_to_category2(Y_test_pred)\n"
   ]
  },
  {
   "cell_type": "code",
   "execution_count": 15,
   "metadata": {
    "collapsed": true
   },
   "outputs": [],
   "source": [
    "# gaussian naive bayes model\n",
    "Y_test_pred = gnb_model.predict(X_test)\n",
    "Y_test_pred_class = utils.prediction_to_category2(Y_test_pred)\n"
   ]
  },
  {
   "cell_type": "code",
   "execution_count": 16,
   "metadata": {
    "collapsed": false
   },
   "outputs": [
    {
     "data": {
      "text/plain": [
       "(255369,)"
      ]
     },
     "execution_count": 16,
     "metadata": {},
     "output_type": "execute_result"
    }
   ],
   "source": [
    "Y_test_pred.shape"
   ]
  },
  {
   "cell_type": "code",
   "execution_count": 36,
   "metadata": {
    "collapsed": false
   },
   "outputs": [
    {
     "name": "stdout",
     "output_type": "stream",
     "text": [
      "(312960,)\n"
     ]
    }
   ],
   "source": [
    "Y_test_pred = Y_test_pred.reshape(Y_test_pred.shape[0])\n",
    "Y_test_pred_class = Y_test_pred_class.reshape(Y_test_pred_class.shape[0])\n",
    "print (Y_test_pred.shape)"
   ]
  },
  {
   "cell_type": "code",
   "execution_count": 37,
   "metadata": {
    "collapsed": false
   },
   "outputs": [
    {
     "data": {
      "text/plain": [
       "<matplotlib.legend.Legend at 0x7fec5263aa50>"
      ]
     },
     "execution_count": 37,
     "metadata": {},
     "output_type": "execute_result"
    },
    {
     "data": {
      "image/png": "[encoded data removed]",
      "text/plain": [
       "<matplotlib.figure.Figure at 0x7fec52002e10>"
      ]
     },
     "metadata": {},
     "output_type": "display_data"
    }
   ],
   "source": [
    "plt.figure(figsize=(8,4))\n",
    "plt.hist(Y_train_pred, alpha=0.5, bins=30, normed=True, label='train')\n",
    "plt.hist(Y_dev_pred, alpha=0.5, bins=30, normed=True, label='dev')\n",
    "plt.hist(Y_test_pred, alpha=0.5, bins=30, normed=True, label='test')\n",
    "\n",
    "plt.hist(Y_train_pred_class, alpha=0.3, normed=True)\n",
    "plt.hist(Y_dev_pred_class, alpha=0.3, normed=True)\n",
    "plt.hist(Y_test_pred_class, alpha=0.3, normed=True)\n",
    "plt.legend()"
   ]
  },
  {
   "cell_type": "code",
   "execution_count": 38,
   "metadata": {
    "collapsed": false
   },
   "outputs": [
    {
     "name": "stdout",
     "output_type": "stream",
     "text": [
      "train: f1-score: 0.525, mean future return: 0.243 bps\n",
      "dev: f1-score: 0.526, mean future return: 8.370 bps\n",
      "test: f1-score: 0.508, mean future return: 0.034 bps\n"
     ]
    },
    {
     "data": {
      "image/png": "[encoded data removed]",
      "text/plain": [
       "<matplotlib.figure.Figure at 0x7fec51cf7fd0>"
      ]
     },
     "metadata": {},
     "output_type": "display_data"
    },
    {
     "data": {
      "text/plain": [
       "<matplotlib.axes._subplots.AxesSubplot at 0x7fec53414190>"
      ]
     },
     "execution_count": 38,
     "metadata": {},
     "output_type": "execute_result"
    },
    {
     "data": {
      "image/png": "[encoded data removed]",
      "text/plain": [
       "<matplotlib.figure.Figure at 0x7fec5341e710>"
      ]
     },
     "metadata": {},
     "output_type": "display_data"
    }
   ],
   "source": [
    "performance_report(\"train\", prices_train, lookahead, Y_train, Y_train_pred_class)\n",
    "performance_report(\"dev\",  prices_dev,  lookahead, Y_dev, Y_dev_pred_class)\n",
    "performance_report(\"test\",  prices_test,  lookahead, Y_test, Y_test_pred_class)\n",
    "\n",
    "train_curve = precision_recall_curve(Y_train, Y_train_pred)\n",
    "test_curve = precision_recall_curve(Y_test, Y_test_pred)\n",
    "\n",
    "plt.plot(train_curve[0], train_curve[1], label='train')\n",
    "plt.plot(test_curve[0], test_curve[1], label='test')\n",
    "plt.legend()\n",
    "plt.show()\n",
    "sns.heatmap(confusion_matrix(Y_test, Y_test_pred_class))"
   ]
  },
  {
   "cell_type": "markdown",
   "metadata": {},
   "source": [
    "dropout = 0  , lookahead = 1\n",
    "\n",
    "| width | layers    | epochs | train | test |\n",
    "| -----: | ---- :     | ---:    | ---:   | ---:  |\n",
    "| 1     | 1         |  100   | .57   | .58  |\n",
    "| 1     | 100       |  100   | .58   | .59  |\n",
    "| 1     | 100       |  500   | .57   | .59  |\n",
    "| 1     | 100 x 100 |  100 | .58   | .59  |\n",
    "| 10    | 1         |  100 |  .57  | .59  |\n",
    "| 10    | 10        |  100 |  .57  | .58  |\n",
    "| 10    | 100       |  100 |  .58 | .58   |\n",
    "| 10    | 100 x 100 |  100 |  .60 | .58   |\n",
    "| 10    | 100 x 100 x 100 |  100 |  .62 | .57   |\n",
    "| 10    | 100 x 100 x 100 x 100 |  100 |  .63 | .56   |\n",
    "| 20    | 1 |  100 |  .56 | .58  |\n",
    "| 20    | 100 |  100 | .58  | .58  |\n",
    "| 40    | 100 |  500 x 500 x 500 | .60  | .61  |\n",
    "\n",
    "Dropout = 0.1, lookahead = 1 \n",
    "\n",
    "| width | layers    | epochs | train | test |\n",
    "| -----: | ---- :     | ---:    | ---:   | ---:  |\n",
    "| 10    | 100 x 100 x 100 x 100 |  100 | .60  | .58  |\n",
    "| 10    | 100 x 100 x 100 x 100 |  200 | .62  | .58  |\n",
    "\n",
    "\n",
    "Dropout = 0.2, lookahead = 1 \n",
    "\n",
    "| width | layers    | epochs | train | test |\n",
    "| -----: | ---- :     | ---:    | ---:   | ---:  |\n",
    "| 10    | 100 x 100 x 100 x 100 |  100 | .59 | .59  |\n",
    "| 10    | 100 x 100 x 100 x 100 |  200 | .60 | .58  |\n",
    "\n",
    "Dropout = 0.5, lookeahead = 1\n",
    "\n",
    "| width | layers    | epochs | train | test |\n",
    "| -----: | ---- :     | ---:    | ---:   | ---:  |\n",
    "| 60    | 500 x 500 x 500 x 500 |  200 | .64 | .62|\n",
    "| 60    | 100 x 100 x 100 x 100 |  200 | .64 | .65\n",
    "\n"
   ]
  },
  {
   "cell_type": "markdown",
   "metadata": {
    "collapsed": false
   },
   "source": [
    "\n",
    "- .681 / .57 100^3 / LA:1, W:60\n",
    "- .679 / .569 100^4\n"
   ]
  },
  {
   "cell_type": "code",
   "execution_count": 40,
   "metadata": {
    "collapsed": false
   },
   "outputs": [
    {
     "name": "stdout",
     "output_type": "stream",
     "text": [
      "312960\n",
      "312960\n",
      "312960\n",
      "312960\n"
     ]
    }
   ],
   "source": [
    "print( len(Y_test) )\n",
    "print( len(Y_test_pred_class) )\n",
    "print( len(prices_test))\n",
    "print( len(utils.future_return(prices_test, 1) ))"
   ]
  },
  {
   "cell_type": "markdown",
   "metadata": {},
   "source": [
    "idea: look at mean future return on *perfect* 1min prediction. (or on last minute direction)\n"
   ]
  },
  {
   "cell_type": "code",
   "execution_count": 39,
   "metadata": {
    "collapsed": false
   },
   "outputs": [
    {
     "data": {
      "text/plain": [
       "141.42135623730951"
      ]
     },
     "execution_count": 39,
     "metadata": {},
     "output_type": "execute_result"
    }
   ],
   "source": [
    "np.sqrt(20000)"
   ]
  },
  {
   "cell_type": "code",
   "execution_count": 41,
   "metadata": {
    "collapsed": false
   },
   "outputs": [
    {
     "data": {
      "text/plain": [
       "[<matplotlib.lines.Line2D at 0x7fec5403b850>]"
      ]
     },
     "execution_count": 41,
     "metadata": {},
     "output_type": "execute_result"
    },
    {
     "data": {
      "image/png": "[encoded data removed]",
      "text/plain": [
       "<matplotlib.figure.Figure at 0x7fec4067ddd0>"
      ]
     },
     "metadata": {},
     "output_type": "display_data"
    }
   ],
   "source": [
    "i_s = []\n",
    "returns = (prices_test-prices_test.mean()).pct_change()\n",
    "mean_rets = []\n",
    "for a in np.arange(1,15,.1):\n",
    "    i = int(a*a)\n",
    "    test_returns = utils.future_return(prices_test, i).fillna(0).values\n",
    "    test_returns = test_returns - test_returns.mean()\n",
    "\n",
    "    # just use sign of latest return as predictor\n",
    "    idx = np.sign(returns)\n",
    "\n",
    "    mean_ret = (test_returns * idx).mean() * 1e4\n",
    "    mean_rets.append(mean_ret)\n",
    "    i_s.append(i) #*24))\n",
    "plt.plot(i_s, mean_rets,'.-')"
   ]
  },
  {
   "cell_type": "code",
   "execution_count": 43,
   "metadata": {
    "collapsed": false
   },
   "outputs": [
    {
     "data": {
      "text/plain": [
       "[<matplotlib.lines.Line2D at 0x7fec54459410>]"
      ]
     },
     "execution_count": 43,
     "metadata": {},
     "output_type": "execute_result"
    },
    {
     "data": {
      "image/png": "[encoded data removed]",
      "text/plain": [
       "<matplotlib.figure.Figure at 0x7fec544cde90>"
      ]
     },
     "metadata": {},
     "output_type": "display_data"
    }
   ],
   "source": [
    "i_s = []\n",
    "mean_rets = []\n",
    "for a in np.arange(1,15,.1):\n",
    "    i = int(a*a)\n",
    "    test_returns = utils.future_return(prices_test, i).fillna(0).values\n",
    "    test_returns = test_returns - test_returns.mean()\n",
    "\n",
    "    idx = np.zeros(len(test_returns))\n",
    "    idx[Y_test_pred_class == 0] = -1\n",
    "    idx[Y_test_pred_class == 1] = 1\n",
    "\n",
    "    mean_ret = (test_returns * idx).mean() * 1e4\n",
    "    mean_rets.append(mean_ret)\n",
    "    i_s.append(i) #*24))\n",
    "plt.plot(i_s, mean_rets,'.-')"
   ]
  },
  {
   "cell_type": "code",
   "execution_count": 44,
   "metadata": {
    "collapsed": false
   },
   "outputs": [
    {
     "data": {
      "text/plain": [
       "<matplotlib.axes._subplots.AxesSubplot at 0x7fec5376be10>"
      ]
     },
     "execution_count": 44,
     "metadata": {},
     "output_type": "execute_result"
    },
    {
     "data": {
      "image/png": "[encoded data removed]",
      "text/plain": [
       "<matplotlib.figure.Figure at 0x7fec53b5bcd0>"
      ]
     },
     "metadata": {},
     "output_type": "display_data"
    }
   ],
   "source": [
    "ser = pd.Series(mean_rets, index = pd.DatetimeIndex(np.array(i_s)* 60e9))\n",
    "ser.plot()\n",
    "#plt.plot(i_s, mean_rets,'.-')"
   ]
  },
  {
   "cell_type": "code",
   "execution_count": 45,
   "metadata": {
    "collapsed": false
   },
   "outputs": [
    {
     "data": {
      "text/plain": [
       "<matplotlib.axes._subplots.AxesSubplot at 0x7fec539f1a50>"
      ]
     },
     "execution_count": 45,
     "metadata": {},
     "output_type": "execute_result"
    },
    {
     "data": {
      "image/png": "[encoded data removed]",
      "text/plain": [
       "<matplotlib.figure.Figure at 0x7fec526549d0>"
      ]
     },
     "metadata": {},
     "output_type": "display_data"
    }
   ],
   "source": [
    "prices_test.plot()"
   ]
  },
  {
   "cell_type": "code",
   "execution_count": null,
   "metadata": {
    "collapsed": false
   },
   "outputs": [],
   "source": [
    "n_trade = 1000\n"
   ]
  },
  {
   "cell_type": "code",
   "execution_count": null,
   "metadata": {
    "collapsed": false
   },
   "outputs": [],
   "source": [
    "18000 / (60*24)"
   ]
  },
  {
   "cell_type": "code",
   "execution_count": 46,
   "metadata": {
    "collapsed": false
   },
   "outputs": [
    {
     "name": "stdout",
     "output_type": "stream",
     "text": [
      "test: f1-score: 0.508, mean future return: 0.034 bps\n"
     ]
    },
    {
     "data": {
      "image/png": "[encoded data removed]",
      "text/plain": [
       "<matplotlib.figure.Figure at 0x7fec543a8610>"
      ]
     },
     "metadata": {},
     "output_type": "display_data"
    }
   ],
   "source": [
    "\n",
    "# load test dataset\n",
    "X_test, Y_test, prices_test = datasets.load(datasets.filename(dataset_name, lookahead, window, sym, 2012))\n",
    "Y_test_pred = model.predict(X_test.as_matrix(), batch_size=1024)\n",
    "\n",
    "performance_report(\"test\",  prices_test,  lookahead, Y_test, Y_test_pred, cum_return_plot=True)\n",
    "\n",
    "\n",
    "\n",
    "# TODO: demean fut_return.."
   ]
  },
  {
   "cell_type": "code",
   "execution_count": 31,
   "metadata": {
    "collapsed": false
   },
   "outputs": [
    {
     "ename": "NameError",
     "evalue": "name 'rf_model' is not defined",
     "output_type": "error",
     "traceback": [
      "\u001b[0;31m---------------------------------------------------------------------------\u001b[0m",
      "\u001b[0;31mNameError\u001b[0m                                 Traceback (most recent call last)",
      "\u001b[0;32m<ipython-input-31-97a00536d32f>\u001b[0m in \u001b[0;36m<module>\u001b[0;34m()\u001b[0m\n\u001b[1;32m      4\u001b[0m \u001b[0;31m#X_test, Y_test, prices_test, fut_return_test = datasets.prepare_dataset2(df=datasets.random_ohlc(300000),lookahead=1, window=25)\u001b[0m\u001b[0;34m\u001b[0m\u001b[0;34m\u001b[0m\u001b[0m\n\u001b[1;32m      5\u001b[0m \u001b[0;34m\u001b[0m\u001b[0m\n\u001b[0;32m----> 6\u001b[0;31m \u001b[0mperformance_report\u001b[0m\u001b[0;34m(\u001b[0m\u001b[0;34m\"RF model\"\u001b[0m\u001b[0;34m,\u001b[0m  \u001b[0mprices_test\u001b[0m\u001b[0;34m,\u001b[0m  \u001b[0mlookahead\u001b[0m\u001b[0;34m,\u001b[0m \u001b[0mY_test\u001b[0m\u001b[0;34m,\u001b[0m \u001b[0mrf_model\u001b[0m\u001b[0;34m.\u001b[0m\u001b[0mpredict\u001b[0m\u001b[0;34m(\u001b[0m\u001b[0mX_test\u001b[0m\u001b[0;34m)\u001b[0m\u001b[0;34m,\u001b[0m \u001b[0mcum_return_plot\u001b[0m\u001b[0;34m=\u001b[0m\u001b[0mTrue\u001b[0m\u001b[0;34m)\u001b[0m\u001b[0;34m\u001b[0m\u001b[0m\n\u001b[0m\u001b[1;32m      7\u001b[0m \u001b[0;34m\u001b[0m\u001b[0m\n\u001b[1;32m      8\u001b[0m \u001b[0;34m\u001b[0m\u001b[0m\n",
      "\u001b[0;31mNameError\u001b[0m: name 'rf_model' is not defined"
     ]
    }
   ],
   "source": [
    "# random forest model\n",
    "# load test dataset\n",
    "X_test, Y_test, prices_test = datasets.load(datasets.filename(dataset_name, lookahead, window, sym, 2014))\n",
    "#X_test, Y_test, prices_test, fut_return_test = datasets.prepare_dataset2(df=datasets.random_ohlc(300000),lookahead=1, window=25)\n",
    "\n",
    "performance_report(\"RF model\",  prices_test,  lookahead, Y_test, rf_model.predict(X_test), cum_return_plot=True)\n",
    "\n",
    "\n"
   ]
  },
  {
   "cell_type": "code",
   "execution_count": 13,
   "metadata": {
    "collapsed": true
   },
   "outputs": [
    {
     "name": "stdout",
     "output_type": "stream",
     "text": [
      "------------------------------------------------------\n",
      "test\n",
      "f1-score: 0.516, mean future return: 0.020 bps\n"
     ]
    },
    {
     "data": {
      "text/plain": [
       "<matplotlib.axes._subplots.AxesSubplot at 0x1260f3f10>"
      ]
     },
     "execution_count": 13,
     "metadata": {},
     "output_type": "execute_result"
    },
    {
     "data": {
      "image/png": "[encoded data removed]",
      "text/plain": [
       "<matplotlib.figure.Figure at 0x12714bcd0>"
      ]
     },
     "metadata": {},
     "output_type": "display_data"
    }
   ],
   "source": [
    "# adaboost model\n",
    "# load test dataset\n",
    "X_test, Y_test, prices_test, fut_return_test = datasets.load(datasets.filename(dataset_name, lookahead, window, sym, 2014))\n",
    "#X_test, Y_test, prices_test, fut_return_test = datasets.prepare_dataset2(df=datasets.random_ohlc(300000),lookahead=1, window=25)\n",
    "Y_test_pred = adb_model.predict(X_test)\n",
    "Y_test_pred_class = utils.prediction_to_category2(Y_test_pred)\n",
    "performance_report(\"test\",  prices_test,  lookahead, Y_test, Y_test_pred_class)\n",
    "(fut_return_test.ix[Y_test_pred_class[:]]+1).cumprod().plot()\n"
   ]
  },
  {
   "cell_type": "code",
   "execution_count": null,
   "metadata": {
    "collapsed": false
   },
   "outputs": [],
   "source": [
    "len(fut_return_test)"
   ]
  },
  {
   "cell_type": "code",
   "execution_count": null,
   "metadata": {
    "collapsed": true
   },
   "outputs": [],
   "source": []
  }
 ],
 "metadata": {
  "kernelspec": {
   "display_name": "Python 2",
   "language": "python",
   "name": "python2"
  },
  "language_info": {
   "codemirror_mode": {
    "name": "ipython",
    "version": 2
   },
   "file_extension": ".py",
   "mimetype": "text/x-python",
   "name": "python",
   "nbconvert_exporter": "python",
   "pygments_lexer": "ipython2",
   "version": "2.7.13"
  }
 },
 "nbformat": 4,
 "nbformat_minor": 1
}
