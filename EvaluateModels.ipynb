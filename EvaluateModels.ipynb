{
 "cells": [
  {
   "cell_type": "code",
   "execution_count": 1,
   "metadata": {
    "collapsed": false
   },
   "outputs": [
    {
     "name": "stderr",
     "output_type": "stream",
     "text": [
      "Using TensorFlow backend.\n"
     ]
    }
   ],
   "source": [
    "from __future__ import division, print_function\n",
    "import numpy as np\n",
    "import pandas as pd\n",
    "import utils\n",
    "from model01 import MLPModel01\n",
    "from preprocess import prepare_data\n",
    "from metrics import performance_report\n",
    "\n",
    "import matplotlib.pyplot as plt\n",
    "import seaborn as sns\n",
    "%matplotlib inline\n",
    "\n",
    "import keras\n",
    "import autoreload"
   ]
  },
  {
   "cell_type": "code",
   "execution_count": 2,
   "metadata": {
    "collapsed": true
   },
   "outputs": [],
   "source": [
    "from sklearn.metrics import classification_report, f1_score, accuracy_score, precision_recall_curve, confusion_matrix"
   ]
  },
  {
   "cell_type": "code",
   "execution_count": 3,
   "metadata": {
    "collapsed": false
   },
   "outputs": [
    {
     "name": "stderr",
     "output_type": "stream",
     "text": [
      "ERROR:root:Line magic function `%autoreload` not found.\n"
     ]
    }
   ],
   "source": [
    "%ar"
   ]
  },
  {
   "cell_type": "code",
   "execution_count": 3,
   "metadata": {
    "collapsed": true
   },
   "outputs": [],
   "source": [
    "lookahead = 1\n",
    "n_categories = 2\n",
    "layer_widths = [50, 50,50,50]\n",
    "dropout = 0\n",
    "window = 10"
   ]
  },
  {
   "cell_type": "code",
   "execution_count": 4,
   "metadata": {
    "collapsed": true
   },
   "outputs": [],
   "source": [
    "X_train, Y_train, prices_train = prepare_data(utils.load_1minute_fx_bars(\"USDJPY\", 2009), lookahead=lookahead, window=window)"
   ]
  },
  {
   "cell_type": "code",
   "execution_count": 5,
   "metadata": {
    "collapsed": false
   },
   "outputs": [
    {
     "name": "stdout",
     "output_type": "stream",
     "text": [
      "(343456, 43)\n",
      "n_features: 43\n"
     ]
    }
   ],
   "source": [
    "X_test, Y_test, prices_test = prepare_data(utils.load_1minute_fx_bars(\"USDJPY\", 2010), lookahead=lookahead, window=window)\n",
    "\n",
    "print (X_train.shape)\n",
    "n_features = X_train.shape[1]\n",
    "print (\"n_features:\", n_features)"
   ]
  },
  {
   "cell_type": "code",
   "execution_count": 6,
   "metadata": {
    "collapsed": false
   },
   "outputs": [],
   "source": [
    "# from sklearn.linear_model import SGDClassifier\n",
    "# lin_model = SGDClassifier(loss='hinge', penalty='l2', n_iter=200, n_jobs=10)\n",
    "# lin_model.fit(X_train.as_matrix(), Y_train)\n",
    "\n",
    "# print( \"train f1\", f1_score(Y_train, lin_model.predict(X_train), average='weighted') )\n",
    "# print( \"test f1\", f1_score(Y_test, lin_model.predict(X_test), average='weighted'))"
   ]
  },
  {
   "cell_type": "code",
   "execution_count": null,
   "metadata": {
    "collapsed": false
   },
   "outputs": [],
   "source": [
    "# from sklearn.linear_model import LogisticRegression\n",
    "# lr_model = LogisticRegression(n_jobs=10)\n",
    "# lr_model.fit(X_train.as_matrix(), Y_train)\n",
    "\n",
    "# print( \"train f1\", f1_score(Y_train, lr_model.predict(X_train), average='weighted') )\n",
    "# print( \"test f1\", f1_score(Y_test, lr_model.predict(X_test), average='weighted'))"
   ]
  },
  {
   "cell_type": "code",
   "execution_count": 7,
   "metadata": {
    "collapsed": false
   },
   "outputs": [],
   "source": [
    "# from sklearn.ensemble import RandomForestClassifier\n",
    "# rf_model = RandomForestClassifier(max_depth=5, n_jobs=12)\n",
    "# rf_model.fit(X_train.as_matrix(), Y_train)\n",
    "\n",
    "# print( \"train f1\", f1_score(Y_train, rf_model.predict(X_train), average='weighted') )\n",
    "# print( \"test f1\", f1_score(Y_test, rf_model.predict(X_test), average='weighted'))"
   ]
  },
  {
   "cell_type": "code",
   "execution_count": 8,
   "metadata": {
    "collapsed": false
   },
   "outputs": [
    {
     "name": "stdout",
     "output_type": "stream",
     "text": [
      "compilation took: 0.2 seconds\n",
      "Model id:  MLPModel01_LA1_F43_C2_L50_50_50_50_DO0\n",
      "____________________________________________________________________________________________________\n",
      "Layer (type)                     Output Shape          Param #     Connected to                     \n",
      "====================================================================================================\n",
      "dense_1 (Dense)                  (None, 50)            2200        dense_input_1[0][0]              \n",
      "____________________________________________________________________________________________________\n",
      "dense_2 (Dense)                  (None, 50)            2550        dense_1[0][0]                    \n",
      "____________________________________________________________________________________________________\n",
      "dense_3 (Dense)                  (None, 50)            2550        dense_2[0][0]                    \n",
      "____________________________________________________________________________________________________\n",
      "dense_4 (Dense)                  (None, 50)            2550        dense_3[0][0]                    \n",
      "____________________________________________________________________________________________________\n",
      "dense_5 (Dense)                  (None, 1)             51          dense_4[0][0]                    \n",
      "====================================================================================================\n",
      "Total params: 9,901\n",
      "Trainable params: 9,901\n",
      "Non-trainable params: 0\n",
      "____________________________________________________________________________________________________\n",
      "None\n"
     ]
    }
   ],
   "source": [
    "model = MLPModel01(lookahead, n_features, n_categories, layer_widths, dropout)\n",
    "print (model.summary())"
   ]
  },
  {
   "cell_type": "code",
   "execution_count": 9,
   "metadata": {
    "collapsed": false,
    "scrolled": false
   },
   "outputs": [
    {
     "name": "stdout",
     "output_type": "stream",
     "text": [
      "Epoch 0, train_loss: 0.685 validation_loss 0.681\n",
      "Epoch 1, train_loss: 0.679 validation_loss 0.679\n",
      "Epoch 2, train_loss: 0.678 validation_loss 0.680\n",
      "Epoch 3, train_loss: 0.677 validation_loss 0.683\n",
      "Epoch 4, train_loss: 0.676 validation_loss 0.682\n",
      "saved to  saves/model-MLPModel01_LA1_F43_C2_L50_50_50_50_DO0-5.h5\n",
      "Epoch 5, train_loss: 0.675 validation_loss 0.682\n",
      "Epoch 6, train_loss: 0.675 validation_loss 0.681\n",
      "Epoch 7, train_loss: 0.674 validation_loss 0.683\n",
      "Epoch 8, train_loss: 0.673 validation_loss 0.685\n",
      "Epoch 9, train_loss: 0.673 validation_loss 0.685\n",
      "saved to  saves/model-MLPModel01_LA1_F43_C2_L50_50_50_50_DO0-10.h5\n"
     ]
    }
   ],
   "source": [
    "n_epochs = 10\n",
    "hist = model.fit(X_train.as_matrix(), Y_train, n_epochs=n_epochs)"
   ]
  },
  {
   "cell_type": "code",
   "execution_count": 10,
   "metadata": {
    "collapsed": false
   },
   "outputs": [
    {
     "data": {
      "image/png": "[encoded data removed]",
      "text/plain": [
       "<matplotlib.figure.Figure at 0x11a1bce50>"
      ]
     },
     "metadata": {},
     "output_type": "display_data"
    }
   ],
   "source": [
    "plt.plot(hist.train_losses, label='train')\n",
    "plt.plot(hist.validation_losses, label='validation')\n",
    "plt.legend();"
   ]
  },
  {
   "cell_type": "code",
   "execution_count": 11,
   "metadata": {
    "collapsed": false
   },
   "outputs": [],
   "source": [
    "Y_train_pred = model.predict(X_train.as_matrix(), batch_size=1024)\n",
    "Y_train_pred_class = utils.prediction_to_category2(Y_train_pred)\n",
    "Y_test_pred = model.predict(X_test.as_matrix(), batch_size=1024)\n",
    "Y_test_pred_class = utils.prediction_to_category2(Y_test_pred)"
   ]
  },
  {
   "cell_type": "code",
   "execution_count": 12,
   "metadata": {
    "collapsed": false
   },
   "outputs": [
    {
     "data": {
      "text/plain": [
       "<matplotlib.legend.Legend at 0x118675c10>"
      ]
     },
     "execution_count": 12,
     "metadata": {},
     "output_type": "execute_result"
    },
    {
     "data": {
      "image/png": "[encoded data removed]",
      "text/plain": [
       "<matplotlib.figure.Figure at 0x11ab17e90>"
      ]
     },
     "metadata": {},
     "output_type": "display_data"
    }
   ],
   "source": [
    "plt.figure(figsize=(8,4))\n",
    "plt.hist(Y_train_pred, alpha=0.5, bins=30, normed=True, label='train')\n",
    "plt.hist(Y_test_pred, alpha=0.5, bins=30, normed=True, label='test')\n",
    "plt.hist(Y_train_pred_class, alpha=0.3, normed=True)\n",
    "plt.hist(Y_test_pred_class, alpha=0.3, normed=True)\n",
    "plt.legend()"
   ]
  },
  {
   "cell_type": "code",
   "execution_count": 15,
   "metadata": {
    "collapsed": false
   },
   "outputs": [
    {
     "name": "stdout",
     "output_type": "stream",
     "text": [
      "------------------------------------------------------\n",
      "train\n",
      "f1-score: 0.585\n",
      "             precision    recall  f1-score   support\n",
      "\n",
      "          0       0.60      0.53      0.56    173013\n",
      "          1       0.57      0.65      0.61    170443\n",
      "\n",
      "avg / total       0.59      0.59      0.59    343456\n",
      "\n",
      "------------------------------------------------------\n",
      "test\n",
      "f1-score: 0.580\n",
      "             precision    recall  f1-score   support\n",
      "\n",
      "          0       0.58      0.51      0.54    159290\n",
      "          1       0.59      0.65      0.61    169546\n",
      "\n",
      "avg / total       0.58      0.58      0.58    328836\n",
      "\n"
     ]
    },
    {
     "data": {
      "image/png": "[encoded data removed]",
      "text/plain": [
       "<matplotlib.figure.Figure at 0x11aad3ad0>"
      ]
     },
     "metadata": {},
     "output_type": "display_data"
    },
    {
     "data": {
      "text/plain": [
       "<matplotlib.axes._subplots.AxesSubplot at 0x11a8a44d0>"
      ]
     },
     "execution_count": 15,
     "metadata": {},
     "output_type": "execute_result"
    },
    {
     "data": {
      "image/png": "[encoded data removed]",
      "text/plain": [
       "<matplotlib.figure.Figure at 0x11a8b9490>"
      ]
     },
     "metadata": {},
     "output_type": "display_data"
    }
   ],
   "source": [
    "performance_report(\"train\", prices_train, Y_train, Y_train_pred_class)\n",
    "performance_report(\"test\",  prices_test,  Y_test, Y_test_pred_class)\n",
    "\n",
    "train_curve = precision_recall_curve(Y_train, Y_train_pred)\n",
    "test_curve = precision_recall_curve(Y_test, Y_test_pred)\n",
    "\n",
    "plt.plot(train_curve[0], train_curve[1], label='train')\n",
    "plt.plot(test_curve[0], test_curve[1], label='test')\n",
    "plt.legend()\n",
    "plt.show()\n",
    "sns.heatmap(confusion_matrix(Y_test, Y_test_pred_class))"
   ]
  },
  {
   "cell_type": "markdown",
   "metadata": {},
   "source": [
    "dropout = 0  , lookahead = 1\n",
    "\n",
    "| width | layers    | epochs | train | test |\n",
    "| -----: | ---- :     | ---:    | ---:   | ---:  |\n",
    "| 1     | 1         |  100   | .57   | .58  |\n",
    "| 1     | 100       |  100   | .58   | .59  |\n",
    "| 1     | 100       |  500   | .57   | .59  |\n",
    "| 1     | 100 x 100 |  100 | .58   | .59  |\n",
    "| 10    | 1         |  100 |  .57  | .59  |\n",
    "| 10    | 10        |  100 |  .57  | .58  |\n",
    "| 10    | 100       |  100 |  .58 | .58   |\n",
    "| 10    | 100 x 100 |  100 |  .60 | .58   |\n",
    "| 10    | 100 x 100 x 100 |  100 |  .62 | .57   |\n",
    "| 10    | 100 x 100 x 100 x 100 |  100 |  .63 | .56   |\n",
    "| 20    | 1 |  100 |  .56 | .58  |\n",
    "| 20    | 100 |  100 | .58  | .58  |\n",
    "| 40    | 100 |  500 x 500 x 500 | .60  | .61  |\n",
    "\n",
    "Dropout = 0.1, lookahead = 1 \n",
    "\n",
    "| width | layers    | epochs | train | test |\n",
    "| -----: | ---- :     | ---:    | ---:   | ---:  |\n",
    "| 10    | 100 x 100 x 100 x 100 |  100 | .60  | .58  |\n",
    "| 10    | 100 x 100 x 100 x 100 |  200 | .62  | .58  |\n",
    "\n",
    "\n",
    "Dropout = 0.2, lookahead = 1 \n",
    "\n",
    "| width | layers    | epochs | train | test |\n",
    "| -----: | ---- :     | ---:    | ---:   | ---:  |\n",
    "| 10    | 100 x 100 x 100 x 100 |  100 | .59 | .59  |\n",
    "| 10    | 100 x 100 x 100 x 100 |  200 | .60 | .58  |\n",
    "\n",
    "Dropout = 0.5, lookeahead = 1\n",
    "\n",
    "| width | layers    | epochs | train | test |\n",
    "| -----: | ---- :     | ---:    | ---:   | ---:  |\n",
    "| 60    | 500 x 500 x 500 x 500 |  200 | .64 | .62|\n",
    "| 60    | 100 x 100 x 100 x 100 |  200 | .64 | .65\n",
    "\n"
   ]
  },
  {
   "cell_type": "code",
   "execution_count": null,
   "metadata": {
    "collapsed": false
   },
   "outputs": [],
   "source": []
  },
  {
   "cell_type": "code",
   "execution_count": null,
   "metadata": {
    "collapsed": false
   },
   "outputs": [],
   "source": [
    "print( len(Y_test) )\n",
    "print( len(Y_test_pred_class) )\n",
    "print( len(prices_test))\n",
    "print( len(utils.future_return(prices_test, 1) ))"
   ]
  },
  {
   "cell_type": "code",
   "execution_count": null,
   "metadata": {
    "collapsed": false
   },
   "outputs": [],
   "source": [
    "i_s = []\n",
    "mean_rets = []\n",
    "for i in range(1,500,1):\n",
    "    test_returns = utils.future_return(prices_test, i).fillna(0).values\n",
    "    test_returns = test_returns - test_returns.mean()\n",
    "\n",
    "    idx = np.zeros(len(test_returns))\n",
    "    idx[Y_test_pred_class[:,0] == 0] = -1\n",
    "    idx[Y_test_pred_class[:,0] == 1] = 1\n",
    "\n",
    "    mean_ret = (test_returns * idx).mean() * 1e4\n",
    "    mean_rets.append(mean_ret)\n",
    "    i_s.append(i/60) #*24))\n",
    "plt.plot(i_s, mean_rets,'.-')"
   ]
  },
  {
   "cell_type": "code",
   "execution_count": null,
   "metadata": {
    "collapsed": false
   },
   "outputs": [],
   "source": [
    "prices_test.plot()"
   ]
  },
  {
   "cell_type": "code",
   "execution_count": null,
   "metadata": {
    "collapsed": false
   },
   "outputs": [],
   "source": [
    "n_trade = 1000\n"
   ]
  },
  {
   "cell_type": "code",
   "execution_count": null,
   "metadata": {
    "collapsed": false
   },
   "outputs": [],
   "source": [
    "18000 / (60*24)"
   ]
  },
  {
   "cell_type": "code",
   "execution_count": null,
   "metadata": {
    "collapsed": true
   },
   "outputs": [],
   "source": []
  }
 ],
 "metadata": {
  "kernelspec": {
   "display_name": "Python 2",
   "language": "python",
   "name": "python2"
  },
  "language_info": {
   "codemirror_mode": {
    "name": "ipython",
    "version": 2
   },
   "file_extension": ".py",
   "mimetype": "text/x-python",
   "name": "python",
   "nbconvert_exporter": "python",
   "pygments_lexer": "ipython2",
   "version": "2.7.13"
  }
 },
 "nbformat": 4,
 "nbformat_minor": 1
}
