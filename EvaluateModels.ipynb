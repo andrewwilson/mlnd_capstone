{
 "cells": [
  {
   "cell_type": "code",
   "execution_count": 1,
   "metadata": {
    "collapsed": false
   },
   "outputs": [
    {
     "name": "stderr",
     "output_type": "stream",
     "text": [
      "Using TensorFlow backend.\n"
     ]
    }
   ],
   "source": [
    "from __future__ import division, print_function\n",
    "import numpy as np\n",
    "import pandas as pd\n",
    "import utils\n",
    "from model01 import MLPModel01\n",
    "from metrics import performance_report\n",
    "import datasets\n",
    "\n",
    "import matplotlib.pyplot as plt\n",
    "import seaborn as sns\n",
    "%matplotlib inline\n",
    "\n",
    "import keras\n",
    "from sklearn.metrics import classification_report, f1_score, accuracy_score, precision_recall_curve, confusion_matrix"
   ]
  },
  {
   "cell_type": "code",
   "execution_count": 2,
   "metadata": {
    "collapsed": true
   },
   "outputs": [],
   "source": [
    "n_categories = 2 # implicit in prepare_data (maybe parameterise)\n",
    "lookahead = 1\n",
    "window = 60\n",
    "sym = 'EURSEK'"
   ]
  },
  {
   "cell_type": "code",
   "execution_count": 4,
   "metadata": {
    "collapsed": false
   },
   "outputs": [],
   "source": [
    "X,Y,prices, fut_returns = datasets.load('./input/DS1-LA001-W060-EURSEK-2015.h5')"
   ]
  },
  {
   "cell_type": "code",
   "execution_count": null,
   "metadata": {
    "collapsed": false
   },
   "outputs": [],
   "source": [
    "X_train, Y_train, prices_train, fut_return_train = datasets.load(datasets.filename('DS1', lookahead, window, sym, 2009))\n",
    "\n",
    "X_dev, Y_dev, prices_dev, fut_return, dev = datasets.load(datasets.filename('DS1', lookahead, window, sym, 2010))\n",
    "# sample 50k records from 2010 as dev set\n",
    "dev_idx = np.random.choice(len(X_dev), 50000, replace=False)\n",
    "X_dev, Y_dev, prices_dev, fut_return_dev = X_dev.ix[dev_idx], Y_dev.ix[dev_idx], prices_dev.ix[dev_idx], fut_return_dev.ix[dev_idx]\n",
    "\n",
    "X_test, Y_test, prices_test, fut_return_test = datasets.load(datasets.filename('DS1', lookahead, window, sym, 2011))"
   ]
  },
  {
   "cell_type": "code",
   "execution_count": null,
   "metadata": {
    "collapsed": false
   },
   "outputs": [],
   "source": [
    "print(\"train\", X_train.shape)\n",
    "print(\"dev\", X_dev.shape)\n",
    "print(\"test\", X_test.shape)\n",
    "n_features = X_train.shape[1]\n",
    "print (\"n_features:\", n_features)"
   ]
  },
  {
   "cell_type": "code",
   "execution_count": null,
   "metadata": {
    "collapsed": false
   },
   "outputs": [],
   "source": [
    "# from sklearn.linear_model import SGDClassifier\n",
    "# lin_model = SGDClassifier(loss='hinge', penalty='l2', n_iter=200, n_jobs=10)\n",
    "# lin_model.fit(X_train.as_matrix(), Y_train)\n",
    "\n",
    "# print( \"train f1\", f1_score(Y_train, lin_model.predict(X_train), average='weighted') )\n",
    "# print( \"test f1\", f1_score(Y_test, lin_model.predict(X_test), average='weighted'))"
   ]
  },
  {
   "cell_type": "code",
   "execution_count": null,
   "metadata": {
    "collapsed": false
   },
   "outputs": [],
   "source": [
    "# from sklearn.linear_model import LogisticRegression\n",
    "# lr_model = LogisticRegression(n_jobs=10)\n",
    "# lr_model.fit(X_train.as_matrix(), Y_train)\n",
    "\n",
    "# print( \"train f1\", f1_score(Y_train, lr_model.predict(X_train), average='weighted') )\n",
    "# print( \"test f1\", f1_score(Y_test, lr_model.predict(X_test), average='weighted'))"
   ]
  },
  {
   "cell_type": "code",
   "execution_count": null,
   "metadata": {
    "collapsed": false
   },
   "outputs": [],
   "source": [
    "# from sklearn.ensemble import RandomForestClassifier\n",
    "# rf_model = RandomForestClassifier(max_depth=5, n_jobs=12)\n",
    "# rf_model.fit(X_train.as_matrix(), Y_train)\n",
    "\n",
    "# print( \"train f1\", f1_score(Y_train, rf_model.predict(X_train), average='weighted') )\n",
    "# print( \"dev f1\", f1_score(Y_dev, rf_model.predict(X_dev), average='weighted'))\n",
    "# print( \"test f1\", f1_score(Y_test, rf_model.predict(X_test), average='weighted'))"
   ]
  },
  {
   "cell_type": "code",
   "execution_count": null,
   "metadata": {
    "collapsed": true
   },
   "outputs": [],
   "source": [
    "layer_widths = [100,100,100]\n",
    "dropout = 0.5"
   ]
  },
  {
   "cell_type": "code",
   "execution_count": null,
   "metadata": {
    "collapsed": false
   },
   "outputs": [],
   "source": [
    "model = MLPModel01(lookahead, n_features, n_categories, layer_widths, dropout)\n",
    "print (model.summary())"
   ]
  },
  {
   "cell_type": "code",
   "execution_count": null,
   "metadata": {
    "collapsed": false,
    "scrolled": false
   },
   "outputs": [],
   "source": [
    "max_epochs = 200\n",
    "hist = model.fit(\n",
    "    X_train.as_matrix(), Y_train, \n",
    "    validation_data=(X_dev.as_matrix(),Y_dev), \n",
    "    max_epochs=max_epochs,\n",
    "    es_patience=25, \n",
    "    es_min_delta=1e-5,\n",
    "    batch_size=1024*50)"
   ]
  },
  {
   "cell_type": "code",
   "execution_count": null,
   "metadata": {
    "collapsed": false
   },
   "outputs": [],
   "source": [
    "plt.plot(model.progress_callback.train_losses[-100:], label='train_loss')\n",
    "plt.plot(model.progress_callback.validation_losses[-100:], label='validation_loss')\n",
    "plt.legend()\n",
    "plt.show()\n",
    "plt.plot(model.progress_callback.train_f1s, label='train_f1')\n",
    "plt.plot(model.progress_callback.validation_f1s, label='validation_f1')\n",
    "\n",
    "plt.legend();"
   ]
  },
  {
   "cell_type": "code",
   "execution_count": null,
   "metadata": {
    "collapsed": false
   },
   "outputs": [],
   "source": [
    "Y_train_pred = model.predict(X_train.as_matrix(), batch_size=1024)\n",
    "Y_train_pred_class = utils.prediction_to_category2(Y_train_pred)\n",
    "Y_test_pred = model.predict(X_test.as_matrix(), batch_size=1024)\n",
    "Y_test_pred_class = utils.prediction_to_category2(Y_test_pred)"
   ]
  },
  {
   "cell_type": "code",
   "execution_count": null,
   "metadata": {
    "collapsed": false
   },
   "outputs": [],
   "source": [
    "plt.figure(figsize=(8,4))\n",
    "plt.hist(Y_train_pred, alpha=0.5, bins=30, normed=True, label='train')\n",
    "plt.hist(Y_test_pred, alpha=0.5, bins=30, normed=True, label='test')\n",
    "plt.hist(Y_train_pred_class, alpha=0.3, normed=True)\n",
    "plt.hist(Y_test_pred_class, alpha=0.3, normed=True)\n",
    "plt.legend()"
   ]
  },
  {
   "cell_type": "code",
   "execution_count": null,
   "metadata": {
    "collapsed": false
   },
   "outputs": [],
   "source": [
    "performance_report(\"train\", prices_train, lookahead, Y_train, Y_train_pred_class)\n",
    "performance_report(\"test\",  prices_test,  lookahead, Y_test, Y_test_pred_class)\n",
    "\n",
    "train_curve = precision_recall_curve(Y_train, Y_train_pred)\n",
    "test_curve = precision_recall_curve(Y_test, Y_test_pred)\n",
    "\n",
    "plt.plot(train_curve[0], train_curve[1], label='train')\n",
    "plt.plot(test_curve[0], test_curve[1], label='test')\n",
    "plt.legend()\n",
    "plt.show()\n",
    "sns.heatmap(confusion_matrix(Y_test, Y_test_pred_class))"
   ]
  },
  {
   "cell_type": "markdown",
   "metadata": {},
   "source": [
    "dropout = 0  , lookahead = 1\n",
    "\n",
    "| width | layers    | epochs | train | test |\n",
    "| -----: | ---- :     | ---:    | ---:   | ---:  |\n",
    "| 1     | 1         |  100   | .57   | .58  |\n",
    "| 1     | 100       |  100   | .58   | .59  |\n",
    "| 1     | 100       |  500   | .57   | .59  |\n",
    "| 1     | 100 x 100 |  100 | .58   | .59  |\n",
    "| 10    | 1         |  100 |  .57  | .59  |\n",
    "| 10    | 10        |  100 |  .57  | .58  |\n",
    "| 10    | 100       |  100 |  .58 | .58   |\n",
    "| 10    | 100 x 100 |  100 |  .60 | .58   |\n",
    "| 10    | 100 x 100 x 100 |  100 |  .62 | .57   |\n",
    "| 10    | 100 x 100 x 100 x 100 |  100 |  .63 | .56   |\n",
    "| 20    | 1 |  100 |  .56 | .58  |\n",
    "| 20    | 100 |  100 | .58  | .58  |\n",
    "| 40    | 100 |  500 x 500 x 500 | .60  | .61  |\n",
    "\n",
    "Dropout = 0.1, lookahead = 1 \n",
    "\n",
    "| width | layers    | epochs | train | test |\n",
    "| -----: | ---- :     | ---:    | ---:   | ---:  |\n",
    "| 10    | 100 x 100 x 100 x 100 |  100 | .60  | .58  |\n",
    "| 10    | 100 x 100 x 100 x 100 |  200 | .62  | .58  |\n",
    "\n",
    "\n",
    "Dropout = 0.2, lookahead = 1 \n",
    "\n",
    "| width | layers    | epochs | train | test |\n",
    "| -----: | ---- :     | ---:    | ---:   | ---:  |\n",
    "| 10    | 100 x 100 x 100 x 100 |  100 | .59 | .59  |\n",
    "| 10    | 100 x 100 x 100 x 100 |  200 | .60 | .58  |\n",
    "\n",
    "Dropout = 0.5, lookeahead = 1\n",
    "\n",
    "| width | layers    | epochs | train | test |\n",
    "| -----: | ---- :     | ---:    | ---:   | ---:  |\n",
    "| 60    | 500 x 500 x 500 x 500 |  200 | .64 | .62|\n",
    "| 60    | 100 x 100 x 100 x 100 |  200 | .64 | .65\n",
    "\n"
   ]
  },
  {
   "cell_type": "markdown",
   "metadata": {
    "collapsed": false
   },
   "source": [
    "\n",
    "- .681 / .57 100^3 / LA:1, W:60\n",
    "- .679 / .569 100^4\n"
   ]
  },
  {
   "cell_type": "code",
   "execution_count": null,
   "metadata": {
    "collapsed": false
   },
   "outputs": [],
   "source": [
    "print( len(Y_test) )\n",
    "print( len(Y_test_pred_class) )\n",
    "print( len(prices_test))\n",
    "print( len(utils.future_return(prices_test, 1) ))"
   ]
  },
  {
   "cell_type": "code",
   "execution_count": null,
   "metadata": {
    "collapsed": false
   },
   "outputs": [],
   "source": [
    "i_s = []\n",
    "mean_rets = []\n",
    "for i in range(1,5000,10):\n",
    "    test_returns = utils.future_return(prices_test, i).fillna(0).values\n",
    "    test_returns = test_returns - test_returns.mean()\n",
    "\n",
    "    idx = np.zeros(len(test_returns))\n",
    "    idx[Y_test_pred_class[:,0] == 0] = -1\n",
    "    idx[Y_test_pred_class[:,0] == 1] = 1\n",
    "\n",
    "    mean_ret = (test_returns * idx).mean() * 1e4\n",
    "    mean_rets.append(mean_ret)\n",
    "    i_s.append(i/60) #*24))\n",
    "plt.plot(i_s, mean_rets,'.-')"
   ]
  },
  {
   "cell_type": "code",
   "execution_count": null,
   "metadata": {
    "collapsed": false
   },
   "outputs": [],
   "source": [
    "prices_test.plot()"
   ]
  },
  {
   "cell_type": "code",
   "execution_count": null,
   "metadata": {
    "collapsed": false
   },
   "outputs": [],
   "source": [
    "n_trade = 1000\n"
   ]
  },
  {
   "cell_type": "code",
   "execution_count": null,
   "metadata": {
    "collapsed": false
   },
   "outputs": [],
   "source": [
    "18000 / (60*24)"
   ]
  },
  {
   "cell_type": "code",
   "execution_count": null,
   "metadata": {
    "collapsed": true
   },
   "outputs": [],
   "source": []
  }
 ],
 "metadata": {
  "kernelspec": {
   "display_name": "Python 2",
   "language": "python",
   "name": "python2"
  },
  "language_info": {
   "codemirror_mode": {
    "name": "ipython",
    "version": 2
   },
   "file_extension": ".py",
   "mimetype": "text/x-python",
   "name": "python",
   "nbconvert_exporter": "python",
   "pygments_lexer": "ipython2",
   "version": "2.7.13"
  }
 },
 "nbformat": 4,
 "nbformat_minor": 1
}
